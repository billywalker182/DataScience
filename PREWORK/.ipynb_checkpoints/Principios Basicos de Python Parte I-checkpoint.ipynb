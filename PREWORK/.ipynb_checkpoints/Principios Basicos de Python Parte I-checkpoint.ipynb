{
 "cells": [
  {
   "cell_type": "markdown",
   "metadata": {},
   "source": [
    "# Principios Básicos de Python"
   ]
  },
  {
   "cell_type": "markdown",
   "metadata": {},
   "source": [
    "## Cuadernos de Python"
   ]
  },
  {
   "cell_type": "markdown",
   "metadata": {},
   "source": [
    "Cuaderno notebooks proporciona un ambiente de experimentación de código, \n",
    "visualización y publicación de resultados."
   ]
  },
  {
   "cell_type": "markdown",
   "metadata": {},
   "source": [
    "Las cajas de abajo son llamadas celdas y ellos pueden contener codigo o texto formateado\n",
    "(Markdown). Aqui estan alguno de los muchos atajos de teclados para interactuar con celdas:"
   ]
  },
  {
   "cell_type": "markdown",
   "metadata": {},
   "source": [
    "* [Arriba / Abajo Flecha]: Mover arriba y abajo de celda a celda\n",
    "* [Enter] Entrar a la celda y habilitar la edición de esta\n",
    "* [Shift + Enter] Evalua una celda, muestra el resultado y va a la siguiente celda\n",
    "* [Ctr + Enter] Evalua la celda, muestra el resultado y permanece en la celda\n",
    "* [ESC] - [D] - [D] : Borra celda\n",
    "* [ESC] - [Z] : Control Z de celdas\n",
    "* [ESC] - [B] : Insertar una celda abajo de la celda actual\n",
    "* [ESC] - [A] : Insertar una celda arriba de la celda actual\n",
    "* [ESC] - [M] : Convertir una celda de codigo a Markdown\n",
    "* [ESC] - [Y] : Convertir una celda Markdown a codigo"
   ]
  },
  {
   "cell_type": "markdown",
   "metadata": {},
   "source": [
    "Para mas atajos de teclados, ir a help -> keyboard Shortcuts en el menu\n",
    "superior de tu cuaderno."
   ]
  },
  {
   "cell_type": "markdown",
   "metadata": {},
   "source": [
    "## Variables en Python"
   ]
  },
  {
   "cell_type": "markdown",
   "metadata": {},
   "source": [
    "Una variable es lo que Python usa para almacenar cierta información (por ejemplo, texto, numeros, booleanos, etc)"
   ]
  },
  {
   "cell_type": "markdown",
   "metadata": {},
   "source": [
    "Cada variable tiene un nombre para que podamos referirnos a ella \n",
    "fácilmente. Python tiene en cuenta si escribimos la variable en \n",
    "mayúscula o minúscula (por ejemplo, a y A se consideran diferentes).\n",
    "Podemos definir variables en Python de la siguiente manera:"
   ]
  },
  {
   "cell_type": "markdown",
   "metadata": {},
   "source": [
    "```python\n",
    "# asignando un valor\n",
    "variable = value\n",
    "# Asignando multiple valores \n",
    "variable1, variable2 = value1, value2\n",
    "```"
   ]
  },
  {
   "cell_type": "markdown",
   "metadata": {},
   "source": [
    "### Numeros"
   ]
  },
  {
   "cell_type": "markdown",
   "metadata": {},
   "source": [
    "Aqui estan los dos principales tipos de numeros en Python, int (Enteros)\n",
    "y float(flotantes). El separador decimal es el periodo:"
   ]
  },
  {
   "cell_type": "code",
   "execution_count": 4,
   "metadata": {},
   "outputs": [],
   "source": [
    "integer_ = 2\n",
    "float_ = 2.5"
   ]
  },
  {
   "cell_type": "markdown",
   "metadata": {},
   "source": [
    "### Texto"
   ]
  },
  {
   "cell_type": "markdown",
   "metadata": {},
   "source": [
    "Las variables que guardan texto son de tipo str(strings). Por lo general, \n",
    "deben ir entre comillas simples o dobles. Si el texto que se esta \n",
    "asignando abarca varias lineas, debe incluirse entre comillas multiples:  "
   ]
  },
  {
   "cell_type": "code",
   "execution_count": 6,
   "metadata": {},
   "outputs": [],
   "source": [
    "string = \"Hello\"\n",
    "string = 'hello'\n",
    "multiline = \"\"\"Hello\n",
    "                world\"\"\"\n",
    "multiline = '''Hello\n",
    "                World'''"
   ]
  },
  {
   "cell_type": "markdown",
   "metadata": {},
   "source": [
    "### Listas"
   ]
  },
  {
   "cell_type": "markdown",
   "metadata": {},
   "source": [
    "Las listas son un conjunto de elementos ordenados (por ejemplo, numeros\n",
    "                                                  textos,listas,etc.Ellas\n",
    "                                                  están delimitadas por\n",
    "                                                  corchetes []), y \n",
    "diferentes elementos estan separados por comas:\n",
    "\n"
   ]
  },
  {
   "cell_type": "code",
   "execution_count": 7,
   "metadata": {},
   "outputs": [],
   "source": [
    "listNumbers = [1,2,3]\n",
    "stringList = [\"a\",\"B\",\"C\"]\n",
    "listList = [[1,2],[2,3],[4,5]]\n",
    "mezcladasListas = [1,\"Grupo\",[1,2,3]]\n",
    "listasvacias = []"
   ]
  },
  {
   "cell_type": "markdown",
   "metadata": {},
   "source": [
    "Las listas son dinámicas; es decir, son mutables. Por ejemplo, podemos\n",
    "modificar la Lista de cadenas de arriba asignandola al conjunto [\"d\",\n",
    "                                                                \"e\",\"f\"].\n"
   ]
  },
  {
   "cell_type": "markdown",
   "metadata": {},
   "source": [
    "### Tuplas"
   ]
  },
  {
   "cell_type": "markdown",
   "metadata": {},
   "source": [
    "Las **Tuplas** son tambien conjunto de elementos ordenados. Las Tuplas\n",
    "se representan escribiendo los elementos entre paréntesis (()), separados \n",
    "por comas:"
   ]
  },
  {
   "cell_type": "code",
   "execution_count": 9,
   "metadata": {},
   "outputs": [],
   "source": [
    "tupleNumbers = (1,2,3)\n",
    "tupleStrings = (\"a\",\"b\",\"c\")\n",
    "tuplelist = ([1,2],[3,4],[5,6])\n",
    "mixedTuple = (1, \"Group\", [1,2,3,4])"
   ]
  },
  {
   "cell_type": "markdown",
   "metadata": {},
   "source": [
    "A diferencia de las listas, las tuplas son estáticas y no se pueden \n",
    "modificar una vez creadas."
   ]
  },
  {
   "cell_type": "markdown",
   "metadata": {},
   "source": [
    "### Diccionarios"
   ]
  },
  {
   "cell_type": "markdown",
   "metadata": {},
   "source": [
    "Los Diccionaris son conjunto de elementos, donde cada elemento puede ser\n",
    "identificados por una **llave** unica:"
   ]
  },
  {
   "cell_type": "code",
   "execution_count": 11,
   "metadata": {},
   "outputs": [],
   "source": [
    "dictNumbers = {\"k1\":1,\"k2\":2}\n",
    "dictStrings = {\"k1\":\"a\",\"k2\":\"b\",\"k3\":\"c\"}\n",
    "dicLists = {\"k1\":[1,2],\"k2\":[3,4],\"k3\":[4,5]}\n",
    "mixedDict = {\"k1\":1,\"k2\":\"Group\",\"k3\":[1,2,3,4]}"
   ]
  },
  {
   "cell_type": "markdown",
   "metadata": {},
   "source": [
    "### Booleano"
   ]
  },
  {
   "cell_type": "markdown",
   "metadata": {},
   "source": [
    "Un boleano es una variable que puede tener dos posibles valores: \n",
    "Verdadero o falso:"
   ]
  },
  {
   "cell_type": "code",
   "execution_count": 12,
   "metadata": {},
   "outputs": [],
   "source": [
    "true = True\n",
    "false = False"
   ]
  },
  {
   "cell_type": "markdown",
   "metadata": {},
   "source": [
    "### None"
   ]
  },
  {
   "cell_type": "markdown",
   "metadata": {},
   "source": [
    "Este es el tipo de datos que en otros lenguajes se conoce como Null, (NaN)\n",
    ". En python se llama NoneType"
   ]
  },
  {
   "cell_type": "code",
   "execution_count": 1,
   "metadata": {},
   "outputs": [],
   "source": [
    "null = None"
   ]
  },
  {
   "cell_type": "markdown",
   "metadata": {},
   "source": [
    "### Otras Funciones Utiles"
   ]
  },
  {
   "cell_type": "markdown",
   "metadata": {},
   "source": [
    "#### La Función Print\n",
    "El comando print(<Variable>), imprime el valor de la variable.\n",
    "    \n",
    "#### Comentarios\n",
    "Los **Comentarios** son una parte esencial de un buen codigo. Le permiten explicar de manera concisa las caracteristicas y el propósito de su codigo. Los comentarios en linea se pueden definir con: **#**"
   ]
  },
  {
   "cell_type": "code",
   "execution_count": 3,
   "metadata": {},
   "outputs": [
    {
     "name": "stdout",
     "output_type": "stream",
     "text": [
      "Esto es un entero:  2\n"
     ]
    }
   ],
   "source": [
    "#Declarando un entero (int)\n",
    "x = 2\n",
    "print('Esto es un entero: ',x)"
   ]
  },
  {
   "cell_type": "code",
   "execution_count": 4,
   "metadata": {},
   "outputs": [
    {
     "name": "stdout",
     "output_type": "stream",
     "text": [
      "Esto es un Flotante:  2.5\n"
     ]
    }
   ],
   "source": [
    "#Declarando un flotante\n",
    "y = 2.5\n",
    "print('Esto es un Flotante: ',y)"
   ]
  },
  {
   "cell_type": "code",
   "execution_count": 6,
   "metadata": {},
   "outputs": [
    {
     "name": "stdout",
     "output_type": "stream",
     "text": [
      "Hola Mundo Grupo\n"
     ]
    }
   ],
   "source": [
    "#Declaranto un string - texto\n",
    "message = 'Hola Mundo'\n",
    "print(message,'Grupo')"
   ]
  },
  {
   "cell_type": "code",
   "execution_count": 7,
   "metadata": {},
   "outputs": [
    {
     "name": "stdout",
     "output_type": "stream",
     "text": [
      "Hola\n",
      "                Mundo Grupo\n"
     ]
    }
   ],
   "source": [
    "#Multilineas string texto\n",
    "multilinea = '''Hola\n",
    "                Mundo'''\n",
    "print(multilinea,'Grupo')"
   ]
  },
  {
   "cell_type": "code",
   "execution_count": 8,
   "metadata": {},
   "outputs": [
    {
     "data": {
      "text/plain": [
       "'Hola\\n                Mundo'"
      ]
     },
     "execution_count": 8,
     "metadata": {},
     "output_type": "execute_result"
    }
   ],
   "source": [
    "multilinea"
   ]
  },
  {
   "cell_type": "code",
   "execution_count": 9,
   "metadata": {},
   "outputs": [
    {
     "name": "stdout",
     "output_type": "stream",
     "text": [
      "[1, 2, 3]\n",
      "['a', 'b', 'c']\n",
      "[[1, 2], [3, 4], [5, 6]]\n",
      "[1, 'Grupo', [1, 2, 3, 4]]\n",
      "[]\n"
     ]
    }
   ],
   "source": [
    "#Declaración de una lista\n",
    "numeroLista = [1,2,3]\n",
    "print(numeroLista)\n",
    "stringLista = ['a','b','c']\n",
    "print(stringLista)\n",
    "listalista = [[1,2],[3,4],[5,6]]\n",
    "print(listalista)\n",
    "listaMixta = [1,'Grupo',[1,2,3,4]]\n",
    "print(listaMixta)\n",
    "ListaVacia = []\n",
    "print(ListaVacia)"
   ]
  },
  {
   "cell_type": "code",
   "execution_count": 10,
   "metadata": {},
   "outputs": [
    {
     "name": "stdout",
     "output_type": "stream",
     "text": [
      "(1, 2, 3)\n",
      "('a', 'b', 'c')\n",
      "([1, 2], [3, 4], [5, 6])\n",
      "(1, 'Grupo', [1, 2, 3, 4])\n"
     ]
    }
   ],
   "source": [
    "#Declaración de una tupla\n",
    "TuplaNumero = (1,2,3)\n",
    "print(TuplaNumero)\n",
    "TuplaString = ('a','b','c')\n",
    "print(TuplaString)\n",
    "TuplaLista = ([1,2],[3,4],[5,6])\n",
    "print(TuplaLista)\n",
    "TuplaMixta = (1,'Grupo',[1,2,3,4])\n",
    "print(TuplaMixta)\n"
   ]
  },
  {
   "cell_type": "code",
   "execution_count": 11,
   "metadata": {},
   "outputs": [
    {
     "name": "stdout",
     "output_type": "stream",
     "text": [
      "{'k1': 1, 'k2': 2}\n",
      "{'k1': 'a', 'k2': 'b', 'k3': 'c'}\n",
      "{'k1': [1, 2], 'k2': [3, 4], 'k3': [5, 6]}\n",
      "{'k1': 1, 'k2': 'Grupo', 'k3': [1, 2, 3, 4, 5, 6]}\n"
     ]
    }
   ],
   "source": [
    "#Declaración de Diccionarios\n",
    "DiccNumeros = {'k1':1,'k2':2}\n",
    "print(DiccNumeros)\n",
    "DiccLetras = {'k1':'a','k2':'b','k3':'c'}\n",
    "print(DiccLetras)\n",
    "DiccListas = {'k1':[1,2],'k2':[3,4],'k3':[5,6]}\n",
    "print(DiccListas)\n",
    "DiccMixto = {'k1':1,'k2':'Grupo','k3':[1,2,3,4,5,6]}\n",
    "print(DiccMixto)"
   ]
  },
  {
   "cell_type": "code",
   "execution_count": 12,
   "metadata": {},
   "outputs": [],
   "source": [
    "#Declaración de Booleanos\n",
    "true = True\n",
    "false = False"
   ]
  },
  {
   "cell_type": "code",
   "execution_count": 13,
   "metadata": {},
   "outputs": [],
   "source": [
    "#Declaración nulls\n",
    "null = None"
   ]
  },
  {
   "cell_type": "code",
   "execution_count": 14,
   "metadata": {},
   "outputs": [
    {
     "name": "stdout",
     "output_type": "stream",
     "text": [
      "variable 1 =  9\n",
      "variable 2 =  Sara\n",
      "variable 3 =  [13, 17, 23]\n"
     ]
    }
   ],
   "source": [
    "#Multiples asignamientos\n",
    "var1, var2, var3 = (5+4), 'Sara',[13,17,23]\n",
    "print(\"variable 1 = \",var1)\n",
    "print(\"variable 2 = \",var2)\n",
    "print(\"variable 3 = \",var3)"
   ]
  },
  {
   "cell_type": "code",
   "execution_count": 16,
   "metadata": {},
   "outputs": [
    {
     "name": "stdout",
     "output_type": "stream",
     "text": [
      "variable 1 =  Sara\n",
      "variable 2 =  9\n"
     ]
    }
   ],
   "source": [
    "#Intercambiar valores entre dos variables\n",
    "var1 , var2 = var2, var1\n",
    "print(\"variable 1 = \",var1)\n",
    "print(\"variable 2 = \",var2)"
   ]
  },
  {
   "cell_type": "code",
   "execution_count": 18,
   "metadata": {},
   "outputs": [
    {
     "name": "stdout",
     "output_type": "stream",
     "text": [
      "('Sara', 9, [13, 17, 23])\n"
     ]
    }
   ],
   "source": [
    "#Crear una tupla con variables\n",
    "tuples = var1,var2,var3\n",
    "print(tuples)"
   ]
  },
  {
   "cell_type": "code",
   "execution_count": 19,
   "metadata": {},
   "outputs": [
    {
     "name": "stdout",
     "output_type": "stream",
     "text": [
      "x1 =  Sara X2 =  9 X3 =  [13, 17, 23]\n"
     ]
    }
   ],
   "source": [
    "# asignar valores de una tupla a variables\n",
    "x1,x2,x3 = tuples\n",
    "print(\"x1 = \",x1,'X2 = ',x2,'X3 = ',x3)"
   ]
  },
  {
   "cell_type": "markdown",
   "metadata": {},
   "source": [
    "#### Determinar el Tipo de Dato\n",
    "Para conocer el tipo de dato de la variable, use el  **type**\n",
    "\n",
    "type(x)"
   ]
  },
  {
   "cell_type": "code",
   "execution_count": 22,
   "metadata": {},
   "outputs": [
    {
     "name": "stdout",
     "output_type": "stream",
     "text": [
      "2\n"
     ]
    },
    {
     "data": {
      "text/plain": [
       "int"
      ]
     },
     "execution_count": 22,
     "metadata": {},
     "output_type": "execute_result"
    }
   ],
   "source": [
    "print(x)\n",
    "type(x)"
   ]
  },
  {
   "cell_type": "code",
   "execution_count": 23,
   "metadata": {},
   "outputs": [
    {
     "name": "stdout",
     "output_type": "stream",
     "text": [
      "2.5\n"
     ]
    },
    {
     "data": {
      "text/plain": [
       "float"
      ]
     },
     "execution_count": 23,
     "metadata": {},
     "output_type": "execute_result"
    }
   ],
   "source": [
    "print(y)\n",
    "type(y)"
   ]
  },
  {
   "cell_type": "code",
   "execution_count": 24,
   "metadata": {},
   "outputs": [
    {
     "data": {
      "text/plain": [
       "str"
      ]
     },
     "execution_count": 24,
     "metadata": {},
     "output_type": "execute_result"
    }
   ],
   "source": [
    "type(message)"
   ]
  },
  {
   "cell_type": "code",
   "execution_count": 25,
   "metadata": {},
   "outputs": [
    {
     "data": {
      "text/plain": [
       "list"
      ]
     },
     "execution_count": 25,
     "metadata": {},
     "output_type": "execute_result"
    }
   ],
   "source": [
    "type(numeroLista)"
   ]
  },
  {
   "cell_type": "code",
   "execution_count": 26,
   "metadata": {},
   "outputs": [
    {
     "data": {
      "text/plain": [
       "tuple"
      ]
     },
     "execution_count": 26,
     "metadata": {},
     "output_type": "execute_result"
    }
   ],
   "source": [
    "type(TuplaLista)"
   ]
  },
  {
   "cell_type": "code",
   "execution_count": 27,
   "metadata": {},
   "outputs": [
    {
     "data": {
      "text/plain": [
       "dict"
      ]
     },
     "execution_count": 27,
     "metadata": {},
     "output_type": "execute_result"
    }
   ],
   "source": [
    "type(DiccLetras)"
   ]
  },
  {
   "cell_type": "code",
   "execution_count": 28,
   "metadata": {},
   "outputs": [
    {
     "data": {
      "text/plain": [
       "bool"
      ]
     },
     "execution_count": 28,
     "metadata": {},
     "output_type": "execute_result"
    }
   ],
   "source": [
    "type(true)"
   ]
  },
  {
   "cell_type": "code",
   "execution_count": 29,
   "metadata": {},
   "outputs": [
    {
     "data": {
      "text/plain": [
       "NoneType"
      ]
     },
     "execution_count": 29,
     "metadata": {},
     "output_type": "execute_result"
    }
   ],
   "source": [
    "type(null)"
   ]
  },
  {
   "cell_type": "markdown",
   "metadata": {},
   "source": [
    "### Operaciones Basicas\n",
    "#### Operadores Aritmeticos\n",
    "Los **Operadores Aritmeticos** le permiten realizar cálculos utilizando variables en Python:\n",
    "\n",
    "| Simbolo | Operación |\n",
    "|---------|-----------|\n",
    "|    +    | Suma  |\n",
    "| - | Resta |\n",
    "| / | División |\n",
    "| % | Modulo |\n",
    "| * | Multiplicación |\n",
    "| // | División Entera |\n",
    "| ** | Exponenciación |\n",
    "| ~ | Negación |\n",
    "\n",
    "Python realizará las operaciones de manera diferente según el tipo de datos:"
   ]
  },
  {
   "cell_type": "code",
   "execution_count": 31,
   "metadata": {},
   "outputs": [
    {
     "name": "stdout",
     "output_type": "stream",
     "text": [
      "10\n",
      "0\n"
     ]
    }
   ],
   "source": [
    "# Suma y resta\n",
    "print (5+5)\n",
    "print(5-5)"
   ]
  },
  {
   "cell_type": "code",
   "execution_count": 32,
   "metadata": {},
   "outputs": [
    {
     "name": "stdout",
     "output_type": "stream",
     "text": [
      "15\n",
      "5.0\n"
     ]
    }
   ],
   "source": [
    "# Multiplicación y División\n",
    "print(3*5)\n",
    "print(10/2)"
   ]
  },
  {
   "cell_type": "code",
   "execution_count": 33,
   "metadata": {},
   "outputs": [
    {
     "name": "stdout",
     "output_type": "stream",
     "text": [
      "16\n",
      "4\n"
     ]
    }
   ],
   "source": [
    "#Exponenciación y Modulos\n",
    "print(4**2)\n",
    "print(18%7)"
   ]
  },
  {
   "cell_type": "code",
   "execution_count": 35,
   "metadata": {},
   "outputs": [
    {
     "name": "stdout",
     "output_type": "stream",
     "text": [
      "Hola Grupo\n"
     ]
    }
   ],
   "source": [
    "#Operaciones con String\n",
    "mensaje1 = 'Hola '\n",
    "mensaje2 = 'Grupo'\n",
    "print(mensaje1+mensaje2)"
   ]
  },
  {
   "cell_type": "code",
   "execution_count": 36,
   "metadata": {},
   "outputs": [
    {
     "name": "stdout",
     "output_type": "stream",
     "text": [
      "Hola Hola \n"
     ]
    }
   ],
   "source": [
    "#Operaciones con string\n",
    "mensaje1 = 'Hola '\n",
    "print(mensaje1*2)"
   ]
  },
  {
   "cell_type": "code",
   "execution_count": 37,
   "metadata": {},
   "outputs": [
    {
     "name": "stdout",
     "output_type": "stream",
     "text": [
      "1\n"
     ]
    }
   ],
   "source": [
    "print(true+false)"
   ]
  },
  {
   "cell_type": "code",
   "execution_count": 38,
   "metadata": {},
   "outputs": [
    {
     "name": "stdout",
     "output_type": "stream",
     "text": [
      "3.5\n"
     ]
    }
   ],
   "source": [
    "print(1+2.5)"
   ]
  },
  {
   "cell_type": "markdown",
   "metadata": {},
   "source": [
    "#### Operadores Relacionales\n",
    "**Operadores Relacionales** permiten que compares variables en Python:\n",
    "\n",
    "| Simbolo | Operación |\n",
    "|---------|-----------|\n",
    "| == | Verdadero, si los dos valores son iguales |\n",
    "| is | Verdadero, si es identico, es decir, el mismo objeto |\n",
    "| != | Verdadero, si no son iguales |\n",
    "| < | Menor que |\n",
    "| > | Mayor que |\n",
    "| <= | Menor o igual que |\n",
    "| >= | Mayor o igual que |\n",
    "| in | Prueba de pertenencia a una colección (lista,conjunto, diccionario) |"
   ]
  },
  {
   "cell_type": "code",
   "execution_count": 39,
   "metadata": {},
   "outputs": [
    {
     "data": {
      "text/plain": [
       "True"
      ]
     },
     "execution_count": 39,
     "metadata": {},
     "output_type": "execute_result"
    }
   ],
   "source": [
    "x == 2"
   ]
  },
  {
   "cell_type": "code",
   "execution_count": 40,
   "metadata": {},
   "outputs": [
    {
     "data": {
      "text/plain": [
       "False"
      ]
     },
     "execution_count": 40,
     "metadata": {},
     "output_type": "execute_result"
    }
   ],
   "source": [
    " x != 2"
   ]
  },
  {
   "cell_type": "code",
   "execution_count": 41,
   "metadata": {},
   "outputs": [
    {
     "data": {
      "text/plain": [
       "True"
      ]
     },
     "execution_count": 41,
     "metadata": {},
     "output_type": "execute_result"
    }
   ],
   "source": [
    "x > 1"
   ]
  },
  {
   "cell_type": "code",
   "execution_count": 42,
   "metadata": {},
   "outputs": [
    {
     "data": {
      "text/plain": [
       "[1, 2, 3]"
      ]
     },
     "execution_count": 42,
     "metadata": {},
     "output_type": "execute_result"
    }
   ],
   "source": [
    "numeroLista"
   ]
  },
  {
   "cell_type": "code",
   "execution_count": 43,
   "metadata": {},
   "outputs": [
    {
     "data": {
      "text/plain": [
       "False"
      ]
     },
     "execution_count": 43,
     "metadata": {},
     "output_type": "execute_result"
    }
   ],
   "source": [
    "numeroLista is [1,2,3]"
   ]
  },
  {
   "cell_type": "code",
   "execution_count": 44,
   "metadata": {},
   "outputs": [
    {
     "data": {
      "text/plain": [
       "True"
      ]
     },
     "execution_count": 44,
     "metadata": {},
     "output_type": "execute_result"
    }
   ],
   "source": [
    "objeto = numeroLista\n",
    "objeto is numeroLista"
   ]
  },
  {
   "cell_type": "code",
   "execution_count": 45,
   "metadata": {},
   "outputs": [
    {
     "data": {
      "text/plain": [
       "True"
      ]
     },
     "execution_count": 45,
     "metadata": {},
     "output_type": "execute_result"
    }
   ],
   "source": [
    "numeroLista is objeto"
   ]
  },
  {
   "cell_type": "code",
   "execution_count": 46,
   "metadata": {},
   "outputs": [
    {
     "data": {
      "text/plain": [
       "True"
      ]
     },
     "execution_count": 46,
     "metadata": {},
     "output_type": "execute_result"
    }
   ],
   "source": [
    "null is None"
   ]
  },
  {
   "cell_type": "markdown",
   "metadata": {},
   "source": [
    "#### Conversiones entre Tipos de Datos\n",
    "Python permite que explicitamente conviertas variables de un tipo a otro. Esto es llamado casting:\n",
    "\n",
    "```python\n",
    "int(<Variable>)\n",
    "float(<Variable>)\n",
    "str(<Variable>)\n",
    "list(<Variable>)\n",
    "tuple(<Variable>)\n",
    "dict(<Variable>)\n",
    "```"
   ]
  },
  {
   "cell_type": "code",
   "execution_count": 63,
   "metadata": {},
   "outputs": [
    {
     "name": "stdout",
     "output_type": "stream",
     "text": [
      "['a', 'b', 'c']\n",
      "<class 'list'>\n",
      "('a', 'b', 'c')\n",
      "<class 'tuple'>\n"
     ]
    }
   ],
   "source": [
    "#Convertir de lista a tupla\n",
    "# nofunciona use el comand del tuple\n",
    "print(stringLista)\n",
    "print(type(stringLista))\n",
    "print(tuple(stringLista))\n",
    "print(type(tuple(stringLista)))"
   ]
  },
  {
   "cell_type": "code",
   "execution_count": 64,
   "metadata": {},
   "outputs": [
    {
     "name": "stdout",
     "output_type": "stream",
     "text": [
      "123\n",
      "<class 'str'>\n",
      "123\n",
      "<class 'int'>\n"
     ]
    }
   ],
   "source": [
    "# Convertir de String a entero\n",
    "print('123')\n",
    "print(type('123'))\n",
    "print(int('123'))\n",
    "print(type(int('123')))"
   ]
  },
  {
   "cell_type": "code",
   "execution_count": 65,
   "metadata": {},
   "outputs": [
    {
     "ename": "ValueError",
     "evalue": "could not convert string to float: 'Juan'",
     "output_type": "error",
     "traceback": [
      "\u001b[1;31m---------------------------------------------------------------------------\u001b[0m",
      "\u001b[1;31mValueError\u001b[0m                                Traceback (most recent call last)",
      "\u001b[1;32m<ipython-input-65-89956cb40d55>\u001b[0m in \u001b[0;36m<module>\u001b[1;34m\u001b[0m\n\u001b[1;32m----> 1\u001b[1;33m \u001b[0mfloat\u001b[0m\u001b[1;33m(\u001b[0m\u001b[1;34m'Juan'\u001b[0m\u001b[1;33m)\u001b[0m\u001b[1;33m\u001b[0m\u001b[1;33m\u001b[0m\u001b[0m\n\u001b[0m",
      "\u001b[1;31mValueError\u001b[0m: could not convert string to float: 'Juan'"
     ]
    }
   ],
   "source": [
    "float('Juan')"
   ]
  },
  {
   "cell_type": "code",
   "execution_count": 60,
   "metadata": {},
   "outputs": [],
   "source": []
  },
  {
   "cell_type": "code",
   "execution_count": null,
   "metadata": {},
   "outputs": [],
   "source": []
  }
 ],
 "metadata": {
  "kernelspec": {
   "display_name": "Python 3",
   "language": "python",
   "name": "python3"
  },
  "language_info": {
   "codemirror_mode": {
    "name": "ipython",
    "version": 3
   },
   "file_extension": ".py",
   "mimetype": "text/x-python",
   "name": "python",
   "nbconvert_exporter": "python",
   "pygments_lexer": "ipython3",
   "version": "3.7.4"
  }
 },
 "nbformat": 4,
 "nbformat_minor": 4
}
