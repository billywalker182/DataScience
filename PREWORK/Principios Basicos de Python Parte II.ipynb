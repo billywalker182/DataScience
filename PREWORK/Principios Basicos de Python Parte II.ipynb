{
 "cells": [
  {
   "cell_type": "markdown",
   "metadata": {},
   "source": [
    "# FUNDAMENTOS DE PYTHON PARTE II\n",
    "\n",
    "## Estructuras de Control\n",
    "\n",
    "### Setencia IF\n",
    "\n",
    "La sentencia `if` permite que tu programa tome diferentes caminos en el tiempo de ejecución, dependiendo de la condición. Ellos generalmente vienen en bloques `if...elif...else`. El programa chequea cada sequencia de condiciones escritas y una vez una de ellas es verdadera, ejecuta el bloque de codigo con esa condición:\n",
    "\n",
    "```python\n",
    "if condicion1:\n",
    "    block1\n",
    "elif condicion2:\n",
    "    block2\n",
    "else:\n",
    "    block3\n",
    "```\n",
    "\n",
    "Asi, si la `condición1` es verdadera ejecuta el `block1`. Si este fue falso pero la `condicion2` es verdadera ejecuta `block2`. Else, si ambas de las primeras condiciones son falsa, entonces ejecuta `block3`.\n",
    "\n",
    "#### Ejercicio1\n",
    "Cual es la salida al ejecutar el siguiente codigo de Python? Por que?\n",
    "\n",
    "```python\n",
    "area = 10.0\n",
    "if area < 9:\n",
    "    print(\"Pequeña\")\n",
    "elif area < 12:\n",
    "    print(\"Mediana\")\n",
    "else:\n",
    "    print(\"Grande\")\n",
    "```\n",
    "\n",
    "a. Pequeña\n",
    "\n",
    "B. Mediana\n",
    "\n",
    "c. Grande\n",
    "\n",
    "d. Error de sintaxis"
   ]
  },
  {
   "cell_type": "code",
   "execution_count": 1,
   "metadata": {},
   "outputs": [
    {
     "name": "stdout",
     "output_type": "stream",
     "text": [
      "Mediana\n"
     ]
    }
   ],
   "source": [
    "area = 10.0\n",
    "if area < 9:\n",
    "    print(\"Pequeña\")\n",
    "elif area < 12:\n",
    "    print(\"Mediana\")\n",
    "else:\n",
    "    print(\"Grande\")"
   ]
  },
  {
   "cell_type": "code",
   "execution_count": 2,
   "metadata": {},
   "outputs": [
    {
     "name": "stdout",
     "output_type": "stream",
     "text": [
      "Mirando alrededor del dormitorio\n",
      "Espacio Mediano\n"
     ]
    }
   ],
   "source": [
    "# Definir variables\n",
    "espacio = \"dormitorio\"\n",
    "tamaño = 180.0\n",
    "\n",
    "#if-elif-else para espacio\n",
    "if espacio == \"dormitorio\":\n",
    "    print(\"Mirando alrededor del dormitorio\")\n",
    "elif espacio == \"cocina\":\n",
    "    print(\"Mirando alrededor de la cocina\")\n",
    "else:\n",
    "    print(\"Mirando a otro lado\")\n",
    "    \n",
    "# setencia if para el area\n",
    "if tamaño > 180:\n",
    "    print(\"Espacio Grande\")\n",
    "elif tamaño > 100:\n",
    "    print(\"Espacio Mediano\")\n",
    "else:\n",
    "    print(\"Espacio Pequeño\")"
   ]
  },
  {
   "cell_type": "markdown",
   "metadata": {},
   "source": [
    "### Ejercicio 2\n",
    "\n",
    "Dado un número entero, escriba el codigo para lo siguiente:\n",
    "\n",
    "1. If $n$ es impar, print \"extraño\"\n",
    "2. If $n$ si es par y esta entre el rango de 2 a 5,\"No extraño\"\n",
    "3. If $n$ si es par esta entre el rango de 6 a 20, \"extraño\"\n",
    "4. If $n$ Si es impary mayor que 20 print \"No extraño\"\n",
    "\n",
    "**Ejemplo: ** **n = 3**, **n** es impar y es de tipo extraño\n",
    "\n",
    "**n=24**, **n** es par y mayor que 20, es \"No extraño\""
   ]
  },
  {
   "cell_type": "code",
   "execution_count": 3,
   "metadata": {},
   "outputs": [
    {
     "name": "stdout",
     "output_type": "stream",
     "text": [
      "Ingrese un Entero: 28\n",
      "No extraño\n"
     ]
    }
   ],
   "source": [
    "numero = int(input(\"Ingrese un Entero: \"))\n",
    "if numero%2!=0:\n",
    "    print(\"Extraño\")\n",
    "elif (numero%2==0) and numero > 2 and numero <5:\n",
    "    print(\"No Extraño\")\n",
    "elif (numero%2==0) and numero > 6 and numero < 20:\n",
    "    print(\"Extraño\")\n",
    "else:\n",
    "    print(\"No extraño\")"
   ]
  },
  {
   "cell_type": "markdown",
   "metadata": {},
   "source": [
    "## Bucles While\n",
    "\n",
    "Los bucles `while` se ejecuntan siempre cuando la condición sea verdadera. Si la condición es falsa, inclusive al principio, entonces bloque `while` no se ejecuta e inmediatamente procede al diguiente bloque de codigo. Por convención, en python se evalua como verdadero cualquiera diferente cero y el cero es falso. La condicipón puede ser una lista o una secuencia, donde la secuencia vacia es falsa. El cuerpo del `while`esta definido por:\n",
    "\n",
    "```python\n",
    "while condicion:\n",
    "    codigo\n",
    "```\n",
    "\n",
    "### Ejercicio 3:\n",
    "\n",
    "Cuantas impresiones realiza este bucle while:\n",
    "```python\n",
    "x = 1\n",
    "while x < 4:\n",
    "    print(x)\n",
    "    x = x + 1\n",
    "```\n",
    "D. 3\n"
   ]
  },
  {
   "cell_type": "code",
   "execution_count": null,
   "metadata": {},
   "outputs": [],
   "source": [
    "while True:\n",
    "    print(\"Ciclo Infinito\")"
   ]
  },
  {
   "cell_type": "code",
   "execution_count": 4,
   "metadata": {},
   "outputs": [
    {
     "name": "stdout",
     "output_type": "stream",
     "text": [
      "Correcto...\n",
      "7\n",
      "Correcto...\n",
      "6\n",
      "Correcto...\n",
      "5\n",
      "Correcto...\n",
      "4\n",
      "Correcto...\n",
      "3\n",
      "Correcto...\n",
      "2\n",
      "Correcto...\n",
      "1\n",
      "Correcto...\n",
      "0\n"
     ]
    }
   ],
   "source": [
    "var = 8\n",
    "while var != 0:\n",
    "    print(\"Correcto...\")\n",
    "    var = var - 1 # var -= 1\n",
    "    print(var)"
   ]
  },
  {
   "cell_type": "code",
   "execution_count": 7,
   "metadata": {},
   "outputs": [
    {
     "name": "stdout",
     "output_type": "stream",
     "text": [
      "a\n",
      "e\n",
      "i\n",
      "o\n",
      "u\n"
     ]
    }
   ],
   "source": [
    "#Iterar una lista\n",
    "lista1 = [\"a\",\"e\",\"i\",\"o\",\"u\"]\n",
    "while lista1:\n",
    "    print(lista1.pop(0))"
   ]
  },
  {
   "cell_type": "code",
   "execution_count": 1,
   "metadata": {},
   "outputs": [
    {
     "name": "stdout",
     "output_type": "stream",
     "text": [
      "z=3\n",
      "z=10\n",
      "z=5\n",
      "z=16\n",
      "z=8\n",
      "z=4\n",
      "z=2\n"
     ]
    }
   ],
   "source": [
    "z=3\n",
    "while z != 1:\n",
    "    print(f\"z={z}\")\n",
    "    if z % 2 == 0:\n",
    "        z = z//2\n",
    "    else:\n",
    "        z = 3 * z + 1"
   ]
  },
  {
   "cell_type": "markdown",
   "metadata": {},
   "source": [
    "## Ciclo For\n",
    "El ciclo for se ejecuta `n`veces, inicia desde 0 hasta **n-1**.Sin embargo este es el mas basico uso del for. Python permite no solo iterar con rangos, si no tambien sobre secuencia de elementos(pueden ser listas o cadenas) en el orden en que aparecen\n",
    "\n",
    "```python\n",
    "for idx in range (0,n):\n",
    "    block\n",
    "    \n",
    "for elem in list:\n",
    "    block\n",
    "```\n",
    "\n",
    "El uso del ciclo para iterar la lista solo da acceso a todos los elementos de la lista, si tamnién se desa acceder a la información del índice se puede usar el método `enumerate()`\n",
    "\n",
    "```python\n",
    "for index, element in enumerate(list):\n",
    "    print(\"Index\" + str(index) + \":\" + str(element)\n",
    "```"
   ]
  },
  {
   "cell_type": "markdown",
   "metadata": {},
   "source": [
    "### For sobre Listas"
   ]
  },
  {
   "cell_type": "code",
   "execution_count": 5,
   "metadata": {},
   "outputs": [
    {
     "name": "stdout",
     "output_type": "stream",
     "text": [
      "Cuarto 0 : 11.25\n",
      "Cuarto 1 : 18.0\n",
      "Cuarto 2 : 20.0\n",
      "Cuarto 3 : 10.75\n",
      "Cuarto 4 : 9.5\n"
     ]
    }
   ],
   "source": [
    "areas = [11.25,18.0,20.0,10.75,9.50]\n",
    "\n",
    "for idx,a in enumerate(areas):\n",
    "    print(\"Cuarto \"+str(idx)+\" : \"+str(a))"
   ]
  },
  {
   "cell_type": "code",
   "execution_count": 8,
   "metadata": {},
   "outputs": [
    {
     "name": "stdout",
     "output_type": "stream",
     "text": [
      "El Pasillo es 11.25 m2 \n",
      "El Cocina es 18.0 m2 \n",
      "El Sala es 20.0 m2 \n",
      "El Dormitorio es 10.75 m2 \n",
      "El Baño es 9.5 m2 \n"
     ]
    }
   ],
   "source": [
    "Casas = [[\"Pasillo\",11.25],\n",
    "        [\"Cocina\",18.0],\n",
    "        [\"Sala\",20.0],\n",
    "        [\"Dormitorio\",10.75],\n",
    "        [\"Baño\",9.50]]\n",
    "for elemento in Casas:\n",
    "    print(\"El \"+str(elemento[0])+\" es \"+str(elemento[1])+\" m2 \")"
   ]
  },
  {
   "cell_type": "markdown",
   "metadata": {},
   "source": [
    "### For sobre Diccionarios"
   ]
  },
  {
   "cell_type": "code",
   "execution_count": 9,
   "metadata": {},
   "outputs": [
    {
     "name": "stdout",
     "output_type": "stream",
     "text": [
      "La Capital de España es Madrid\n",
      "La Capital de Francia es Paris\n",
      "La Capital de Italia es Roma\n"
     ]
    }
   ],
   "source": [
    "Europa = {\"España\":\"Madrid\",\"Francia\":\"Paris\",\"Italia\":\"Roma\"}\n",
    "for key in Europa:\n",
    "    print(\"La Capital de \"+key+\" es \"+Europa[key])"
   ]
  },
  {
   "cell_type": "code",
   "execution_count": 10,
   "metadata": {},
   "outputs": [
    {
     "name": "stdout",
     "output_type": "stream",
     "text": [
      "La capital de España es Madrid\n",
      "La capital de Francia es Paris\n",
      "La capital de Italia es Roma\n"
     ]
    }
   ],
   "source": [
    "for key,value in Europa.items():\n",
    "    print(\"La capital de \"+key+\" es \"+value)"
   ]
  },
  {
   "cell_type": "code",
   "execution_count": 12,
   "metadata": {},
   "outputs": [
    {
     "name": "stdout",
     "output_type": "stream",
     "text": [
      "La capital de España es Madrid\n",
      "La capital de Francia es Paris\n",
      "La capital de Italia es Roma\n"
     ]
    }
   ],
   "source": [
    "for key in Europa.keys():\n",
    "    print(\"La capital de \"+key+\" es \"+Europa[key])"
   ]
  },
  {
   "cell_type": "code",
   "execution_count": 14,
   "metadata": {},
   "outputs": [
    {
     "name": "stdout",
     "output_type": "stream",
     "text": [
      "La capital es Madrid\n",
      "La capital es Paris\n",
      "La capital es Roma\n"
     ]
    }
   ],
   "source": [
    "for valor in Europa.values():\n",
    "    print(\"La capital es \"+valor)"
   ]
  },
  {
   "cell_type": "markdown",
   "metadata": {},
   "source": [
    "### Ejercicio 5\n",
    "Escriba una función que genere un diccionario donde las claves son los numeros del 1 al 15(ambos incluidos) y los valores son el cuadrado de las claves.\n",
    "\n",
    "Ejemplo:\n",
    "\n",
    "```python\n",
    "{\n",
    "    1:1,\n",
    "    2:4,\n",
    "    3:9\n",
    "}\n",
    "```"
   ]
  },
  {
   "cell_type": "code",
   "execution_count": 15,
   "metadata": {},
   "outputs": [],
   "source": [
    "def dicc_cuadrado(min,max):\n",
    "    dicc = {}\n",
    "    for i in range(min,max+1):\n",
    "        dicc[str(i)] = i**2\n",
    "    print(dicc)"
   ]
  },
  {
   "cell_type": "code",
   "execution_count": 16,
   "metadata": {},
   "outputs": [
    {
     "name": "stdout",
     "output_type": "stream",
     "text": [
      "{'1': 1, '2': 4, '3': 9, '4': 16, '5': 25, '6': 36, '7': 49, '8': 64, '9': 81, '10': 100, '11': 121, '12': 144, '13': 169, '14': 196, '15': 225}\n"
     ]
    }
   ],
   "source": [
    "dicc_cuadrado(1,15)"
   ]
  },
  {
   "cell_type": "markdown",
   "metadata": {},
   "source": [
    "## Control de Ciclos\n",
    "### Break\n",
    " Esta función se puede usar en ciclos FOR y WHILE y simplemente terminal el ciclo actual y continuan con la ejecución de la siguiente instrucción"
   ]
  },
  {
   "cell_type": "code",
   "execution_count": 1,
   "metadata": {},
   "outputs": [
    {
     "name": "stdout",
     "output_type": "stream",
     "text": [
      "char : P\n",
      "char : y\n",
      "char : t\n"
     ]
    }
   ],
   "source": [
    "#Break in FOR\n",
    "for char in \"Python\":\n",
    "    if char == \"h\":\n",
    "        break\n",
    "    print(\"char :\",char)"
   ]
  },
  {
   "cell_type": "code",
   "execution_count": 2,
   "metadata": {},
   "outputs": [
    {
     "name": "stdout",
     "output_type": "stream",
     "text": [
      "i = 1\n",
      "i = 2\n",
      "i = 3\n",
      "i = 4\n",
      "i = 5\n",
      "i = 6\n",
      "i = 7\n",
      "Encontro el 7, Numero favorito de todo el mundo!,\n",
      "        No nececsito seguir trabajando\n"
     ]
    }
   ],
   "source": [
    "#Break in FOR\n",
    "for i in range(1,12):\n",
    "    print(f\"i = {i}\")\n",
    "    if i == 7:\n",
    "        print('''Encontro el 7, Numero favorito de todo el mundo!,\n",
    "        No nececsito seguir trabajando''')\n",
    "        break"
   ]
  },
  {
   "cell_type": "code",
   "execution_count": 3,
   "metadata": {},
   "outputs": [
    {
     "ename": "SyntaxError",
     "evalue": "invalid syntax (<ipython-input-3-b270d85f6d11>, line 7)",
     "output_type": "error",
     "traceback": [
      "\u001b[1;36m  File \u001b[1;32m\"<ipython-input-3-b270d85f6d11>\"\u001b[1;36m, line \u001b[1;32m7\u001b[0m\n\u001b[1;33m    print(\"Valor :\",value))\u001b[0m\n\u001b[1;37m                          ^\u001b[0m\n\u001b[1;31mSyntaxError\u001b[0m\u001b[1;31m:\u001b[0m invalid syntax\n"
     ]
    }
   ],
   "source": [
    "#BREAK in WHILE\n",
    "value = 10\n",
    "while value > 0:\n",
    "    value = value - 1\n",
    "    if value == 5:\n",
    "        break\n",
    "    print(\"Valor :\",value))\n",
    "print(\"Final del script\")"
   ]
  },
  {
   "cell_type": "code",
   "execution_count": null,
   "metadata": {},
   "outputs": [],
   "source": []
  }
 ],
 "metadata": {
  "kernelspec": {
   "display_name": "Python 3",
   "language": "python",
   "name": "python3"
  },
  "language_info": {
   "codemirror_mode": {
    "name": "ipython",
    "version": 3
   },
   "file_extension": ".py",
   "mimetype": "text/x-python",
   "name": "python",
   "nbconvert_exporter": "python",
   "pygments_lexer": "ipython3",
   "version": "3.7.4"
  }
 },
 "nbformat": 4,
 "nbformat_minor": 4
}
