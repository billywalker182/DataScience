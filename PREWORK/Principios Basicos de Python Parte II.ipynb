{
 "cells": [
  {
   "cell_type": "markdown",
   "metadata": {},
   "source": [
    "# FUNDAMENTOS DE PYTHON PARTE II\n",
    "\n",
    "## Estructuras de Control\n",
    "\n",
    "### Setencia IF\n",
    "\n",
    "La sentencia `if` permite que tu programa tome diferentes caminos en el tiempo de ejecución, dependiendo de la condición. Ellos generalmente vienen en bloques `if...elif...else`. El programa chequea cada sequencia de condiciones escritas y una vez una de ellas es verdadera, ejecuta el bloque de codigo con esa condición:\n",
    "\n",
    "```python\n",
    "if condicion1:\n",
    "    block1\n",
    "elif condicion2:\n",
    "    block2\n",
    "else:\n",
    "    block3\n",
    "```\n",
    "\n",
    "Asi, si la `condición1` es verdadera ejecuta el `block1`. Si este fue falso pero la `condicion2` es verdadera ejecuta `block2`. Else, si ambas de las primeras condiciones son falsa, entonces ejecuta `block3`.\n",
    "\n",
    "#### Ejercicio1\n",
    "Cual es la salida al ejecutar el siguiente codigo de Python? Por que?\n",
    "\n",
    "```python\n",
    "area = 10.0\n",
    "if area < 9:\n",
    "    print(\"Pequeña\")\n",
    "elif area < 12:\n",
    "    print(\"Mediana\")\n",
    "else:\n",
    "    print(\"Grande\")\n",
    "```\n",
    "\n",
    "a. Pequeña\n",
    "\n",
    "B. Mediana\n",
    "\n",
    "c. Grande\n",
    "\n",
    "d. Error de sintaxis"
   ]
  },
  {
   "cell_type": "code",
   "execution_count": 1,
   "metadata": {},
   "outputs": [
    {
     "name": "stdout",
     "output_type": "stream",
     "text": [
      "Mediana\n"
     ]
    }
   ],
   "source": [
    "area = 10.0\n",
    "if area < 9:\n",
    "    print(\"Pequeña\")\n",
    "elif area < 12:\n",
    "    print(\"Mediana\")\n",
    "else:\n",
    "    print(\"Grande\")"
   ]
  },
  {
   "cell_type": "code",
   "execution_count": 2,
   "metadata": {},
   "outputs": [
    {
     "name": "stdout",
     "output_type": "stream",
     "text": [
      "Mirando alrededor del dormitorio\n",
      "Espacio Mediano\n"
     ]
    }
   ],
   "source": [
    "# Definir variables\n",
    "espacio = \"dormitorio\"\n",
    "tamaño = 180.0\n",
    "\n",
    "#if-elif-else para espacio\n",
    "if espacio == \"dormitorio\":\n",
    "    print(\"Mirando alrededor del dormitorio\")\n",
    "elif espacio == \"cocina\":\n",
    "    print(\"Mirando alrededor de la cocina\")\n",
    "else:\n",
    "    print(\"Mirando a otro lado\")\n",
    "    \n",
    "# setencia if para el area\n",
    "if tamaño > 180:\n",
    "    print(\"Espacio Grande\")\n",
    "elif tamaño > 100:\n",
    "    print(\"Espacio Mediano\")\n",
    "else:\n",
    "    print(\"Espacio Pequeño\")"
   ]
  },
  {
   "cell_type": "markdown",
   "metadata": {},
   "source": [
    "### Ejercicio 2\n",
    "\n",
    "Dado un número entero, escriba el codigo para lo siguiente:\n",
    "\n",
    "1. If $n$ es impar, print \"extraño\"\n",
    "2. If $n$ si es par y esta entre el rango de 2 a 5,\"No extraño\"\n",
    "3. If $n$ si es par esta entre el rango de 6 a 20, \"extraño\"\n",
    "4. If $n$ Si es impary mayor que 20 print \"No extraño\"\n",
    "\n",
    "**Ejemplo: ** **n = 3**, **n** es impar y es de tipo extraño\n",
    "\n",
    "**n=24**, **n** es par y mayor que 20, es \"No extraño\""
   ]
  },
  {
   "cell_type": "code",
   "execution_count": 3,
   "metadata": {},
   "outputs": [
    {
     "name": "stdout",
     "output_type": "stream",
     "text": [
      "Ingrese un Entero: 28\n",
      "No extraño\n"
     ]
    }
   ],
   "source": [
    "numero = int(input(\"Ingrese un Entero: \"))\n",
    "if numero%2!=0:\n",
    "    print(\"Extraño\")\n",
    "elif (numero%2==0) and numero > 2 and numero <5:\n",
    "    print(\"No Extraño\")\n",
    "elif (numero%2==0) and numero > 6 and numero < 20:\n",
    "    print(\"Extraño\")\n",
    "else:\n",
    "    print(\"No extraño\")"
   ]
  },
  {
   "cell_type": "markdown",
   "metadata": {},
   "source": [
    "## Bucles While\n",
    "\n",
    "Los bucles `while` se ejecuntan siempre cuando la condición sea verdadera. Si la condición es falsa, inclusive al principio, entonces bloque `while` no se ejecuta e inmediatamente procede al diguiente bloque de codigo. Por convención, en python se evalua como verdadero cualquiera diferente cero y el cero es falso. La condicipón puede ser una lista o una secuencia, donde la secuencia vacia es falsa. El cuerpo del `while`esta definido por:\n",
    "\n",
    "```python\n",
    "while condicion:\n",
    "    codigo\n",
    "```\n",
    "\n",
    "### Ejercicio 3:\n",
    "\n",
    "Cuantas impresiones realiza este bucle while:\n",
    "```python\n",
    "x = 1\n",
    "while x < 4:\n",
    "    print(x)\n",
    "    x = x + 1\n",
    "```\n",
    "D. 3\n"
   ]
  },
  {
   "cell_type": "code",
   "execution_count": null,
   "metadata": {},
   "outputs": [],
   "source": [
    "while True:\n",
    "    print(\"Ciclo Infinito\")"
   ]
  },
  {
   "cell_type": "code",
   "execution_count": 4,
   "metadata": {},
   "outputs": [
    {
     "name": "stdout",
     "output_type": "stream",
     "text": [
      "Correcto...\n",
      "7\n",
      "Correcto...\n",
      "6\n",
      "Correcto...\n",
      "5\n",
      "Correcto...\n",
      "4\n",
      "Correcto...\n",
      "3\n",
      "Correcto...\n",
      "2\n",
      "Correcto...\n",
      "1\n",
      "Correcto...\n",
      "0\n"
     ]
    }
   ],
   "source": [
    "var = 8\n",
    "while var != 0:\n",
    "    print(\"Correcto...\")\n",
    "    var = var - 1 # var -= 1\n",
    "    print(var)"
   ]
  },
  {
   "cell_type": "code",
   "execution_count": 7,
   "metadata": {},
   "outputs": [
    {
     "name": "stdout",
     "output_type": "stream",
     "text": [
      "a\n",
      "e\n",
      "i\n",
      "o\n",
      "u\n"
     ]
    }
   ],
   "source": [
    "#Iterar una lista\n",
    "lista1 = [\"a\",\"e\",\"i\",\"o\",\"u\"]\n",
    "while lista1:\n",
    "    print(lista1.pop(0))"
   ]
  },
  {
   "cell_type": "code",
   "execution_count": null,
   "metadata": {},
   "outputs": [],
   "source": []
  }
 ],
 "metadata": {
  "kernelspec": {
   "display_name": "Python 3",
   "language": "python",
   "name": "python3"
  },
  "language_info": {
   "codemirror_mode": {
    "name": "ipython",
    "version": 3
   },
   "file_extension": ".py",
   "mimetype": "text/x-python",
   "name": "python",
   "nbconvert_exporter": "python",
   "pygments_lexer": "ipython3",
   "version": "3.7.4"
  }
 },
 "nbformat": 4,
 "nbformat_minor": 4
}
