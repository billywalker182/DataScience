{
 "cells": [
  {
   "cell_type": "markdown",
   "metadata": {},
   "source": [
    "# FUNDAMENTOS DE PYTHON PARTE II\n",
    "\n",
    "## Estructuras de Control\n",
    "\n",
    "### Setencia IF\n",
    "\n",
    "La sentencia `if` permite que tu programa tome diferentes caminos en el tiempo de ejecución, dependiendo de la condición. Ellos generalmente vienen en bloques `if...elif...else`. El programa chequea cada sequencia de condiciones escritas y una vez una de ellas es verdadera, ejecuta el bloque de codigo con esa condición:\n",
    "\n",
    "```python\n",
    "if condicion1:\n",
    "    block1\n",
    "elif condicion2:\n",
    "    block2\n",
    "else:\n",
    "    block3\n",
    "```\n",
    "\n",
    "Asi, si la `condición1` es verdadera ejecuta el `block1`. Si este fue falso pero la `condicion2` es verdadera ejecuta `block2`. Else, si ambas de las primeras condiciones son falsa, entonces ejecuta `block3`.\n",
    "\n",
    "#### Ejercicio1\n",
    "Cual es la salida al ejecutar el siguiente codigo de Python? Por que?\n",
    "\n",
    "```python\n",
    "area = 10.0\n",
    "if area < 9:\n",
    "    print(\"Pequeña\")\n",
    "elif area < 12:\n",
    "    print(\"Mediana\")\n",
    "else:\n",
    "    print(\"Grande\")\n",
    "```\n",
    "\n",
    "a. Pequeña\n",
    "\n",
    "B. Mediana\n",
    "\n",
    "c. Grande\n",
    "\n",
    "d. Error de sintaxis"
   ]
  },
  {
   "cell_type": "code",
   "execution_count": 1,
   "metadata": {},
   "outputs": [
    {
     "name": "stdout",
     "output_type": "stream",
     "text": [
      "Mediana\n"
     ]
    }
   ],
   "source": [
    "area = 10.0\n",
    "if area < 9:\n",
    "    print(\"Pequeña\")\n",
    "elif area < 12:\n",
    "    print(\"Mediana\")\n",
    "else:\n",
    "    print(\"Grande\")"
   ]
  },
  {
   "cell_type": "code",
   "execution_count": 3,
   "metadata": {},
   "outputs": [
    {
     "name": "stdout",
     "output_type": "stream",
     "text": [
      "Mirando alrededor del dormitorio\n",
      "Espacio Mediano\n"
     ]
    }
   ],
   "source": [
    "# Definir variables\n",
    "espacio = \"dormitorio\"\n",
    "tamaño = 180.0\n",
    "\n",
    "#if-elif-else para espacio\n",
    "if espacio == \"dormitorio\":\n",
    "    print(\"Mirando alrededor del dormitorio\")\n",
    "elif espacio == \"cocina\":\n",
    "    print(\"Mirando alrededor de la cocina\")\n",
    "else:\n",
    "    print(\"Mirando a otro lado\")\n",
    "    \n",
    "# setencia if para el area\n",
    "if tamaño > 180:\n",
    "    print(\"Espacio Grande\")\n",
    "elif tamaño > 100:\n",
    "    print(\"Espacio Mediano\")\n",
    "else:\n",
    "    print(\"Espacio Pequeño\")"
   ]
  }
 ],
 "metadata": {
  "kernelspec": {
   "display_name": "Python 3",
   "language": "python",
   "name": "python3"
  },
  "language_info": {
   "codemirror_mode": {
    "name": "ipython",
    "version": 3
   },
   "file_extension": ".py",
   "mimetype": "text/x-python",
   "name": "python",
   "nbconvert_exporter": "python",
   "pygments_lexer": "ipython3",
   "version": "3.7.4"
  }
 },
 "nbformat": 4,
 "nbformat_minor": 4
}
