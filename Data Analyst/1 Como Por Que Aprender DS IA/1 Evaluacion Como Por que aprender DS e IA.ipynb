{
 "cells": [
  {
   "cell_type": "markdown",
   "id": "be37cefb",
   "metadata": {},
   "source": [
    "# Evaluación: Cómo y Por Qué Aprender Data Science e Inteligencia Artificial"
   ]
  },
  {
   "cell_type": "markdown",
   "id": "71978f7f",
   "metadata": {},
   "source": [
    "#### 1. ¿Inteligencia Artificial y Data Science son lo mismo?\n",
    "No, se relacionan pero son diferentes\n"
   ]
  },
  {
   "cell_type": "markdown",
   "id": "9cef1fef",
   "metadata": {},
   "source": [
    "#### 2. ¿Cómo se relaciona Data Science con Inteligencia Artificial?\n",
    "X Data Science utiliza inteligencia artificial como la herramienta para resolver la mayoría de los problemas.\n",
    "<br> \n",
    "**En el proceso de data science utilizamo inteligencia artificial como una de sus herramientas** "
   ]
  },
  {
   "cell_type": "markdown",
   "id": "9cb7c31f",
   "metadata": {},
   "source": [
    "#### 3. ¿Cuándo se dice que tenemos Big data?\n",
    "Al tener grandes volumenes de datos muy variados y veloces que son complicados de procesar con métodos tradicionales."
   ]
  },
  {
   "cell_type": "markdown",
   "id": "dd8b50e7",
   "metadata": {},
   "source": [
    "#### 4. ¿Cómo se relaciona Big Data con Data Science?\n",
    "Big Data es materia prima que podemos usar en data science para hacer análisis más exhaustivos"
   ]
  },
  {
   "cell_type": "markdown",
   "id": "9476a4d0",
   "metadata": {},
   "source": [
    "#### 5. Con tener solamente métricas sin hallazgos con información de valor es data science. Lo anterior es:\n",
    "X Verdadero, tener métricas de cualquier dato siempre es útil para la organización, ya sea que los usen o no.\n",
    "<br>\n",
    "**Falso**"
   ]
  },
  {
   "cell_type": "markdown",
   "id": "61b6f6ba",
   "metadata": {},
   "source": [
    "#### 6. Dentro de la jerarquía de necesidades de data science, ¿Cuáles son las etapas sin las que no tendríamos datos para trabajar?\n",
    "Recolección y Movimiento / Almacenamiento"
   ]
  },
  {
   "cell_type": "markdown",
   "id": "b5cc9ea1",
   "metadata": {},
   "source": [
    "#### 7. ¿Esencialmente qué hace una **Data Scientist**\n",
    "Toma datos y los utiliza para encontrar información de valor (Insights) y crear servicios de Machine Learning"
   ]
  },
  {
   "cell_type": "markdown",
   "id": "d0cb1b43",
   "metadata": {},
   "source": [
    "#### 8. ¿Esencialmente qué hace una **Data Engineer**?\n",
    "Toma datos que no han sido procesados, los limpia/transforma y almacena para que estén listo para análisis."
   ]
  },
  {
   "cell_type": "markdown",
   "id": "03405f00",
   "metadata": {},
   "source": [
    "#### 9. ¿Cuál es la finalidad de la ciencia de datos?\n",
    "X Tomar decisiones y crear estrategias de negocio\n",
    "<br>\n",
    "**Tomar decisiones y crear estrategias de negocios**\n",
    "<br>\n",
    "**Crear productos de software más inteligentes y funcionales**"
   ]
  },
  {
   "cell_type": "markdown",
   "id": "62e713d8",
   "metadata": {},
   "source": [
    "#### 10. ¿Cuál es el paso más importante en el proceso de la ciencia de datos?\n",
    "X Usar modelos de machine learning\n",
    "<br>\n",
    "**Obtención de los datos**\n",
    "<br>\n",
    "**Integrar datos e IA a productos de software**\n",
    "<br>\n",
    "**Pregunta o caso de negocio**"
   ]
  },
  {
   "cell_type": "markdown",
   "id": "a0f69101",
   "metadata": {},
   "source": [
    "#### 11. ¿Cómo se relaciona el machine learning con el deep learning?\n",
    "El deep learning es una rama del machine learning que a trvés de algoritmos permite imitar el aprendizaje humano."
   ]
  },
  {
   "cell_type": "markdown",
   "id": "88e9bb47",
   "metadata": {},
   "source": [
    "#### 12. ¿Esencialmente qué hace una **Analyst**?\n",
    "Toma datos y los utiliza para encontrar información de valor (Insights)"
   ]
  },
  {
   "cell_type": "markdown",
   "id": "7a840b47",
   "metadata": {},
   "source": [
    "#### 13. ¿Esencialmente qué hace una **Machine Learning Engineer**?\n",
    "Despliega modelos de machine learning en sistemas de producción de software."
   ]
  }
 ],
 "metadata": {
  "kernelspec": {
   "display_name": "Python 3 (ipykernel)",
   "language": "python",
   "name": "python3"
  },
  "language_info": {
   "codemirror_mode": {
    "name": "ipython",
    "version": 3
   },
   "file_extension": ".py",
   "mimetype": "text/x-python",
   "name": "python",
   "nbconvert_exporter": "python",
   "pygments_lexer": "ipython3",
   "version": "3.9.7"
  }
 },
 "nbformat": 4,
 "nbformat_minor": 5
}
