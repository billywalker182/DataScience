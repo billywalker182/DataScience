{
 "cells": [
  {
   "cell_type": "markdown",
   "id": "b585318c",
   "metadata": {},
   "source": [
    "# CURSO PRÁCTICO DE SQL\n",
    "\n",
    "SQL es el lenguaje por exelencia para el manejo de datos estructurados. Incrementa tus habilidades  en él con ejercicios de álgebra relacional, subconsultas y window functions. Aprende a hacer consultas más eficientes y complejas con este lenguaje.\n",
    "\n",
    "* Entender Queries Dostribuidos\n",
    "* Utilizar expresiones regulares en SQL\n",
    "* Reforzar conceptos de álgebra relacional\n",
    "* Manejar window Functions"
   ]
  },
  {
   "cell_type": "code",
   "execution_count": 2,
   "id": "932abf5a",
   "metadata": {},
   "outputs": [],
   "source": [
    "# Ruta del forlder\n",
    "#cd '/mnt/c/Users/jho_c/Mis documentos/DataScience/Data Analyst'"
   ]
  },
  {
   "cell_type": "markdown",
   "id": "1a13ba21",
   "metadata": {},
   "source": [
    "## INTRODUCCIÓN A SQL\n",
    "\n",
    "### Breve historia de SQL (Structured Query Languague - Lenguaje de Consulta Estructurada)\n",
    "**Bases** : Teoría de conjuntos y álgebra relacional de Codd\n",
    "\n",
    "**IBM** : Fue creada en los años 70. Originalmente llamada SEQUEL\n",
    "* System/38 (1979)\n",
    "* SQL/DS(1981)\n",
    "* DB2 (1983)\n",
    "**Relational Company** Creó el software Oracle V2 en 1979\n",
    "**ANSI/ISO** 1989, 1992, 1996, 1999, 2003, 2006, 2008, 2011 and 2016"
   ]
  },
  {
   "cell_type": "markdown",
   "id": "c8b676cd",
   "metadata": {},
   "source": [
    "### Álgebra Relacional\n",
    "Este estudia basicamente las operaciones que se pueden realizar entre diversos conjuntos de datos.\n",
    "\n",
    "No confundir las relaciones del álgebra relacional con las relaciones de una base de datos relacional.\n",
    "* Las relaciones de una base de datos es cuando une dos tablas.\n",
    "* Las relaciones en álgebra relacional se refiere a una tabla.\n",
    "- La diferencia es conceptual: las tablas pueden tener tuplas repetidas pero en el álgebra relacional no tiene un cuerpo, no tiene ni un primer ni último row.\n",
    "\n",
    "#### Tipos de Operadores\n",
    "* **Operadores unarios** Requiere una relación o tabla para funcionar.\n",
    "- **Proyección** (pi): Equivale al comando Select. Saca un número de columnas o atributos sin necesidad de hacer una unión con una segunda tabla. (pi) <nombre, Apellido, Email> (Tabla_Alumno)\n",
    "* **Selección** Equivale al comando Where.\n",
    "* **Operadores binarios** Requiere más de una tabla para operar\n",
    "- **Producto cartesiano (x)** : Yoma todos los elementos de una tabla y los combina con los elementos de una tabla y los combina con los elementos de la segunda tabla.\n",
    "- **Unión** Obtiene los elementos  que existen en una de las tablas o en otra de las tablas\n",
    "- **Diferencia** Obtiene los elementos que existe en una de las tablas pero que no corresponde a la otra tabla."
   ]
  },
  {
   "cell_type": "markdown",
   "id": "0d75d1db",
   "metadata": {},
   "source": [
    "### Instalación de la BD de ejemplo\n",
    "* https://www.postgresql.org/\n",
    "* Downloads\n",
    "* Windows\n",
    "* Download the installer\n",
    "* penultima versión: 13.6\n",
    "* Windows 64x\n",
    "\n",
    "#### Instalación\n",
    "* PostgreSQL Server\n",
    "* pgAdmin 4\n",
    "* Command Line Tools\n",
    "\n",
    "En la consola SQL shell (psql), por defecto se puede enter en contraseña ingresar la que se coloco en la configuración."
   ]
  },
  {
   "cell_type": "code",
   "execution_count": 3,
   "id": "cc85b96e",
   "metadata": {},
   "outputs": [
    {
     "data": {
      "text/plain": [
       "'\\nCREATE DATABASE transporte_publico;\\n'"
      ]
     },
     "execution_count": 3,
     "metadata": {},
     "output_type": "execute_result"
    }
   ],
   "source": [
    "'''\n",
    "CREATE DATABASE transporte_publico;\n",
    "'''"
   ]
  },
  {
   "cell_type": "markdown",
   "id": "12f0d9c4",
   "metadata": {},
   "source": [
    "Para saltar a la base de datos recien creada ejecutamos el comando"
   ]
  },
  {
   "cell_type": "code",
   "execution_count": 4,
   "id": "61a3f4e7",
   "metadata": {},
   "outputs": [
    {
     "data": {
      "text/plain": [
       "'\\n\\\\c transporte_publico\\n'"
      ]
     },
     "execution_count": 4,
     "metadata": {},
     "output_type": "execute_result"
    }
   ],
   "source": [
    "'''\n",
    "\\c transporte_publico\n",
    "'''"
   ]
  },
  {
   "cell_type": "markdown",
   "id": "628404da",
   "metadata": {},
   "source": [
    "Debe salir el siguiente mensaje:\n",
    "\n",
    "Ahora está conectado a la base de datos «transporte_publico» con el usuario «postgres».\n",
    "\n",
    "Desde PgAdmin ejecute el iocno se abrirá el navegador ingrese su contraseña de configuración y elimine la base de datos que creamos transporte_publico -> Delete/Drop"
   ]
  },
  {
   "cell_type": "markdown",
   "id": "1009ad7f",
   "metadata": {},
   "source": [
    "### Qué es una proyección (SELECT)\n",
    "Es aquel que permite mostrar la tabla o las columnas"
   ]
  },
  {
   "cell_type": "code",
   "execution_count": 5,
   "id": "397691dd",
   "metadata": {},
   "outputs": [
    {
     "data": {
      "text/plain": [
       "'\\nSELECT *; //Todas las columnas\\nSELECT fiels AS alias;\\nSELECT COUNT(id), SUM(quantity), AVG(age);\\nSELECT MIN(date), MAX(quantity);\\n'"
      ]
     },
     "execution_count": 5,
     "metadata": {},
     "output_type": "execute_result"
    }
   ],
   "source": [
    "'''\n",
    "SELECT *; //Todas las columnas\n",
    "SELECT fiels AS alias;\n",
    "SELECT COUNT(id), SUM(quantity), AVG(age);\n",
    "SELECT MIN(date), MAX(quantity);\n",
    "'''"
   ]
  },
  {
   "cell_type": "code",
   "execution_count": 6,
   "id": "366af7a7",
   "metadata": {},
   "outputs": [
    {
     "data": {
      "text/plain": [
       "'\\nSELECT IF(500<100, \"YES\",\"NO\");\\n\\nSELECT OrderID, Quantity,\\nCASE\\n    WHEN Quantity > 30 THEN \"Over 30\"\\n    WHEN Quantity = 30 THEN \"EQUAL 30\"\\n    ELSE \"Under 30\"\\nEND AS QuantiityText\\n'"
      ]
     },
     "execution_count": 6,
     "metadata": {},
     "output_type": "execute_result"
    }
   ],
   "source": [
    "'''\n",
    "SELECT IF(500<100, \"YES\",\"NO\");\n",
    "\n",
    "SELECT OrderID, Quantity,\n",
    "CASE\n",
    "    WHEN Quantity > 30 THEN \"Over 30\"\n",
    "    WHEN Quantity = 30 THEN \"EQUAL 30\"\n",
    "    ELSE \"Under 30\"\n",
    "END AS QuantiityText\n",
    "'''"
   ]
  },
  {
   "cell_type": "markdown",
   "id": "4cd0579f",
   "metadata": {},
   "source": [
    "### Origen From\n",
    "Indica de donde se va optener la información que se va proyectar"
   ]
  },
  {
   "cell_type": "code",
   "execution_count": 7,
   "id": "cc75e3a8",
   "metadata": {},
   "outputs": [
    {
     "data": {
      "text/plain": [
       "'\\nSELECT *\\nFROM tabla_diaria AS td\\n    JOIN tabla_mensual AS tm\\n    ON td.pk = tm.fk;\\n'"
      ]
     },
     "execution_count": 7,
     "metadata": {},
     "output_type": "execute_result"
    }
   ],
   "source": [
    "'''\n",
    "SELECT *\n",
    "FROM tabla_diaria AS td\n",
    "    JOIN tabla_mensual AS tm\n",
    "    ON td.pk = tm.fk;\n",
    "'''"
   ]
  },
  {
   "cell_type": "code",
   "execution_count": 8,
   "id": "2799123a",
   "metadata": {},
   "outputs": [
    {
     "data": {
      "text/plain": [
       "\"\\nSELECT *\\nFROM dblink('\\n    dbname=somedb\\n    port=5432 host=someserver\\n    user=someuser\\n    password=somepwd',\\n    'SELECT gid, area, perimeter,\\n            state, country,\\n            tract, blockgroup,\\n            block, the_geom\\n    FROM massgis.cens200blocks')\\n    AS blockgroups\\n\""
      ]
     },
     "execution_count": 8,
     "metadata": {},
     "output_type": "execute_result"
    }
   ],
   "source": [
    "'''\n",
    "SELECT *\n",
    "FROM dblink('\n",
    "    dbname=somedb\n",
    "    port=5432 host=someserver\n",
    "    user=someuser\n",
    "    password=somepwd',\n",
    "    'SELECT gid, area, perimeter,\n",
    "            state, country,\n",
    "            tract, blockgroup,\n",
    "            block, the_geom\n",
    "    FROM massgis.cens200blocks')\n",
    "    AS blockgroups\n",
    "'''"
   ]
  },
  {
   "cell_type": "markdown",
   "id": "24b76dae",
   "metadata": {},
   "source": [
    "### Productos cartesianos join\n",
    "* Left join Elementos que pertenecen a la tabla de la izquierda\n",
    "* Right join Elementos que pertenecen a la tabla de la derecha\n",
    "* Exclusive Left join pertenecen solo a la tabla de la izquierda y no comparte ningun elemento con el de la derecha\n",
    "* Exclusive Right Join pertenecen a la tabla de la derecha pero no coinciden con los de la izquierda\n",
    "* Full Outer Join trae todos los elementos de la tabla de la derecha y de la izquierda\n",
    "* Exclusive Full Outer Join todos los elementos de las tablas excepto los que comparten\n",
    "* Inner join solamente los elementos que tienen común las dos tablas"
   ]
  },
  {
   "cell_type": "markdown",
   "id": "fd787f76",
   "metadata": {},
   "source": [
    "### Selección where\n"
   ]
  },
  {
   "cell_type": "code",
   "execution_count": 9,
   "id": "487ed291",
   "metadata": {},
   "outputs": [
    {
     "data": {
      "text/plain": [
       "'\\nSELECT *\\nFROM tabla_diaria\\nWHERE id=1;\\n'"
      ]
     },
     "execution_count": 9,
     "metadata": {},
     "output_type": "execute_result"
    }
   ],
   "source": [
    "'''\n",
    "SELECT *\n",
    "FROM tabla_diaria\n",
    "WHERE id=1;\n",
    "'''"
   ]
  },
  {
   "cell_type": "code",
   "execution_count": 10,
   "id": "0bcea260",
   "metadata": {},
   "outputs": [
    {
     "data": {
      "text/plain": [
       "'\\nSELECT *\\nFORM tabla_diaria\\nWHERE cantidad > 10;\\n'"
      ]
     },
     "execution_count": 10,
     "metadata": {},
     "output_type": "execute_result"
    }
   ],
   "source": [
    "'''\n",
    "SELECT *\n",
    "FORM tabla_diaria\n",
    "WHERE cantidad > 10;\n",
    "'''"
   ]
  },
  {
   "cell_type": "code",
   "execution_count": 11,
   "id": "6b375390",
   "metadata": {},
   "outputs": [
    {
     "data": {
      "text/plain": [
       "'\\nSELECT *\\nFROM tabla_diaria\\nWHERE cantidad < 100;\\n'"
      ]
     },
     "execution_count": 11,
     "metadata": {},
     "output_type": "execute_result"
    }
   ],
   "source": [
    "'''\n",
    "SELECT *\n",
    "FROM tabla_diaria\n",
    "WHERE cantidad < 100;\n",
    "'''"
   ]
  },
  {
   "cell_type": "code",
   "execution_count": 12,
   "id": "79c13a88",
   "metadata": {},
   "outputs": [
    {
     "data": {
      "text/plain": [
       "'\\nSELECT *\\nFROM tabla_diaria\\nWHERE cantidad > 10\\n    AND cantidad <100;\\n'"
      ]
     },
     "execution_count": 12,
     "metadata": {},
     "output_type": "execute_result"
    }
   ],
   "source": [
    "'''\n",
    "SELECT *\n",
    "FROM tabla_diaria\n",
    "WHERE cantidad > 10\n",
    "    AND cantidad <100;\n",
    "'''"
   ]
  },
  {
   "cell_type": "code",
   "execution_count": 13,
   "id": "6655ea37",
   "metadata": {},
   "outputs": [
    {
     "data": {
      "text/plain": [
       "'\\nSELECT *\\nFORM tabla_diaria\\nWHERE cantidad BETWEEN 10\\n    AND 100;\\n'"
      ]
     },
     "execution_count": 13,
     "metadata": {},
     "output_type": "execute_result"
    }
   ],
   "source": [
    "'''\n",
    "SELECT *\n",
    "FORM tabla_diaria\n",
    "WHERE cantidad BETWEEN 10\n",
    "    AND 100;\n",
    "'''"
   ]
  },
  {
   "cell_type": "code",
   "execution_count": 14,
   "id": "3bf725b2",
   "metadata": {},
   "outputs": [
    {
     "data": {
      "text/plain": [
       "'\\nSELECT *\\nFROM users\\nWHERE name = \"Israel\"\\nAND(\\n    lastname = \"Vázquez\"\\n    OR\\n    lastname = \"López\"\\n);\\n'"
      ]
     },
     "execution_count": 14,
     "metadata": {},
     "output_type": "execute_result"
    }
   ],
   "source": [
    "'''\n",
    "SELECT *\n",
    "FROM users\n",
    "WHERE name = \"Israel\"\n",
    "AND(\n",
    "    lastname = \"Vázquez\"\n",
    "    OR\n",
    "    lastname = \"López\"\n",
    ");\n",
    "'''"
   ]
  },
  {
   "cell_type": "code",
   "execution_count": 15,
   "id": "839b39ad",
   "metadata": {},
   "outputs": [
    {
     "data": {
      "text/plain": [
       "'\\nSELECT *\\nFROM users\\nWHERE name = \"Israel\"\\n    AND lastname = \"Vázquez\"\\n    OR lastaname = \"López\";\\n'"
      ]
     },
     "execution_count": 15,
     "metadata": {},
     "output_type": "execute_result"
    }
   ],
   "source": [
    "'''\n",
    "SELECT *\n",
    "FROM users\n",
    "WHERE name = \"Israel\"\n",
    "    AND lastname = \"Vázquez\"\n",
    "    OR lastaname = \"López\";\n",
    "'''"
   ]
  },
  {
   "cell_type": "code",
   "execution_count": 16,
   "id": "cab653da",
   "metadata": {},
   "outputs": [
    {
     "data": {
      "text/plain": [
       "'\\nSELECT *\\nFROM usera\\nWHERE name LIKE \"Is%\";\\n'"
      ]
     },
     "execution_count": 16,
     "metadata": {},
     "output_type": "execute_result"
    }
   ],
   "source": [
    "'''\n",
    "SELECT *\n",
    "FROM usera\n",
    "WHERE name LIKE \"Is%\";//empiece Is\n",
    "'''"
   ]
  },
  {
   "cell_type": "code",
   "execution_count": 17,
   "id": "b22c5538",
   "metadata": {},
   "outputs": [
    {
     "data": {
      "text/plain": [
       "'\\nSELECT *\\nFROM users\\nWHERE name LIKE \"Is_ael\";\\n'"
      ]
     },
     "execution_count": 17,
     "metadata": {},
     "output_type": "execute_result"
    }
   ],
   "source": [
    "'''\n",
    "SELECT *\n",
    "FROM users\n",
    "WHERE name LIKE \"Is_ael\";//israel o ismael\n",
    "'''"
   ]
  },
  {
   "cell_type": "code",
   "execution_count": 18,
   "id": "50d8739b",
   "metadata": {},
   "outputs": [
    {
     "data": {
      "text/plain": [
       "'\\nSELECT *\\nFROM users\\nWHERE name NOT LIKE \"Is_ael\";\\n'"
      ]
     },
     "execution_count": 18,
     "metadata": {},
     "output_type": "execute_result"
    }
   ],
   "source": [
    "'''\n",
    "SELECT *\n",
    "FROM users\n",
    "WHERE name NOT LIKE \"Is_ael\";//que no se parezca a israel o ismael\n",
    "'''"
   ]
  },
  {
   "cell_type": "code",
   "execution_count": 19,
   "id": "2c1c5df7",
   "metadata": {},
   "outputs": [
    {
     "data": {
      "text/plain": [
       "'\\nSELECT *\\nFROM users\\nWHERE name IS NULL;\\n'"
      ]
     },
     "execution_count": 19,
     "metadata": {},
     "output_type": "execute_result"
    }
   ],
   "source": [
    "'''\n",
    "SELECT *\n",
    "FROM users\n",
    "WHERE name IS NULL;\n",
    "'''"
   ]
  },
  {
   "cell_type": "code",
   "execution_count": 20,
   "id": "4d6b1282",
   "metadata": {},
   "outputs": [
    {
     "data": {
      "text/plain": [
       "'\\nSELECT *\\nFROM users\\nWHERE name IS NOT NULL;\\n'"
      ]
     },
     "execution_count": 20,
     "metadata": {},
     "output_type": "execute_result"
    }
   ],
   "source": [
    "'''\n",
    "SELECT *\n",
    "FROM users\n",
    "WHERE name IS NOT NULL;\n",
    "'''"
   ]
  },
  {
   "cell_type": "code",
   "execution_count": 21,
   "id": "76f58ddd",
   "metadata": {},
   "outputs": [
    {
     "data": {
      "text/plain": [
       "\"\\nSELECT *\\nFROM users\\nWHERE name IN ('Israel', 'Laura','Luis');\\n\""
      ]
     },
     "execution_count": 21,
     "metadata": {},
     "output_type": "execute_result"
    }
   ],
   "source": [
    "'''\n",
    "SELECT *\n",
    "FROM users\n",
    "WHERE name IN ('Israel', 'Laura','Luis');\n",
    "'''"
   ]
  },
  {
   "cell_type": "markdown",
   "id": "0fbc54c7",
   "metadata": {},
   "source": [
    "### Ordenamiento Order By\n",
    "\n",
    "**Índices** Excelentes para búsqueds y ordenamientos. Cuidar para alta transaccionalidad."
   ]
  },
  {
   "cell_type": "code",
   "execution_count": 22,
   "id": "ab5b50dd",
   "metadata": {},
   "outputs": [
    {
     "data": {
      "text/plain": [
       "'\\nSELECT *\\nFROM tabla_diaria\\nORDER BY fecha;\\n'"
      ]
     },
     "execution_count": 22,
     "metadata": {},
     "output_type": "execute_result"
    }
   ],
   "source": [
    "'''\n",
    "SELECT *\n",
    "FROM tabla_diaria\n",
    "ORDER BY fecha;\n",
    "'''"
   ]
  },
  {
   "cell_type": "code",
   "execution_count": 23,
   "id": "55a9e690",
   "metadata": {},
   "outputs": [
    {
     "data": {
      "text/plain": [
       "'\\nSELECT *\\nFROM tabla_diaria\\nORDER BY fecha ASC;\\n'"
      ]
     },
     "execution_count": 23,
     "metadata": {},
     "output_type": "execute_result"
    }
   ],
   "source": [
    "'''\n",
    "SELECT *\n",
    "FROM tabla_diaria\n",
    "ORDER BY fecha ASC;\n",
    "'''"
   ]
  },
  {
   "cell_type": "code",
   "execution_count": 24,
   "id": "35b967bc",
   "metadata": {},
   "outputs": [
    {
     "data": {
      "text/plain": [
       "'\\nSELECT *\\nFROM tabla_diaria\\nORDER BY fecha DESC;\\n'"
      ]
     },
     "execution_count": 24,
     "metadata": {},
     "output_type": "execute_result"
    }
   ],
   "source": [
    "'''\n",
    "SELECT *\n",
    "FROM tabla_diaria\n",
    "ORDER BY fecha DESC;\n",
    "'''"
   ]
  },
  {
   "cell_type": "markdown",
   "id": "006bed9c",
   "metadata": {},
   "source": [
    "### Agregación y Limitantes (GROUP BY y LIMIT)\n"
   ]
  },
  {
   "cell_type": "code",
   "execution_count": 25,
   "id": "3914f27e",
   "metadata": {},
   "outputs": [
    {
     "data": {
      "text/plain": [
       "'\\nSELECT *\\nFROM tabla_diaria\\nGROUP BY marca;\\n'"
      ]
     },
     "execution_count": 25,
     "metadata": {},
     "output_type": "execute_result"
    }
   ],
   "source": [
    "'''\n",
    "SELECT *\n",
    "FROM tabla_diaria\n",
    "GROUP BY marca;\n",
    "'''"
   ]
  },
  {
   "cell_type": "code",
   "execution_count": 26,
   "id": "c8a09a9f",
   "metadata": {},
   "outputs": [
    {
     "data": {
      "text/plain": [
       "'\\nSELECT *\\nFROM tabla_diaria\\nGROUP BY marca, modelo;\\n'"
      ]
     },
     "execution_count": 26,
     "metadata": {},
     "output_type": "execute_result"
    }
   ],
   "source": [
    "'''\n",
    "SELECT *\n",
    "FROM tabla_diaria\n",
    "GROUP BY marca, modelo;\n",
    "'''"
   ]
  },
  {
   "cell_type": "code",
   "execution_count": 27,
   "id": "3f1d57c5",
   "metadata": {},
   "outputs": [
    {
     "data": {
      "text/plain": [
       "'\\nSELECT *\\nFROM tabla_diaria\\nLIMIT 1500;\\n'"
      ]
     },
     "execution_count": 27,
     "metadata": {},
     "output_type": "execute_result"
    }
   ],
   "source": [
    "'''\n",
    "SELECT *\n",
    "FROM tabla_diaria\n",
    "LIMIT 1500;\n",
    "'''"
   ]
  },
  {
   "cell_type": "code",
   "execution_count": 28,
   "id": "9055a795",
   "metadata": {},
   "outputs": [
    {
     "data": {
      "text/plain": [
       "'\\nSELECT *\\nFROM tabla_diaria\\nOFFSET 1500\\nLIMIT 1500;\\n'"
      ]
     },
     "execution_count": 28,
     "metadata": {},
     "output_type": "execute_result"
    }
   ],
   "source": [
    "'''\n",
    "SELECT *\n",
    "FROM tabla_diaria\n",
    "OFFSET 1500//DESPUES DE 1500\n",
    "LIMIT 1500;\n",
    "'''"
   ]
  },
  {
   "cell_type": "code",
   "execution_count": null,
   "id": "c2fea0e4",
   "metadata": {},
   "outputs": [],
   "source": []
  }
 ],
 "metadata": {
  "kernelspec": {
   "display_name": "Python 3 (ipykernel)",
   "language": "python",
   "name": "python3"
  },
  "language_info": {
   "codemirror_mode": {
    "name": "ipython",
    "version": 3
   },
   "file_extension": ".py",
   "mimetype": "text/x-python",
   "name": "python",
   "nbconvert_exporter": "python",
   "pygments_lexer": "ipython3",
   "version": "3.9.7"
  }
 },
 "nbformat": 4,
 "nbformat_minor": 5
}
