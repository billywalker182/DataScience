{
 "cells": [
  {
   "cell_type": "markdown",
   "id": "24287112",
   "metadata": {},
   "source": [
    "# 1. Iniciando con Power BI\n",
    "\n",
    "# 2. Ventas de Video Juegos\n",
    "\n",
    "# 3. Indicadores Mundiales"
   ]
  }
 ],
 "metadata": {
  "kernelspec": {
   "display_name": "Python 3 (ipykernel)",
   "language": "python",
   "name": "python3"
  },
  "language_info": {
   "codemirror_mode": {
    "name": "ipython",
    "version": 3
   },
   "file_extension": ".py",
   "mimetype": "text/x-python",
   "name": "python",
   "nbconvert_exporter": "python",
   "pygments_lexer": "ipython3",
   "version": "3.9.7"
  }
 },
 "nbformat": 4,
 "nbformat_minor": 5
}
