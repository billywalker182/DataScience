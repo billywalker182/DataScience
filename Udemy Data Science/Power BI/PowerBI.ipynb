{
 "cells": [
  {
   "cell_type": "markdown",
   "id": "24287112",
   "metadata": {},
   "source": [
    "# 1. Iniciando con Power BI\n",
    "\n",
    "# 2. Ventas de Video Juegos\n",
    "\n",
    "# 3. Indicadores Mundiales\n",
    "\n",
    "# 4. Reporte de Recursos Humanos\n",
    "\n",
    "## 4.1 Descripción Proyecto\n",
    "\n",
    "## 4.2 Recursos del Proyecto\n",
    "\n",
    "## 4.3 Obteniendo y Preparando los datos\n"
   ]
  },
  {
   "cell_type": "code",
   "execution_count": null,
   "id": "0385d8ea",
   "metadata": {},
   "outputs": [],
   "source": [
    "'''\n",
    "    Eliga la columna donde quiera hacer el cambio.\n",
    "    Click derecho reemplazar \n",
    "    el valor que deseas ponerle\n",
    "'''"
   ]
  }
 ],
 "metadata": {
  "kernelspec": {
   "display_name": "Python 3 (ipykernel)",
   "language": "python",
   "name": "python3"
  },
  "language_info": {
   "codemirror_mode": {
    "name": "ipython",
    "version": 3
   },
   "file_extension": ".py",
   "mimetype": "text/x-python",
   "name": "python",
   "nbconvert_exporter": "python",
   "pygments_lexer": "ipython3",
   "version": "3.9.7"
  }
 },
 "nbformat": 4,
 "nbformat_minor": 5
}
