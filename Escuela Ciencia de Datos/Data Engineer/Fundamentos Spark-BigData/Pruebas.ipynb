{
 "cells": [
  {
   "cell_type": "code",
   "execution_count": null,
   "id": "bf3a38f7",
   "metadata": {},
   "outputs": [],
   "source": [
    "from pyspark import SparkContext\n",
    "from pyspark.sql import SparkSession"
   ]
  },
  {
   "cell_type": "code",
   "execution_count": null,
   "id": "4e0f9168",
   "metadata": {},
   "outputs": [],
   "source": [
    "spark = SparkSession.builder \\\n",
    "    .master(\"local\") \\\n",
    "    .appName(\"MiPrimerSesion\") \\\n",
    "    .getOrCreate()"
   ]
  },
  {
   "cell_type": "code",
   "execution_count": null,
   "id": "745450e4",
   "metadata": {},
   "outputs": [],
   "source": [
    "spark.stop()"
   ]
  },
  {
   "cell_type": "code",
   "execution_count": null,
   "id": "969df437",
   "metadata": {},
   "outputs": [],
   "source": [
    "sc = SparkContext(master=\"local\",appName=\"miPrimerContexto\")"
   ]
  },
  {
   "cell_type": "code",
   "execution_count": null,
   "id": "9ae731cf",
   "metadata": {},
   "outputs": [],
   "source": [
    "spark2 = SparkSession(sc)"
   ]
  },
  {
   "cell_type": "code",
   "execution_count": null,
   "id": "d253438e",
   "metadata": {},
   "outputs": [],
   "source": [
    "spark2"
   ]
  },
  {
   "cell_type": "code",
   "execution_count": null,
   "id": "a7f5aee0",
   "metadata": {},
   "outputs": [],
   "source": [
    "from pyspark import SparkContext\n",
    "from pyspark.sql import SparkSession"
   ]
  },
  {
   "cell_type": "code",
   "execution_count": null,
   "id": "aacaa88d",
   "metadata": {},
   "outputs": [],
   "source": [
    "sc = SparkContext(master=\"local\",appName=\"transformacionesYAcciones\")"
   ]
  },
  {
   "cell_type": "code",
   "execution_count": null,
   "id": "710c8dc7",
   "metadata": {},
   "outputs": [],
   "source": [
    "rdd1 = sc.parallelize([1,2,3])\n",
    "type(rdd1)"
   ]
  },
  {
   "cell_type": "code",
   "execution_count": null,
   "id": "531e08e2",
   "metadata": {},
   "outputs": [],
   "source": [
    "rdd1.collect()"
   ]
  },
  {
   "cell_type": "code",
   "execution_count": null,
   "id": "f29ba418",
   "metadata": {},
   "outputs": [],
   "source": [
    "sc"
   ]
  },
  {
   "cell_type": "code",
   "execution_count": null,
   "id": "f71799b5",
   "metadata": {},
   "outputs": [],
   "source": [
    "!ls /mnt/c/Users/jho_c/OneDrive/Documents/'Proyecto ICBF'/'Inicio Proyecto'/Data/"
   ]
  },
  {
   "cell_type": "code",
   "execution_count": null,
   "id": "493a61da",
   "metadata": {},
   "outputs": [],
   "source": [
    "path = \"/mnt/c/Users/jho_c/OneDrive/Documents/Proyecto ICBF/Inicio Proyecto/Data/\"\n",
    "\n",
    "Data = sc.textFile(path+\"Base_tablero_deciles_9nov21.txt\") \\\n",
    "    .map(lambda line : line.split(\"|\"))"
   ]
  },
  {
   "cell_type": "code",
   "execution_count": null,
   "id": "de350d2f",
   "metadata": {},
   "outputs": [],
   "source": [
    "Data"
   ]
  },
  {
   "cell_type": "code",
   "execution_count": null,
   "id": "4a1d3f70",
   "metadata": {},
   "outputs": [],
   "source": [
    "#Data.take(5)\n",
    "sc.stop()\n",
    "spark.stop()"
   ]
  },
  {
   "cell_type": "code",
   "execution_count": null,
   "id": "a0c55afb",
   "metadata": {},
   "outputs": [],
   "source": [
    "#"
   ]
  },
  {
   "cell_type": "code",
   "execution_count": null,
   "id": "9c2ec8ec",
   "metadata": {},
   "outputs": [],
   "source": [
    "sc = SparkContext(master=\"local\",appName=\"transformacionesYAcciones\")\n",
    "path = \"/mnt/c/Users/jho_c/OneDrive/Documents/Proyecto ICBF/Inicio Proyecto/Data/\"\n",
    "\n",
    "Data = sc.textFile(path+\"Base_tablero_deciles_9nov21.txt\") \\\n",
    "    .map(lambda line : line.split(\"|\"))"
   ]
  },
  {
   "cell_type": "code",
   "execution_count": null,
   "id": "5ca47a1d",
   "metadata": {},
   "outputs": [],
   "source": [
    "log_df=Data.toDF()"
   ]
  },
  {
   "cell_type": "code",
   "execution_count": null,
   "id": "65bd3427",
   "metadata": {},
   "outputs": [],
   "source": [
    "log_df.show(4)"
   ]
  },
  {
   "cell_type": "code",
   "execution_count": null,
   "id": "a788e254",
   "metadata": {},
   "outputs": [],
   "source": [
    "Data.map(lambda x: (x[2])).distinct().count()"
   ]
  },
  {
   "cell_type": "code",
   "execution_count": null,
   "id": "e854c8c0",
   "metadata": {},
   "outputs": [],
   "source": [
    "Data.map(lambda x: (x[2],x[1])).groupByKey().mapValues(len).take(5)"
   ]
  },
  {
   "cell_type": "code",
   "execution_count": null,
   "id": "7e78cf84",
   "metadata": {},
   "outputs": [],
   "source": [
    "Data.countApprox(20)"
   ]
  },
  {
   "cell_type": "code",
   "execution_count": null,
   "id": "5610dbfe",
   "metadata": {},
   "outputs": [],
   "source": [
    "Data.count()"
   ]
  },
  {
   "cell_type": "code",
   "execution_count": null,
   "id": "169b46c1",
   "metadata": {},
   "outputs": [],
   "source": [
    "Data.top(2)"
   ]
  },
  {
   "cell_type": "code",
   "execution_count": null,
   "id": "c83eeece",
   "metadata": {},
   "outputs": [],
   "source": [
    "sc.stop()"
   ]
  },
  {
   "cell_type": "code",
   "execution_count": 1,
   "id": "e95ae347",
   "metadata": {},
   "outputs": [],
   "source": [
    "from pyspark import SparkContext\n",
    "from pyspark.sql import SparkSession\n",
    "\n",
    "from pyspark.sql.types import StructType, StructField, IntegerType, StringType,  FloatType\n",
    "from pyspark.sql.types import Row\n",
    "\n",
    "from pyspark.sql import SQLContext\n",
    "\n",
    "from pyspark import SparkFiles"
   ]
  },
  {
   "cell_type": "code",
   "execution_count": null,
   "id": "b73c2bd6",
   "metadata": {},
   "outputs": [],
   "source": [
    "#spark = SparkContext(master=\"local\",appName=\"DataFrames_prueba\")\n",
    "#sqlContext = SQLContext(spark)"
   ]
  },
  {
   "cell_type": "code",
   "execution_count": 5,
   "id": "1502d381",
   "metadata": {},
   "outputs": [],
   "source": [
    "#!head -n 2 /mnt/c/Users/jho_c/OneDrive/Documents/'Proyecto ICBF'/'Inicio Proyecto'/Data/'Base_tablero_deciles_9nov21.txt'"
   ]
  },
  {
   "cell_type": "code",
   "execution_count": 9,
   "id": "e93b6f0a",
   "metadata": {},
   "outputs": [],
   "source": [
    "spark = SparkContext(master=\"local\",appName=\"DataFrames\")\n",
    "sqlContext = SQLContext(spark)\n",
    "\n",
    "path = \"/mnt/c/Users/jho_c/OneDrive/Documents/Proyecto ICBF/Inicio Proyecto/Data/\""
   ]
  },
  {
   "cell_type": "code",
   "execution_count": 10,
   "id": "08b20977",
   "metadata": {},
   "outputs": [],
   "source": [
    "df = sqlContext.read.format(\"com.databricks.spark.csv\").options(header='false', inferschema='true', delimiter='|')\\\n",
    "    .load(path+'Base_tablero_deciles_9nov21.txt')\n",
    "oldSchema = df.schema"
   ]
  },
  {
   "cell_type": "code",
   "execution_count": 11,
   "id": "624d81d1",
   "metadata": {},
   "outputs": [],
   "source": [
    "df1 = sqlContext.read.csv(SparkFiles.get(path+'Base_tablero_deciles_9nov21.txt'),header=True)\n",
    "columnas = df1.columns\n",
    "new_column_name_list = columnas[0].split('|')"
   ]
  },
  {
   "cell_type": "code",
   "execution_count": 12,
   "id": "196e808b",
   "metadata": {},
   "outputs": [],
   "source": [
    "for i,k in enumerate(oldSchema.fields):\n",
    "  k.name = new_column_name_list[i]\n",
    "df = sqlContext.read.format(\"com.databricks.spark.csv\").options(header='false', delimiter='|') \\\n",
    "    .load(path+'Base_tablero_deciles_9nov21.txt', schema=oldSchema)"
   ]
  },
  {
   "cell_type": "code",
   "execution_count": 13,
   "id": "66be9d9e",
   "metadata": {},
   "outputs": [
    {
     "name": "stdout",
     "output_type": "stream",
     "text": [
      "root\n",
      " |-- cod_clase: string (nullable = true)\n",
      " |-- ind_grupo_sisben_4: string (nullable = true)\n",
      " |-- porc_etnica_2018: string (nullable = true)\n",
      " |-- porc_indigena_2018: string (nullable = true)\n",
      " |-- tasa_vif_total_2016a19: string (nullable = true)\n",
      " |-- llave_hogar: string (nullable = true)\n",
      " |-- ind_nivel_sisben_4: string (nullable = true)\n",
      " |-- coord_x_manual_rec: string (nullable = true)\n",
      " |-- coord_y_manual_rec: string (nullable = true)\n",
      " |-- coord_x_auto_rec: string (nullable = true)\n",
      " |-- coord_y_auto_rec: string (nullable = true)\n",
      " |-- coord_x_auto_enc: string (nullable = true)\n",
      " |-- coord_y_auto_enc: string (nullable = true)\n",
      " |-- tip_vivienda: string (nullable = true)\n",
      " |-- ind_tiene_nevera: string (nullable = true)\n",
      " |-- ind_tiene_internet: string (nullable = true)\n",
      " |-- num_personas_hogar: string (nullable = true)\n",
      " |-- sexo_persona: string (nullable = true)\n",
      " |-- ind_discap_ninguna: string (nullable = true)\n",
      " |-- tip_seg_social: string (nullable = true)\n",
      " |-- tip_cuidado_ninos: string (nullable = true)\n",
      " |-- ind_leer_escribir: string (nullable = true)\n",
      " |-- ind_estudia: string (nullable = true)\n",
      " |-- privado_logroeduca: string (nullable = true)\n",
      " |-- privado_inasistencia: string (nullable = true)\n",
      " |-- privado_rezago: string (nullable = true)\n",
      " |-- privado_hacina: string (nullable = true)\n",
      " |-- noprivaciones: string (nullable = true)\n",
      " |-- id_registro: string (nullable = true)\n",
      " |-- hecho_victimas_30062020: string (nullable = true)\n",
      " |-- gasto_ppers_imp: string (nullable = true)\n",
      " |-- porc_gasto_alim: string (nullable = true)\n",
      " |-- union_temp: string (nullable = true)\n",
      " |-- n_ninos: string (nullable = true)\n",
      " |-- tipo_hijo: string (nullable = true)\n",
      " |-- jefat_fem: string (nullable = true)\n",
      " |-- tipo_fami: string (nullable = true)\n",
      " |-- gene_ingr: string (nullable = true)\n",
      " |-- nivel_padreuni: string (nullable = true)\n",
      " |-- nivel_madreuni: string (nullable = true)\n",
      " |-- edad_padreuni_til5: string (nullable = true)\n",
      " |-- edad_madreuni_til5: string (nullable = true)\n",
      " |-- pers_por_cuarto_exclusivo: string (nullable = true)\n",
      " |-- uni_dias_agua: string (nullable = true)\n",
      " |-- atendido_prevencion: string (nullable = true)\n",
      " |-- estudia: string (nullable = true)\n",
      " |-- extraedad: string (nullable = true)\n",
      " |-- tasavif_total: string (nullable = true)\n",
      " |-- tasavip_total: string (nullable = true)\n",
      " |-- vict_delsexual_total: string (nullable = true)\n",
      " |-- fecundi_15a19: string (nullable = true)\n",
      " |-- tipo_jorna: string (nullable = true)\n",
      " |-- pobrural: string (nullable = true)\n",
      " |-- edad_padres_mayor: string (nullable = true)\n",
      " |-- edad_padres_menor: string (nullable = true)\n",
      " |-- compartecocina_sanitario: string (nullable = true)\n",
      " |-- estrato: string (nullable = true)\n",
      " |-- motivo_pard_agrupado: string (nullable = true)\n",
      " |-- v_sexual: string (nullable = true)\n",
      " |-- maltrato: string (nullable = true)\n",
      " |-- edad_vulnera_vsexual: string (nullable = true)\n",
      " |-- edad_vulnera_maltrato: string (nullable = true)\n",
      " |-- id: string (nullable = true)\n",
      " |-- prob_vsexual: string (nullable = true)\n",
      " |-- prob_maltrato: string (nullable = true)\n",
      " |-- decil_vsexual: string (nullable = true)\n",
      " |-- decil_maltrato: string (nullable = true)\n",
      " |-- contador: string (nullable = true)\n",
      " |-- peso_vsexual: string (nullable = true)\n",
      " |-- peso_maltrato: string (nullable = true)\n",
      " |-- sexualpredicho: string (nullable = true)\n",
      " |-- maltratopredicho: string (nullable = true)\n",
      " |-- peso2_vsexual: string (nullable = true)\n",
      " |-- peso2_maltrato: string (nullable = true)\n",
      " |-- sum_ninos: string (nullable = true)\n",
      " |-- p_agg_sex: string (nullable = true)\n",
      " |-- p_agg_mal: string (nullable = true)\n",
      " |-- p2_agg_sex: string (nullable = true)\n",
      " |-- p2_agg_mal: string (nullable = true)\n",
      " |-- pred_agg_sex: string (nullable = true)\n",
      " |-- pred_agg_mal: string (nullable = true)\n",
      " |-- p_mea_sex: string (nullable = true)\n",
      " |-- p_mea_mal: string (nullable = true)\n",
      " |-- p2_mea_sex: string (nullable = true)\n",
      " |-- p2_mea_mal: string (nullable = true)\n",
      " |-- p3_mea_sex: string (nullable = true)\n",
      " |-- p3_mea_mal: string (nullable = true)\n",
      " |-- dpred_ag_sex: string (nullable = true)\n",
      " |-- xtile_predicho_agregado_maltrato: string (nullable = true)\n",
      " |-- dp3_me_sex: string (nullable = true)\n",
      " |-- dp3_me_mal: string (nullable = true)\n",
      " |-- dp2_me_sex: string (nullable = true)\n",
      " |-- dp2_me_mal: string (nullable = true)\n",
      " |-- dp2_ag_sex: string (nullable = true)\n",
      " |-- dp2_ag_mal: string (nullable = true)\n",
      " |-- dp_me_sex: string (nullable = true)\n",
      " |-- dp_me_mal: string (nullable = true)\n",
      " |-- dp_ag_sex: string (nullable = true)\n",
      " |-- dp_ag_mal: string (nullable = true)\n",
      " |-- max_tilemalt: string (nullable = true)\n",
      " |-- max_tilesex: string (nullable = true)\n",
      " |-- cod_mpio2: string (nullable = true)\n",
      " |-- cod_dpto2: string (nullable = true)\n",
      "\n"
     ]
    }
   ],
   "source": [
    "df.printSchema()"
   ]
  },
  {
   "cell_type": "code",
   "execution_count": 20,
   "id": "9b3dc213",
   "metadata": {},
   "outputs": [
    {
     "name": "stdout",
     "output_type": "stream",
     "text": [
      "+---------+---------+-----------+\n",
      "|cod_dpto2|cod_mpio2|max_tilesex|\n",
      "+---------+---------+-----------+\n",
      "|cod_dpto2|cod_mpio2|max_tilesex|\n",
      "|       05|    05001|          9|\n",
      "|       05|    05001|          9|\n",
      "|       05|    05001|          9|\n",
      "|       05|    05001|          7|\n",
      "|       05|    05001|          7|\n",
      "|       05|    05001|          7|\n",
      "|       05|    05001|          7|\n",
      "|       05|    05001|          7|\n",
      "|       05|    05001|          6|\n",
      "|       05|    05001|          1|\n",
      "|       05|    05001|          6|\n",
      "|       05|    05001|          3|\n",
      "|       05|    05001|          6|\n",
      "|       05|    05001|          3|\n",
      "|       05|    05001|         10|\n",
      "|       05|    05001|          5|\n",
      "|       05|    05001|          5|\n",
      "|       05|    05001|          7|\n",
      "|       05|    05001|          7|\n",
      "|       05|    05001|          7|\n",
      "|       05|    05001|          8|\n",
      "|       05|    05001|          8|\n",
      "|       05|    05001|          8|\n",
      "|       05|    05001|          6|\n",
      "|       05|    05001|          3|\n",
      "|       05|    05001|          5|\n",
      "|       05|    05001|          5|\n",
      "|       05|    05001|         10|\n",
      "|       05|    05001|         10|\n",
      "|       05|    05001|         10|\n",
      "|       05|    05001|          9|\n",
      "|       05|    05001|          9|\n",
      "|       05|    05001|          9|\n",
      "|       05|    05001|          9|\n",
      "|       05|    05001|          9|\n",
      "|       05|    05001|          7|\n",
      "|       05|    05001|          2|\n",
      "|       05|    05001|          3|\n",
      "|       05|    05001|          6|\n",
      "|       05|    05001|          5|\n",
      "|       05|    05001|          5|\n",
      "|       05|    05001|          8|\n",
      "|       05|    05001|          8|\n",
      "|       05|    05001|          8|\n",
      "|       05|    05001|          2|\n",
      "|       05|    05001|          7|\n",
      "|       05|    05001|          9|\n",
      "|       05|    05001|          9|\n",
      "|       05|    05001|          9|\n",
      "|       05|    05001|          6|\n",
      "|       05|    05001|          5|\n",
      "|       05|    05001|          5|\n",
      "|       05|    05001|          7|\n",
      "|       05|    05001|          5|\n",
      "|       05|    05001|          3|\n",
      "|       05|    05001|          8|\n",
      "|       05|    05001|          5|\n",
      "|       05|    05001|          5|\n",
      "|       05|    05001|          5|\n",
      "|       05|    05001|          9|\n",
      "|       05|    05001|          9|\n",
      "|       05|    05001|          9|\n",
      "|       05|    05001|          8|\n",
      "|       05|    05001|          8|\n",
      "|       05|    05001|          7|\n",
      "|       05|    05001|         10|\n",
      "|       05|    05001|         10|\n",
      "|       05|    05001|         10|\n",
      "|       05|    05001|          8|\n",
      "|       05|    05001|         10|\n",
      "|       05|    05001|          9|\n",
      "|       05|    05001|          9|\n",
      "|       05|    05001|          7|\n",
      "|       05|    05001|          7|\n",
      "|       05|    05001|          4|\n",
      "|       05|    05001|          4|\n",
      "|       05|    05001|          5|\n",
      "|       05|    05001|          5|\n",
      "|       05|    05001|          8|\n",
      "|       05|    05001|          8|\n",
      "|       05|    05001|          9|\n",
      "|       05|    05001|         10|\n",
      "|       05|    05001|         10|\n",
      "|       05|    05001|          6|\n",
      "|       05|    05001|          5|\n",
      "|       05|    05001|         10|\n",
      "|       05|    05001|          1|\n",
      "|       05|    05001|         10|\n",
      "|       05|    05001|          5|\n",
      "|       05|    05001|          5|\n",
      "|       05|    05001|         10|\n",
      "|       05|    05001|          7|\n",
      "|       05|    05001|         10|\n",
      "|       05|    05001|          6|\n",
      "|       05|    05001|          7|\n",
      "|       05|    05001|          7|\n",
      "|       05|    05001|          7|\n",
      "|       05|    05001|          6|\n",
      "|       05|    05001|          6|\n",
      "+---------+---------+-----------+\n",
      "only showing top 100 rows\n",
      "\n"
     ]
    }
   ],
   "source": [
    "df.select('cod_dpto2','cod_mpio2','max_tilesex')"
   ]
  },
  {
   "cell_type": "code",
   "execution_count": 21,
   "id": "c9f0d587",
   "metadata": {},
   "outputs": [],
   "source": [
    "spark.stop()"
   ]
  }
 ],
 "metadata": {
  "kernelspec": {
   "display_name": "Python 3",
   "language": "python",
   "name": "python3"
  },
  "language_info": {
   "codemirror_mode": {
    "name": "ipython",
    "version": 3
   },
   "file_extension": ".py",
   "mimetype": "text/x-python",
   "name": "python",
   "nbconvert_exporter": "python",
   "pygments_lexer": "ipython3",
   "version": "3.8.8"
  }
 },
 "nbformat": 4,
 "nbformat_minor": 5
}
