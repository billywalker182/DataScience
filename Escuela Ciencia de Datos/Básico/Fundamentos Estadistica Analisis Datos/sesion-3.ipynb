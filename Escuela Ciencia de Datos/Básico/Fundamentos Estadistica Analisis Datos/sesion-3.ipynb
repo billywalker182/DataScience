{
 "cells": [
  {
   "cell_type": "code",
   "execution_count": 1,
   "metadata": {},
   "outputs": [],
   "source": [
    "import numpy as np\n",
    "import datetime\n",
    "from  datetime import date"
   ]
  },
  {
   "cell_type": "code",
   "execution_count": 2,
   "metadata": {},
   "outputs": [
    {
     "data": {
      "text/plain": [
       "str"
      ]
     },
     "execution_count": 2,
     "metadata": {},
     "output_type": "execute_result"
    }
   ],
   "source": [
    "type('1')\n",
    "type(0)\n",
    "type(1.1)\n",
    "\n",
    "type(1.1+1)\n",
    "type('1.1'+'1')"
   ]
  },
  {
   "cell_type": "code",
   "execution_count": 32,
   "metadata": {},
   "outputs": [
    {
     "data": {
      "text/plain": [
       "6"
      ]
     },
     "execution_count": 32,
     "metadata": {},
     "output_type": "execute_result"
    }
   ],
   "source": [
    "1 + 1\n",
    "1 - 1\n",
    "1/2\n",
    "3%2\n",
    "3**2\n",
    "3*2"
   ]
  },
  {
   "cell_type": "code",
   "execution_count": 39,
   "metadata": {},
   "outputs": [
    {
     "data": {
      "text/plain": [
       "True"
      ]
     },
     "execution_count": 39,
     "metadata": {},
     "output_type": "execute_result"
    }
   ],
   "source": [
    "(1 > 2) & (1<2)\n",
    "(1 > 2) | (1<2)"
   ]
  },
  {
   "cell_type": "code",
   "execution_count": 46,
   "metadata": {},
   "outputs": [
    {
     "data": {
      "text/plain": [
       "2"
      ]
     },
     "execution_count": 46,
     "metadata": {},
     "output_type": "execute_result"
    }
   ],
   "source": [
    "list1 = ['1', 0, [1,2]]\n",
    "list1[2][1]"
   ]
  },
  {
   "cell_type": "code",
   "execution_count": 4,
   "metadata": {},
   "outputs": [],
   "source": [
    "universo = ['cara', 'sello']"
   ]
  },
  {
   "cell_type": "code",
   "execution_count": 5,
   "metadata": {},
   "outputs": [],
   "source": [
    "p_cara = 1/2"
   ]
  },
  {
   "cell_type": "code",
   "execution_count": 7,
   "metadata": {},
   "outputs": [
    {
     "data": {
      "text/plain": [
       "6"
      ]
     },
     "execution_count": 7,
     "metadata": {},
     "output_type": "execute_result"
    }
   ],
   "source": [
    "from scipy.stats import bernoulli\n",
    "\n",
    "universo[bernoulli.rvs(p=p_cara)]\n",
    "\n",
    "bernoulli.rvs(p=p_cara, size = 10)\n",
    "\n",
    "sum(bernoulli.rvs(p=p_cara, size = 10))\n",
    "\n"
   ]
  },
  {
   "cell_type": "code",
   "execution_count": 8,
   "metadata": {},
   "outputs": [],
   "source": [
    "from scipy.stats import binom"
   ]
  },
  {
   "cell_type": "code",
   "execution_count": 10,
   "metadata": {},
   "outputs": [
    {
     "data": {
      "text/plain": [
       "array([ 5,  6,  4,  7,  8,  6,  4,  4,  7,  2,  5,  4,  9,  4,  5,  7,  4,\n",
       "        4,  6,  7,  7,  7,  8,  8,  3,  5,  6,  3,  3,  7,  5,  3,  4,  1,\n",
       "        4,  5,  4,  7,  7,  2,  5,  4,  7,  7,  6,  6,  3,  5,  7,  5,  7,\n",
       "        5,  5,  4,  3,  4,  3,  8,  5,  7,  8,  6,  7,  7,  7,  5,  5,  3,\n",
       "        4,  6,  2,  3,  6,  5,  8,  4,  4,  5, 10,  5,  7,  4,  6,  3,  6,\n",
       "        6,  3,  5,  7,  5,  6,  5,  8,  7,  5,  5,  4,  7,  5,  5])"
      ]
     },
     "execution_count": 10,
     "metadata": {},
     "output_type": "execute_result"
    }
   ],
   "source": [
    "binom.rvs( p=p_cara, n = 10, size= 100)"
   ]
  },
  {
   "cell_type": "code",
   "execution_count": 11,
   "metadata": {},
   "outputs": [
    {
     "data": {
      "text/plain": [
       "5    0.23\n",
       "4    0.21\n",
       "3    0.19\n",
       "7    0.15\n",
       "6    0.12\n",
       "8    0.06\n",
       "2    0.04\n",
       "dtype: float64"
      ]
     },
     "execution_count": 11,
     "metadata": {},
     "output_type": "execute_result"
    }
   ],
   "source": [
    "import pandas as pd\n",
    "pd.Series(binom.rvs( p=p_cara, n = 10, size= 100)).value_counts()/100"
   ]
  },
  {
   "cell_type": "code",
   "execution_count": null,
   "metadata": {},
   "outputs": [],
   "source": []
  }
 ],
 "metadata": {
  "kernelspec": {
   "display_name": "Python 3",
   "language": "python",
   "name": "python3"
  },
  "language_info": {
   "codemirror_mode": {
    "name": "ipython",
    "version": 3
   },
   "file_extension": ".py",
   "mimetype": "text/x-python",
   "name": "python",
   "nbconvert_exporter": "python",
   "pygments_lexer": "ipython3",
   "version": "3.8.8"
  }
 },
 "nbformat": 4,
 "nbformat_minor": 2
}
