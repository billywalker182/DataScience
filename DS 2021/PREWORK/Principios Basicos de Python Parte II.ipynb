{
 "cells": [
  {
   "cell_type": "markdown",
   "metadata": {},
   "source": [
    "# FUNDAMENTOS DE PYTHON PARTE II\n",
    "\n",
    "## Estructuras de Control\n",
    "\n",
    "### Setencia IF\n",
    "\n",
    "La sentencia `if` permite que tu programa tome diferentes caminos en el tiempo de ejecución, dependiendo de la condición. Ellos generalmente vienen en bloques `if...elif...else`. El programa chequea cada sequencia de condiciones escritas y una vez una de ellas es verdadera, ejecuta el bloque de codigo con esa condición:\n",
    "\n",
    "```python\n",
    "if condicion1:\n",
    "    block1\n",
    "elif condicion2:\n",
    "    block2\n",
    "else:\n",
    "    block3\n",
    "```\n",
    "\n",
    "Asi, si la `condición1` es verdadera ejecuta el `block1`. Si este fue falso pero la `condicion2` es verdadera ejecuta `block2`. Else, si ambas de las primeras condiciones son falsa, entonces ejecuta `block3`.\n",
    "\n",
    "#### Ejercicio1\n",
    "Cual es la salida al ejecutar el siguiente codigo de Python? Por que?\n",
    "\n",
    "```python\n",
    "area = 10.0\n",
    "if area < 9:\n",
    "    print(\"Pequeña\")\n",
    "elif area < 12:\n",
    "    print(\"Mediana\")\n",
    "else:\n",
    "    print(\"Grande\")\n",
    "```\n",
    "\n",
    "a. Pequeña\n",
    "\n",
    "B. Mediana\n",
    "\n",
    "c. Grande\n",
    "\n",
    "d. Error de sintaxis"
   ]
  },
  {
   "cell_type": "code",
   "execution_count": 1,
   "metadata": {},
   "outputs": [
    {
     "name": "stdout",
     "output_type": "stream",
     "text": [
      "Mediana\n"
     ]
    }
   ],
   "source": [
    "area = 10.0\n",
    "if area < 9:\n",
    "    print(\"Pequeña\")\n",
    "elif area < 12:\n",
    "    print(\"Mediana\")\n",
    "else:\n",
    "    print(\"Grande\")"
   ]
  },
  {
   "cell_type": "code",
   "execution_count": 2,
   "metadata": {},
   "outputs": [
    {
     "name": "stdout",
     "output_type": "stream",
     "text": [
      "Mirando alrededor del dormitorio\n",
      "Espacio Mediano\n"
     ]
    }
   ],
   "source": [
    "# Definir variables\n",
    "espacio = \"dormitorio\"\n",
    "tamaño = 180.0\n",
    "\n",
    "#if-elif-else para espacio\n",
    "if espacio == \"dormitorio\":\n",
    "    print(\"Mirando alrededor del dormitorio\")\n",
    "elif espacio == \"cocina\":\n",
    "    print(\"Mirando alrededor de la cocina\")\n",
    "else:\n",
    "    print(\"Mirando a otro lado\")\n",
    "    \n",
    "# setencia if para el area\n",
    "if tamaño > 180:\n",
    "    print(\"Espacio Grande\")\n",
    "elif tamaño > 100:\n",
    "    print(\"Espacio Mediano\")\n",
    "else:\n",
    "    print(\"Espacio Pequeño\")"
   ]
  },
  {
   "cell_type": "markdown",
   "metadata": {},
   "source": [
    "### Ejercicio 2\n",
    "\n",
    "Dado un número entero, escriba el codigo para lo siguiente:\n",
    "\n",
    "1. If $n$ es impar, print \"extraño\"\n",
    "2. If $n$ si es par y esta entre el rango de 2 a 5,\"No extraño\"\n",
    "3. If $n$ si es par esta entre el rango de 6 a 20, \"extraño\"\n",
    "4. If $n$ Si es impary mayor que 20 print \"No extraño\"\n",
    "\n",
    "**Ejemplo: ** **n = 3**, **n** es impar y es de tipo extraño\n",
    "\n",
    "**n=24**, **n** es par y mayor que 20, es \"No extraño\""
   ]
  },
  {
   "cell_type": "code",
   "execution_count": 3,
   "metadata": {},
   "outputs": [
    {
     "name": "stdout",
     "output_type": "stream",
     "text": [
      "Ingrese un Entero: 5\n",
      "Extraño\n"
     ]
    }
   ],
   "source": [
    "numero = int(input(\"Ingrese un Entero: \"))\n",
    "if numero%2!=0:\n",
    "    print(\"Extraño\")\n",
    "elif (numero%2==0) and numero > 2 and numero <5:\n",
    "    print(\"No Extraño\")\n",
    "elif (numero%2==0) and numero > 6 and numero < 20:\n",
    "    print(\"Extraño\")\n",
    "else:\n",
    "    print(\"No extraño\")"
   ]
  },
  {
   "cell_type": "markdown",
   "metadata": {},
   "source": [
    "## Bucles While\n",
    "\n",
    "Los bucles `while` se ejecuntan siempre cuando la condición sea verdadera. Si la condición es falsa, inclusive al principio, entonces bloque `while` no se ejecuta e inmediatamente procede al diguiente bloque de codigo. Por convención, en python se evalua como verdadero cualquiera diferente cero y el cero es falso. La condicipón puede ser una lista o una secuencia, donde la secuencia vacia es falsa. El cuerpo del `while`esta definido por:\n",
    "\n",
    "```python\n",
    "while condicion:\n",
    "    codigo\n",
    "```\n",
    "\n",
    "### Ejercicio 3:\n",
    "\n",
    "Cuantas impresiones realiza este bucle while:\n",
    "```python\n",
    "x = 1\n",
    "while x < 4:\n",
    "    print(x)\n",
    "    x = x + 1\n",
    "```\n",
    "D. 3\n"
   ]
  },
  {
   "cell_type": "code",
   "execution_count": 4,
   "metadata": {},
   "outputs": [],
   "source": [
    "#while True:\n",
    "    #print(\"Ciclo Infinito\")"
   ]
  },
  {
   "cell_type": "code",
   "execution_count": 5,
   "metadata": {},
   "outputs": [
    {
     "name": "stdout",
     "output_type": "stream",
     "text": [
      "Correcto...\n",
      "7\n",
      "Correcto...\n",
      "6\n",
      "Correcto...\n",
      "5\n",
      "Correcto...\n",
      "4\n",
      "Correcto...\n",
      "3\n",
      "Correcto...\n",
      "2\n",
      "Correcto...\n",
      "1\n",
      "Correcto...\n",
      "0\n"
     ]
    }
   ],
   "source": [
    "var = 8\n",
    "while var != 0:\n",
    "    print(\"Correcto...\")\n",
    "    var = var - 1 # var -= 1\n",
    "    print(var)"
   ]
  },
  {
   "cell_type": "code",
   "execution_count": 6,
   "metadata": {},
   "outputs": [
    {
     "name": "stdout",
     "output_type": "stream",
     "text": [
      "a\n",
      "e\n",
      "i\n",
      "o\n",
      "u\n"
     ]
    }
   ],
   "source": [
    "#Iterar una lista\n",
    "lista1 = [\"a\",\"e\",\"i\",\"o\",\"u\"]\n",
    "while lista1:\n",
    "    print(lista1.pop(0))"
   ]
  },
  {
   "cell_type": "code",
   "execution_count": 7,
   "metadata": {},
   "outputs": [
    {
     "name": "stdout",
     "output_type": "stream",
     "text": [
      "z=3\n",
      "z=10\n",
      "z=5\n",
      "z=16\n",
      "z=8\n",
      "z=4\n",
      "z=2\n"
     ]
    }
   ],
   "source": [
    "z=3\n",
    "while z != 1:\n",
    "    print(f\"z={z}\")\n",
    "    if z % 2 == 0:\n",
    "        z = z//2\n",
    "    else:\n",
    "        z = 3 * z + 1"
   ]
  },
  {
   "cell_type": "markdown",
   "metadata": {},
   "source": [
    "## Ciclo For\n",
    "El ciclo for se ejecuta `n`veces, inicia desde 0 hasta **n-1**.Sin embargo este es el mas basico uso del for. Python permite no solo iterar con rangos, si no tambien sobre secuencia de elementos(pueden ser listas o cadenas) en el orden en que aparecen\n",
    "\n",
    "```python\n",
    "for idx in range (0,n):\n",
    "    block\n",
    "    \n",
    "for elem in list:\n",
    "    block\n",
    "```\n",
    "\n",
    "El uso del ciclo para iterar la lista solo da acceso a todos los elementos de la lista, si tamnién se desa acceder a la información del índice se puede usar el método `enumerate()`\n",
    "\n",
    "```python\n",
    "for index, element in enumerate(list):\n",
    "    print(\"Index\" + str(index) + \":\" + str(element)\n",
    "```"
   ]
  },
  {
   "cell_type": "markdown",
   "metadata": {},
   "source": [
    "### For sobre Listas"
   ]
  },
  {
   "cell_type": "code",
   "execution_count": 8,
   "metadata": {},
   "outputs": [
    {
     "name": "stdout",
     "output_type": "stream",
     "text": [
      "Cuarto 0 : 11.25\n",
      "Cuarto 1 : 18.0\n",
      "Cuarto 2 : 20.0\n",
      "Cuarto 3 : 10.75\n",
      "Cuarto 4 : 9.5\n"
     ]
    }
   ],
   "source": [
    "areas = [11.25,18.0,20.0,10.75,9.50]\n",
    "\n",
    "for idx,a in enumerate(areas):\n",
    "    print(\"Cuarto \"+str(idx)+\" : \"+str(a))"
   ]
  },
  {
   "cell_type": "code",
   "execution_count": 9,
   "metadata": {},
   "outputs": [
    {
     "name": "stdout",
     "output_type": "stream",
     "text": [
      "El Pasillo es 11.25 m2 \n",
      "El Cocina es 18.0 m2 \n",
      "El Sala es 20.0 m2 \n",
      "El Dormitorio es 10.75 m2 \n",
      "El Baño es 9.5 m2 \n"
     ]
    }
   ],
   "source": [
    "Casas = [[\"Pasillo\",11.25],\n",
    "        [\"Cocina\",18.0],\n",
    "        [\"Sala\",20.0],\n",
    "        [\"Dormitorio\",10.75],\n",
    "        [\"Baño\",9.50]]\n",
    "for elemento in Casas:\n",
    "    print(\"El \"+str(elemento[0])+\" es \"+str(elemento[1])+\" m2 \")"
   ]
  },
  {
   "cell_type": "markdown",
   "metadata": {},
   "source": [
    "### For sobre Diccionarios"
   ]
  },
  {
   "cell_type": "code",
   "execution_count": 10,
   "metadata": {},
   "outputs": [
    {
     "name": "stdout",
     "output_type": "stream",
     "text": [
      "La Capital de España es Madrid\n",
      "La Capital de Francia es Paris\n",
      "La Capital de Italia es Roma\n"
     ]
    }
   ],
   "source": [
    "Europa = {\"España\":\"Madrid\",\"Francia\":\"Paris\",\"Italia\":\"Roma\"}\n",
    "for key in Europa:\n",
    "    print(\"La Capital de \"+key+\" es \"+Europa[key])"
   ]
  },
  {
   "cell_type": "code",
   "execution_count": 11,
   "metadata": {},
   "outputs": [
    {
     "name": "stdout",
     "output_type": "stream",
     "text": [
      "La capital de España es Madrid\n",
      "La capital de Francia es Paris\n",
      "La capital de Italia es Roma\n"
     ]
    }
   ],
   "source": [
    "for key,value in Europa.items():\n",
    "    print(\"La capital de \"+key+\" es \"+value)"
   ]
  },
  {
   "cell_type": "code",
   "execution_count": 12,
   "metadata": {},
   "outputs": [
    {
     "name": "stdout",
     "output_type": "stream",
     "text": [
      "La capital de España es Madrid\n",
      "La capital de Francia es Paris\n",
      "La capital de Italia es Roma\n"
     ]
    }
   ],
   "source": [
    "for key in Europa.keys():\n",
    "    print(\"La capital de \"+key+\" es \"+Europa[key])"
   ]
  },
  {
   "cell_type": "code",
   "execution_count": 13,
   "metadata": {},
   "outputs": [
    {
     "name": "stdout",
     "output_type": "stream",
     "text": [
      "La capital es Madrid\n",
      "La capital es Paris\n",
      "La capital es Roma\n"
     ]
    }
   ],
   "source": [
    "for valor in Europa.values():\n",
    "    print(\"La capital es \"+valor)"
   ]
  },
  {
   "cell_type": "markdown",
   "metadata": {},
   "source": [
    "### Ejercicio 5\n",
    "Escriba una función que genere un diccionario donde las claves son los numeros del 1 al 15(ambos incluidos) y los valores son el cuadrado de las claves.\n",
    "\n",
    "Ejemplo:\n",
    "\n",
    "```python\n",
    "{\n",
    "    1:1,\n",
    "    2:4,\n",
    "    3:9\n",
    "}\n",
    "```"
   ]
  },
  {
   "cell_type": "code",
   "execution_count": 14,
   "metadata": {},
   "outputs": [],
   "source": [
    "def dicc_cuadrado(min,max):\n",
    "    dicc = {}\n",
    "    for i in range(min,max+1):\n",
    "        dicc[str(i)] = i**2\n",
    "    print(dicc)"
   ]
  },
  {
   "cell_type": "code",
   "execution_count": 15,
   "metadata": {},
   "outputs": [
    {
     "name": "stdout",
     "output_type": "stream",
     "text": [
      "{'1': 1, '2': 4, '3': 9, '4': 16, '5': 25, '6': 36, '7': 49, '8': 64, '9': 81, '10': 100, '11': 121, '12': 144, '13': 169, '14': 196, '15': 225}\n"
     ]
    }
   ],
   "source": [
    "dicc_cuadrado(1,15)"
   ]
  },
  {
   "cell_type": "markdown",
   "metadata": {},
   "source": [
    "## Control de Ciclos\n",
    "### Break\n",
    " Esta función se puede usar en ciclos FOR y WHILE y simplemente terminal el ciclo actual y continuan con la ejecución de la siguiente instrucción"
   ]
  },
  {
   "cell_type": "code",
   "execution_count": 16,
   "metadata": {},
   "outputs": [
    {
     "name": "stdout",
     "output_type": "stream",
     "text": [
      "char : P\n",
      "char : y\n",
      "char : t\n"
     ]
    }
   ],
   "source": [
    "#Break in FOR\n",
    "for char in \"Python\":\n",
    "    if char == \"h\":\n",
    "        break\n",
    "    print(\"char :\",char)"
   ]
  },
  {
   "cell_type": "code",
   "execution_count": 17,
   "metadata": {},
   "outputs": [
    {
     "name": "stdout",
     "output_type": "stream",
     "text": [
      "i = 1\n",
      "i = 2\n",
      "i = 3\n",
      "i = 4\n",
      "i = 5\n",
      "i = 6\n",
      "i = 7\n",
      "Encontro el 7, Numero favorito de todo el mundo!,\n",
      "        No nececsito seguir trabajando\n"
     ]
    }
   ],
   "source": [
    "#Break in FOR\n",
    "for i in range(1,12):\n",
    "    print(f\"i = {i}\")\n",
    "    if i == 7:\n",
    "        print('''Encontro el 7, Numero favorito de todo el mundo!,\n",
    "        No nececsito seguir trabajando''')\n",
    "        break"
   ]
  },
  {
   "cell_type": "code",
   "execution_count": 18,
   "metadata": {},
   "outputs": [
    {
     "name": "stdout",
     "output_type": "stream",
     "text": [
      "Valor : 9\n",
      "Valor : 8\n",
      "Valor : 7\n",
      "Valor : 6\n",
      "Final del script\n"
     ]
    }
   ],
   "source": [
    "#BREAK in WHILE\n",
    "value = 10\n",
    "while value > 0:\n",
    "    value = value - 1\n",
    "    if value == 5:\n",
    "        break\n",
    "    print(\"Valor :\",value)\n",
    "print(\"Final del script\")"
   ]
  },
  {
   "cell_type": "markdown",
   "metadata": {},
   "source": [
    "### Continue\n",
    "Esta función ingresa al comiezo del ciclo, ignorando las siguientes lineas de código del ciclo actual e inicia la siguiente iteración, Se puede usar en ciclos FOR y WHILE"
   ]
  },
  {
   "cell_type": "code",
   "execution_count": 19,
   "metadata": {},
   "outputs": [
    {
     "name": "stdout",
     "output_type": "stream",
     "text": [
      "char : P\n",
      "char : y\n",
      "char : t\n",
      "char : o\n",
      "char : n\n"
     ]
    }
   ],
   "source": [
    "#Continue in For\n",
    "for char in \"Python\":\n",
    "    if char == \"h\":\n",
    "        continue\n",
    "    print(\"char :\",char)"
   ]
  },
  {
   "cell_type": "code",
   "execution_count": 20,
   "metadata": {},
   "outputs": [
    {
     "name": "stdout",
     "output_type": "stream",
     "text": [
      "i = 1\n",
      "i = 2\n",
      "i = 3\n",
      "i = 4\n",
      "No me gustan los multiples de 5, Me salto esto\n",
      "i = 6\n",
      "i = 7\n",
      "i = 8\n",
      "i = 9\n",
      "No me gustan los multiples de 5, Me salto esto\n",
      "i = 11\n"
     ]
    }
   ],
   "source": [
    "#Continue in FOR\n",
    "for i in range(1,12):\n",
    "    if i % 5 == 0:\n",
    "        print(\"No me gustan los multiples de 5, Me salto esto\")\n",
    "        continue\n",
    "    print(f\"i = {i}\")"
   ]
  },
  {
   "cell_type": "code",
   "execution_count": 21,
   "metadata": {},
   "outputs": [
    {
     "name": "stdout",
     "output_type": "stream",
     "text": [
      "Valor : 9\n",
      "Valor : 8\n",
      "Valor : 7\n",
      "Valor : 6\n",
      "Valor : 4\n",
      "Valor : 3\n",
      "Valor : 2\n",
      "Valor : 1\n",
      "Valor : 0\n",
      "Final del script\n"
     ]
    }
   ],
   "source": [
    "#Continue en While\n",
    "value = 10\n",
    "while value > 0:\n",
    "    value = value - 1\n",
    "    if value == 5:\n",
    "        continue\n",
    "    print(\"Valor :\",value)\n",
    "print(\"Final del script\")"
   ]
  },
  {
   "cell_type": "markdown",
   "metadata": {},
   "source": [
    "### Pass\n",
    "Es una operación no sucede nada cuando se ejecuta. Se utiliza cuando se requiere por sintaxis una declaración pero no se quiere ejecutar ningún codigo. Tambien se usa como un código temporal, hasta que se escribe el codigo final."
   ]
  },
  {
   "cell_type": "code",
   "execution_count": 22,
   "metadata": {},
   "outputs": [
    {
     "name": "stdout",
     "output_type": "stream",
     "text": [
      "Char : P\n",
      "Char : y\n",
      "Char : t\n",
      "Char : h\n",
      "Char : o\n",
      "Char : n\n"
     ]
    }
   ],
   "source": [
    "for char in \"Python\":\n",
    "    if char == \"h\" :\n",
    "        pass\n",
    "    print(\"Char :\",char)"
   ]
  },
  {
   "cell_type": "code",
   "execution_count": 23,
   "metadata": {},
   "outputs": [
    {
     "name": "stdout",
     "output_type": "stream",
     "text": [
      "valor : 9\n",
      "valor : 8\n",
      "valor : 7\n",
      "valor : 6\n",
      "valor : 5\n",
      "valor : 4\n",
      "valor : 3\n",
      "valor : 2\n",
      "valor : 1\n",
      "valor : 0\n",
      "Final del script\n"
     ]
    }
   ],
   "source": [
    "#Pass in WHILE\n",
    "value = 10\n",
    "while value > 0:\n",
    "    value = value - 1\n",
    "    if value == 5:\n",
    "        pass\n",
    "    print(\"valor :\",value)\n",
    "print(\"Final del script\")"
   ]
  },
  {
   "cell_type": "markdown",
   "metadata": {},
   "source": [
    "## Errores y Excepciones\n",
    "Hay dos tipos de errores diferentes: errrores de sintaxis y exepciones.\n",
    "    \n",
    "### Errores de Sintaxis\n",
    "En los errores de sintaxis, el interprete repite la linea culpable del error.\n",
    "    \n",
    "```python\n",
    "    while True print(\"Hola Mundo\")\n",
    "```"
   ]
  },
  {
   "cell_type": "markdown",
   "metadata": {},
   "source": [
    "### Excepciones \n",
    "Sin importar que la declaración este sintácticamente correcta, puede generar un error cuando se intenta ejecutar. Los errores detectados durante la ejecución se llaman exepciones pueden ser manejados por los programa en Python.\n",
    "\n",
    "La declaración `try` nos permite manejar las exepciones y trabaja de la siguiente manera:\n",
    "\n",
    "1. Se ejecuta el bloque try (el código entre la declaración `try`y `except`)\n",
    "2. Si no ocurre una excepción el `bloque except`se omite y termina la ejecución de la declaración `try`.\n",
    "3. Si ocurre una excepción durante la ejecución del bloque try, el resto del bloque se omite. Si el tipo de excepción coincide con la exepción nombrada luego de la palabra reservada `except`, se ejecuta el bloque except, y la ejecución luego de la declaración `try`.\n",
    "4. Si ocurre una excepción que no coincida con la excepción nombrada en el `except`, esta es una exepción no manejada y la ejecución se frena con un mensaje de error indicando lo que sucedio, por ejemplo: **ZeroDivisionError,NameError,TypeError** y **ValueError**."
   ]
  },
  {
   "cell_type": "code",
   "execution_count": 24,
   "metadata": {},
   "outputs": [
    {
     "ename": "ZeroDivisionError",
     "evalue": "division by zero",
     "output_type": "error",
     "traceback": [
      "\u001b[1;31m---------------------------------------------------------------------------\u001b[0m",
      "\u001b[1;31mZeroDivisionError\u001b[0m                         Traceback (most recent call last)",
      "\u001b[1;32m<ipython-input-24-8ced4c4f65fb>\u001b[0m in \u001b[0;36m<module>\u001b[1;34m\u001b[0m\n\u001b[0;32m      1\u001b[0m \u001b[1;31m#ZeroDivisonError\u001b[0m\u001b[1;33m\u001b[0m\u001b[1;33m\u001b[0m\u001b[1;33m\u001b[0m\u001b[0m\n\u001b[1;32m----> 2\u001b[1;33m \u001b[1;36m10\u001b[0m\u001b[1;33m*\u001b[0m\u001b[1;33m(\u001b[0m\u001b[1;36m1\u001b[0m\u001b[1;33m/\u001b[0m\u001b[1;36m0\u001b[0m\u001b[1;33m)\u001b[0m\u001b[1;33m\u001b[0m\u001b[1;33m\u001b[0m\u001b[0m\n\u001b[0m",
      "\u001b[1;31mZeroDivisionError\u001b[0m: division by zero"
     ]
    }
   ],
   "source": [
    "#ZeroDivisonError\n",
    "10*(1/0)"
   ]
  },
  {
   "cell_type": "code",
   "execution_count": 25,
   "metadata": {},
   "outputs": [
    {
     "ename": "NameError",
     "evalue": "name 'spam' is not defined",
     "output_type": "error",
     "traceback": [
      "\u001b[1;31m---------------------------------------------------------------------------\u001b[0m",
      "\u001b[1;31mNameError\u001b[0m                                 Traceback (most recent call last)",
      "\u001b[1;32m<ipython-input-25-6cf880e3fe99>\u001b[0m in \u001b[0;36m<module>\u001b[1;34m\u001b[0m\n\u001b[0;32m      1\u001b[0m \u001b[1;31m#NameError\u001b[0m\u001b[1;33m\u001b[0m\u001b[1;33m\u001b[0m\u001b[1;33m\u001b[0m\u001b[0m\n\u001b[1;32m----> 2\u001b[1;33m \u001b[1;36m4\u001b[0m \u001b[1;33m+\u001b[0m \u001b[0mspam\u001b[0m\u001b[1;33m*\u001b[0m\u001b[1;36m3\u001b[0m\u001b[1;33m\u001b[0m\u001b[1;33m\u001b[0m\u001b[0m\n\u001b[0m",
      "\u001b[1;31mNameError\u001b[0m: name 'spam' is not defined"
     ]
    }
   ],
   "source": [
    "#NameError\n",
    "4 + spam*3"
   ]
  },
  {
   "cell_type": "code",
   "execution_count": 26,
   "metadata": {},
   "outputs": [
    {
     "ename": "TypeError",
     "evalue": "can only concatenate str (not \"int\") to str",
     "output_type": "error",
     "traceback": [
      "\u001b[1;31m---------------------------------------------------------------------------\u001b[0m",
      "\u001b[1;31mTypeError\u001b[0m                                 Traceback (most recent call last)",
      "\u001b[1;32m<ipython-input-26-d1c4bac888e9>\u001b[0m in \u001b[0;36m<module>\u001b[1;34m\u001b[0m\n\u001b[0;32m      1\u001b[0m \u001b[1;31m#TypeError\u001b[0m\u001b[1;33m\u001b[0m\u001b[1;33m\u001b[0m\u001b[1;33m\u001b[0m\u001b[0m\n\u001b[1;32m----> 2\u001b[1;33m \u001b[1;34m\"2\"\u001b[0m \u001b[1;33m+\u001b[0m \u001b[1;36m2\u001b[0m\u001b[1;33m\u001b[0m\u001b[1;33m\u001b[0m\u001b[0m\n\u001b[0m",
      "\u001b[1;31mTypeError\u001b[0m: can only concatenate str (not \"int\") to str"
     ]
    }
   ],
   "source": [
    "#TypeError\n",
    "\"2\" + 2"
   ]
  },
  {
   "cell_type": "code",
   "execution_count": 27,
   "metadata": {},
   "outputs": [
    {
     "ename": "ValueError",
     "evalue": "could not convert string to float: 'Juan'",
     "output_type": "error",
     "traceback": [
      "\u001b[1;31m---------------------------------------------------------------------------\u001b[0m",
      "\u001b[1;31mValueError\u001b[0m                                Traceback (most recent call last)",
      "\u001b[1;32m<ipython-input-27-d77c51d0c981>\u001b[0m in \u001b[0;36m<module>\u001b[1;34m\u001b[0m\n\u001b[0;32m      1\u001b[0m \u001b[1;31m#ValueError\u001b[0m\u001b[1;33m\u001b[0m\u001b[1;33m\u001b[0m\u001b[1;33m\u001b[0m\u001b[0m\n\u001b[1;32m----> 2\u001b[1;33m \u001b[0mfloat\u001b[0m\u001b[1;33m(\u001b[0m\u001b[1;34m\"Juan\"\u001b[0m\u001b[1;33m)\u001b[0m\u001b[1;33m\u001b[0m\u001b[1;33m\u001b[0m\u001b[0m\n\u001b[0m",
      "\u001b[1;31mValueError\u001b[0m: could not convert string to float: 'Juan'"
     ]
    }
   ],
   "source": [
    "#ValueError\n",
    "float(\"Juan\")"
   ]
  },
  {
   "cell_type": "code",
   "execution_count": 28,
   "metadata": {},
   "outputs": [
    {
     "ename": "ZeroDivisionError",
     "evalue": "division by zero",
     "output_type": "error",
     "traceback": [
      "\u001b[1;31m---------------------------------------------------------------------------\u001b[0m",
      "\u001b[1;31mZeroDivisionError\u001b[0m                         Traceback (most recent call last)",
      "\u001b[1;32m<ipython-input-28-fecef3815fb3>\u001b[0m in \u001b[0;36m<module>\u001b[1;34m\u001b[0m\n\u001b[0;32m      1\u001b[0m \u001b[0mmy_string\u001b[0m \u001b[1;33m=\u001b[0m \u001b[1;34m\"asd\"\u001b[0m\u001b[1;33m\u001b[0m\u001b[1;33m\u001b[0m\u001b[0m\n\u001b[0;32m      2\u001b[0m \u001b[1;32mtry\u001b[0m\u001b[1;33m:\u001b[0m\u001b[1;33m\u001b[0m\u001b[1;33m\u001b[0m\u001b[0m\n\u001b[1;32m----> 3\u001b[1;33m     \u001b[0mmy_string_as_float\u001b[0m \u001b[1;33m=\u001b[0m \u001b[1;36m2\u001b[0m \u001b[1;33m/\u001b[0m \u001b[1;36m0\u001b[0m \u001b[1;31m#float\u001b[0m\u001b[1;33m\u001b[0m\u001b[1;33m\u001b[0m\u001b[0m\n\u001b[0m\u001b[0;32m      4\u001b[0m     \u001b[0mprint\u001b[0m\u001b[1;33m(\u001b[0m\u001b[1;34m\"El entero evaluado puede ser convertido directamente en un numero\"\u001b[0m\u001b[1;33m)\u001b[0m\u001b[1;33m\u001b[0m\u001b[1;33m\u001b[0m\u001b[0m\n\u001b[0;32m      5\u001b[0m \u001b[1;32mexcept\u001b[0m \u001b[0mValueError\u001b[0m \u001b[1;32mas\u001b[0m \u001b[0merr\u001b[0m\u001b[1;33m:\u001b[0m\u001b[1;33m\u001b[0m\u001b[1;33m\u001b[0m\u001b[0m\n",
      "\u001b[1;31mZeroDivisionError\u001b[0m: division by zero"
     ]
    }
   ],
   "source": [
    "my_string = \"asd\"\n",
    "try:\n",
    "    my_string_as_float = 2 / 0 #float \n",
    "    print(\"El entero evaluado puede ser convertido directamente en un numero\")\n",
    "except ValueError as err:\n",
    "    print(\"Se lanzó una excepcion: predeterminado en un valor flotante especial = nan\")\n",
    "    a_as_float = float(\"nan\")\n",
    "    print(err)"
   ]
  },
  {
   "cell_type": "markdown",
   "metadata": {},
   "source": [
    "La declaración `try` tiene otra clausula opcional `finally` que intenta definir acciones de limpieza que deben ser ejecutadas bajo ciertas circunstancias. La clasula `finally` siempre se ejecuta antes de salir de la declaración `try`, ya sea que una exepcion haya ocurrido o no"
   ]
  },
  {
   "cell_type": "code",
   "execution_count": 29,
   "metadata": {},
   "outputs": [
    {
     "name": "stdout",
     "output_type": "stream",
     "text": [
      "División por cero\n",
      "Ejecutando la clasula Finally\n"
     ]
    }
   ],
   "source": [
    "try:\n",
    "    result = 10/0\n",
    "    #result = 4/2\n",
    "except ZeroDivisionError:\n",
    "    print(\"División por cero\")\n",
    "else:\n",
    "    print(\"El resultado es:\",result)\n",
    "finally:\n",
    "    print(\"Ejecutando la clasula Finally\")"
   ]
  },
  {
   "cell_type": "markdown",
   "metadata": {},
   "source": [
    "### CLASES\n",
    "Las clases proveen una forma de empaquetar datos y funcionalidades juntos. Al crear nueva clase, se crea un nuevo tipo de objeto, permitiendo crear nuevas instancias de este tipo. Cada instancia de clase puede tener atributos adjuntos para mantener su estado. Las instancias de clases tambien pueden tener métodos (definidos por sus clase) para modificar su estado.\n",
    "\n",
    "La variable self es una instancia de la clase y no es una palabra reservada de Python, cualquier etiquetada utilizada como primer parámetros tendría el mismo valor (no se aconseja usar otro valor por convención). Cada vdez que declaremos un método en Python, vamos a tener que agregarle la variable self para que cuando sea invocado el método. Python pase el objeto instaciado y opere con los valores actuales de esa instancia."
   ]
  },
  {
   "cell_type": "code",
   "execution_count": 30,
   "metadata": {},
   "outputs": [],
   "source": [
    "#Clase mascota\n",
    "class Mascota:\n",
    "    #Atributos\n",
    "    especie = \"Gato\"\n",
    "    #_oculto = 2\n",
    "    \n",
    "    def __init__(self,nombre,especie=especie):#Se debe inicializar un objeto\n",
    "        \"\"\"\n",
    "            El método __init__ es una función para inicializar la clase, si no se especifica la especie toma el valor por\n",
    "            defecto definidio en el atributo.\n",
    "        \"\"\"\n",
    "        self.nombre = nombre\n",
    "        self.especie = especie\n",
    "        self._private = None\n",
    "    \n",
    "    def __str__(self):#Mostra información de ese objeto\n",
    "        \"\"\"\n",
    "            El método __str__ es una función que proporciona una cadena informal de la presentación del objeto.\n",
    "        \"\"\"\n",
    "        return \"%s es un %s\" % (self.nombre, self.especie)\n",
    "    \n",
    "    def darNombre(self):\n",
    "        \"\"\"\n",
    "           Retorna el nombre de la Mascota. \n",
    "        \"\"\"\n",
    "        return self.nombre\n",
    "    \n",
    "    def darEspecie(self):\n",
    "        \"\"\"\n",
    "            Retorna la especie de la mascota.\n",
    "        \"\"\"\n",
    "        return self.especie"
   ]
  },
  {
   "cell_type": "code",
   "execution_count": 31,
   "metadata": {},
   "outputs": [
    {
     "name": "stdout",
     "output_type": "stream",
     "text": [
      "Teo es un Perro\n"
     ]
    }
   ],
   "source": [
    "Teo = Mascota(\"Teo\",\"Perro\")\n",
    "print(Teo)"
   ]
  },
  {
   "cell_type": "code",
   "execution_count": 32,
   "metadata": {},
   "outputs": [
    {
     "data": {
      "text/plain": [
       "'Perro'"
      ]
     },
     "execution_count": 32,
     "metadata": {},
     "output_type": "execute_result"
    }
   ],
   "source": [
    "Teo.especie # Atributo"
   ]
  },
  {
   "cell_type": "code",
   "execution_count": 33,
   "metadata": {},
   "outputs": [
    {
     "data": {
      "text/plain": [
       "'Perro'"
      ]
     },
     "execution_count": 33,
     "metadata": {},
     "output_type": "execute_result"
    }
   ],
   "source": [
    "Teo.darEspecie()#método que recibe algo como argumento"
   ]
  },
  {
   "cell_type": "code",
   "execution_count": 34,
   "metadata": {},
   "outputs": [],
   "source": [
    "?Teo.darEspecie"
   ]
  },
  {
   "cell_type": "markdown",
   "metadata": {},
   "source": [
    "### Funciones Lambda\n",
    "Lambdas es la forma de Python de definir funciones anónimas muy simples cuyo valor de retorno es el resultado de evaluar una sola expresión.\n",
    "\n",
    "```python\n",
    "    lambda argumentos : resultado\n",
    "```\n",
    "\n",
    "Una de las razones por las que desees utilizar este tipo de funciones es por rapidez y en ciertos casos claridad del código."
   ]
  },
  {
   "cell_type": "code",
   "execution_count": 35,
   "metadata": {},
   "outputs": [
    {
     "data": {
      "text/plain": [
       "13"
      ]
     },
     "execution_count": 35,
     "metadata": {},
     "output_type": "execute_result"
    }
   ],
   "source": [
    "# Definición de función\n",
    "def function_sum(a,b):\n",
    "    return a + b\n",
    "function_sum(6,7)"
   ]
  },
  {
   "cell_type": "code",
   "execution_count": 36,
   "metadata": {},
   "outputs": [
    {
     "data": {
      "text/plain": [
       "17"
      ]
     },
     "execution_count": 36,
     "metadata": {},
     "output_type": "execute_result"
    }
   ],
   "source": [
    "#Definición Lambda\n",
    "lambda_funcion = lambda a,b,c: a + b * c\n",
    "lambda_funcion(2,3,5)"
   ]
  },
  {
   "cell_type": "markdown",
   "metadata": {},
   "source": [
    "### Usando lambda con Sorted"
   ]
  },
  {
   "cell_type": "code",
   "execution_count": 37,
   "metadata": {},
   "outputs": [],
   "source": [
    "data_rec = [\n",
    "    [\"Maria\",7.0,8.0,3.0],\n",
    "    [\"Juan\",5.0,2.0,2.0],\n",
    "    [\"Mateo\",1.0,4.0,4.0]\n",
    "]"
   ]
  },
  {
   "cell_type": "markdown",
   "metadata": {},
   "source": [
    "Se quieren ordenar estos registros por el valor del primer componente numérico (índice 1 en la lista)"
   ]
  },
  {
   "cell_type": "code",
   "execution_count": 38,
   "metadata": {},
   "outputs": [
    {
     "data": {
      "text/plain": [
       "4.0"
      ]
     },
     "execution_count": 38,
     "metadata": {},
     "output_type": "execute_result"
    }
   ],
   "source": [
    "data_rec[:][2][3]"
   ]
  },
  {
   "cell_type": "code",
   "execution_count": 39,
   "metadata": {},
   "outputs": [
    {
     "data": {
      "text/plain": [
       "[['Juan', 5.0, 2.0, 2.0], ['Maria', 7.0, 8.0, 3.0], ['Mateo', 1.0, 4.0, 4.0]]"
      ]
     },
     "execution_count": 39,
     "metadata": {},
     "output_type": "execute_result"
    }
   ],
   "source": [
    "sorted(data_rec)"
   ]
  },
  {
   "cell_type": "code",
   "execution_count": 40,
   "metadata": {},
   "outputs": [
    {
     "data": {
      "text/plain": [
       "[['Mateo', 1.0, 4.0, 4.0], ['Juan', 5.0, 2.0, 2.0], ['Maria', 7.0, 8.0, 3.0]]"
      ]
     },
     "execution_count": 40,
     "metadata": {},
     "output_type": "execute_result"
    }
   ],
   "source": [
    "records_sorted = sorted(data_rec, key=lambda rec:rec[1])\n",
    "records_sorted"
   ]
  },
  {
   "cell_type": "markdown",
   "metadata": {},
   "source": [
    "#### Ejercicio 6\n",
    "\n",
    "Modifique el anterior ejemplo y ordene los registros en orden descendiente por el ultimo record. Ayuda (reverse = True)"
   ]
  },
  {
   "cell_type": "code",
   "execution_count": 41,
   "metadata": {},
   "outputs": [
    {
     "data": {
      "text/plain": [
       "[['Mateo', 1.0, 4.0, 4.0], ['Maria', 7.0, 8.0, 3.0], ['Juan', 5.0, 2.0, 2.0]]"
      ]
     },
     "execution_count": 41,
     "metadata": {},
     "output_type": "execute_result"
    }
   ],
   "source": [
    "sorted(data_rec,key=lambda rec:rec[-1],reverse=True)"
   ]
  },
  {
   "cell_type": "markdown",
   "metadata": {},
   "source": [
    "### Función Filter()\n",
    "\n",
    "Es una función que permite filtrar, a partir de una lista o iterador y una función condicional, es capaz de devolver una nueva colección con los elementos filtrados que cumplan la condición. En este tipo de función las funciones `lambda` son muy utiles.\n",
    "\n",
    "La función `filter(funcion,iterable)`construye una lista con aquellos elementos en los cuales `funcion(iterable[i])` retorna `True`"
   ]
  },
  {
   "cell_type": "code",
   "execution_count": 42,
   "metadata": {},
   "outputs": [
    {
     "data": {
      "text/plain": [
       "<filter at 0x24ff1633208>"
      ]
     },
     "execution_count": 42,
     "metadata": {},
     "output_type": "execute_result"
    }
   ],
   "source": [
    "a = [0,1,-1,-2,3,-4,5,6,7]\n",
    "resultado = filter(lambda x: x>0,a)\n",
    "resultado"
   ]
  },
  {
   "cell_type": "code",
   "execution_count": 43,
   "metadata": {},
   "outputs": [
    {
     "name": "stdout",
     "output_type": "stream",
     "text": [
      "1\n",
      "3\n",
      "5\n",
      "6\n",
      "7\n"
     ]
    }
   ],
   "source": [
    "for val in resultado:\n",
    "    print(val)"
   ]
  },
  {
   "cell_type": "code",
   "execution_count": 44,
   "metadata": {},
   "outputs": [
    {
     "data": {
      "text/plain": [
       "filter"
      ]
     },
     "execution_count": 44,
     "metadata": {},
     "output_type": "execute_result"
    }
   ],
   "source": [
    "type(resultado)"
   ]
  },
  {
   "cell_type": "code",
   "execution_count": 45,
   "metadata": {},
   "outputs": [
    {
     "data": {
      "text/plain": [
       "[5, 10, 50]"
      ]
     },
     "execution_count": 45,
     "metadata": {},
     "output_type": "execute_result"
    }
   ],
   "source": [
    "def multiple(numero):\n",
    "    if numero % 5 == 0:\n",
    "        return True\n",
    "numeros = [2,5,10,23,50,33]\n",
    "list(filter(multiple,numeros))"
   ]
  },
  {
   "cell_type": "code",
   "execution_count": 46,
   "metadata": {},
   "outputs": [
    {
     "data": {
      "text/plain": [
       "[5, 10, 50]"
      ]
     },
     "execution_count": 46,
     "metadata": {},
     "output_type": "execute_result"
    }
   ],
   "source": [
    "list(filter(lambda numero: numero % 5 ==0,numeros))"
   ]
  },
  {
   "cell_type": "markdown",
   "metadata": {},
   "source": [
    "### Filtrado Objetos"
   ]
  },
  {
   "cell_type": "code",
   "execution_count": 47,
   "metadata": {},
   "outputs": [
    {
     "name": "stdout",
     "output_type": "stream",
     "text": [
      "Juan de 35 años\n",
      "Marta de 16 años\n",
      "Manuel de 78 años\n",
      "Eduardo de 12 años\n"
     ]
    }
   ],
   "source": [
    "#Definimos una clase persona\n",
    "class Persona:\n",
    "    def __init__(self,nombre,edad):\n",
    "        self.nombre = nombre\n",
    "        self.edad = edad\n",
    "        \n",
    "    def __str__(self):\n",
    "        return \"{} de {} años\".format(self.nombre, self.edad)\n",
    "    \n",
    "# se crea una lista con 4 personas\n",
    "personas = [\n",
    "    Persona(\"Juan\",35),\n",
    "    Persona(\"Marta\",16),\n",
    "    Persona(\"Manuel\",78),\n",
    "    Persona(\"Eduardo\",12)\n",
    "]\n",
    "\n",
    "#Visualizar la lista\n",
    "for p in personas:\n",
    "    print(p)"
   ]
  },
  {
   "cell_type": "code",
   "execution_count": 48,
   "metadata": {},
   "outputs": [
    {
     "name": "stdout",
     "output_type": "stream",
     "text": [
      "Marta de 16 años\n",
      "Eduardo de 12 años\n"
     ]
    }
   ],
   "source": [
    "#Se desea filtrar los numeros de 18\n",
    "menores = filter(lambda persona:persona.edad < 18, personas)\n",
    "\n",
    "#Visualizamos los objetos de la lista filtrada\n",
    "for menor in menores:\n",
    "    print(menor)"
   ]
  },
  {
   "cell_type": "markdown",
   "metadata": {},
   "source": [
    "### Función map()\n",
    "Funciona similar a `filter()`, con la diferencia que en lugar de aplicar una condición a un elemento de una lista o secuencia, aplica una función sobre todos los elementos y como resultado se devuelve un iterable de tipo map."
   ]
  },
  {
   "cell_type": "code",
   "execution_count": 49,
   "metadata": {},
   "outputs": [
    {
     "data": {
      "text/plain": [
       "[4, 10, 20, 46, 66]"
      ]
     },
     "execution_count": 49,
     "metadata": {},
     "output_type": "execute_result"
    }
   ],
   "source": [
    "numeros = [2,5,10,23,33]\n",
    "list(map(lambda x : x*2, numeros))"
   ]
  },
  {
   "cell_type": "markdown",
   "metadata": {},
   "source": [
    "La función `map()`se utiliza mucho junto a expresiones lambda ya que permite ahorrar esfuerzo creando ciclos FOR. Adicional se puede utilizar sobre más de un iterable con la condición que tenga la misma longitud"
   ]
  },
  {
   "cell_type": "code",
   "execution_count": 50,
   "metadata": {},
   "outputs": [
    {
     "data": {
      "text/plain": [
       "[66, 84, 104, 126, 150]"
      ]
     },
     "execution_count": 50,
     "metadata": {},
     "output_type": "execute_result"
    }
   ],
   "source": [
    "a = [11,12,13,14,15]\n",
    "b = [6,7,8,9,10]\n",
    "list(map(lambda x,y : x*y, a,b))"
   ]
  },
  {
   "cell_type": "code",
   "execution_count": 51,
   "metadata": {},
   "outputs": [
    {
     "data": {
      "text/plain": [
       "[726, 1008, 1352, 1764, 2250]"
      ]
     },
     "execution_count": 51,
     "metadata": {},
     "output_type": "execute_result"
    }
   ],
   "source": [
    "c = [11,12,13,14,15]\n",
    "list(map(lambda x,y,z : x*y*z, a,b,c))"
   ]
  },
  {
   "cell_type": "markdown",
   "metadata": {},
   "source": [
    "### mapeando Objetos"
   ]
  },
  {
   "cell_type": "code",
   "execution_count": 52,
   "metadata": {},
   "outputs": [
    {
     "name": "stdout",
     "output_type": "stream",
     "text": [
      "Juan de 36 años\n",
      "Marta de 17 años\n",
      "Manuel de 79 años\n",
      "Eduardo de 13 años\n"
     ]
    }
   ],
   "source": [
    "personas = map(lambda p: Persona(p.nombre,p.edad+1),personas)\n",
    "\n",
    "for persona in personas:\n",
    "    print(persona)"
   ]
  },
  {
   "cell_type": "markdown",
   "metadata": {},
   "source": [
    "### List Comprehensions\n",
    "\n",
    "Es una funcionalidad que nos permite crear listas en una misma linea de codigo\n",
    "\n",
    "### Ciclos y List Comprehensions\n",
    "Supangamos que nos dan:\n",
    "* Una lusta de entrada input_arr = [elem1,elem2,elem3...]\n",
    "* Una función fun\n",
    "\n",
    "Queremos producir el array output_arr = [fun(elem1),fun(eleme2),fun(eleme3)] es decir, con aplicar fun a cada elemento de la matriz y devolver los resultados.\n",
    "\n",
    "Aqui es cómo la mayoría de los programadores abordarían este problema;"
   ]
  },
  {
   "cell_type": "code",
   "execution_count": 53,
   "metadata": {},
   "outputs": [
    {
     "data": {
      "text/plain": [
       "['Maria', 'Ana', 'Sara']"
      ]
     },
     "execution_count": 53,
     "metadata": {},
     "output_type": "execute_result"
    }
   ],
   "source": [
    "input_arr = [\"maria\",\"ana\",\"sara\"]\n",
    "capitalize = lambda a_str : a_str[0].upper() + a_str[1:]\n",
    "\n",
    "output_arr = []\n",
    "for elem in input_arr:\n",
    "    output_arr.append(capitalize(elem))\n",
    "    \n",
    "output_arr"
   ]
  },
  {
   "cell_type": "markdown",
   "metadata": {},
   "source": [
    "Eso es paroximadamente 3 lineas. No está mal, pero podría ser mucho mejor. La solución idiomática de Python se llama **List (o for) Comprehension**\n",
    "\n",
    "```python\n",
    "    [funcion(x) for item in list]\n",
    "```"
   ]
  },
  {
   "cell_type": "code",
   "execution_count": 54,
   "metadata": {},
   "outputs": [
    {
     "data": {
      "text/plain": [
       "['Maria', 'Ana', 'Sara']"
      ]
     },
     "execution_count": 54,
     "metadata": {},
     "output_type": "execute_result"
    }
   ],
   "source": [
    "output_arr2 = [capitalize(elem) for elem in input_arr]\n",
    "output_arr2"
   ]
  },
  {
   "cell_type": "markdown",
   "metadata": {},
   "source": [
    "### Condicionales en List Comprehensions\n",
    "\n",
    "En este caso se desea realizar un condicional para definir el valor, se tienen dos estructuras, si la condición solo tiene IF, o si se tiene la estructura IF - ELSE\n",
    "\n",
    "```python\n",
    "    [result1 if conditional else result2 for item in list1]\n",
    "    [result for item list1 if conditional]\n",
    "```"
   ]
  },
  {
   "cell_type": "code",
   "execution_count": 55,
   "metadata": {},
   "outputs": [
    {
     "data": {
      "text/plain": [
       "[1, 4, 27, 16, 125, 36, 343, 64, 729, 100, 1331, 144, 2197, 196, 3375]"
      ]
     },
     "execution_count": 55,
     "metadata": {},
     "output_type": "execute_result"
    }
   ],
   "source": [
    "cuadrados_cubos = [n**2 if n%2==0 else n**3 for n in range(1,16)]\n",
    "cuadrados_cubos"
   ]
  },
  {
   "cell_type": "code",
   "execution_count": 56,
   "metadata": {},
   "outputs": [
    {
     "data": {
      "text/plain": [
       "[2, 4, 6, 8, 10, 12, 14, 16, 18]"
      ]
     },
     "execution_count": 56,
     "metadata": {},
     "output_type": "execute_result"
    }
   ],
   "source": [
    "pares = [n for n in range(1,20) if n%2==0]\n",
    "pares"
   ]
  },
  {
   "cell_type": "markdown",
   "metadata": {},
   "source": [
    "### List Comprehensions para Ciclos Anidados\n",
    "\n",
    "También puede usarse para realizar operaciones en ciclos como recorrer una lista de listas.\n",
    "\n",
    "```python\n",
    "[<the_expression>    for <element_a> in <iterable_a (optional if <condicion_a>)\n",
    "                     for <element_b> in <iterable_b (optional if <condicion_b>)\n",
    "                     for <element_c> in <iterable_c (optional if <condicion_c>)\n",
    "                     ....\n",
    "]\n",
    "```"
   ]
  },
  {
   "cell_type": "code",
   "execution_count": 57,
   "metadata": {},
   "outputs": [
    {
     "data": {
      "text/plain": [
       "[6, 8, 10, 12]"
      ]
     },
     "execution_count": 57,
     "metadata": {},
     "output_type": "execute_result"
    }
   ],
   "source": [
    "matrix = [\n",
    "    [1,2,3,4],\n",
    "    [5,6,7,8],\n",
    "    [9,10,11,12]\n",
    "]\n",
    "\n",
    "flatten = [n for row in matrix if sum(row)>11 for n in row if n%2==0]\n",
    "flatten"
   ]
  },
  {
   "cell_type": "markdown",
   "metadata": {},
   "source": [
    "### List Comprehensions Anidado"
   ]
  },
  {
   "cell_type": "code",
   "execution_count": 58,
   "metadata": {},
   "outputs": [
    {
     "data": {
      "text/plain": [
       "[[1, 5, 9], [2, 6, 10], [3, 7, 11], [4, 8, 12]]"
      ]
     },
     "execution_count": 58,
     "metadata": {},
     "output_type": "execute_result"
    }
   ],
   "source": [
    "transpose = [[row[n] for row in matrix]for n in range(4)]\n",
    "transpose"
   ]
  },
  {
   "cell_type": "markdown",
   "metadata": {},
   "source": [
    "#### Ejercicio 7\n",
    " Defina una función avg1 que tome una lista que conste del nombre de una persona (str) y luego solo números y calcula y devuelve el promedio de esos números.\n",
    " \n",
    " Por Ejemplo:\n",
    " \n",
    " ```python\n",
    "    avg1([\"Mateo\",5.0,2.0,2.0])\n",
    "```\n",
    "deve devolver 3, es el resulado de resultado de realizar la siguiente operación `((5+2+2)/3))`"
   ]
  },
  {
   "cell_type": "code",
   "execution_count": 59,
   "metadata": {},
   "outputs": [],
   "source": [
    "def avg1(lista):\n",
    "    resultado = sum(lista[1:])/(len(lista)-1)\n",
    "    return resultado"
   ]
  },
  {
   "cell_type": "code",
   "execution_count": 60,
   "metadata": {},
   "outputs": [
    {
     "data": {
      "text/plain": [
       "3.0"
      ]
     },
     "execution_count": 60,
     "metadata": {},
     "output_type": "execute_result"
    }
   ],
   "source": [
    "avg1([\"Mateo\",5,2,2])"
   ]
  },
  {
   "cell_type": "markdown",
   "metadata": {},
   "source": [
    "#### Ejercicio 8\n",
    "\n",
    "Use list-comprehension para aplicar la función avg1 definida anteriormente a cada registro en data_recs\n",
    "\n",
    "```python\n",
    "    data_recs = [\n",
    "        [\"Juan\", 5.0,2.0,2.0],\n",
    "        [\"Maria\",7.0,8.0,3.0],\n",
    "        [\"Mateo\",1.0,4.0,4.0]\n",
    "    ]\n",
    "```"
   ]
  },
  {
   "cell_type": "code",
   "execution_count": 61,
   "metadata": {},
   "outputs": [
    {
     "data": {
      "text/plain": [
       "[3.0, 6.0, 3.0]"
      ]
     },
     "execution_count": 61,
     "metadata": {},
     "output_type": "execute_result"
    }
   ],
   "source": [
    "data_recs = [\n",
    "        [\"Juan\", 5.0,2.0,2.0],\n",
    "        [\"Maria\",7.0,8.0,3.0],\n",
    "        [\"Mateo\",1.0,4.0,4.0]\n",
    "    ]\n",
    "[avg1(row) for row in data_recs]"
   ]
  },
  {
   "cell_type": "markdown",
   "metadata": {},
   "source": [
    "### Módulos y paquetes\n",
    "\n",
    "Los módulos son ficheros que contienen definiciones que se pueden importar en otros scripts para reutilizar funcionalidades. Se pueden organizar en paquetes y subpaquetes, adicional se importarian sólo cuando es necesario.\n",
    "\n",
    "Nosotros podemos crear nuestros propios módulos o paquetes, o utilizar ya algunos creados por otras personas y que estan disponibles para su uso.\n",
    "\n",
    "Para instalar un paquete en Python se realiza de la siguiente manera:\n",
    "\n",
    "    pip install pandas\n",
    "    \n",
    "si se desea desistalar:\n",
    "\n",
    "    pip unistall pandas\n",
    "    "
   ]
  },
  {
   "cell_type": "code",
   "execution_count": null,
   "metadata": {},
   "outputs": [],
   "source": [
    "!pip install pandas"
   ]
  },
  {
   "cell_type": "code",
   "execution_count": null,
   "metadata": {},
   "outputs": [],
   "source": [
    "!mkdir temp"
   ]
  },
  {
   "cell_type": "markdown",
   "metadata": {},
   "source": [
    "## Módulos estándar\n",
    "\n",
    "Estos son algunos módulos ensenciales de Python:\n",
    "\n",
    "#### Collections\n",
    "\n",
    "Añade funcionalidades especificas a las listas"
   ]
  },
  {
   "cell_type": "code",
   "execution_count": 62,
   "metadata": {},
   "outputs": [
    {
     "data": {
      "text/plain": [
       "Counter({1: 4, 2: 3, 3: 2, 4: 1})"
      ]
     },
     "execution_count": 62,
     "metadata": {},
     "output_type": "execute_result"
    }
   ],
   "source": [
    "from collections import Counter\n",
    "\n",
    "l = [1,2,3,4,1,2,3,1,2,1]\n",
    "Counter(l)# crea un dicionario con la cantidad de numero que exista"
   ]
  },
  {
   "cell_type": "code",
   "execution_count": 63,
   "metadata": {},
   "outputs": [
    {
     "data": {
      "text/plain": [
       "Counter({'gato': 1, 'perro': 3, 'canario': 2})"
      ]
     },
     "execution_count": 63,
     "metadata": {},
     "output_type": "execute_result"
    }
   ],
   "source": [
    "animales = \"gato perro canario perro canario perro\"\n",
    "c = Counter(animales.split())\n",
    "c"
   ]
  },
  {
   "cell_type": "markdown",
   "metadata": {},
   "source": [
    "#### Datetime\n",
    "\n",
    "Utilizado para manejar las fechas y las horas"
   ]
  },
  {
   "cell_type": "code",
   "execution_count": 64,
   "metadata": {},
   "outputs": [
    {
     "name": "stdout",
     "output_type": "stream",
     "text": [
      "2021-02-10 20:38:18.338420\n",
      "2021\n",
      "2\n",
      "10\n",
      "20\n",
      "38\n",
      "18\n",
      "338420\n",
      "20:38:18\n",
      "10:2:2021\n"
     ]
    }
   ],
   "source": [
    "from datetime import datetime\n",
    "\n",
    "dt = datetime.now()# Fecha y hora actual\n",
    "\n",
    "print(dt)# Fecha y hora actual\n",
    "print(dt.year)# año\n",
    "print(dt.month)#mes\n",
    "print(dt.day)# dia\n",
    "\n",
    "print(dt.hour)#hora\n",
    "print(dt.minute)#minuto\n",
    "print(dt.second)#segundo\n",
    "print(dt.microsecond)#Microsegundos\n",
    "\n",
    "print(\"{}:{}:{}\".format(dt.hour, dt.minute,dt.second))#formato hora\n",
    "print(\"{}:{}:{}\".format(dt.day, dt.month,dt.year))#formato fecha\n"
   ]
  },
  {
   "cell_type": "code",
   "execution_count": 65,
   "metadata": {},
   "outputs": [
    {
     "name": "stdout",
     "output_type": "stream",
     "text": [
      "Wednesday 10 de Feb del 21 - 20:38\n"
     ]
    }
   ],
   "source": [
    "from datetime import datetime,timedelta\n",
    "dt = datetime.now()\n",
    "print(dt.strftime(\"%A %d de %b del %y - %H:%M\"))"
   ]
  },
  {
   "cell_type": "code",
   "execution_count": 66,
   "metadata": {},
   "outputs": [
    {
     "name": "stdout",
     "output_type": "stream",
     "text": [
      "Thursday 25 de February del 2021 - 00:55\n",
      "Wednesday 27 de January del 2021 - 16:21\n"
     ]
    }
   ],
   "source": [
    "#Generamos 14 dias con 4 horas y 1000 segundos de tiempo\n",
    "t = timedelta(days=14,hours=4,seconds=1000)\n",
    "\n",
    "#Lo operamos con el datetime de la fecha y hora actual\n",
    "dentro_de_dos_semanas = dt + t\n",
    "print(dentro_de_dos_semanas.strftime(\"%A %d de %B del %Y - %H:%M\"))\n",
    "hace_dos_semanas = dt - t\n",
    "print(hace_dos_semanas.strftime(\"%A %d de %B del %Y - %H:%M\"))"
   ]
  },
  {
   "cell_type": "markdown",
   "metadata": {},
   "source": [
    "### math\n",
    "\n",
    "Incluye funciones matematicas"
   ]
  },
  {
   "cell_type": "code",
   "execution_count": 67,
   "metadata": {},
   "outputs": [
    {
     "name": "stdout",
     "output_type": "stream",
     "text": [
      "3\n",
      "4\n"
     ]
    }
   ],
   "source": [
    "import math\n",
    "print(math.floor(3.99))#Redondea a la baja(suelo)\n",
    "print(math.ceil(3.01))#Redondea a lo alto(techo)"
   ]
  },
  {
   "cell_type": "code",
   "execution_count": 68,
   "metadata": {},
   "outputs": [
    {
     "name": "stdout",
     "output_type": "stream",
     "text": [
      "3.141592653589793\n",
      "2.718281828459045\n"
     ]
    }
   ],
   "source": [
    "print(math.pi)#El pi\n",
    "print(math.e)#constatnte e"
   ]
  },
  {
   "cell_type": "markdown",
   "metadata": {},
   "source": [
    "### random\n",
    "Sirve para generar contenidos aleatorios, escoger aleatoriamente valores y este tipo de cosas que hacen que un programa tenga comportamientos al azar."
   ]
  },
  {
   "cell_type": "code",
   "execution_count": 69,
   "metadata": {},
   "outputs": [
    {
     "name": "stdout",
     "output_type": "stream",
     "text": [
      "0.7093787557920926\n",
      "5.1480440806582335\n",
      "2\n",
      "59\n",
      "66\n",
      "75\n"
     ]
    }
   ],
   "source": [
    "import random\n",
    "\n",
    "#flotante aleatorio >= 0 y < 1.0\n",
    "print(random.random())\n",
    "\n",
    "#Flotante aleatorio >= 1 y < 10.0\n",
    "print(random.uniform(1,10))\n",
    "\n",
    "#Entero aleatorio de 0 a 9, 10 excluido\n",
    "print(random.randrange(10))\n",
    "\n",
    "#Entero aleatorio de 0 a 100\n",
    "print(random.randrange(0,101))\n",
    "\n",
    "#Entero aleatorio de 0 a 100 cada 2 numeros, múltiples de 2\n",
    "print(random.randrange(0,101,2))\n",
    "\n",
    "#Entero aleatorio de 0 a 100 cada 5 numeros, múltiples de 5\n",
    "print(random.randrange(0,101,5))\n"
   ]
  },
  {
   "cell_type": "code",
   "execution_count": 70,
   "metadata": {},
   "outputs": [
    {
     "name": "stdout",
     "output_type": "stream",
     "text": [
      "Help on module random:\n",
      "\n",
      "NAME\n",
      "    random - Random variable generators.\n",
      "\n",
      "DESCRIPTION\n",
      "        integers\n",
      "        --------\n",
      "               uniform within range\n",
      "    \n",
      "        sequences\n",
      "        ---------\n",
      "               pick random element\n",
      "               pick random sample\n",
      "               pick weighted random sample\n",
      "               generate random permutation\n",
      "    \n",
      "        distributions on the real line:\n",
      "        ------------------------------\n",
      "               uniform\n",
      "               triangular\n",
      "               normal (Gaussian)\n",
      "               lognormal\n",
      "               negative exponential\n",
      "               gamma\n",
      "               beta\n",
      "               pareto\n",
      "               Weibull\n",
      "    \n",
      "        distributions on the circle (angles 0 to 2pi)\n",
      "        ---------------------------------------------\n",
      "               circular uniform\n",
      "               von Mises\n",
      "    \n",
      "    General notes on the underlying Mersenne Twister core generator:\n",
      "    \n",
      "    * The period is 2**19937-1.\n",
      "    * It is one of the most extensively tested generators in existence.\n",
      "    * The random() method is implemented in C, executes in a single Python step,\n",
      "      and is, therefore, threadsafe.\n",
      "\n",
      "CLASSES\n",
      "    _random.Random(builtins.object)\n",
      "        Random\n",
      "            SystemRandom\n",
      "    \n",
      "    class Random(_random.Random)\n",
      "     |  Random(x=None)\n",
      "     |  \n",
      "     |  Random number generator base class used by bound module functions.\n",
      "     |  \n",
      "     |  Used to instantiate instances of Random to get generators that don't\n",
      "     |  share state.\n",
      "     |  \n",
      "     |  Class Random can also be subclassed if you want to use a different basic\n",
      "     |  generator of your own devising: in that case, override the following\n",
      "     |  methods:  random(), seed(), getstate(), and setstate().\n",
      "     |  Optionally, implement a getrandbits() method so that randrange()\n",
      "     |  can cover arbitrarily large ranges.\n",
      "     |  \n",
      "     |  Method resolution order:\n",
      "     |      Random\n",
      "     |      _random.Random\n",
      "     |      builtins.object\n",
      "     |  \n",
      "     |  Methods defined here:\n",
      "     |  \n",
      "     |  __getstate__(self)\n",
      "     |      # Issue 17489: Since __reduce__ was defined to fix #759889 this is no\n",
      "     |      # longer called; we leave it here because it has been here since random was\n",
      "     |      # rewritten back in 2001 and why risk breaking something.\n",
      "     |  \n",
      "     |  __init__(self, x=None)\n",
      "     |      Initialize an instance.\n",
      "     |      \n",
      "     |      Optional argument x controls seeding, as for Random.seed().\n",
      "     |  \n",
      "     |  __reduce__(self)\n",
      "     |      Helper for pickle.\n",
      "     |  \n",
      "     |  __setstate__(self, state)\n",
      "     |  \n",
      "     |  betavariate(self, alpha, beta)\n",
      "     |      Beta distribution.\n",
      "     |      \n",
      "     |      Conditions on the parameters are alpha > 0 and beta > 0.\n",
      "     |      Returned values range between 0 and 1.\n",
      "     |  \n",
      "     |  choice(self, seq)\n",
      "     |      Choose a random element from a non-empty sequence.\n",
      "     |  \n",
      "     |  choices(self, population, weights=None, *, cum_weights=None, k=1)\n",
      "     |      Return a k sized list of population elements chosen with replacement.\n",
      "     |      \n",
      "     |      If the relative weights or cumulative weights are not specified,\n",
      "     |      the selections are made with equal probability.\n",
      "     |  \n",
      "     |  expovariate(self, lambd)\n",
      "     |      Exponential distribution.\n",
      "     |      \n",
      "     |      lambd is 1.0 divided by the desired mean.  It should be\n",
      "     |      nonzero.  (The parameter would be called \"lambda\", but that is\n",
      "     |      a reserved word in Python.)  Returned values range from 0 to\n",
      "     |      positive infinity if lambd is positive, and from negative\n",
      "     |      infinity to 0 if lambd is negative.\n",
      "     |  \n",
      "     |  gammavariate(self, alpha, beta)\n",
      "     |      Gamma distribution.  Not the gamma function!\n",
      "     |      \n",
      "     |      Conditions on the parameters are alpha > 0 and beta > 0.\n",
      "     |      \n",
      "     |      The probability distribution function is:\n",
      "     |      \n",
      "     |                  x ** (alpha - 1) * math.exp(-x / beta)\n",
      "     |        pdf(x) =  --------------------------------------\n",
      "     |                    math.gamma(alpha) * beta ** alpha\n",
      "     |  \n",
      "     |  gauss(self, mu, sigma)\n",
      "     |      Gaussian distribution.\n",
      "     |      \n",
      "     |      mu is the mean, and sigma is the standard deviation.  This is\n",
      "     |      slightly faster than the normalvariate() function.\n",
      "     |      \n",
      "     |      Not thread-safe without a lock around calls.\n",
      "     |  \n",
      "     |  getstate(self)\n",
      "     |      Return internal state; can be passed to setstate() later.\n",
      "     |  \n",
      "     |  lognormvariate(self, mu, sigma)\n",
      "     |      Log normal distribution.\n",
      "     |      \n",
      "     |      If you take the natural logarithm of this distribution, you'll get a\n",
      "     |      normal distribution with mean mu and standard deviation sigma.\n",
      "     |      mu can have any value, and sigma must be greater than zero.\n",
      "     |  \n",
      "     |  normalvariate(self, mu, sigma)\n",
      "     |      Normal distribution.\n",
      "     |      \n",
      "     |      mu is the mean, and sigma is the standard deviation.\n",
      "     |  \n",
      "     |  paretovariate(self, alpha)\n",
      "     |      Pareto distribution.  alpha is the shape parameter.\n",
      "     |  \n",
      "     |  randint(self, a, b)\n",
      "     |      Return random integer in range [a, b], including both end points.\n",
      "     |  \n",
      "     |  randrange(self, start, stop=None, step=1, _int=<class 'int'>)\n",
      "     |      Choose a random item from range(start, stop[, step]).\n",
      "     |      \n",
      "     |      This fixes the problem with randint() which includes the\n",
      "     |      endpoint; in Python this is usually not what you want.\n",
      "     |  \n",
      "     |  sample(self, population, k)\n",
      "     |      Chooses k unique random elements from a population sequence or set.\n",
      "     |      \n",
      "     |      Returns a new list containing elements from the population while\n",
      "     |      leaving the original population unchanged.  The resulting list is\n",
      "     |      in selection order so that all sub-slices will also be valid random\n",
      "     |      samples.  This allows raffle winners (the sample) to be partitioned\n",
      "     |      into grand prize and second place winners (the subslices).\n",
      "     |      \n",
      "     |      Members of the population need not be hashable or unique.  If the\n",
      "     |      population contains repeats, then each occurrence is a possible\n",
      "     |      selection in the sample.\n",
      "     |      \n",
      "     |      To choose a sample in a range of integers, use range as an argument.\n",
      "     |      This is especially fast and space efficient for sampling from a\n",
      "     |      large population:   sample(range(10000000), 60)\n",
      "     |  \n",
      "     |  seed(self, a=None, version=2)\n",
      "     |      Initialize internal state from hashable object.\n",
      "     |      \n",
      "     |      None or no argument seeds from current time or from an operating\n",
      "     |      system specific randomness source if available.\n",
      "     |      \n",
      "     |      If *a* is an int, all bits are used.\n",
      "     |      \n",
      "     |      For version 2 (the default), all of the bits are used if *a* is a str,\n",
      "     |      bytes, or bytearray.  For version 1 (provided for reproducing random\n",
      "     |      sequences from older versions of Python), the algorithm for str and\n",
      "     |      bytes generates a narrower range of seeds.\n",
      "     |  \n",
      "     |  setstate(self, state)\n",
      "     |      Restore internal state from object returned by getstate().\n",
      "     |  \n",
      "     |  shuffle(self, x, random=None)\n",
      "     |      Shuffle list x in place, and return None.\n",
      "     |      \n",
      "     |      Optional argument random is a 0-argument function returning a\n",
      "     |      random float in [0.0, 1.0); if it is the default None, the\n",
      "     |      standard random.random will be used.\n",
      "     |  \n",
      "     |  triangular(self, low=0.0, high=1.0, mode=None)\n",
      "     |      Triangular distribution.\n",
      "     |      \n",
      "     |      Continuous distribution bounded by given lower and upper limits,\n",
      "     |      and having a given mode value in-between.\n",
      "     |      \n",
      "     |      http://en.wikipedia.org/wiki/Triangular_distribution\n",
      "     |  \n",
      "     |  uniform(self, a, b)\n",
      "     |      Get a random number in the range [a, b) or [a, b] depending on rounding.\n",
      "     |  \n",
      "     |  vonmisesvariate(self, mu, kappa)\n",
      "     |      Circular data distribution.\n",
      "     |      \n",
      "     |      mu is the mean angle, expressed in radians between 0 and 2*pi, and\n",
      "     |      kappa is the concentration parameter, which must be greater than or\n",
      "     |      equal to zero.  If kappa is equal to zero, this distribution reduces\n",
      "     |      to a uniform random angle over the range 0 to 2*pi.\n",
      "     |  \n",
      "     |  weibullvariate(self, alpha, beta)\n",
      "     |      Weibull distribution.\n",
      "     |      \n",
      "     |      alpha is the scale parameter and beta is the shape parameter.\n",
      "     |  \n",
      "     |  ----------------------------------------------------------------------\n",
      "     |  Data descriptors defined here:\n",
      "     |  \n",
      "     |  __dict__\n",
      "     |      dictionary for instance variables (if defined)\n",
      "     |  \n",
      "     |  __weakref__\n",
      "     |      list of weak references to the object (if defined)\n",
      "     |  \n",
      "     |  ----------------------------------------------------------------------\n",
      "     |  Data and other attributes defined here:\n",
      "     |  \n",
      "     |  VERSION = 3\n",
      "     |  \n",
      "     |  ----------------------------------------------------------------------\n",
      "     |  Methods inherited from _random.Random:\n",
      "     |  \n",
      "     |  __getattribute__(self, name, /)\n",
      "     |      Return getattr(self, name).\n",
      "     |  \n",
      "     |  getrandbits(...)\n",
      "     |      getrandbits(k) -> x.  Generates an int with k random bits.\n",
      "     |  \n",
      "     |  random(...)\n",
      "     |      random() -> x in the interval [0, 1).\n",
      "     |  \n",
      "     |  ----------------------------------------------------------------------\n",
      "     |  Static methods inherited from _random.Random:\n",
      "     |  \n",
      "     |  __new__(*args, **kwargs) from builtins.type\n",
      "     |      Create and return a new object.  See help(type) for accurate signature.\n",
      "    \n",
      "    class SystemRandom(Random)\n",
      "     |  SystemRandom(x=None)\n",
      "     |  \n",
      "     |  Alternate random number generator using sources provided\n",
      "     |  by the operating system (such as /dev/urandom on Unix or\n",
      "     |  CryptGenRandom on Windows).\n",
      "     |  \n",
      "     |   Not available on all systems (see os.urandom() for details).\n",
      "     |  \n",
      "     |  Method resolution order:\n",
      "     |      SystemRandom\n",
      "     |      Random\n",
      "     |      _random.Random\n",
      "     |      builtins.object\n",
      "     |  \n",
      "     |  Methods defined here:\n",
      "     |  \n",
      "     |  getrandbits(self, k)\n",
      "     |      getrandbits(k) -> x.  Generates an int with k random bits.\n",
      "     |  \n",
      "     |  getstate = _notimplemented(self, *args, **kwds)\n",
      "     |  \n",
      "     |  random(self)\n",
      "     |      Get the next random number in the range [0.0, 1.0).\n",
      "     |  \n",
      "     |  seed(self, *args, **kwds)\n",
      "     |      Stub method.  Not used for a system random number generator.\n",
      "     |  \n",
      "     |  setstate = _notimplemented(self, *args, **kwds)\n",
      "     |  \n",
      "     |  ----------------------------------------------------------------------\n",
      "     |  Methods inherited from Random:\n",
      "     |  \n",
      "     |  __getstate__(self)\n",
      "     |      # Issue 17489: Since __reduce__ was defined to fix #759889 this is no\n",
      "     |      # longer called; we leave it here because it has been here since random was\n",
      "     |      # rewritten back in 2001 and why risk breaking something.\n",
      "     |  \n",
      "     |  __init__(self, x=None)\n",
      "     |      Initialize an instance.\n",
      "     |      \n",
      "     |      Optional argument x controls seeding, as for Random.seed().\n",
      "     |  \n",
      "     |  __reduce__(self)\n",
      "     |      Helper for pickle.\n",
      "     |  \n",
      "     |  __setstate__(self, state)\n",
      "     |  \n",
      "     |  betavariate(self, alpha, beta)\n",
      "     |      Beta distribution.\n",
      "     |      \n",
      "     |      Conditions on the parameters are alpha > 0 and beta > 0.\n",
      "     |      Returned values range between 0 and 1.\n",
      "     |  \n",
      "     |  choice(self, seq)\n",
      "     |      Choose a random element from a non-empty sequence.\n",
      "     |  \n",
      "     |  choices(self, population, weights=None, *, cum_weights=None, k=1)\n",
      "     |      Return a k sized list of population elements chosen with replacement.\n",
      "     |      \n",
      "     |      If the relative weights or cumulative weights are not specified,\n",
      "     |      the selections are made with equal probability.\n",
      "     |  \n",
      "     |  expovariate(self, lambd)\n",
      "     |      Exponential distribution.\n",
      "     |      \n",
      "     |      lambd is 1.0 divided by the desired mean.  It should be\n",
      "     |      nonzero.  (The parameter would be called \"lambda\", but that is\n",
      "     |      a reserved word in Python.)  Returned values range from 0 to\n",
      "     |      positive infinity if lambd is positive, and from negative\n",
      "     |      infinity to 0 if lambd is negative.\n",
      "     |  \n",
      "     |  gammavariate(self, alpha, beta)\n",
      "     |      Gamma distribution.  Not the gamma function!\n",
      "     |      \n",
      "     |      Conditions on the parameters are alpha > 0 and beta > 0.\n",
      "     |      \n",
      "     |      The probability distribution function is:\n",
      "     |      \n",
      "     |                  x ** (alpha - 1) * math.exp(-x / beta)\n",
      "     |        pdf(x) =  --------------------------------------\n",
      "     |                    math.gamma(alpha) * beta ** alpha\n",
      "     |  \n",
      "     |  gauss(self, mu, sigma)\n",
      "     |      Gaussian distribution.\n",
      "     |      \n",
      "     |      mu is the mean, and sigma is the standard deviation.  This is\n",
      "     |      slightly faster than the normalvariate() function.\n",
      "     |      \n",
      "     |      Not thread-safe without a lock around calls.\n",
      "     |  \n",
      "     |  lognormvariate(self, mu, sigma)\n",
      "     |      Log normal distribution.\n",
      "     |      \n",
      "     |      If you take the natural logarithm of this distribution, you'll get a\n",
      "     |      normal distribution with mean mu and standard deviation sigma.\n",
      "     |      mu can have any value, and sigma must be greater than zero.\n",
      "     |  \n",
      "     |  normalvariate(self, mu, sigma)\n",
      "     |      Normal distribution.\n",
      "     |      \n",
      "     |      mu is the mean, and sigma is the standard deviation.\n",
      "     |  \n",
      "     |  paretovariate(self, alpha)\n",
      "     |      Pareto distribution.  alpha is the shape parameter.\n",
      "     |  \n",
      "     |  randint(self, a, b)\n",
      "     |      Return random integer in range [a, b], including both end points.\n",
      "     |  \n",
      "     |  randrange(self, start, stop=None, step=1, _int=<class 'int'>)\n",
      "     |      Choose a random item from range(start, stop[, step]).\n",
      "     |      \n",
      "     |      This fixes the problem with randint() which includes the\n",
      "     |      endpoint; in Python this is usually not what you want.\n",
      "     |  \n",
      "     |  sample(self, population, k)\n",
      "     |      Chooses k unique random elements from a population sequence or set.\n",
      "     |      \n",
      "     |      Returns a new list containing elements from the population while\n",
      "     |      leaving the original population unchanged.  The resulting list is\n",
      "     |      in selection order so that all sub-slices will also be valid random\n",
      "     |      samples.  This allows raffle winners (the sample) to be partitioned\n",
      "     |      into grand prize and second place winners (the subslices).\n",
      "     |      \n",
      "     |      Members of the population need not be hashable or unique.  If the\n",
      "     |      population contains repeats, then each occurrence is a possible\n",
      "     |      selection in the sample.\n",
      "     |      \n",
      "     |      To choose a sample in a range of integers, use range as an argument.\n",
      "     |      This is especially fast and space efficient for sampling from a\n",
      "     |      large population:   sample(range(10000000), 60)\n",
      "     |  \n",
      "     |  shuffle(self, x, random=None)\n",
      "     |      Shuffle list x in place, and return None.\n",
      "     |      \n",
      "     |      Optional argument random is a 0-argument function returning a\n",
      "     |      random float in [0.0, 1.0); if it is the default None, the\n",
      "     |      standard random.random will be used.\n",
      "     |  \n",
      "     |  triangular(self, low=0.0, high=1.0, mode=None)\n",
      "     |      Triangular distribution.\n",
      "     |      \n",
      "     |      Continuous distribution bounded by given lower and upper limits,\n",
      "     |      and having a given mode value in-between.\n",
      "     |      \n",
      "     |      http://en.wikipedia.org/wiki/Triangular_distribution\n",
      "     |  \n",
      "     |  uniform(self, a, b)\n",
      "     |      Get a random number in the range [a, b) or [a, b] depending on rounding.\n",
      "     |  \n",
      "     |  vonmisesvariate(self, mu, kappa)\n",
      "     |      Circular data distribution.\n",
      "     |      \n",
      "     |      mu is the mean angle, expressed in radians between 0 and 2*pi, and\n",
      "     |      kappa is the concentration parameter, which must be greater than or\n",
      "     |      equal to zero.  If kappa is equal to zero, this distribution reduces\n",
      "     |      to a uniform random angle over the range 0 to 2*pi.\n",
      "     |  \n",
      "     |  weibullvariate(self, alpha, beta)\n",
      "     |      Weibull distribution.\n",
      "     |      \n",
      "     |      alpha is the scale parameter and beta is the shape parameter.\n",
      "     |  \n",
      "     |  ----------------------------------------------------------------------\n",
      "     |  Data descriptors inherited from Random:\n",
      "     |  \n",
      "     |  __dict__\n",
      "     |      dictionary for instance variables (if defined)\n",
      "     |  \n",
      "     |  __weakref__\n",
      "     |      list of weak references to the object (if defined)\n",
      "     |  \n",
      "     |  ----------------------------------------------------------------------\n",
      "     |  Data and other attributes inherited from Random:\n",
      "     |  \n",
      "     |  VERSION = 3\n",
      "     |  \n",
      "     |  ----------------------------------------------------------------------\n",
      "     |  Methods inherited from _random.Random:\n",
      "     |  \n",
      "     |  __getattribute__(self, name, /)\n",
      "     |      Return getattr(self, name).\n",
      "     |  \n",
      "     |  ----------------------------------------------------------------------\n",
      "     |  Static methods inherited from _random.Random:\n",
      "     |  \n",
      "     |  __new__(*args, **kwargs) from builtins.type\n",
      "     |      Create and return a new object.  See help(type) for accurate signature.\n",
      "\n",
      "FUNCTIONS\n",
      "    betavariate(alpha, beta) method of Random instance\n",
      "        Beta distribution.\n",
      "        \n",
      "        Conditions on the parameters are alpha > 0 and beta > 0.\n",
      "        Returned values range between 0 and 1.\n",
      "    \n",
      "    choice(seq) method of Random instance\n",
      "        Choose a random element from a non-empty sequence.\n",
      "    \n",
      "    choices(population, weights=None, *, cum_weights=None, k=1) method of Random instance\n",
      "        Return a k sized list of population elements chosen with replacement.\n",
      "        \n",
      "        If the relative weights or cumulative weights are not specified,\n",
      "        the selections are made with equal probability.\n",
      "    \n",
      "    expovariate(lambd) method of Random instance\n",
      "        Exponential distribution.\n",
      "        \n",
      "        lambd is 1.0 divided by the desired mean.  It should be\n",
      "        nonzero.  (The parameter would be called \"lambda\", but that is\n",
      "        a reserved word in Python.)  Returned values range from 0 to\n",
      "        positive infinity if lambd is positive, and from negative\n",
      "        infinity to 0 if lambd is negative.\n",
      "    \n",
      "    gammavariate(alpha, beta) method of Random instance\n",
      "        Gamma distribution.  Not the gamma function!\n",
      "        \n",
      "        Conditions on the parameters are alpha > 0 and beta > 0.\n",
      "        \n",
      "        The probability distribution function is:\n",
      "        \n",
      "                    x ** (alpha - 1) * math.exp(-x / beta)\n",
      "          pdf(x) =  --------------------------------------\n",
      "                      math.gamma(alpha) * beta ** alpha\n",
      "    \n",
      "    gauss(mu, sigma) method of Random instance\n",
      "        Gaussian distribution.\n",
      "        \n",
      "        mu is the mean, and sigma is the standard deviation.  This is\n",
      "        slightly faster than the normalvariate() function.\n",
      "        \n",
      "        Not thread-safe without a lock around calls.\n",
      "    \n",
      "    getrandbits(...) method of Random instance\n",
      "        getrandbits(k) -> x.  Generates an int with k random bits.\n",
      "    \n",
      "    getstate() method of Random instance\n",
      "        Return internal state; can be passed to setstate() later.\n",
      "    \n",
      "    lognormvariate(mu, sigma) method of Random instance\n",
      "        Log normal distribution.\n",
      "        \n",
      "        If you take the natural logarithm of this distribution, you'll get a\n",
      "        normal distribution with mean mu and standard deviation sigma.\n",
      "        mu can have any value, and sigma must be greater than zero.\n",
      "    \n",
      "    normalvariate(mu, sigma) method of Random instance\n",
      "        Normal distribution.\n",
      "        \n",
      "        mu is the mean, and sigma is the standard deviation.\n",
      "    \n",
      "    paretovariate(alpha) method of Random instance\n",
      "        Pareto distribution.  alpha is the shape parameter.\n",
      "    \n",
      "    randint(a, b) method of Random instance\n",
      "        Return random integer in range [a, b], including both end points.\n",
      "    \n",
      "    random(...) method of Random instance\n",
      "        random() -> x in the interval [0, 1).\n",
      "    \n",
      "    randrange(start, stop=None, step=1, _int=<class 'int'>) method of Random instance\n",
      "        Choose a random item from range(start, stop[, step]).\n",
      "        \n",
      "        This fixes the problem with randint() which includes the\n",
      "        endpoint; in Python this is usually not what you want.\n",
      "    \n",
      "    sample(population, k) method of Random instance\n",
      "        Chooses k unique random elements from a population sequence or set.\n",
      "        \n",
      "        Returns a new list containing elements from the population while\n",
      "        leaving the original population unchanged.  The resulting list is\n",
      "        in selection order so that all sub-slices will also be valid random\n",
      "        samples.  This allows raffle winners (the sample) to be partitioned\n",
      "        into grand prize and second place winners (the subslices).\n",
      "        \n",
      "        Members of the population need not be hashable or unique.  If the\n",
      "        population contains repeats, then each occurrence is a possible\n",
      "        selection in the sample.\n",
      "        \n",
      "        To choose a sample in a range of integers, use range as an argument.\n",
      "        This is especially fast and space efficient for sampling from a\n",
      "        large population:   sample(range(10000000), 60)\n",
      "    \n",
      "    seed(a=None, version=2) method of Random instance\n",
      "        Initialize internal state from hashable object.\n",
      "        \n",
      "        None or no argument seeds from current time or from an operating\n",
      "        system specific randomness source if available.\n",
      "        \n",
      "        If *a* is an int, all bits are used.\n",
      "        \n",
      "        For version 2 (the default), all of the bits are used if *a* is a str,\n",
      "        bytes, or bytearray.  For version 1 (provided for reproducing random\n",
      "        sequences from older versions of Python), the algorithm for str and\n",
      "        bytes generates a narrower range of seeds.\n",
      "    \n",
      "    setstate(state) method of Random instance\n",
      "        Restore internal state from object returned by getstate().\n",
      "    \n",
      "    shuffle(x, random=None) method of Random instance\n",
      "        Shuffle list x in place, and return None.\n",
      "        \n",
      "        Optional argument random is a 0-argument function returning a\n",
      "        random float in [0.0, 1.0); if it is the default None, the\n",
      "        standard random.random will be used.\n",
      "    \n",
      "    triangular(low=0.0, high=1.0, mode=None) method of Random instance\n",
      "        Triangular distribution.\n",
      "        \n",
      "        Continuous distribution bounded by given lower and upper limits,\n",
      "        and having a given mode value in-between.\n",
      "        \n",
      "        http://en.wikipedia.org/wiki/Triangular_distribution\n",
      "    \n",
      "    uniform(a, b) method of Random instance\n",
      "        Get a random number in the range [a, b) or [a, b] depending on rounding.\n",
      "    \n",
      "    vonmisesvariate(mu, kappa) method of Random instance\n",
      "        Circular data distribution.\n",
      "        \n",
      "        mu is the mean angle, expressed in radians between 0 and 2*pi, and\n",
      "        kappa is the concentration parameter, which must be greater than or\n",
      "        equal to zero.  If kappa is equal to zero, this distribution reduces\n",
      "        to a uniform random angle over the range 0 to 2*pi.\n",
      "    \n",
      "    weibullvariate(alpha, beta) method of Random instance\n",
      "        Weibull distribution.\n",
      "        \n",
      "        alpha is the scale parameter and beta is the shape parameter.\n",
      "\n",
      "DATA\n",
      "    __all__ = ['Random', 'seed', 'random', 'uniform', 'randint', 'choice',...\n",
      "\n",
      "FILE\n",
      "    c:\\programdata\\anaconda3\\lib\\random.py\n",
      "\n",
      "\n"
     ]
    }
   ],
   "source": [
    "help(random)"
   ]
  },
  {
   "cell_type": "code",
   "execution_count": 71,
   "metadata": {},
   "outputs": [
    {
     "name": "stdout",
     "output_type": "stream",
     "text": [
      "n\n",
      "1\n",
      "[1, 4]\n"
     ]
    }
   ],
   "source": [
    "#letra aleatoria\n",
    "print(random.choice(\"Hola Mundo\"))\n",
    "\n",
    "#Elemento aleatorio\n",
    "print(random.choice([1,2,3,4,5]))\n",
    "\n",
    "#Dos elementos aleatorios\n",
    "print(random.sample([1,2,3,4,5],2))"
   ]
  },
  {
   "cell_type": "markdown",
   "metadata": {},
   "source": [
    "### re\n",
    "\n",
    "Es el módulo de las expresiones regulares (regular Expressions). Utilizando una sintaxis especial, sirven para hacer comprobaciones y búsquedas. Son especialmente  útiles trabajando con cadenas de caracteres, pero incluye muchos métodos alternativos"
   ]
  },
  {
   "cell_type": "code",
   "execution_count": 72,
   "metadata": {},
   "outputs": [
    {
     "name": "stdout",
     "output_type": "stream",
     "text": [
      "Juan6 perez5 \n",
      "Juan   perez \n"
     ]
    }
   ],
   "source": [
    "import re\n",
    "patron1 = '[^A-Za-z0-9]+'# ^ indica que me deja todo lo que se parezca, y sin el me quita todo lo que se parezca\n",
    "patron2 = \"[^A-Za-z ]+\"\n",
    "cadena = \"Juan6 $perez5%\"\n",
    "print(re.sub(patron1, \" \",cadena))\n",
    "print(re.sub(patron2, \" \",cadena))"
   ]
  },
  {
   "cell_type": "markdown",
   "metadata": {},
   "source": [
    "#### os\n",
    "\n",
    "Funcionalidades dependientes del sistema operativo"
   ]
  },
  {
   "cell_type": "code",
   "execution_count": 73,
   "metadata": {},
   "outputs": [
    {
     "name": "stdout",
     "output_type": "stream",
     "text": [
      "C:\\Users\\VEW0213\\Documents\\Billy Walker\\DataScience\\DS 2021\\PREWORK\n",
      "True\n"
     ]
    }
   ],
   "source": [
    "import os\n",
    "#Conocer el directorio actual\n",
    "print(os.getcwd())\n",
    "#Saber si el directorio existe\n",
    "print(os.path.exists(\".ipynb_checkpoints\"))"
   ]
  },
  {
   "cell_type": "markdown",
   "metadata": {},
   "source": [
    "#### sys\n",
    "\n",
    "Nos permite conseguir información del entorno del sistema"
   ]
  },
  {
   "cell_type": "code",
   "execution_count": 74,
   "metadata": {},
   "outputs": [
    {
     "name": "stdout",
     "output_type": "stream",
     "text": [
      "3.7.4 (default, Aug  9 2019, 18:34:13) [MSC v.1915 64 bit (AMD64)]\n",
      "win32\n"
     ]
    }
   ],
   "source": [
    "import sys\n",
    "#Retorna el numero de versión de python\n",
    "print(sys.version)\n",
    "\n",
    "#Retorna la plataforma sobre la cual se está ejecutando el interprete\n",
    "print(sys.platform)"
   ]
  },
  {
   "cell_type": "markdown",
   "metadata": {},
   "source": [
    "#### CSV\n",
    "\n",
    "El módulo CSV tiene varias funciones y clases disponibles para leer y escribir CSVs"
   ]
  },
  {
   "cell_type": "markdown",
   "metadata": {},
   "source": [
    "#### Integrando Google Drive con Colab"
   ]
  },
  {
   "cell_type": "code",
   "execution_count": null,
   "metadata": {},
   "outputs": [],
   "source": [
    "#solo si se ejecuta desde Google drive\n",
    "from google.colab import drive\n",
    "drive.mount(\"/content/gdrive\")"
   ]
  },
  {
   "cell_type": "markdown",
   "metadata": {},
   "source": [
    "### Leyendo un archivo CSV\n",
    "\n",
    "El archivo que se va cargar fue tomado de los datos abiertos de Accidentes de tránsito registrados por la Secretaria de Movilidad de la Alcaldia de Medellin, desde el año 2014 al año en curso."
   ]
  },
  {
   "cell_type": "code",
   "execution_count": 105,
   "metadata": {},
   "outputs": [
    {
     "data": {
      "text/plain": [
       "<_csv.reader at 0x24f9360a7b8>"
      ]
     },
     "execution_count": 105,
     "metadata": {},
     "output_type": "execute_result"
    }
   ],
   "source": [
    "from csv import reader\n",
    "opened_file = open(\"prueba.csv\",encoding=\"utf8\")\n",
    "read_file=reader(opened_file,delimiter=\";\")\n",
    "read_file"
   ]
  },
  {
   "cell_type": "code",
   "execution_count": 97,
   "metadata": {},
   "outputs": [
    {
     "data": {
      "text/plain": [
       "[['\\ufeffNME_CONVOCATORIA,ANO_CONVO,COD_GRUPO_GR,NME_GRUPO_GR,FCREACION_GR,NME_MUNICIPIO_GR,NME_DEPARTAMENTO_GR,NME_PAIS_GR,NME_REGION_GR,COD_DANE_GR,ID_AREA_CON_GR,NME_AREA_GR,NME_GRAN_AREA_GR,NME_CLASIFICACION_GR,ORDEN_CLAS_GR,EDAD_ANOS_GR,INST_AVAL'],\n",
       " ['Convocatoria 781 de 2017,01/01/2017,COL0006367,PROMETEO,01/01/2006,Villavicencio,Meta,Colombia,Llano,50001,5A,Psicología,Ciencias sociales,C,2,\"1,100\",Universidad Cooperativa De Colombia']]"
      ]
     },
     "execution_count": 97,
     "metadata": {},
     "output_type": "execute_result"
    }
   ],
   "source": [
    "#Visualizando información\n",
    "apps_data = list(read_file)\n",
    "apps_data[:2]"
   ]
  }
 ],
 "metadata": {
  "kernelspec": {
   "display_name": "Python 3",
   "language": "python",
   "name": "python3"
  },
  "language_info": {
   "codemirror_mode": {
    "name": "ipython",
    "version": 3
   },
   "file_extension": ".py",
   "mimetype": "text/x-python",
   "name": "python",
   "nbconvert_exporter": "python",
   "pygments_lexer": "ipython3",
   "version": "3.7.4"
  }
 },
 "nbformat": 4,
 "nbformat_minor": 4
}
