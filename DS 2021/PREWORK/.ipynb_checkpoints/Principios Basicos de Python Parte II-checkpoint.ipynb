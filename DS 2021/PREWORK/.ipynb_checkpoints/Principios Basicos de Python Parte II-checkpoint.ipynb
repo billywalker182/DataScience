{
 "cells": [
  {
   "cell_type": "markdown",
   "metadata": {},
   "source": [
    "# FUNDAMENTOS DE PYTHON PARTE II\n",
    "\n",
    "## Estructuras de Control\n",
    "\n",
    "### Setencia IF\n",
    "\n",
    "La sentencia `if` permite que tu programa tome diferentes caminos en el tiempo de ejecución, dependiendo de la condición. Ellos generalmente vienen en bloques `if...elif...else`. El programa chequea cada sequencia de condiciones escritas y una vez una de ellas es verdadera, ejecuta el bloque de codigo con esa condición:\n",
    "\n",
    "```python\n",
    "if condicion1:\n",
    "    block1\n",
    "elif condicion2:\n",
    "    block2\n",
    "else:\n",
    "    block3\n",
    "```\n",
    "\n",
    "Asi, si la `condición1` es verdadera ejecuta el `block1`. Si este fue falso pero la `condicion2` es verdadera ejecuta `block2`. Else, si ambas de las primeras condiciones son falsa, entonces ejecuta `block3`.\n",
    "\n",
    "#### Ejercicio1\n",
    "Cual es la salida al ejecutar el siguiente codigo de Python? Por que?\n",
    "\n",
    "```python\n",
    "area = 10.0\n",
    "if area < 9:\n",
    "    print(\"Pequeña\")\n",
    "elif area < 12:\n",
    "    print(\"Mediana\")\n",
    "else:\n",
    "    print(\"Grande\")\n",
    "```\n",
    "\n",
    "a. Pequeña\n",
    "\n",
    "B. Mediana\n",
    "\n",
    "c. Grande\n",
    "\n",
    "d. Error de sintaxis"
   ]
  },
  {
   "cell_type": "code",
   "execution_count": 1,
   "metadata": {},
   "outputs": [
    {
     "name": "stdout",
     "output_type": "stream",
     "text": [
      "Mediana\n"
     ]
    }
   ],
   "source": [
    "area = 10.0\n",
    "if area < 9:\n",
    "    print(\"Pequeña\")\n",
    "elif area < 12:\n",
    "    print(\"Mediana\")\n",
    "else:\n",
    "    print(\"Grande\")"
   ]
  },
  {
   "cell_type": "code",
   "execution_count": 2,
   "metadata": {},
   "outputs": [
    {
     "name": "stdout",
     "output_type": "stream",
     "text": [
      "Mirando alrededor del dormitorio\n",
      "Espacio Mediano\n"
     ]
    }
   ],
   "source": [
    "# Definir variables\n",
    "espacio = \"dormitorio\"\n",
    "tamaño = 180.0\n",
    "\n",
    "#if-elif-else para espacio\n",
    "if espacio == \"dormitorio\":\n",
    "    print(\"Mirando alrededor del dormitorio\")\n",
    "elif espacio == \"cocina\":\n",
    "    print(\"Mirando alrededor de la cocina\")\n",
    "else:\n",
    "    print(\"Mirando a otro lado\")\n",
    "    \n",
    "# setencia if para el area\n",
    "if tamaño > 180:\n",
    "    print(\"Espacio Grande\")\n",
    "elif tamaño > 100:\n",
    "    print(\"Espacio Mediano\")\n",
    "else:\n",
    "    print(\"Espacio Pequeño\")"
   ]
  },
  {
   "cell_type": "markdown",
   "metadata": {},
   "source": [
    "### Ejercicio 2\n",
    "\n",
    "Dado un número entero, escriba el codigo para lo siguiente:\n",
    "\n",
    "1. If $n$ es impar, print \"extraño\"\n",
    "2. If $n$ si es par y esta entre el rango de 2 a 5,\"No extraño\"\n",
    "3. If $n$ si es par esta entre el rango de 6 a 20, \"extraño\"\n",
    "4. If $n$ Si es impary mayor que 20 print \"No extraño\"\n",
    "\n",
    "**Ejemplo: ** **n = 3**, **n** es impar y es de tipo extraño\n",
    "\n",
    "**n=24**, **n** es par y mayor que 20, es \"No extraño\""
   ]
  },
  {
   "cell_type": "code",
   "execution_count": 3,
   "metadata": {},
   "outputs": [
    {
     "name": "stdout",
     "output_type": "stream",
     "text": [
      "Ingrese un Entero: 28\n",
      "No extraño\n"
     ]
    }
   ],
   "source": [
    "numero = int(input(\"Ingrese un Entero: \"))\n",
    "if numero%2!=0:\n",
    "    print(\"Extraño\")\n",
    "elif (numero%2==0) and numero > 2 and numero <5:\n",
    "    print(\"No Extraño\")\n",
    "elif (numero%2==0) and numero > 6 and numero < 20:\n",
    "    print(\"Extraño\")\n",
    "else:\n",
    "    print(\"No extraño\")"
   ]
  },
  {
   "cell_type": "markdown",
   "metadata": {},
   "source": [
    "## Bucles While\n",
    "\n",
    "Los bucles `while` se ejecuntan siempre cuando la condición sea verdadera. Si la condición es falsa, inclusive al principio, entonces bloque `while` no se ejecuta e inmediatamente procede al diguiente bloque de codigo. Por convención, en python se evalua como verdadero cualquiera diferente cero y el cero es falso. La condicipón puede ser una lista o una secuencia, donde la secuencia vacia es falsa. El cuerpo del `while`esta definido por:\n",
    "\n",
    "```python\n",
    "while condicion:\n",
    "    codigo\n",
    "```\n",
    "\n",
    "### Ejercicio 3:\n",
    "\n",
    "Cuantas impresiones realiza este bucle while:\n",
    "```python\n",
    "x = 1\n",
    "while x < 4:\n",
    "    print(x)\n",
    "    x = x + 1\n",
    "```\n",
    "D. 3\n"
   ]
  },
  {
   "cell_type": "code",
   "execution_count": null,
   "metadata": {},
   "outputs": [],
   "source": [
    "while True:\n",
    "    print(\"Ciclo Infinito\")"
   ]
  },
  {
   "cell_type": "code",
   "execution_count": 4,
   "metadata": {},
   "outputs": [
    {
     "name": "stdout",
     "output_type": "stream",
     "text": [
      "Correcto...\n",
      "7\n",
      "Correcto...\n",
      "6\n",
      "Correcto...\n",
      "5\n",
      "Correcto...\n",
      "4\n",
      "Correcto...\n",
      "3\n",
      "Correcto...\n",
      "2\n",
      "Correcto...\n",
      "1\n",
      "Correcto...\n",
      "0\n"
     ]
    }
   ],
   "source": [
    "var = 8\n",
    "while var != 0:\n",
    "    print(\"Correcto...\")\n",
    "    var = var - 1 # var -= 1\n",
    "    print(var)"
   ]
  },
  {
   "cell_type": "code",
   "execution_count": 7,
   "metadata": {},
   "outputs": [
    {
     "name": "stdout",
     "output_type": "stream",
     "text": [
      "a\n",
      "e\n",
      "i\n",
      "o\n",
      "u\n"
     ]
    }
   ],
   "source": [
    "#Iterar una lista\n",
    "lista1 = [\"a\",\"e\",\"i\",\"o\",\"u\"]\n",
    "while lista1:\n",
    "    print(lista1.pop(0))"
   ]
  },
  {
   "cell_type": "code",
   "execution_count": 1,
   "metadata": {},
   "outputs": [
    {
     "name": "stdout",
     "output_type": "stream",
     "text": [
      "z=3\n",
      "z=10\n",
      "z=5\n",
      "z=16\n",
      "z=8\n",
      "z=4\n",
      "z=2\n"
     ]
    }
   ],
   "source": [
    "z=3\n",
    "while z != 1:\n",
    "    print(f\"z={z}\")\n",
    "    if z % 2 == 0:\n",
    "        z = z//2\n",
    "    else:\n",
    "        z = 3 * z + 1"
   ]
  },
  {
   "cell_type": "markdown",
   "metadata": {},
   "source": [
    "## Ciclo For\n",
    "El ciclo for se ejecuta `n`veces, inicia desde 0 hasta **n-1**.Sin embargo este es el mas basico uso del for. Python permite no solo iterar con rangos, si no tambien sobre secuencia de elementos(pueden ser listas o cadenas) en el orden en que aparecen\n",
    "\n",
    "```python\n",
    "for idx in range (0,n):\n",
    "    block\n",
    "    \n",
    "for elem in list:\n",
    "    block\n",
    "```\n",
    "\n",
    "El uso del ciclo para iterar la lista solo da acceso a todos los elementos de la lista, si tamnién se desa acceder a la información del índice se puede usar el método `enumerate()`\n",
    "\n",
    "```python\n",
    "for index, element in enumerate(list):\n",
    "    print(\"Index\" + str(index) + \":\" + str(element)\n",
    "```"
   ]
  },
  {
   "cell_type": "markdown",
   "metadata": {},
   "source": [
    "### For sobre Listas"
   ]
  },
  {
   "cell_type": "code",
   "execution_count": 5,
   "metadata": {},
   "outputs": [
    {
     "name": "stdout",
     "output_type": "stream",
     "text": [
      "Cuarto 0 : 11.25\n",
      "Cuarto 1 : 18.0\n",
      "Cuarto 2 : 20.0\n",
      "Cuarto 3 : 10.75\n",
      "Cuarto 4 : 9.5\n"
     ]
    }
   ],
   "source": [
    "areas = [11.25,18.0,20.0,10.75,9.50]\n",
    "\n",
    "for idx,a in enumerate(areas):\n",
    "    print(\"Cuarto \"+str(idx)+\" : \"+str(a))"
   ]
  },
  {
   "cell_type": "code",
   "execution_count": 8,
   "metadata": {},
   "outputs": [
    {
     "name": "stdout",
     "output_type": "stream",
     "text": [
      "El Pasillo es 11.25 m2 \n",
      "El Cocina es 18.0 m2 \n",
      "El Sala es 20.0 m2 \n",
      "El Dormitorio es 10.75 m2 \n",
      "El Baño es 9.5 m2 \n"
     ]
    }
   ],
   "source": [
    "Casas = [[\"Pasillo\",11.25],\n",
    "        [\"Cocina\",18.0],\n",
    "        [\"Sala\",20.0],\n",
    "        [\"Dormitorio\",10.75],\n",
    "        [\"Baño\",9.50]]\n",
    "for elemento in Casas:\n",
    "    print(\"El \"+str(elemento[0])+\" es \"+str(elemento[1])+\" m2 \")"
   ]
  },
  {
   "cell_type": "markdown",
   "metadata": {},
   "source": [
    "### For sobre Diccionarios"
   ]
  },
  {
   "cell_type": "code",
   "execution_count": 9,
   "metadata": {},
   "outputs": [
    {
     "name": "stdout",
     "output_type": "stream",
     "text": [
      "La Capital de España es Madrid\n",
      "La Capital de Francia es Paris\n",
      "La Capital de Italia es Roma\n"
     ]
    }
   ],
   "source": [
    "Europa = {\"España\":\"Madrid\",\"Francia\":\"Paris\",\"Italia\":\"Roma\"}\n",
    "for key in Europa:\n",
    "    print(\"La Capital de \"+key+\" es \"+Europa[key])"
   ]
  },
  {
   "cell_type": "code",
   "execution_count": 10,
   "metadata": {},
   "outputs": [
    {
     "name": "stdout",
     "output_type": "stream",
     "text": [
      "La capital de España es Madrid\n",
      "La capital de Francia es Paris\n",
      "La capital de Italia es Roma\n"
     ]
    }
   ],
   "source": [
    "for key,value in Europa.items():\n",
    "    print(\"La capital de \"+key+\" es \"+value)"
   ]
  },
  {
   "cell_type": "code",
   "execution_count": 12,
   "metadata": {},
   "outputs": [
    {
     "name": "stdout",
     "output_type": "stream",
     "text": [
      "La capital de España es Madrid\n",
      "La capital de Francia es Paris\n",
      "La capital de Italia es Roma\n"
     ]
    }
   ],
   "source": [
    "for key in Europa.keys():\n",
    "    print(\"La capital de \"+key+\" es \"+Europa[key])"
   ]
  },
  {
   "cell_type": "code",
   "execution_count": 14,
   "metadata": {},
   "outputs": [
    {
     "name": "stdout",
     "output_type": "stream",
     "text": [
      "La capital es Madrid\n",
      "La capital es Paris\n",
      "La capital es Roma\n"
     ]
    }
   ],
   "source": [
    "for valor in Europa.values():\n",
    "    print(\"La capital es \"+valor)"
   ]
  },
  {
   "cell_type": "markdown",
   "metadata": {},
   "source": [
    "### Ejercicio 5\n",
    "Escriba una función que genere un diccionario donde las claves son los numeros del 1 al 15(ambos incluidos) y los valores son el cuadrado de las claves.\n",
    "\n",
    "Ejemplo:\n",
    "\n",
    "```python\n",
    "{\n",
    "    1:1,\n",
    "    2:4,\n",
    "    3:9\n",
    "}\n",
    "```"
   ]
  },
  {
   "cell_type": "code",
   "execution_count": 15,
   "metadata": {},
   "outputs": [],
   "source": [
    "def dicc_cuadrado(min,max):\n",
    "    dicc = {}\n",
    "    for i in range(min,max+1):\n",
    "        dicc[str(i)] = i**2\n",
    "    print(dicc)"
   ]
  },
  {
   "cell_type": "code",
   "execution_count": 16,
   "metadata": {},
   "outputs": [
    {
     "name": "stdout",
     "output_type": "stream",
     "text": [
      "{'1': 1, '2': 4, '3': 9, '4': 16, '5': 25, '6': 36, '7': 49, '8': 64, '9': 81, '10': 100, '11': 121, '12': 144, '13': 169, '14': 196, '15': 225}\n"
     ]
    }
   ],
   "source": [
    "dicc_cuadrado(1,15)"
   ]
  },
  {
   "cell_type": "markdown",
   "metadata": {},
   "source": [
    "## Control de Ciclos\n",
    "### Break\n",
    " Esta función se puede usar en ciclos FOR y WHILE y simplemente terminal el ciclo actual y continuan con la ejecución de la siguiente instrucción"
   ]
  },
  {
   "cell_type": "code",
   "execution_count": 1,
   "metadata": {},
   "outputs": [
    {
     "name": "stdout",
     "output_type": "stream",
     "text": [
      "char : P\n",
      "char : y\n",
      "char : t\n"
     ]
    }
   ],
   "source": [
    "#Break in FOR\n",
    "for char in \"Python\":\n",
    "    if char == \"h\":\n",
    "        break\n",
    "    print(\"char :\",char)"
   ]
  },
  {
   "cell_type": "code",
   "execution_count": 2,
   "metadata": {},
   "outputs": [
    {
     "name": "stdout",
     "output_type": "stream",
     "text": [
      "i = 1\n",
      "i = 2\n",
      "i = 3\n",
      "i = 4\n",
      "i = 5\n",
      "i = 6\n",
      "i = 7\n",
      "Encontro el 7, Numero favorito de todo el mundo!,\n",
      "        No nececsito seguir trabajando\n"
     ]
    }
   ],
   "source": [
    "#Break in FOR\n",
    "for i in range(1,12):\n",
    "    print(f\"i = {i}\")\n",
    "    if i == 7:\n",
    "        print('''Encontro el 7, Numero favorito de todo el mundo!,\n",
    "        No nececsito seguir trabajando''')\n",
    "        break"
   ]
  },
  {
   "cell_type": "code",
   "execution_count": 4,
   "metadata": {},
   "outputs": [
    {
     "name": "stdout",
     "output_type": "stream",
     "text": [
      "Valor : 9\n",
      "Valor : 8\n",
      "Valor : 7\n",
      "Valor : 6\n",
      "Final del script\n"
     ]
    }
   ],
   "source": [
    "#BREAK in WHILE\n",
    "value = 10\n",
    "while value > 0:\n",
    "    value = value - 1\n",
    "    if value == 5:\n",
    "        break\n",
    "    print(\"Valor :\",value)\n",
    "print(\"Final del script\")"
   ]
  },
  {
   "cell_type": "markdown",
   "metadata": {},
   "source": [
    "### Continue\n",
    "Esta función ingresa al comiezo del ciclo, ignorando las siguientes lineas de código del ciclo actual e inicia la siguiente iteración, Se puede usar en ciclos FOR y WHILE"
   ]
  },
  {
   "cell_type": "code",
   "execution_count": 5,
   "metadata": {},
   "outputs": [
    {
     "name": "stdout",
     "output_type": "stream",
     "text": [
      "char : P\n",
      "char : y\n",
      "char : t\n",
      "char : o\n",
      "char : n\n"
     ]
    }
   ],
   "source": [
    "#Continue in For\n",
    "for char in \"Python\":\n",
    "    if char == \"h\":\n",
    "        continue\n",
    "    print(\"char :\",char)"
   ]
  },
  {
   "cell_type": "code",
   "execution_count": 6,
   "metadata": {},
   "outputs": [
    {
     "name": "stdout",
     "output_type": "stream",
     "text": [
      "i = 1\n",
      "i = 2\n",
      "i = 3\n",
      "i = 4\n",
      "No me gustan los multiples de 5, Me salto esto\n",
      "i = 6\n",
      "i = 7\n",
      "i = 8\n",
      "i = 9\n",
      "No me gustan los multiples de 5, Me salto esto\n",
      "i = 11\n"
     ]
    }
   ],
   "source": [
    "#Continue in FOR\n",
    "for i in range(1,12):\n",
    "    if i % 5 == 0:\n",
    "        print(\"No me gustan los multiples de 5, Me salto esto\")\n",
    "        continue\n",
    "    print(f\"i = {i}\")"
   ]
  },
  {
   "cell_type": "code",
   "execution_count": 7,
   "metadata": {},
   "outputs": [
    {
     "name": "stdout",
     "output_type": "stream",
     "text": [
      "Valor : 9\n",
      "Valor : 8\n",
      "Valor : 7\n",
      "Valor : 6\n",
      "Valor : 4\n",
      "Valor : 3\n",
      "Valor : 2\n",
      "Valor : 1\n",
      "Valor : 0\n",
      "Final del script\n"
     ]
    }
   ],
   "source": [
    "#Continue en While\n",
    "value = 10\n",
    "while value > 0:\n",
    "    value = value - 1\n",
    "    if value == 5:\n",
    "        continue\n",
    "    print(\"Valor :\",value)\n",
    "print(\"Final del script\")"
   ]
  },
  {
   "cell_type": "markdown",
   "metadata": {},
   "source": [
    "### Pass\n",
    "Es una operación no sucede nada cuando se ejecuta. Se utiliza cuando se requiere por sintaxis una declaración pero no se quiere ejecutar ningún codigo. Tambien se usa como un código temporal, hasta que se escribe el codigo final."
   ]
  },
  {
   "cell_type": "code",
   "execution_count": 9,
   "metadata": {},
   "outputs": [
    {
     "name": "stdout",
     "output_type": "stream",
     "text": [
      "Char : P\n",
      "Char : y\n",
      "Char : t\n",
      "Char : h\n",
      "Char : o\n",
      "Char : n\n"
     ]
    }
   ],
   "source": [
    "for char in \"Python\":\n",
    "    if char == \"h\" :\n",
    "        pass\n",
    "    print(\"Char :\",char)"
   ]
  },
  {
   "cell_type": "code",
   "execution_count": 10,
   "metadata": {},
   "outputs": [
    {
     "name": "stdout",
     "output_type": "stream",
     "text": [
      "valor : 9\n",
      "valor : 8\n",
      "valor : 7\n",
      "valor : 6\n",
      "valor : 5\n",
      "valor : 4\n",
      "valor : 3\n",
      "valor : 2\n",
      "valor : 1\n",
      "valor : 0\n",
      "Final del script\n"
     ]
    }
   ],
   "source": [
    "#Pass in WHILE\n",
    "value = 10\n",
    "while value > 0:\n",
    "    value = value - 1\n",
    "    if value == 5:\n",
    "        pass\n",
    "    print(\"valor :\",value)\n",
    "print(\"Final del script\")"
   ]
  },
  {
   "cell_type": "markdown",
   "metadata": {},
   "source": [
    "## Errores y Excepciones\n",
    "Hay dos tipos de errores diferentes: errrores de sintaxis y exepciones.\n",
    "    \n",
    "### Errores de Sintaxis\n",
    "En los errores de sintaxis, el interprete repite la linea culpable del error.\n",
    "    \n",
    "```python\n",
    "    while True print(\"Hola Mundo\")\n",
    "```"
   ]
  },
  {
   "cell_type": "markdown",
   "metadata": {},
   "source": [
    "### Excepciones \n",
    "Sin importar que la declaración este sintácticamente correcta, puede generar un error cuando se intenta ejecutar. Los errores detectados durante la ejecución se llaman exepciones pueden ser manejados por los programa en Python.\n",
    "\n",
    "La declaración `try` nos permite manejar las exepciones y trabaja de la siguiente manera:\n",
    "\n",
    "1. Se ejecuta el bloque try (el código entre la declaración `try`y `except`)\n",
    "2. Si no ocurre una excepción el `bloque except`se omite y termina la ejecución de la declaración `try`.\n",
    "3. Si ocurre una excepción durante la ejecución del bloque try, el resto del bloque se omite. Si el tipo de excepción coincide con la exepción nombrada luego de la palabra reservada `except`, se ejecuta el bloque except, y la ejecución luego de la declaración `try`.\n",
    "4. Si ocurre una excepción que no coincida con la excepción nombrada en el `except`, esta es una exepción no manejada y la ejecución se frena con un mensaje de error indicando lo que sucedio, por ejemplo: **ZeroDivisionError,NameError,TypeError** y **ValueError**."
   ]
  },
  {
   "cell_type": "code",
   "execution_count": 11,
   "metadata": {},
   "outputs": [
    {
     "ename": "ZeroDivisionError",
     "evalue": "division by zero",
     "output_type": "error",
     "traceback": [
      "\u001b[1;31m---------------------------------------------------------------------------\u001b[0m",
      "\u001b[1;31mZeroDivisionError\u001b[0m                         Traceback (most recent call last)",
      "\u001b[1;32m<ipython-input-11-8ced4c4f65fb>\u001b[0m in \u001b[0;36m<module>\u001b[1;34m\u001b[0m\n\u001b[0;32m      1\u001b[0m \u001b[1;31m#ZeroDivisonError\u001b[0m\u001b[1;33m\u001b[0m\u001b[1;33m\u001b[0m\u001b[1;33m\u001b[0m\u001b[0m\n\u001b[1;32m----> 2\u001b[1;33m \u001b[1;36m10\u001b[0m\u001b[1;33m*\u001b[0m\u001b[1;33m(\u001b[0m\u001b[1;36m1\u001b[0m\u001b[1;33m/\u001b[0m\u001b[1;36m0\u001b[0m\u001b[1;33m)\u001b[0m\u001b[1;33m\u001b[0m\u001b[1;33m\u001b[0m\u001b[0m\n\u001b[0m",
      "\u001b[1;31mZeroDivisionError\u001b[0m: division by zero"
     ]
    }
   ],
   "source": [
    "#ZeroDivisonError\n",
    "10*(1/0)"
   ]
  },
  {
   "cell_type": "code",
   "execution_count": 12,
   "metadata": {},
   "outputs": [
    {
     "ename": "NameError",
     "evalue": "name 'spam' is not defined",
     "output_type": "error",
     "traceback": [
      "\u001b[1;31m---------------------------------------------------------------------------\u001b[0m",
      "\u001b[1;31mNameError\u001b[0m                                 Traceback (most recent call last)",
      "\u001b[1;32m<ipython-input-12-6cf880e3fe99>\u001b[0m in \u001b[0;36m<module>\u001b[1;34m\u001b[0m\n\u001b[0;32m      1\u001b[0m \u001b[1;31m#NameError\u001b[0m\u001b[1;33m\u001b[0m\u001b[1;33m\u001b[0m\u001b[1;33m\u001b[0m\u001b[0m\n\u001b[1;32m----> 2\u001b[1;33m \u001b[1;36m4\u001b[0m \u001b[1;33m+\u001b[0m \u001b[0mspam\u001b[0m\u001b[1;33m*\u001b[0m\u001b[1;36m3\u001b[0m\u001b[1;33m\u001b[0m\u001b[1;33m\u001b[0m\u001b[0m\n\u001b[0m",
      "\u001b[1;31mNameError\u001b[0m: name 'spam' is not defined"
     ]
    }
   ],
   "source": [
    "#NameError\n",
    "4 + spam*3"
   ]
  },
  {
   "cell_type": "code",
   "execution_count": 13,
   "metadata": {},
   "outputs": [
    {
     "ename": "TypeError",
     "evalue": "can only concatenate str (not \"int\") to str",
     "output_type": "error",
     "traceback": [
      "\u001b[1;31m---------------------------------------------------------------------------\u001b[0m",
      "\u001b[1;31mTypeError\u001b[0m                                 Traceback (most recent call last)",
      "\u001b[1;32m<ipython-input-13-d1c4bac888e9>\u001b[0m in \u001b[0;36m<module>\u001b[1;34m\u001b[0m\n\u001b[0;32m      1\u001b[0m \u001b[1;31m#TypeError\u001b[0m\u001b[1;33m\u001b[0m\u001b[1;33m\u001b[0m\u001b[1;33m\u001b[0m\u001b[0m\n\u001b[1;32m----> 2\u001b[1;33m \u001b[1;34m\"2\"\u001b[0m \u001b[1;33m+\u001b[0m \u001b[1;36m2\u001b[0m\u001b[1;33m\u001b[0m\u001b[1;33m\u001b[0m\u001b[0m\n\u001b[0m",
      "\u001b[1;31mTypeError\u001b[0m: can only concatenate str (not \"int\") to str"
     ]
    }
   ],
   "source": [
    "#TypeError\n",
    "\"2\" + 2"
   ]
  },
  {
   "cell_type": "code",
   "execution_count": 14,
   "metadata": {},
   "outputs": [
    {
     "ename": "ValueError",
     "evalue": "could not convert string to float: 'Juan'",
     "output_type": "error",
     "traceback": [
      "\u001b[1;31m---------------------------------------------------------------------------\u001b[0m",
      "\u001b[1;31mValueError\u001b[0m                                Traceback (most recent call last)",
      "\u001b[1;32m<ipython-input-14-d77c51d0c981>\u001b[0m in \u001b[0;36m<module>\u001b[1;34m\u001b[0m\n\u001b[0;32m      1\u001b[0m \u001b[1;31m#ValueError\u001b[0m\u001b[1;33m\u001b[0m\u001b[1;33m\u001b[0m\u001b[1;33m\u001b[0m\u001b[0m\n\u001b[1;32m----> 2\u001b[1;33m \u001b[0mfloat\u001b[0m\u001b[1;33m(\u001b[0m\u001b[1;34m\"Juan\"\u001b[0m\u001b[1;33m)\u001b[0m\u001b[1;33m\u001b[0m\u001b[1;33m\u001b[0m\u001b[0m\n\u001b[0m",
      "\u001b[1;31mValueError\u001b[0m: could not convert string to float: 'Juan'"
     ]
    }
   ],
   "source": [
    "#ValueError\n",
    "float(\"Juan\")"
   ]
  },
  {
   "cell_type": "code",
   "execution_count": 15,
   "metadata": {},
   "outputs": [
    {
     "ename": "ZeroDivisionError",
     "evalue": "division by zero",
     "output_type": "error",
     "traceback": [
      "\u001b[1;31m---------------------------------------------------------------------------\u001b[0m",
      "\u001b[1;31mZeroDivisionError\u001b[0m                         Traceback (most recent call last)",
      "\u001b[1;32m<ipython-input-15-fecef3815fb3>\u001b[0m in \u001b[0;36m<module>\u001b[1;34m\u001b[0m\n\u001b[0;32m      1\u001b[0m \u001b[0mmy_string\u001b[0m \u001b[1;33m=\u001b[0m \u001b[1;34m\"asd\"\u001b[0m\u001b[1;33m\u001b[0m\u001b[1;33m\u001b[0m\u001b[0m\n\u001b[0;32m      2\u001b[0m \u001b[1;32mtry\u001b[0m\u001b[1;33m:\u001b[0m\u001b[1;33m\u001b[0m\u001b[1;33m\u001b[0m\u001b[0m\n\u001b[1;32m----> 3\u001b[1;33m     \u001b[0mmy_string_as_float\u001b[0m \u001b[1;33m=\u001b[0m \u001b[1;36m2\u001b[0m \u001b[1;33m/\u001b[0m \u001b[1;36m0\u001b[0m \u001b[1;31m#float\u001b[0m\u001b[1;33m\u001b[0m\u001b[1;33m\u001b[0m\u001b[0m\n\u001b[0m\u001b[0;32m      4\u001b[0m     \u001b[0mprint\u001b[0m\u001b[1;33m(\u001b[0m\u001b[1;34m\"El entero evaluado puede ser convertido directamente en un numero\"\u001b[0m\u001b[1;33m)\u001b[0m\u001b[1;33m\u001b[0m\u001b[1;33m\u001b[0m\u001b[0m\n\u001b[0;32m      5\u001b[0m \u001b[1;32mexcept\u001b[0m \u001b[0mValueError\u001b[0m \u001b[1;32mas\u001b[0m \u001b[0merr\u001b[0m\u001b[1;33m:\u001b[0m\u001b[1;33m\u001b[0m\u001b[1;33m\u001b[0m\u001b[0m\n",
      "\u001b[1;31mZeroDivisionError\u001b[0m: division by zero"
     ]
    }
   ],
   "source": [
    "my_string = \"asd\"\n",
    "try:\n",
    "    my_string_as_float = 2 / 0 #float \n",
    "    print(\"El entero evaluado puede ser convertido directamente en un numero\")\n",
    "except ValueError as err:\n",
    "    print(\"Se lanzó una excepcion: predeterminado en un valor flotante especial = nan\")\n",
    "    a_as_float = float(\"nan\")\n",
    "    print(err)"
   ]
  },
  {
   "cell_type": "markdown",
   "metadata": {},
   "source": [
    "La declaración `try` tiene otra clausula opcional `finally` que intenta definir acciones de limpieza que deben ser ejecutadas bajo ciertas circunstancias. La clasula `finally` siempre se ejecuta antes de salir de la declaración `try`, ya sea que una exepcion haya ocurrido o no"
   ]
  },
  {
   "cell_type": "code",
   "execution_count": 1,
   "metadata": {},
   "outputs": [
    {
     "name": "stdout",
     "output_type": "stream",
     "text": [
      "División por cero\n",
      "Ejecutando la clasula Finally\n"
     ]
    }
   ],
   "source": [
    "try:\n",
    "    result = 10/0\n",
    "    #result = 4/2\n",
    "except ZeroDivisionError:\n",
    "    print(\"División por cero\")\n",
    "else:\n",
    "    print(\"El resultado es:\",result)\n",
    "finally:\n",
    "    print(\"Ejecutando la clasula Finally\")"
   ]
  },
  {
   "cell_type": "markdown",
   "metadata": {},
   "source": [
    "### CLASES\n",
    "Las clases proveen una forma de empaquetar datos y funcionalidades juntos. Al crear nueva clase, se crea un nuevo tipo de objeto, permitiendo crear nuevas instancias de este tipo. Cada instancia de clase puede tener atributos adjuntos para mantener su estado. Las instancias de clases tambien pueden tener métodos (definidos por sus clase) para modificar su estado.\n",
    "\n",
    "La variable self es una instancia de la clase y no es una palabra reservada de Python, cualquier etiquetada utilizada como primer parámetros tendría el mismo valor (no se aconseja usar otro valor por convención). Cada vdez que declaremos un método en Python, vamos a tener que agregarle la variable self para que cuando sea invocado el método. Python pase el objeto instaciado y opere con los valores actuales de esa instancia."
   ]
  },
  {
   "cell_type": "code",
   "execution_count": 34,
   "metadata": {},
   "outputs": [],
   "source": [
    "#Clase mascota\n",
    "class Mascota:\n",
    "    #Atributos\n",
    "    especie = \"Gato\"\n",
    "    _oculto = 2\n",
    "    \n",
    "    def __init__(self,nombre,especie=especie):#Se debe inicializar un objeto\n",
    "        \"\"\"\n",
    "            El método __init__ es una función para inicializar la clase, si no se especifica la especie toma el valor por\n",
    "            defecto definidio en el atributo.\n",
    "        \"\"\"\n",
    "        self.nombre = nombre\n",
    "        self.especie = especie\n",
    "        self._private = None\n",
    "    \n",
    "    def __str__(self):#Mostra información de ese objeto\n",
    "        \"\"\"\n",
    "            El método __str__ es una función que proporciona una cadena informal de la presentación del objeto.\n",
    "        \"\"\"\n",
    "        return \"%s es un %s\" % (self.nombre, self.especie)\n",
    "    \n",
    "    def darNombre(self):\n",
    "        \"\"\"\n",
    "           Retorna el nombre de la Mascota. \n",
    "        \"\"\"\n",
    "        return self.nombre\n",
    "    \n",
    "    def darEspecie(self):\n",
    "        \"\"\"\n",
    "            Retorna la especie de la mascota.\n",
    "        \"\"\"\n",
    "        return self.especie"
   ]
  },
  {
   "cell_type": "code",
   "execution_count": 35,
   "metadata": {},
   "outputs": [
    {
     "name": "stdout",
     "output_type": "stream",
     "text": [
      "Teo es un Perro\n"
     ]
    }
   ],
   "source": [
    "Teo = Mascota(\"Teo\",\"Perro\")\n",
    "print(Teo)"
   ]
  },
  {
   "cell_type": "code",
   "execution_count": 37,
   "metadata": {},
   "outputs": [
    {
     "data": {
      "text/plain": [
       "'Perro'"
      ]
     },
     "execution_count": 37,
     "metadata": {},
     "output_type": "execute_result"
    }
   ],
   "source": [
    "Teo.especie # Atributo"
   ]
  },
  {
   "cell_type": "code",
   "execution_count": 38,
   "metadata": {},
   "outputs": [
    {
     "data": {
      "text/plain": [
       "'Perro'"
      ]
     },
     "execution_count": 38,
     "metadata": {},
     "output_type": "execute_result"
    }
   ],
   "source": [
    "Teo.darEspecie()#método que recibe algo como argumento"
   ]
  },
  {
   "cell_type": "code",
   "execution_count": 39,
   "metadata": {},
   "outputs": [],
   "source": [
    "?Teo.darEspecie"
   ]
  },
  {
   "cell_type": "code",
   "execution_count": null,
   "metadata": {},
   "outputs": [],
   "source": []
  }
 ],
 "metadata": {
  "kernelspec": {
   "display_name": "Python 3",
   "language": "python",
   "name": "python3"
  },
  "language_info": {
   "codemirror_mode": {
    "name": "ipython",
    "version": 3
   },
   "file_extension": ".py",
   "mimetype": "text/x-python",
   "name": "python",
   "nbconvert_exporter": "python",
   "pygments_lexer": "ipython3",
   "version": "3.7.4"
  }
 },
 "nbformat": 4,
 "nbformat_minor": 4
}
