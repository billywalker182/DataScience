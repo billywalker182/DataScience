{
 "cells": [
  {
   "cell_type": "markdown",
   "metadata": {},
   "source": [
    "# Principios Básicos de Python"
   ]
  },
  {
   "cell_type": "markdown",
   "metadata": {},
   "source": [
    "## Cuadernos de Python"
   ]
  },
  {
   "cell_type": "markdown",
   "metadata": {},
   "source": [
    "Cuaderno notebooks proporciona un ambiente de experimentación de código, \n",
    "visualización y publicación de resultados."
   ]
  },
  {
   "cell_type": "markdown",
   "metadata": {},
   "source": [
    "Las cajas de abajo son llamadas celdas y ellos pueden contener codigo o texto formateado\n",
    "(Markdown). Aqui estan alguno de los muchos atajos de teclados para interactuar con celdas:"
   ]
  },
  {
   "cell_type": "markdown",
   "metadata": {},
   "source": [
    "* [Arriba / Abajo Flecha]: Mover arriba y abajo de celda a celda\n",
    "* [Enter] Entrar a la celda y habilitar la edición de esta\n",
    "* [Shift + Enter] Evalua una celda, muestra el resultado y va a la siguiente celda\n",
    "* [Ctr + Enter] Evalua la celda, muestra el resultado y permanece en la celda\n",
    "* [ESC] - [D] - [D] : Borra celda\n",
    "* [ESC] - [Z] : Control Z de celdas\n",
    "* [ESC] - [B] : Insertar una celda abajo de la celda actual\n",
    "* [ESC] - [A] : Insertar una celda arriba de la celda actual\n",
    "* [ESC] - [M] : Convertir una celda de codigo a Markdown\n",
    "* [ESC] - [Y] : Convertir una celda Markdown a codigo"
   ]
  },
  {
   "cell_type": "markdown",
   "metadata": {},
   "source": [
    "Para mas atajos de teclados, ir a help -> keyboard Shortcuts en el menu\n",
    "superior de tu cuaderno."
   ]
  },
  {
   "cell_type": "markdown",
   "metadata": {},
   "source": [
    "## Variables en Python"
   ]
  },
  {
   "cell_type": "markdown",
   "metadata": {},
   "source": [
    "Una variable es lo que Python usa para almacenar cierta información (por ejemplo, texto, numeros, booleanos, etc)"
   ]
  },
  {
   "cell_type": "markdown",
   "metadata": {},
   "source": [
    "Cada variable tiene un nombre para que podamos referirnos a ella \n",
    "fácilmente. Python tiene en cuenta si escribimos la variable en \n",
    "mayúscula o minúscula (por ejemplo, a y A se consideran diferentes).\n",
    "Podemos definir variables en Python de la siguiente manera:"
   ]
  },
  {
   "cell_type": "markdown",
   "metadata": {},
   "source": [
    "```python\n",
    "# asignando un valor\n",
    "variable = value\n",
    "# Asignando multiple valores \n",
    "variable1, variable2 = value1, value2\n",
    "```"
   ]
  },
  {
   "cell_type": "markdown",
   "metadata": {},
   "source": [
    "### Numeros"
   ]
  },
  {
   "cell_type": "markdown",
   "metadata": {},
   "source": [
    "Aqui estan los dos principales tipos de numeros en Python, int (Enteros)\n",
    "y float(flotantes). El separador decimal es el periodo:"
   ]
  },
  {
   "cell_type": "code",
   "execution_count": 1,
   "metadata": {},
   "outputs": [],
   "source": [
    "integer_ = 2\n",
    "float_ = 2.5"
   ]
  },
  {
   "cell_type": "markdown",
   "metadata": {},
   "source": [
    "### Texto"
   ]
  },
  {
   "cell_type": "markdown",
   "metadata": {},
   "source": [
    "Las variables que guardan texto son de tipo str(strings). Por lo general, \n",
    "deben ir entre comillas simples o dobles. Si el texto que se esta \n",
    "asignando abarca varias lineas, debe incluirse entre comillas multiples:  "
   ]
  },
  {
   "cell_type": "code",
   "execution_count": 2,
   "metadata": {},
   "outputs": [],
   "source": [
    "string = \"Hello\"\n",
    "string = 'hello'\n",
    "multiline = \"\"\"Hello\n",
    "                world\"\"\"\n",
    "multiline = '''Hello\n",
    "                World'''"
   ]
  },
  {
   "cell_type": "markdown",
   "metadata": {},
   "source": [
    "### Listas"
   ]
  },
  {
   "cell_type": "markdown",
   "metadata": {},
   "source": [
    "Las listas son un conjunto de elementos ordenados (por ejemplo, numeros\n",
    "                                                  textos,listas,etc.Ellas\n",
    "                                                  están delimitadas por\n",
    "                                                  corchetes []), y \n",
    "diferentes elementos estan separados por comas:\n",
    "\n"
   ]
  },
  {
   "cell_type": "code",
   "execution_count": 3,
   "metadata": {},
   "outputs": [],
   "source": [
    "listNumbers = [1,2,3]\n",
    "stringList = [\"a\",\"B\",\"C\"]\n",
    "listList = [[1,2],[2,3],[4,5]]\n",
    "mezcladasListas = [1,\"Grupo\",[1,2,3]]\n",
    "listasvacias = []"
   ]
  },
  {
   "cell_type": "markdown",
   "metadata": {},
   "source": [
    "Las listas son dinámicas; es decir, son mutables. Por ejemplo, podemos\n",
    "modificar la Lista de cadenas de arriba asignandola al conjunto [\"d\",\n",
    "                                                                \"e\",\"f\"].\n"
   ]
  },
  {
   "cell_type": "markdown",
   "metadata": {},
   "source": [
    "### Tuplas"
   ]
  },
  {
   "cell_type": "markdown",
   "metadata": {},
   "source": [
    "Las **Tuplas** son tambien conjunto de elementos ordenados. Las Tuplas\n",
    "se representan escribiendo los elementos entre paréntesis (()), separados \n",
    "por comas:"
   ]
  },
  {
   "cell_type": "code",
   "execution_count": 4,
   "metadata": {},
   "outputs": [],
   "source": [
    "tupleNumbers = (1,2,3)\n",
    "tupleStrings = (\"a\",\"b\",\"c\")\n",
    "tuplelist = ([1,2],[3,4],[5,6])\n",
    "mixedTuple = (1, \"Group\", [1,2,3,4])"
   ]
  },
  {
   "cell_type": "markdown",
   "metadata": {},
   "source": [
    "A diferencia de las listas, las tuplas son estáticas y no se pueden \n",
    "modificar una vez creadas."
   ]
  },
  {
   "cell_type": "markdown",
   "metadata": {},
   "source": [
    "### Diccionarios"
   ]
  },
  {
   "cell_type": "markdown",
   "metadata": {},
   "source": [
    "Los Diccionaris son conjunto de elementos, donde cada elemento puede ser\n",
    "identificados por una **llave** unica:"
   ]
  },
  {
   "cell_type": "code",
   "execution_count": 5,
   "metadata": {},
   "outputs": [],
   "source": [
    "dictNumbers = {\"k1\":1,\"k2\":2}\n",
    "dictStrings = {\"k1\":\"a\",\"k2\":\"b\",\"k3\":\"c\"}\n",
    "dicLists = {\"k1\":[1,2],\"k2\":[3,4],\"k3\":[4,5]}\n",
    "mixedDict = {\"k1\":1,\"k2\":\"Group\",\"k3\":[1,2,3,4]}"
   ]
  },
  {
   "cell_type": "markdown",
   "metadata": {},
   "source": [
    "### Booleano"
   ]
  },
  {
   "cell_type": "markdown",
   "metadata": {},
   "source": [
    "Un boleano es una variable que puede tener dos posibles valores: \n",
    "Verdadero o falso:"
   ]
  },
  {
   "cell_type": "code",
   "execution_count": 6,
   "metadata": {},
   "outputs": [],
   "source": [
    "true = True\n",
    "false = False"
   ]
  },
  {
   "cell_type": "markdown",
   "metadata": {},
   "source": [
    "### None"
   ]
  },
  {
   "cell_type": "markdown",
   "metadata": {},
   "source": [
    "Este es el tipo de datos que en otros lenguajes se conoce como Null, (NaN)\n",
    ". En python se llama NoneType"
   ]
  },
  {
   "cell_type": "code",
   "execution_count": 7,
   "metadata": {},
   "outputs": [],
   "source": [
    "null = None"
   ]
  },
  {
   "cell_type": "markdown",
   "metadata": {},
   "source": [
    "### Otras Funciones Utiles"
   ]
  },
  {
   "cell_type": "markdown",
   "metadata": {},
   "source": [
    "#### La Función Print\n",
    "El comando print(<Variable>), imprime el valor de la variable.\n",
    "    \n",
    "#### Comentarios\n",
    "Los **Comentarios** son una parte esencial de un buen codigo. Le permiten explicar de manera concisa las caracteristicas y el propósito de su codigo. Los comentarios en linea se pueden definir con: **#**"
   ]
  },
  {
   "cell_type": "code",
   "execution_count": 8,
   "metadata": {},
   "outputs": [
    {
     "name": "stdout",
     "output_type": "stream",
     "text": [
      "Esto es un entero:  2\n"
     ]
    }
   ],
   "source": [
    "#Declarando un entero (int)\n",
    "x = 2\n",
    "print('Esto es un entero: ',x)"
   ]
  },
  {
   "cell_type": "code",
   "execution_count": 9,
   "metadata": {},
   "outputs": [
    {
     "name": "stdout",
     "output_type": "stream",
     "text": [
      "Esto es un Flotante:  2.5\n"
     ]
    }
   ],
   "source": [
    "#Declarando un flotante\n",
    "y = 2.5\n",
    "print('Esto es un Flotante: ',y)"
   ]
  },
  {
   "cell_type": "code",
   "execution_count": 10,
   "metadata": {},
   "outputs": [
    {
     "name": "stdout",
     "output_type": "stream",
     "text": [
      "Hola Mundo Grupo\n"
     ]
    }
   ],
   "source": [
    "#Declaranto un string - texto\n",
    "message = 'Hola Mundo'\n",
    "print(message,'Grupo')"
   ]
  },
  {
   "cell_type": "code",
   "execution_count": 11,
   "metadata": {},
   "outputs": [
    {
     "name": "stdout",
     "output_type": "stream",
     "text": [
      "Hola\n",
      "                Mundo Grupo\n"
     ]
    }
   ],
   "source": [
    "#Multilineas string texto\n",
    "multilinea = '''Hola\n",
    "                Mundo'''\n",
    "print(multilinea,'Grupo')"
   ]
  },
  {
   "cell_type": "code",
   "execution_count": 12,
   "metadata": {},
   "outputs": [
    {
     "data": {
      "text/plain": [
       "'Hola\\n                Mundo'"
      ]
     },
     "execution_count": 12,
     "metadata": {},
     "output_type": "execute_result"
    }
   ],
   "source": [
    "multilinea"
   ]
  },
  {
   "cell_type": "code",
   "execution_count": 13,
   "metadata": {},
   "outputs": [
    {
     "name": "stdout",
     "output_type": "stream",
     "text": [
      "[1, 2, 3]\n",
      "['a', 'b', 'c']\n",
      "[[1, 2], [3, 4], [5, 6]]\n",
      "[1, 'Grupo', [1, 2, 3, 4]]\n",
      "[]\n"
     ]
    }
   ],
   "source": [
    "#Declaración de una lista\n",
    "numeroLista = [1,2,3]\n",
    "print(numeroLista)\n",
    "stringLista = ['a','b','c']\n",
    "print(stringLista)\n",
    "listalista = [[1,2],[3,4],[5,6]]\n",
    "print(listalista)\n",
    "listaMixta = [1,'Grupo',[1,2,3,4]]\n",
    "print(listaMixta)\n",
    "ListaVacia = []\n",
    "print(ListaVacia)"
   ]
  },
  {
   "cell_type": "code",
   "execution_count": 14,
   "metadata": {},
   "outputs": [
    {
     "name": "stdout",
     "output_type": "stream",
     "text": [
      "(1, 2, 3)\n",
      "('a', 'b', 'c')\n",
      "([1, 2], [3, 4], [5, 6])\n",
      "(1, 'Grupo', [1, 2, 3, 4])\n"
     ]
    }
   ],
   "source": [
    "#Declaración de una tupla\n",
    "TuplaNumero = (1,2,3)\n",
    "print(TuplaNumero)\n",
    "TuplaString = ('a','b','c')\n",
    "print(TuplaString)\n",
    "TuplaLista = ([1,2],[3,4],[5,6])\n",
    "print(TuplaLista)\n",
    "TuplaMixta = (1,'Grupo',[1,2,3,4])\n",
    "print(TuplaMixta)\n"
   ]
  },
  {
   "cell_type": "code",
   "execution_count": 15,
   "metadata": {},
   "outputs": [
    {
     "name": "stdout",
     "output_type": "stream",
     "text": [
      "{'k1': 1, 'k2': 2}\n",
      "{'k1': 'a', 'k2': 'b', 'k3': 'c'}\n",
      "{'k1': [1, 2], 'k2': [3, 4], 'k3': [5, 6]}\n",
      "{'k1': 1, 'k2': 'Grupo', 'k3': [1, 2, 3, 4, 5, 6]}\n"
     ]
    }
   ],
   "source": [
    "#Declaración de Diccionarios\n",
    "DiccNumeros = {'k1':1,'k2':2}\n",
    "print(DiccNumeros)\n",
    "DiccLetras = {'k1':'a','k2':'b','k3':'c'}\n",
    "print(DiccLetras)\n",
    "DiccListas = {'k1':[1,2],'k2':[3,4],'k3':[5,6]}\n",
    "print(DiccListas)\n",
    "DiccMixto = {'k1':1,'k2':'Grupo','k3':[1,2,3,4,5,6]}\n",
    "print(DiccMixto)"
   ]
  },
  {
   "cell_type": "code",
   "execution_count": 16,
   "metadata": {},
   "outputs": [],
   "source": [
    "#Declaración de Booleanos\n",
    "true = True\n",
    "false = False"
   ]
  },
  {
   "cell_type": "code",
   "execution_count": 17,
   "metadata": {},
   "outputs": [],
   "source": [
    "#Declaración nulls\n",
    "null = None"
   ]
  },
  {
   "cell_type": "code",
   "execution_count": 18,
   "metadata": {},
   "outputs": [
    {
     "name": "stdout",
     "output_type": "stream",
     "text": [
      "variable 1 =  9\n",
      "variable 2 =  Sara\n",
      "variable 3 =  [13, 17, 23]\n"
     ]
    }
   ],
   "source": [
    "#Multiples asignamientos\n",
    "var1, var2, var3 = (5+4), 'Sara',[13,17,23]\n",
    "print(\"variable 1 = \",var1)\n",
    "print(\"variable 2 = \",var2)\n",
    "print(\"variable 3 = \",var3)"
   ]
  },
  {
   "cell_type": "code",
   "execution_count": 19,
   "metadata": {},
   "outputs": [
    {
     "name": "stdout",
     "output_type": "stream",
     "text": [
      "variable 1 =  Sara\n",
      "variable 2 =  9\n"
     ]
    }
   ],
   "source": [
    "#Intercambiar valores entre dos variables\n",
    "var1 , var2 = var2, var1\n",
    "print(\"variable 1 = \",var1)\n",
    "print(\"variable 2 = \",var2)"
   ]
  },
  {
   "cell_type": "code",
   "execution_count": 20,
   "metadata": {},
   "outputs": [
    {
     "name": "stdout",
     "output_type": "stream",
     "text": [
      "('Sara', 9, [13, 17, 23])\n"
     ]
    }
   ],
   "source": [
    "#Crear una tupla con variables\n",
    "tuples = var1,var2,var3\n",
    "print(tuples)"
   ]
  },
  {
   "cell_type": "code",
   "execution_count": 21,
   "metadata": {},
   "outputs": [
    {
     "name": "stdout",
     "output_type": "stream",
     "text": [
      "x1 =  Sara X2 =  9 X3 =  [13, 17, 23]\n"
     ]
    }
   ],
   "source": [
    "# asignar valores de una tupla a variables\n",
    "x1,x2,x3 = tuples\n",
    "print(\"x1 = \",x1,'X2 = ',x2,'X3 = ',x3)"
   ]
  },
  {
   "cell_type": "markdown",
   "metadata": {},
   "source": [
    "#### Determinar el Tipo de Dato\n",
    "Para conocer el tipo de dato de la variable, use el  **type**\n",
    "\n",
    "type(x)"
   ]
  },
  {
   "cell_type": "code",
   "execution_count": 22,
   "metadata": {},
   "outputs": [
    {
     "name": "stdout",
     "output_type": "stream",
     "text": [
      "2\n"
     ]
    },
    {
     "data": {
      "text/plain": [
       "int"
      ]
     },
     "execution_count": 22,
     "metadata": {},
     "output_type": "execute_result"
    }
   ],
   "source": [
    "print(x)\n",
    "type(x)"
   ]
  },
  {
   "cell_type": "code",
   "execution_count": 23,
   "metadata": {},
   "outputs": [
    {
     "name": "stdout",
     "output_type": "stream",
     "text": [
      "2.5\n"
     ]
    },
    {
     "data": {
      "text/plain": [
       "float"
      ]
     },
     "execution_count": 23,
     "metadata": {},
     "output_type": "execute_result"
    }
   ],
   "source": [
    "print(y)\n",
    "type(y)"
   ]
  },
  {
   "cell_type": "code",
   "execution_count": 24,
   "metadata": {},
   "outputs": [
    {
     "data": {
      "text/plain": [
       "str"
      ]
     },
     "execution_count": 24,
     "metadata": {},
     "output_type": "execute_result"
    }
   ],
   "source": [
    "type(message)"
   ]
  },
  {
   "cell_type": "code",
   "execution_count": 25,
   "metadata": {},
   "outputs": [
    {
     "data": {
      "text/plain": [
       "list"
      ]
     },
     "execution_count": 25,
     "metadata": {},
     "output_type": "execute_result"
    }
   ],
   "source": [
    "type(numeroLista)"
   ]
  },
  {
   "cell_type": "code",
   "execution_count": 26,
   "metadata": {},
   "outputs": [
    {
     "data": {
      "text/plain": [
       "tuple"
      ]
     },
     "execution_count": 26,
     "metadata": {},
     "output_type": "execute_result"
    }
   ],
   "source": [
    "type(TuplaLista)"
   ]
  },
  {
   "cell_type": "code",
   "execution_count": 27,
   "metadata": {},
   "outputs": [
    {
     "data": {
      "text/plain": [
       "dict"
      ]
     },
     "execution_count": 27,
     "metadata": {},
     "output_type": "execute_result"
    }
   ],
   "source": [
    "type(DiccLetras)"
   ]
  },
  {
   "cell_type": "code",
   "execution_count": 28,
   "metadata": {},
   "outputs": [
    {
     "data": {
      "text/plain": [
       "bool"
      ]
     },
     "execution_count": 28,
     "metadata": {},
     "output_type": "execute_result"
    }
   ],
   "source": [
    "type(true)"
   ]
  },
  {
   "cell_type": "code",
   "execution_count": 29,
   "metadata": {},
   "outputs": [
    {
     "data": {
      "text/plain": [
       "NoneType"
      ]
     },
     "execution_count": 29,
     "metadata": {},
     "output_type": "execute_result"
    }
   ],
   "source": [
    "type(null)"
   ]
  },
  {
   "cell_type": "markdown",
   "metadata": {},
   "source": [
    "### Operaciones Basicas\n",
    "#### Operadores Aritmeticos\n",
    "Los **Operadores Aritmeticos** le permiten realizar cálculos utilizando variables en Python:\n",
    "\n",
    "| Simbolo | Operación |\n",
    "|---------|-----------|\n",
    "|    +    | Suma  |\n",
    "| - | Resta |\n",
    "| / | División |\n",
    "| % | Modulo |\n",
    "| * | Multiplicación |\n",
    "| // | División Entera |\n",
    "| ** | Exponenciación |\n",
    "| ~ | Negación |\n",
    "\n",
    "Python realizará las operaciones de manera diferente según el tipo de datos:"
   ]
  },
  {
   "cell_type": "code",
   "execution_count": 30,
   "metadata": {},
   "outputs": [
    {
     "name": "stdout",
     "output_type": "stream",
     "text": [
      "10\n",
      "0\n"
     ]
    }
   ],
   "source": [
    "# Suma y resta\n",
    "print (5+5)\n",
    "print(5-5)"
   ]
  },
  {
   "cell_type": "code",
   "execution_count": 31,
   "metadata": {},
   "outputs": [
    {
     "name": "stdout",
     "output_type": "stream",
     "text": [
      "15\n",
      "5.0\n"
     ]
    }
   ],
   "source": [
    "# Multiplicación y División\n",
    "print(3*5)\n",
    "print(10/2)"
   ]
  },
  {
   "cell_type": "code",
   "execution_count": 32,
   "metadata": {},
   "outputs": [
    {
     "name": "stdout",
     "output_type": "stream",
     "text": [
      "16\n",
      "4\n"
     ]
    }
   ],
   "source": [
    "#Exponenciación y Modulos\n",
    "print(4**2)\n",
    "print(18%7)"
   ]
  },
  {
   "cell_type": "code",
   "execution_count": 33,
   "metadata": {},
   "outputs": [
    {
     "name": "stdout",
     "output_type": "stream",
     "text": [
      "Hola Grupo\n"
     ]
    }
   ],
   "source": [
    "#Operaciones con String\n",
    "mensaje1 = 'Hola '\n",
    "mensaje2 = 'Grupo'\n",
    "print(mensaje1+mensaje2)"
   ]
  },
  {
   "cell_type": "code",
   "execution_count": 34,
   "metadata": {},
   "outputs": [
    {
     "name": "stdout",
     "output_type": "stream",
     "text": [
      "Hola Hola \n"
     ]
    }
   ],
   "source": [
    "#Operaciones con string\n",
    "mensaje1 = 'Hola '\n",
    "print(mensaje1*2)"
   ]
  },
  {
   "cell_type": "code",
   "execution_count": 35,
   "metadata": {},
   "outputs": [
    {
     "name": "stdout",
     "output_type": "stream",
     "text": [
      "1\n"
     ]
    }
   ],
   "source": [
    "print(true+false)"
   ]
  },
  {
   "cell_type": "code",
   "execution_count": 36,
   "metadata": {},
   "outputs": [
    {
     "name": "stdout",
     "output_type": "stream",
     "text": [
      "3.5\n"
     ]
    }
   ],
   "source": [
    "print(1+2.5)"
   ]
  },
  {
   "cell_type": "markdown",
   "metadata": {},
   "source": [
    "#### Operadores Relacionales\n",
    "**Operadores Relacionales** permiten que compares variables en Python:\n",
    "\n",
    "| Simbolo | Operación |\n",
    "|---------|-----------|\n",
    "| == | Verdadero, si los dos valores son iguales |\n",
    "| is | Verdadero, si es identico, es decir, el mismo objeto |\n",
    "| != | Verdadero, si no son iguales |\n",
    "| < | Menor que |\n",
    "| > | Mayor que |\n",
    "| <= | Menor o igual que |\n",
    "| >= | Mayor o igual que |\n",
    "| in | Prueba de pertenencia a una colección (lista,conjunto, diccionario) |"
   ]
  },
  {
   "cell_type": "code",
   "execution_count": 37,
   "metadata": {},
   "outputs": [
    {
     "data": {
      "text/plain": [
       "True"
      ]
     },
     "execution_count": 37,
     "metadata": {},
     "output_type": "execute_result"
    }
   ],
   "source": [
    "x == 2"
   ]
  },
  {
   "cell_type": "code",
   "execution_count": 38,
   "metadata": {},
   "outputs": [
    {
     "data": {
      "text/plain": [
       "False"
      ]
     },
     "execution_count": 38,
     "metadata": {},
     "output_type": "execute_result"
    }
   ],
   "source": [
    " x != 2"
   ]
  },
  {
   "cell_type": "code",
   "execution_count": 39,
   "metadata": {},
   "outputs": [
    {
     "data": {
      "text/plain": [
       "True"
      ]
     },
     "execution_count": 39,
     "metadata": {},
     "output_type": "execute_result"
    }
   ],
   "source": [
    "x > 1"
   ]
  },
  {
   "cell_type": "code",
   "execution_count": 40,
   "metadata": {},
   "outputs": [
    {
     "data": {
      "text/plain": [
       "[1, 2, 3]"
      ]
     },
     "execution_count": 40,
     "metadata": {},
     "output_type": "execute_result"
    }
   ],
   "source": [
    "numeroLista"
   ]
  },
  {
   "cell_type": "code",
   "execution_count": 41,
   "metadata": {},
   "outputs": [
    {
     "data": {
      "text/plain": [
       "False"
      ]
     },
     "execution_count": 41,
     "metadata": {},
     "output_type": "execute_result"
    }
   ],
   "source": [
    "numeroLista is [1,2,3]"
   ]
  },
  {
   "cell_type": "code",
   "execution_count": 42,
   "metadata": {},
   "outputs": [
    {
     "data": {
      "text/plain": [
       "True"
      ]
     },
     "execution_count": 42,
     "metadata": {},
     "output_type": "execute_result"
    }
   ],
   "source": [
    "objeto = numeroLista\n",
    "objeto is numeroLista"
   ]
  },
  {
   "cell_type": "code",
   "execution_count": 43,
   "metadata": {},
   "outputs": [
    {
     "data": {
      "text/plain": [
       "True"
      ]
     },
     "execution_count": 43,
     "metadata": {},
     "output_type": "execute_result"
    }
   ],
   "source": [
    "numeroLista is objeto"
   ]
  },
  {
   "cell_type": "code",
   "execution_count": 44,
   "metadata": {},
   "outputs": [
    {
     "data": {
      "text/plain": [
       "True"
      ]
     },
     "execution_count": 44,
     "metadata": {},
     "output_type": "execute_result"
    }
   ],
   "source": [
    "null is None"
   ]
  },
  {
   "cell_type": "markdown",
   "metadata": {},
   "source": [
    "#### Conversiones entre Tipos de Datos\n",
    "Python permite que explicitamente conviertas variables de un tipo a otro. Esto es llamado casting:\n",
    "\n",
    "```python\n",
    "int(<Variable>)\n",
    "float(<Variable>)\n",
    "str(<Variable>)\n",
    "list(<Variable>)\n",
    "tuple(<Variable>)\n",
    "dict(<Variable>)\n",
    "```"
   ]
  },
  {
   "cell_type": "code",
   "execution_count": 45,
   "metadata": {},
   "outputs": [
    {
     "name": "stdout",
     "output_type": "stream",
     "text": [
      "['a', 'b', 'c']\n",
      "<class 'list'>\n",
      "('a', 'b', 'c')\n",
      "<class 'tuple'>\n"
     ]
    }
   ],
   "source": [
    "#Convertir de lista a tupla\n",
    "# nofunciona use el comand del tuple\n",
    "print(stringLista)\n",
    "print(type(stringLista))\n",
    "print(tuple(stringLista))\n",
    "print(type(tuple(stringLista)))"
   ]
  },
  {
   "cell_type": "code",
   "execution_count": 46,
   "metadata": {},
   "outputs": [
    {
     "name": "stdout",
     "output_type": "stream",
     "text": [
      "123\n",
      "<class 'str'>\n",
      "123\n",
      "<class 'int'>\n"
     ]
    }
   ],
   "source": [
    "# Convertir de String a entero\n",
    "print('123')\n",
    "print(type('123'))\n",
    "print(int('123'))\n",
    "print(type(int('123')))"
   ]
  },
  {
   "cell_type": "code",
   "execution_count": 47,
   "metadata": {},
   "outputs": [
    {
     "ename": "ValueError",
     "evalue": "could not convert string to float: 'Juan'",
     "output_type": "error",
     "traceback": [
      "\u001b[1;31m---------------------------------------------------------------------------\u001b[0m",
      "\u001b[1;31mValueError\u001b[0m                                Traceback (most recent call last)",
      "\u001b[1;32m<ipython-input-47-89956cb40d55>\u001b[0m in \u001b[0;36m<module>\u001b[1;34m\u001b[0m\n\u001b[1;32m----> 1\u001b[1;33m \u001b[0mfloat\u001b[0m\u001b[1;33m(\u001b[0m\u001b[1;34m'Juan'\u001b[0m\u001b[1;33m)\u001b[0m\u001b[1;33m\u001b[0m\u001b[1;33m\u001b[0m\u001b[0m\n\u001b[0m",
      "\u001b[1;31mValueError\u001b[0m: could not convert string to float: 'Juan'"
     ]
    }
   ],
   "source": [
    "float('Juan')"
   ]
  },
  {
   "cell_type": "markdown",
   "metadata": {},
   "source": [
    "### Funciones Integradas\n",
    "Una **Función** es unbloque de código asociado a un nombre, la cual recibe cero o mas argumentos de entrada, seguido de una serie de instrucciones, y retorna un valor o realiza una tarea.\n",
    "\n",
    "Python tiene una serie de ([Funciones-Integrada](https://docs.python.org/3/library/functions.html)) funciones integradas dentro del lenguaje. Ejemplo de estas funciones como las que vimos anteriormente, tal como convertir yipos de datos e imprimir."
   ]
  },
  {
   "cell_type": "code",
   "execution_count": 48,
   "metadata": {},
   "outputs": [
    {
     "name": "stdout",
     "output_type": "stream",
     "text": [
      "Por Favor ingrese un entero: 2\n",
      "4\n"
     ]
    }
   ],
   "source": [
    "#Guardar valores del teclado\n",
    "input1 = int(input(\"Por Favor ingrese un entero: \"))\n",
    "print(input1**2)"
   ]
  },
  {
   "cell_type": "code",
   "execution_count": 49,
   "metadata": {},
   "outputs": [
    {
     "name": "stdout",
     "output_type": "stream",
     "text": [
      "1\n"
     ]
    }
   ],
   "source": [
    "#Valor Absoluto de un numero\n",
    "print(abs(-1))"
   ]
  },
  {
   "cell_type": "markdown",
   "metadata": {},
   "source": [
    "#### Ejercicio 1\n",
    "Corra las siguientes 3 celdas y infiera que hace la función integrada con uno o dos argumentos"
   ]
  },
  {
   "cell_type": "code",
   "execution_count": 50,
   "metadata": {},
   "outputs": [
    {
     "data": {
      "text/plain": [
       "-5"
      ]
     },
     "execution_count": 50,
     "metadata": {},
     "output_type": "execute_result"
    }
   ],
   "source": [
    "round(-4.78)"
   ]
  },
  {
   "cell_type": "code",
   "execution_count": 51,
   "metadata": {},
   "outputs": [
    {
     "data": {
      "text/plain": [
       "-3.1415"
      ]
     },
     "execution_count": 51,
     "metadata": {},
     "output_type": "execute_result"
    }
   ],
   "source": [
    "round(-3.141516297,4)"
   ]
  },
  {
   "cell_type": "code",
   "execution_count": 52,
   "metadata": {},
   "outputs": [
    {
     "data": {
      "text/plain": [
       "-3.14152"
      ]
     },
     "execution_count": 52,
     "metadata": {},
     "output_type": "execute_result"
    }
   ],
   "source": [
    "round(-3.141516297,5)"
   ]
  },
  {
   "cell_type": "markdown",
   "metadata": {},
   "source": [
    "#### Ejercicio 2\n",
    "De la Funciones integradas de la pagina, lea y mire como se usa las funciones `min()`y `max()`.\n",
    "Entonces:\n",
    "- Cree una lista con los valores 42,17 y 68\n",
    "- Use la función `min()` e imprima el valor\n",
    "- Use la función `max()`e imprima el valor"
   ]
  },
  {
   "cell_type": "code",
   "execution_count": 53,
   "metadata": {},
   "outputs": [
    {
     "name": "stdout",
     "output_type": "stream",
     "text": [
      "17\n",
      "68\n"
     ]
    }
   ],
   "source": [
    "Lista = [42,17,68]\n",
    "print(min(Lista))\n",
    "print(max(Lista))"
   ]
  },
  {
   "cell_type": "markdown",
   "metadata": {},
   "source": [
    "### Ayuda Adicional\n",
    "Python tiene los operadores `help()` y `?`, el cual retorna una descripción de la función que nosotros deseamos conocer."
   ]
  },
  {
   "cell_type": "code",
   "execution_count": 54,
   "metadata": {},
   "outputs": [
    {
     "name": "stdout",
     "output_type": "stream",
     "text": [
      "Help on class range in module builtins:\n",
      "\n",
      "class range(object)\n",
      " |  range(stop) -> range object\n",
      " |  range(start, stop[, step]) -> range object\n",
      " |  \n",
      " |  Return an object that produces a sequence of integers from start (inclusive)\n",
      " |  to stop (exclusive) by step.  range(i, j) produces i, i+1, i+2, ..., j-1.\n",
      " |  start defaults to 0, and stop is omitted!  range(4) produces 0, 1, 2, 3.\n",
      " |  These are exactly the valid indices for a list of 4 elements.\n",
      " |  When step is given, it specifies the increment (or decrement).\n",
      " |  \n",
      " |  Methods defined here:\n",
      " |  \n",
      " |  __bool__(self, /)\n",
      " |      self != 0\n",
      " |  \n",
      " |  __contains__(self, key, /)\n",
      " |      Return key in self.\n",
      " |  \n",
      " |  __eq__(self, value, /)\n",
      " |      Return self==value.\n",
      " |  \n",
      " |  __ge__(self, value, /)\n",
      " |      Return self>=value.\n",
      " |  \n",
      " |  __getattribute__(self, name, /)\n",
      " |      Return getattr(self, name).\n",
      " |  \n",
      " |  __getitem__(self, key, /)\n",
      " |      Return self[key].\n",
      " |  \n",
      " |  __gt__(self, value, /)\n",
      " |      Return self>value.\n",
      " |  \n",
      " |  __hash__(self, /)\n",
      " |      Return hash(self).\n",
      " |  \n",
      " |  __iter__(self, /)\n",
      " |      Implement iter(self).\n",
      " |  \n",
      " |  __le__(self, value, /)\n",
      " |      Return self<=value.\n",
      " |  \n",
      " |  __len__(self, /)\n",
      " |      Return len(self).\n",
      " |  \n",
      " |  __lt__(self, value, /)\n",
      " |      Return self<value.\n",
      " |  \n",
      " |  __ne__(self, value, /)\n",
      " |      Return self!=value.\n",
      " |  \n",
      " |  __reduce__(...)\n",
      " |      Helper for pickle.\n",
      " |  \n",
      " |  __repr__(self, /)\n",
      " |      Return repr(self).\n",
      " |  \n",
      " |  __reversed__(...)\n",
      " |      Return a reverse iterator.\n",
      " |  \n",
      " |  count(...)\n",
      " |      rangeobject.count(value) -> integer -- return number of occurrences of value\n",
      " |  \n",
      " |  index(...)\n",
      " |      rangeobject.index(value) -> integer -- return index of value.\n",
      " |      Raise ValueError if the value is not present.\n",
      " |  \n",
      " |  ----------------------------------------------------------------------\n",
      " |  Static methods defined here:\n",
      " |  \n",
      " |  __new__(*args, **kwargs) from builtins.type\n",
      " |      Create and return a new object.  See help(type) for accurate signature.\n",
      " |  \n",
      " |  ----------------------------------------------------------------------\n",
      " |  Data descriptors defined here:\n",
      " |  \n",
      " |  start\n",
      " |  \n",
      " |  step\n",
      " |  \n",
      " |  stop\n",
      "\n"
     ]
    }
   ],
   "source": [
    "help(range)"
   ]
  },
  {
   "cell_type": "code",
   "execution_count": 55,
   "metadata": {},
   "outputs": [],
   "source": [
    "?range"
   ]
  },
  {
   "cell_type": "markdown",
   "metadata": {},
   "source": [
    "### Ejercicio 3\n",
    "Use la Función integrada `range()` y pasele los parametros (1,100,5) y convierta el resultado a una lista e imprimalo. Cual es el resultado?"
   ]
  },
  {
   "cell_type": "code",
   "execution_count": null,
   "metadata": {},
   "outputs": [],
   "source": [
    "list(range(1,100,5))"
   ]
  },
  {
   "cell_type": "markdown",
   "metadata": {},
   "source": [
    "### Manejo de Cadenas\n",
    "**Importante: ** Una cadena puede ser definida con doble comilla (\"...\") o una comilla ('...'), pero las dos sintaxis son excatamente la misma cosa"
   ]
  },
  {
   "cell_type": "code",
   "execution_count": 56,
   "metadata": {},
   "outputs": [
    {
     "data": {
      "text/plain": [
       "True"
      ]
     },
     "execution_count": 56,
     "metadata": {},
     "output_type": "execute_result"
    }
   ],
   "source": [
    "'Juan' == \"Juan\""
   ]
  },
  {
   "cell_type": "code",
   "execution_count": 57,
   "metadata": {},
   "outputs": [
    {
     "data": {
      "text/plain": [
       "True"
      ]
     },
     "execution_count": 57,
     "metadata": {},
     "output_type": "execute_result"
    }
   ],
   "source": [
    "'Juan dice: \"Yeah\"' == \"Juan dice: \\\"Yeah\\\"\""
   ]
  },
  {
   "cell_type": "code",
   "execution_count": 58,
   "metadata": {},
   "outputs": [
    {
     "data": {
      "text/plain": [
       "True"
      ]
     },
     "execution_count": 58,
     "metadata": {},
     "output_type": "execute_result"
    }
   ],
   "source": [
    "\"Q' quiere\" == 'Q\\' quiere'"
   ]
  },
  {
   "cell_type": "code",
   "execution_count": 59,
   "metadata": {},
   "outputs": [
    {
     "data": {
      "text/plain": [
       "'Me siento 😄'"
      ]
     },
     "execution_count": 59,
     "metadata": {},
     "output_type": "execute_result"
    }
   ],
   "source": [
    "'Me siento \\U0001F604'"
   ]
  },
  {
   "cell_type": "markdown",
   "metadata": {},
   "source": [
    "### Interpolación de Cadenas\n",
    "La forma más sencilla de insertar dinámicamente variables en cadenas es mediante la interpolación de cadenas. La sintaxis es: `f\"...{var1}...{var2}\"`."
   ]
  },
  {
   "cell_type": "code",
   "execution_count": 60,
   "metadata": {},
   "outputs": [
    {
     "data": {
      "text/plain": [
       "'Juan es 1.7 metros de alto y tiene 2 hermanos'"
      ]
     },
     "execution_count": 60,
     "metadata": {},
     "output_type": "execute_result"
    }
   ],
   "source": [
    "Altura_Juan = 1.70\n",
    "num_hermanos = 2\n",
    "f\"Juan es {Altura_Juan} metros de alto y tiene {num_hermanos} hermanos\""
   ]
  },
  {
   "cell_type": "markdown",
   "metadata": {},
   "source": [
    "La precisión tambien se puede especificar con la sintaxis `...{var:.#f}...`, donde `#` es el numero de digitos decimales"
   ]
  },
  {
   "cell_type": "code",
   "execution_count": 61,
   "metadata": {},
   "outputs": [
    {
     "data": {
      "text/plain": [
       "'Juan es 1.70 metros de alto'"
      ]
     },
     "execution_count": 61,
     "metadata": {},
     "output_type": "execute_result"
    }
   ],
   "source": [
    "f\"Juan es {Altura_Juan:.2f} metros de alto\""
   ]
  },
  {
   "cell_type": "code",
   "execution_count": 62,
   "metadata": {},
   "outputs": [
    {
     "data": {
      "text/plain": [
       "'Juan is 10 cm mas alto que luisa'"
      ]
     },
     "execution_count": 62,
     "metadata": {},
     "output_type": "execute_result"
    }
   ],
   "source": [
    "altura_luisa = 1.60\n",
    "f\"Juan is {round((Altura_Juan - altura_luisa)*100)} cm mas alto que luisa\""
   ]
  },
  {
   "cell_type": "code",
   "execution_count": 63,
   "metadata": {},
   "outputs": [
    {
     "data": {
      "text/plain": [
       "'Juan es 1.7 metros de alto y tiene 2 hermanos'"
      ]
     },
     "execution_count": 63,
     "metadata": {},
     "output_type": "execute_result"
    }
   ],
   "source": [
    "\"Juan es {jh} metros de alto y tiene {ns} hermanos\".format(jh=Altura_Juan,\n",
    "                                                          ns=num_hermanos)"
   ]
  },
  {
   "cell_type": "markdown",
   "metadata": {},
   "source": [
    "Lo siguiente da el mismo resultado, aun que no es tan eficiente:"
   ]
  },
  {
   "cell_type": "code",
   "execution_count": 64,
   "metadata": {},
   "outputs": [
    {
     "data": {
      "text/plain": [
       "'Juan es1.7 Metros de alto y tiene 2 hermanos'"
      ]
     },
     "execution_count": 64,
     "metadata": {},
     "output_type": "execute_result"
    }
   ],
   "source": [
    "\"Juan es\" + str(Altura_Juan) + \" Metros de alto y tiene \" + str(num_hermanos)+\" hermanos\""
   ]
  },
  {
   "cell_type": "markdown",
   "metadata": {},
   "source": [
    "Una cadena también puede contener códigos especiales como nueva linea (`\\n`) y tabulación (`\\t`)"
   ]
  },
  {
   "cell_type": "code",
   "execution_count": 65,
   "metadata": {},
   "outputs": [
    {
     "name": "stdout",
     "output_type": "stream",
     "text": [
      "Juan es 1.7 metros de alto\n",
      "\t y tiene 2 hernanos\n",
      "y hermanas\n"
     ]
    }
   ],
   "source": [
    "a_str = f\"Juan es {Altura_Juan} metros de alto\\n\\t y tiene {num_hermanos} hernanos\\ny hermanas\"\n",
    "print(a_str)"
   ]
  },
  {
   "cell_type": "markdown",
   "metadata": {},
   "source": [
    "### Indexación de Cadenas\n",
    "Las cadenas de Python son cadenas de caracteres y cada caracter reside en un índice que comienza en 0 (para el primer caracter) y termina en -1 (para el último carácter)\n",
    "\n",
    "|G|R|U|P|O|\n",
    "|-|-|-|-|-|\n",
    "|0|1|2|3|4|\n",
    "|-|-|-|-|-|\n",
    "|-5|-4|-3|-2|-1|"
   ]
  },
  {
   "cell_type": "code",
   "execution_count": 66,
   "metadata": {},
   "outputs": [],
   "source": [
    "frase = \"La altura de Juan\""
   ]
  },
  {
   "cell_type": "code",
   "execution_count": 67,
   "metadata": {},
   "outputs": [
    {
     "name": "stdout",
     "output_type": "stream",
     "text": [
      "Primer Caracter: L\n",
      "Ultimo caracter: n\n"
     ]
    }
   ],
   "source": [
    "print(\"Primer Caracter:\",frase[0])\n",
    "print(\"Ultimo caracter:\",frase[-1])"
   ]
  },
  {
   "cell_type": "code",
   "execution_count": 68,
   "metadata": {},
   "outputs": [
    {
     "name": "stdout",
     "output_type": "stream",
     "text": [
      "<class 'str'>\n"
     ]
    }
   ],
   "source": [
    "print(type(frase))"
   ]
  },
  {
   "cell_type": "markdown",
   "metadata": {},
   "source": [
    "Las Cadenas son Inmutables"
   ]
  },
  {
   "cell_type": "code",
   "execution_count": 69,
   "metadata": {},
   "outputs": [
    {
     "ename": "TypeError",
     "evalue": "'str' object does not support item assignment",
     "output_type": "error",
     "traceback": [
      "\u001b[1;31m---------------------------------------------------------------------------\u001b[0m",
      "\u001b[1;31mTypeError\u001b[0m                                 Traceback (most recent call last)",
      "\u001b[1;32m<ipython-input-69-8e7d2af6a248>\u001b[0m in \u001b[0;36m<module>\u001b[1;34m\u001b[0m\n\u001b[1;32m----> 1\u001b[1;33m \u001b[0mfrase\u001b[0m\u001b[1;33m[\u001b[0m\u001b[1;36m1\u001b[0m\u001b[1;33m]\u001b[0m \u001b[1;33m=\u001b[0m \u001b[1;34m'o'\u001b[0m\u001b[1;33m\u001b[0m\u001b[1;33m\u001b[0m\u001b[0m\n\u001b[0m",
      "\u001b[1;31mTypeError\u001b[0m: 'str' object does not support item assignment"
     ]
    }
   ],
   "source": [
    "frase[1] = 'o'"
   ]
  },
  {
   "cell_type": "markdown",
   "metadata": {},
   "source": [
    "Si tu quieres cambiar el valor de un caracter en una cadena, tu deberas usar la función apropiada de el objeto `str`"
   ]
  },
  {
   "cell_type": "code",
   "execution_count": 70,
   "metadata": {},
   "outputs": [
    {
     "data": {
      "text/plain": [
       "'La altora de Joan'"
      ]
     },
     "execution_count": 70,
     "metadata": {},
     "output_type": "execute_result"
    }
   ],
   "source": [
    "str.replace(frase,'u','o')"
   ]
  },
  {
   "cell_type": "code",
   "execution_count": 71,
   "metadata": {},
   "outputs": [
    {
     "data": {
      "text/plain": [
       "'La altura de Juan'"
      ]
     },
     "execution_count": 71,
     "metadata": {},
     "output_type": "execute_result"
    }
   ],
   "source": [
    "frase"
   ]
  },
  {
   "cell_type": "code",
   "execution_count": 72,
   "metadata": {},
   "outputs": [
    {
     "name": "stdout",
     "output_type": "stream",
     "text": [
      "La altora de Joan\n"
     ]
    }
   ],
   "source": [
    "frase = str.replace(frase,'u','o')\n",
    "print(frase)"
   ]
  },
  {
   "cell_type": "markdown",
   "metadata": {},
   "source": [
    "Si tu quieres conocer el tamaño de la cadena de caracteres, use el método `len(<string>)`:"
   ]
  },
  {
   "cell_type": "code",
   "execution_count": 73,
   "metadata": {},
   "outputs": [
    {
     "data": {
      "text/plain": [
       "17"
      ]
     },
     "execution_count": 73,
     "metadata": {},
     "output_type": "execute_result"
    }
   ],
   "source": [
    "len(frase)"
   ]
  },
  {
   "cell_type": "markdown",
   "metadata": {},
   "source": [
    "si tu quieres saber si un caracter esta en la cadena de carecteres, usa el operador `in`."
   ]
  },
  {
   "cell_type": "code",
   "execution_count": 74,
   "metadata": {},
   "outputs": [
    {
     "data": {
      "text/plain": [
       "True"
      ]
     },
     "execution_count": 74,
     "metadata": {},
     "output_type": "execute_result"
    }
   ],
   "source": [
    "'a' in frase"
   ]
  },
  {
   "cell_type": "markdown",
   "metadata": {},
   "source": [
    "### String Slicing -> Subconjuto Caracteres\n",
    "**Rebanar** en Python es una forma poderosa de extraer subpartes de una cadena, lista y tuplas:\n",
    "```\n",
    "str[Inicio:Fin]\n",
    "```\n",
    "\n",
    "`Inicio` especifica donde inicia la sub-cadena, y el `fin` donde este termina (elemento finaliza - 1)\n",
    "\n",
    "|G|R|U|P|O|\n",
    "|-|-|-|-|-|\n",
    "|0|1|2|3|4|\n",
    "\n",
    "\n",
    "```python\n",
    "word = \"GRUPO\"\n",
    "print(word[0:2])\n",
    "```\n",
    "\n",
    "|G|R|\n",
    "|-|-|\n",
    "|0|1|\n"
   ]
  },
  {
   "cell_type": "code",
   "execution_count": 75,
   "metadata": {},
   "outputs": [
    {
     "name": "stdout",
     "output_type": "stream",
     "text": [
      "GR\n"
     ]
    }
   ],
   "source": [
    "word = \"GRUPO\"\n",
    "print(word[0:2])"
   ]
  },
  {
   "cell_type": "code",
   "execution_count": 76,
   "metadata": {},
   "outputs": [
    {
     "name": "stdout",
     "output_type": "stream",
     "text": [
      "GRUP\n"
     ]
    }
   ],
   "source": [
    "#Sub cadena deel inicio de posición, 4 caracteres\n",
    "print(word[0:4])"
   ]
  },
  {
   "cell_type": "code",
   "execution_count": 77,
   "metadata": {},
   "outputs": [
    {
     "name": "stdout",
     "output_type": "stream",
     "text": [
      "GRUP\n"
     ]
    }
   ],
   "source": [
    "#Exactamente lo mismo que arriba, solo que implicitamente infiere que empieza en 0\n",
    "print(word[:4])"
   ]
  },
  {
   "cell_type": "code",
   "execution_count": 78,
   "metadata": {},
   "outputs": [
    {
     "name": "stdout",
     "output_type": "stream",
     "text": [
      "O\n"
     ]
    }
   ],
   "source": [
    "#Subcadena que empieza en 4 hasta el final de los caracteres\n",
    "print(word[4:])"
   ]
  },
  {
   "cell_type": "code",
   "execution_count": 79,
   "metadata": {},
   "outputs": [
    {
     "name": "stdout",
     "output_type": "stream",
     "text": [
      "RUP\n"
     ]
    }
   ],
   "source": [
    "#Subcadena que inicia en la posición 1 al caracter de posicion 4\n",
    "print(word[1:4])"
   ]
  },
  {
   "cell_type": "code",
   "execution_count": 80,
   "metadata": {},
   "outputs": [
    {
     "name": "stdout",
     "output_type": "stream",
     "text": [
      "UPO\n"
     ]
    }
   ],
   "source": [
    "#Subcadena con index negativo, -1 es el final implicito de la cadena\n",
    "print(word[-3:])"
   ]
  },
  {
   "cell_type": "code",
   "execution_count": 81,
   "metadata": {},
   "outputs": [
    {
     "name": "stdout",
     "output_type": "stream",
     "text": [
      "RUP\n"
     ]
    }
   ],
   "source": [
    "#Subcadena con index negativos\n",
    "print(word[-4:-1])"
   ]
  },
  {
   "cell_type": "markdown",
   "metadata": {},
   "source": [
    "### Gestión de Listas\n",
    "\n",
    "También hay un varias cosas que podemos hacer con las listas:"
   ]
  },
  {
   "cell_type": "code",
   "execution_count": 82,
   "metadata": {},
   "outputs": [],
   "source": [
    "lista = [1,2.5,'Grupo',[1,2],10,'Grupo']"
   ]
  },
  {
   "cell_type": "code",
   "execution_count": 83,
   "metadata": {},
   "outputs": [
    {
     "name": "stdout",
     "output_type": "stream",
     "text": [
      "Primer item de la lista: 1\n",
      "Ultimo item de la lista: Grupo\n"
     ]
    }
   ],
   "source": [
    "print('Primer item de la lista:',lista[0])\n",
    "print('Ultimo item de la lista:',lista[-1])"
   ]
  },
  {
   "cell_type": "code",
   "execution_count": 84,
   "metadata": {},
   "outputs": [
    {
     "name": "stdout",
     "output_type": "stream",
     "text": [
      "[1, 2]\n"
     ]
    }
   ],
   "source": [
    "#Obtener el elemento de la posición 3\n",
    "print(lista[3])"
   ]
  },
  {
   "cell_type": "code",
   "execution_count": 85,
   "metadata": {},
   "outputs": [
    {
     "name": "stdout",
     "output_type": "stream",
     "text": [
      "2\n"
     ]
    }
   ],
   "source": [
    "#Si la posición 3 es una lista, entonces nosotros podemos acceder a los elelemtos\n",
    "#de dicha lista de la siguiente manera:\n",
    "#Obtener el elemento de la posición 3, obtener el elemento de esa lista\n",
    "print(lista[3][1])"
   ]
  },
  {
   "cell_type": "code",
   "execution_count": 86,
   "metadata": {},
   "outputs": [
    {
     "name": "stdout",
     "output_type": "stream",
     "text": [
      "[2.5, 'Grupo']\n"
     ]
    }
   ],
   "source": [
    "#Obtener los elementos de la posición del 1 al 3\n",
    "print(lista[1:3])"
   ]
  },
  {
   "cell_type": "code",
   "execution_count": 88,
   "metadata": {},
   "outputs": [
    {
     "name": "stdout",
     "output_type": "stream",
     "text": [
      "[1, 2.5, 'Grupo', [1, 2], 10, 'Grupo', 'Nuevo', 'Nuevo']\n"
     ]
    }
   ],
   "source": [
    "#Agregar un item a la lista\n",
    "lista.append(\"Nuevo\")\n",
    "print(lista)"
   ]
  },
  {
   "cell_type": "code",
   "execution_count": 91,
   "metadata": {},
   "outputs": [
    {
     "name": "stdout",
     "output_type": "stream",
     "text": [
      "[1, 2.5, 'Grupo', [1, 2], 10, 'Grupo', 'Nuevo', 'Nuevo', 'Elemento', 45, 'Elemento', 45]\n"
     ]
    }
   ],
   "source": [
    "#Extend permite agregar elementos, pero al agregar una lista, cada \n",
    "#elemento de esta se agrega como uno mas de la otra lista\n",
    "lista.extend(['Elemento',45])\n",
    "print(lista)"
   ]
  },
  {
   "cell_type": "code",
   "execution_count": 92,
   "metadata": {},
   "outputs": [
    {
     "name": "stdout",
     "output_type": "stream",
     "text": [
      "[1, 2.5, 'Grupo', 1, [1, 2], 10, 'Grupo', 'Nuevo', 'Nuevo', 'Elemento', 45, 'Elemento', 45]\n"
     ]
    }
   ],
   "source": [
    "#Insertar un elemento dada una posición\n",
    "lista.insert(3,1)\n",
    "print(lista)"
   ]
  },
  {
   "cell_type": "code",
   "execution_count": 93,
   "metadata": {},
   "outputs": [
    {
     "name": "stdout",
     "output_type": "stream",
     "text": [
      "[1, 2.5, 'Grupo', 1, [1, 2], 10, 'Grupo', 'Nuevo', 'Elemento', 45, 'Elemento', 45]\n"
     ]
    }
   ],
   "source": [
    "#Remover un item de la lista\n",
    "lista.remove('Nuevo')\n",
    "print(lista)"
   ]
  },
  {
   "cell_type": "code",
   "execution_count": 94,
   "metadata": {},
   "outputs": [
    {
     "name": "stdout",
     "output_type": "stream",
     "text": [
      "2\n"
     ]
    }
   ],
   "source": [
    "#Retorna el numero del index de el elemento pasado a este por parametro\n",
    "print(lista.index('Grupo'))"
   ]
  },
  {
   "cell_type": "code",
   "execution_count": 95,
   "metadata": {},
   "outputs": [
    {
     "name": "stdout",
     "output_type": "stream",
     "text": [
      "Grupo\n",
      "[1, 2.5, 1, [1, 2], 10, 'Grupo', 'Nuevo', 'Elemento', 45, 'Elemento', 45]\n"
     ]
    }
   ],
   "source": [
    "#Retorna el elemento dada la posición en la lista y lo remueve\n",
    "print(lista.pop(2))\n",
    "print(lista)"
   ]
  },
  {
   "cell_type": "code",
   "execution_count": 96,
   "metadata": {},
   "outputs": [
    {
     "name": "stdout",
     "output_type": "stream",
     "text": [
      "2\n"
     ]
    }
   ],
   "source": [
    "#Devuelve cuántas veces se repite un elemento de una lista.\n",
    "print(lista.count('Elemento'))"
   ]
  },
  {
   "cell_type": "code",
   "execution_count": 97,
   "metadata": {},
   "outputs": [
    {
     "name": "stdout",
     "output_type": "stream",
     "text": [
      "[45, 'Elemento', 45, 'Elemento', 'Nuevo', 'Grupo', 10, [1, 2], 1, 2.5, 1]\n"
     ]
    }
   ],
   "source": [
    "#Invierte los elementos de una lista\n",
    "lista.reverse()\n",
    "print(lista)"
   ]
  },
  {
   "cell_type": "code",
   "execution_count": 99,
   "metadata": {},
   "outputs": [
    {
     "name": "stdout",
     "output_type": "stream",
     "text": [
      "Help on NoneType object:\n",
      "\n",
      "class NoneType(object)\n",
      " |  Methods defined here:\n",
      " |  \n",
      " |  __bool__(self, /)\n",
      " |      self != 0\n",
      " |  \n",
      " |  __repr__(self, /)\n",
      " |      Return repr(self).\n",
      " |  \n",
      " |  ----------------------------------------------------------------------\n",
      " |  Static methods defined here:\n",
      " |  \n",
      " |  __new__(*args, **kwargs) from builtins.type\n",
      " |      Create and return a new object.  See help(type) for accurate signature.\n",
      "\n"
     ]
    }
   ],
   "source": [
    "help(lista.reverse())"
   ]
  },
  {
   "cell_type": "code",
   "execution_count": 100,
   "metadata": {},
   "outputs": [
    {
     "name": "stdout",
     "output_type": "stream",
     "text": [
      "[3, 2.5, 1, [1, 2], 10, 'Grupo', 'Nuevo', 'Elemento', 45, 'Elemento', 45]\n"
     ]
    }
   ],
   "source": [
    "#Las lista son mutables\n",
    "lista[0] = 3\n",
    "print(lista)"
   ]
  },
  {
   "cell_type": "code",
   "execution_count": 101,
   "metadata": {},
   "outputs": [
    {
     "data": {
      "text/plain": [
       "True"
      ]
     },
     "execution_count": 101,
     "metadata": {},
     "output_type": "execute_result"
    }
   ],
   "source": [
    "3 in lista"
   ]
  },
  {
   "cell_type": "markdown",
   "metadata": {},
   "source": [
    "### Gestión de Diccionaros\n",
    "Contrario a las listas, los diccionarios no tienen un orden implicito.Se crean poniendo sus elemetos entre llaves (`{\"a\":\"Colombia\",\"b\":\"Barcelona\"}`). Las **Claves** se denominan **Palabras** y evaluan las deficiones. Logicamente, No puede haber dos claves equivalentes, pero puede haber dos valores iguales."
   ]
  },
  {
   "cell_type": "code",
   "execution_count": 102,
   "metadata": {},
   "outputs": [
    {
     "name": "stdout",
     "output_type": "stream",
     "text": [
      "{'Piloto 1': 'Juan', 'Piloto 2': 'Daniel', 'Piloto 3': 'Elkin'}\n"
     ]
    }
   ],
   "source": [
    "diccionario = {\n",
    "    \"Piloto 1\":\"Juan\",\n",
    "    \"Piloto 2\":\"Daniel\",\n",
    "    \"Piloto 3\":\"Elkin\"\n",
    "}\n",
    "print(diccionario)"
   ]
  },
  {
   "cell_type": "code",
   "execution_count": 104,
   "metadata": {},
   "outputs": [
    {
     "name": "stdout",
     "output_type": "stream",
     "text": [
      "Juan\n",
      "Juan\n"
     ]
    }
   ],
   "source": [
    "#Retornar los valores que corresponde a la llave entrada\n",
    "print(diccionario.get(\"Piloto 1\"))\n",
    "print(diccionario[\"Piloto 1\"])"
   ]
  },
  {
   "cell_type": "code",
   "execution_count": 105,
   "metadata": {},
   "outputs": [
    {
     "name": "stdout",
     "output_type": "stream",
     "text": [
      "Juan\n",
      "{'Piloto 2': 'Daniel', 'Piloto 3': 'Elkin'}\n"
     ]
    }
   ],
   "source": [
    "#Retornar los valor correspondiente al entrar la llave, y entonces borra\n",
    "#las clave y el valor\n",
    "print(diccionario.pop(\"Piloto 1\"))\n",
    "print(diccionario)"
   ]
  },
  {
   "cell_type": "code",
   "execution_count": 106,
   "metadata": {},
   "outputs": [
    {
     "name": "stdout",
     "output_type": "stream",
     "text": [
      "{'Piloto 2': 'Jairo', 'Piloto 3': 'Elkin', 'Piloto 4': 'Maria'}\n"
     ]
    }
   ],
   "source": [
    "#Actualiza el valor de una determinada clave o la crea si no existe\n",
    "diccionario.update({\"Piloto 4\":\"Maria\"})\n",
    "diccionario.update({\"Piloto 2\": \"Jairo\"})\n",
    "print(diccionario)"
   ]
  },
  {
   "cell_type": "code",
   "execution_count": 107,
   "metadata": {},
   "outputs": [
    {
     "name": "stdout",
     "output_type": "stream",
     "text": [
      "{'Piloto 2': 'Jairo', 'Piloto 3': 'Elkin', 'Piloto 4': 'Maria', 'Piloto 5': 'Felipe'}\n"
     ]
    }
   ],
   "source": [
    "diccionario[\"Piloto 5\"] = \"Felipe\"\n",
    "print(diccionario)"
   ]
  },
  {
   "cell_type": "code",
   "execution_count": 108,
   "metadata": {},
   "outputs": [
    {
     "name": "stdout",
     "output_type": "stream",
     "text": [
      "True\n",
      "False\n",
      "False\n"
     ]
    }
   ],
   "source": [
    "#Clave in diccionario: retorna verdadero o falso si la definición\n",
    "#Existe en el diccionario\n",
    "print(\"Piloto 2\" in diccionario)\n",
    "print(\"Piloto 1\" in diccionario)\n",
    "print(\"Jairo\" in diccionario)"
   ]
  },
  {
   "cell_type": "code",
   "execution_count": 109,
   "metadata": {},
   "outputs": [
    {
     "name": "stdout",
     "output_type": "stream",
     "text": [
      "True\n"
     ]
    }
   ],
   "source": [
    "#diccionario.values(): retorna verdadero o Falso si la definición\n",
    "#Existe en el diccionario\n",
    "print(\"Jairo\" in diccionario.values())"
   ]
  },
  {
   "cell_type": "code",
   "execution_count": 110,
   "metadata": {},
   "outputs": [
    {
     "name": "stdout",
     "output_type": "stream",
     "text": [
      "{'Piloto 3': 'Elkin', 'Piloto 4': 'Maria', 'Piloto 5': 'Felipe'}\n"
     ]
    }
   ],
   "source": [
    "# del diccionario.[\"XXX\"]: elimina el valor (y la clave) asociada a esa\n",
    "#llave\n",
    "del diccionario[\"Piloto 2\"]\n",
    "print(diccionario)"
   ]
  },
  {
   "cell_type": "markdown",
   "metadata": {},
   "source": [
    "### Manejo de Tuplas\n",
    "\n",
    "Las tuplas son inmutables una vez creadas, ni su contenido ni su tamaño se pueden modificar"
   ]
  },
  {
   "cell_type": "code",
   "execution_count": 111,
   "metadata": {},
   "outputs": [],
   "source": [
    "tupla1 = (1,2,3,4,5)\n",
    "tupla2 = (6,7,8,9,10)"
   ]
  },
  {
   "cell_type": "code",
   "execution_count": 112,
   "metadata": {},
   "outputs": [
    {
     "name": "stdout",
     "output_type": "stream",
     "text": [
      "(1, 2, 3, 4, 5, 6, 7, 8, 9, 10)\n"
     ]
    }
   ],
   "source": [
    "#Concatenar tuplas\n",
    "tupla3 = tupla1 + tupla2\n",
    "print(tupla3)"
   ]
  },
  {
   "cell_type": "code",
   "execution_count": 113,
   "metadata": {},
   "outputs": [
    {
     "name": "stdout",
     "output_type": "stream",
     "text": [
      "False\n",
      "True\n"
     ]
    }
   ],
   "source": [
    "#Validar si un elemento esta en la tupla\n",
    "print( 7 in tupla1)\n",
    "print(7 in tupla2)"
   ]
  },
  {
   "cell_type": "code",
   "execution_count": 114,
   "metadata": {},
   "outputs": [
    {
     "name": "stdout",
     "output_type": "stream",
     "text": [
      "4\n"
     ]
    }
   ],
   "source": [
    "#Retornar el index de un elemento\n",
    "print(tupla1.index(5))"
   ]
  },
  {
   "cell_type": "code",
   "execution_count": 115,
   "metadata": {},
   "outputs": [
    {
     "name": "stdout",
     "output_type": "stream",
     "text": [
      "4\n"
     ]
    }
   ],
   "source": [
    "#Retornar cuantas veces se repite un elemento\n",
    "tupla4 = (65,67,5,67,34,76,67,231,98,67)\n",
    "print(tupla4.count(67))"
   ]
  },
  {
   "cell_type": "code",
   "execution_count": 116,
   "metadata": {},
   "outputs": [
    {
     "name": "stdout",
     "output_type": "stream",
     "text": [
      "34\n",
      "67\n",
      "(65, 67, 5, 67)\n",
      "(76, 67, 231, 98, 67)\n",
      "(34, 76, 67, 231)\n",
      "(67, 34, 76)\n"
     ]
    }
   ],
   "source": [
    "#Indexación\n",
    "print(tupla4[4])\n",
    "print(tupla4[-4])\n",
    "print(tupla4[:4])\n",
    "print(tupla4[5:])\n",
    "print(tupla4[-6:-2])\n",
    "print(tupla4[3:6])"
   ]
  },
  {
   "cell_type": "markdown",
   "metadata": {},
   "source": [
    "### Funciones definidas por el usuario\n",
    "Tu puedes definir tus propias funciones en Python usando la declaración `def`"
   ]
  },
  {
   "cell_type": "code",
   "execution_count": 117,
   "metadata": {},
   "outputs": [],
   "source": [
    "def miFuncion():\n",
    "    print(\"Hola Mundo\")"
   ]
  },
  {
   "cell_type": "code",
   "execution_count": 118,
   "metadata": {},
   "outputs": [
    {
     "name": "stdout",
     "output_type": "stream",
     "text": [
      "Hola Mundo\n"
     ]
    }
   ],
   "source": [
    "miFuncion()"
   ]
  },
  {
   "cell_type": "code",
   "execution_count": 119,
   "metadata": {},
   "outputs": [
    {
     "name": "stdout",
     "output_type": "stream",
     "text": [
      "Hola Mundo\n",
      "None\n"
     ]
    }
   ],
   "source": [
    "salida = miFuncion()\n",
    "print(salida)"
   ]
  },
  {
   "cell_type": "markdown",
   "metadata": {},
   "source": [
    "notará que `miFunción()` no da ningún resultado a pesar de imprimir \"Hola Mundo\". Esto se debe a que no se le ha indicado que devuelva un valor. Esto se puede hacer usando la palabra clave `return`, y al resultado se le puede asignar una variable:"
   ]
  },
  {
   "cell_type": "code",
   "execution_count": 120,
   "metadata": {},
   "outputs": [],
   "source": [
    "def miFuncion():\n",
    "    return \"Hola Mundo\""
   ]
  },
  {
   "cell_type": "code",
   "execution_count": 122,
   "metadata": {},
   "outputs": [
    {
     "name": "stdout",
     "output_type": "stream",
     "text": [
      "Hola Mundo\n",
      "Hola Mundo\n"
     ]
    }
   ],
   "source": [
    "mensaje = miFuncion()\n",
    "print(miFuncion())\n",
    "print(mensaje)"
   ]
  },
  {
   "cell_type": "markdown",
   "metadata": {},
   "source": [
    "Las funciones pueden tambien recibir parametros de entrdas para hacer su trabajo"
   ]
  },
  {
   "cell_type": "code",
   "execution_count": 123,
   "metadata": {},
   "outputs": [],
   "source": [
    "def miFuncion(nombre,apellido):\n",
    "    return nombre + \" \" + apellido"
   ]
  },
  {
   "cell_type": "code",
   "execution_count": 124,
   "metadata": {},
   "outputs": [
    {
     "name": "stdout",
     "output_type": "stream",
     "text": [
      "Jhon Cruz\n"
     ]
    }
   ],
   "source": [
    "mensaje = miFuncion(\"Jhon\",\"Cruz\")\n",
    "print(mensaje)"
   ]
  },
  {
   "cell_type": "markdown",
   "metadata": {},
   "source": [
    "Además, estos parámetros de entrada pueden tener valores predeterminados"
   ]
  },
  {
   "cell_type": "code",
   "execution_count": 133,
   "metadata": {},
   "outputs": [],
   "source": [
    "def miFuncion(nombre,apellido,mensaje=\"Hola\"):\n",
    "    return mensaje + \" \" + nombre + \" \" + apellido"
   ]
  },
  {
   "cell_type": "code",
   "execution_count": 134,
   "metadata": {},
   "outputs": [
    {
     "name": "stdout",
     "output_type": "stream",
     "text": [
      "Hola Jhon Cruz\n"
     ]
    }
   ],
   "source": [
    "msj = miFuncion(\"Jhon\",\"Cruz\")\n",
    "print(msj)"
   ]
  },
  {
   "cell_type": "code",
   "execution_count": 135,
   "metadata": {},
   "outputs": [
    {
     "name": "stdout",
     "output_type": "stream",
     "text": [
      "Chao Jhon Cruz\n"
     ]
    }
   ],
   "source": [
    "msj = miFuncion(\"Jhon\",\"Cruz\",\"Chao\")\n",
    "print(msj)"
   ]
  },
  {
   "cell_type": "markdown",
   "metadata": {},
   "source": [
    "### Ejercicio 4:\n",
    "Escriba una función que calcule un valor conforme a la siguiente formula:\n",
    "\n",
    "**Q=sqrt((2*C)/H)**\n",
    "\n",
    "Cuando C y H son numeros enteros. La función debe retornar el valor de **Q**.\n",
    "\n",
    "**Pistas:** en Python tu puedes importar librerias y paquetes usando `import`. Para este ejercicio, nosotros debemos importar la libreria matematica `math`. Usa el método de `sqrt`, simplemente escribiendo math.sqrt(<numero>)."
   ]
  },
  {
   "cell_type": "code",
   "execution_count": 136,
   "metadata": {},
   "outputs": [],
   "source": [
    "import math\n",
    "def formula(c,h):\n",
    "    q = math.sqrt((2*c)/h)\n",
    "    return q"
   ]
  },
  {
   "cell_type": "code",
   "execution_count": 137,
   "metadata": {},
   "outputs": [
    {
     "data": {
      "text/plain": [
       "1.1547005383792515"
      ]
     },
     "execution_count": 137,
     "metadata": {},
     "output_type": "execute_result"
    }
   ],
   "source": [
    "formula(2,3)"
   ]
  },
  {
   "cell_type": "markdown",
   "metadata": {},
   "source": [
    "### Ejercicio 5:\n",
    "\n",
    "Escriba una función que calcule el area de un triangulo:\n",
    "\n",
    "**Area = (Base*Altura)/2**\n",
    "\n",
    "La Base y la altura son enteros o numeros reales. la función debe retornar el valor del area"
   ]
  },
  {
   "cell_type": "code",
   "execution_count": 138,
   "metadata": {},
   "outputs": [],
   "source": [
    "def area(base,altura):\n",
    "    return (base*altura)/2"
   ]
  },
  {
   "cell_type": "code",
   "execution_count": 139,
   "metadata": {},
   "outputs": [
    {
     "data": {
      "text/plain": [
       "5.75"
      ]
     },
     "execution_count": 139,
     "metadata": {},
     "output_type": "execute_result"
    }
   ],
   "source": [
    "area(5,2.3)"
   ]
  },
  {
   "cell_type": "markdown",
   "metadata": {},
   "source": [
    "### Ejercicio 6:\n",
    "\n",
    "Escriba una función que reciba como parametros un enetero y una lista. Este debe agregar el numero elevado al cubo a la lista y retornar la lista con el nuevo elemento"
   ]
  },
  {
   "cell_type": "code",
   "execution_count": 143,
   "metadata": {},
   "outputs": [],
   "source": [
    "def cubo (numero,lista):\n",
    "    lista.append(numero**3)\n",
    "    return lista"
   ]
  },
  {
   "cell_type": "code",
   "execution_count": 144,
   "metadata": {},
   "outputs": [
    {
     "name": "stdout",
     "output_type": "stream",
     "text": [
      "[1, 2, 3, 4, 5, 125]\n"
     ]
    }
   ],
   "source": [
    "print(cubo(5,[1,2,3,4,5]))"
   ]
  },
  {
   "cell_type": "markdown",
   "metadata": {},
   "source": [
    "### Conjunto en Python\n",
    "Python tiene un tipo de datos de conjunto que nos permite trabajar con conjuntos y realizar operaciones de conjunto en estas variables. este se define con llaves (`{}`) y los elementos son seperados con comas.\n",
    "\n",
    "```python\n",
    "c={1,2,3}\n",
    "```"
   ]
  },
  {
   "cell_type": "code",
   "execution_count": 145,
   "metadata": {},
   "outputs": [],
   "source": [
    "#Definicón de conjuntos\n",
    "c1 = {1,2,3,4,5,6}\n",
    "c2 = {2,4,6,8,10}\n",
    "c3 = {1,2,3}\n",
    "c4 = {4,5,6}"
   ]
  },
  {
   "cell_type": "code",
   "execution_count": 146,
   "metadata": {},
   "outputs": [
    {
     "name": "stdout",
     "output_type": "stream",
     "text": [
      "{1, 2, 3, 4, 5, 6, 8, 10}\n",
      "{1, 2, 3, 4, 5, 6, 8, 10}\n"
     ]
    }
   ],
   "source": [
    "#Union de conjuntos\n",
    "print(c1|c2)\n",
    "print(c1|c2|c3)"
   ]
  },
  {
   "cell_type": "code",
   "execution_count": 147,
   "metadata": {},
   "outputs": [
    {
     "name": "stdout",
     "output_type": "stream",
     "text": [
      "{1, 2, 3, 4, 5, 6, 8, 10}\n"
     ]
    }
   ],
   "source": [
    "#la union tambien se puede hacer con el metodo\n",
    "print(c1.union(c2))"
   ]
  },
  {
   "cell_type": "code",
   "execution_count": 148,
   "metadata": {},
   "outputs": [
    {
     "name": "stdout",
     "output_type": "stream",
     "text": [
      "{2, 4, 6}\n",
      "set()\n"
     ]
    }
   ],
   "source": [
    "#intersección de conjuntos\n",
    "print(c1&c2)\n",
    "print(c1 & c2 & c3 & c4)"
   ]
  },
  {
   "cell_type": "code",
   "execution_count": 149,
   "metadata": {},
   "outputs": [
    {
     "name": "stdout",
     "output_type": "stream",
     "text": [
      "{2}\n"
     ]
    }
   ],
   "source": [
    "#la intersección se puede hacer con el método\n",
    "print(c1.intersection(c2,c3))"
   ]
  },
  {
   "cell_type": "code",
   "execution_count": 150,
   "metadata": {},
   "outputs": [
    {
     "name": "stdout",
     "output_type": "stream",
     "text": [
      "{1, 3, 5}\n"
     ]
    }
   ],
   "source": [
    "#Diferencia de conjuntos\n",
    "print(c1-c2)"
   ]
  },
  {
   "cell_type": "code",
   "execution_count": 151,
   "metadata": {},
   "outputs": [
    {
     "name": "stdout",
     "output_type": "stream",
     "text": [
      "{1, 3, 5}\n"
     ]
    }
   ],
   "source": [
    "#Diferencia de conjunto con métodos\n",
    "print(c1.difference(c2))"
   ]
  },
  {
   "cell_type": "code",
   "execution_count": 153,
   "metadata": {},
   "outputs": [
    {
     "name": "stdout",
     "output_type": "stream",
     "text": [
      "{1, 3, 5, 8, 10}\n"
     ]
    }
   ],
   "source": [
    "#union exclusiva\n",
    "print(c1^c2)"
   ]
  },
  {
   "cell_type": "code",
   "execution_count": 154,
   "metadata": {},
   "outputs": [
    {
     "name": "stdout",
     "output_type": "stream",
     "text": [
      "{1, 3, 5, 8, 10}\n"
     ]
    }
   ],
   "source": [
    "#Union exclusiva con el metodo\n",
    "print(c1.symmetric_difference(c2))"
   ]
  },
  {
   "cell_type": "code",
   "execution_count": 155,
   "metadata": {},
   "outputs": [
    {
     "name": "stdout",
     "output_type": "stream",
     "text": [
      "No\n"
     ]
    }
   ],
   "source": [
    "z = 11\n",
    "if z > 10 and z == 0:\n",
    "    print(\"ok\")\n",
    "else:\n",
    "    print(\"No\")"
   ]
  },
  {
   "cell_type": "code",
   "execution_count": 157,
   "metadata": {},
   "outputs": [
    {
     "name": "stdout",
     "output_type": "stream",
     "text": [
      "Z esta entre -10 y 10 pero no es 0\n"
     ]
    }
   ],
   "source": [
    "z = -6\n",
    "if z > 10:\n",
    "    print(\"A: Esto es grande\")\n",
    "    print(\"B: Eso es lo que ella dice\")\n",
    "elif z == 0:\n",
    "    print(\"Z es igual a 0\")\n",
    "elif z > -10:\n",
    "    print(\"Z esta entre -10 y 10 pero no es 0\")\n",
    "else:\n",
    "    print(\"Z es probablemnete negativo, quien sabe\")"
   ]
  }
 ],
 "metadata": {
  "kernelspec": {
   "display_name": "Python 3",
   "language": "python",
   "name": "python3"
  },
  "language_info": {
   "codemirror_mode": {
    "name": "ipython",
    "version": 3
   },
   "file_extension": ".py",
   "mimetype": "text/x-python",
   "name": "python",
   "nbconvert_exporter": "python",
   "pygments_lexer": "ipython3",
   "version": "3.7.4"
  }
 },
 "nbformat": 4,
 "nbformat_minor": 4
}
