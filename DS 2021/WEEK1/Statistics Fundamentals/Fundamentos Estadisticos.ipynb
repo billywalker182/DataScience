{
 "cells": [
  {
   "cell_type": "markdown",
   "id": "52c230d1",
   "metadata": {},
   "source": [
    "# FUNDAMENTOS ESTADISTICOS\n",
    "\n",
    "La **Estadistica** es usualmente definida como la ciencia del dibujo en la presencia de la incertidumbre. Es más util en la colección, analisis e interpretación de **datos**. Esta disciplina nos proporciona con los principios fundamentales que nos permiten extraer y comprender esta información. También nos proporciona las herramientas necesarias para verificar la calidad de nuestros datos.\n",
    "\n",
    "<img src=\"datatypes.png\" width=\"500\" height=\"500\">\n",
    "\n",
    "La estadistica tiene dos ramas:\n",
    "\n",
    "- **Estadistica Descriptiva** Calcular los parámetros estadisticos que describen el conjunto de datos estudiado. Algunas de las herramientas que utiliza son gráficos, medidas de frecuencia, medidas de centralización, medidas de posición, medidas de dispersión, entre otras. Si no conoces estos términos, no se preocupe, los cubriremos pronto.\n",
    "\n",
    "<img src=\"summarydescriptive.png\" width=\"500\" height=\"500\">\n",
    "\n",
    "- **Estadistica Inferial** Estudiar cómo sacar conclusiones generales para toda la población a partir del estudio de una muestra, y el grado de fiabilidad y significación de los resultados obtenidos. Sus principales herramientas son el muestreo, la estimación de parámetros y la prueba de hipótesis."
   ]
  }
 ],
 "metadata": {
  "kernelspec": {
   "display_name": "Python 3",
   "language": "python",
   "name": "python3"
  },
  "language_info": {
   "codemirror_mode": {
    "name": "ipython",
    "version": 3
   },
   "file_extension": ".py",
   "mimetype": "text/x-python",
   "name": "python",
   "nbconvert_exporter": "python",
   "pygments_lexer": "ipython3",
   "version": "3.8.8"
  }
 },
 "nbformat": 4,
 "nbformat_minor": 5
}
