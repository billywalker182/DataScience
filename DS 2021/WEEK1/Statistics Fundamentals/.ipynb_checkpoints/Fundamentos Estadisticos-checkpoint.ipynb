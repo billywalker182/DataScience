{
 "cells": [
  {
   "cell_type": "markdown",
   "id": "52c230d1",
   "metadata": {},
   "source": [
    "# FUNDAMENTOS ESTADISTICOS\n",
    "\n",
    "La **Estadistica** es usualmente definida como la ciencia del dibujo en la presencia de la incertidumbre. Es más util en la colección, analisis e interpretación de **datos**. Esta disciplina nos proporciona con los principios fundamentales que nos permiten extraer y comprender esta información. También nos proporciona las herramientas necesarias para verificar la calidad de nuestros datos.\n",
    "\n",
    "<img src=\"datatypes.png\" width=\"500\" height=\"500\">\n",
    "\n",
    "La estadistica tiene dos ramas:\n",
    "\n",
    "- **Estadistica Descriptiva** Calcular los parámetros estadisticos que describen el conjunto de datos estudiado. Algunas de las herramientas que utiliza son gráficos, medidas de frecuencia, medidas de centralización, medidas de posición, medidas de dispersión, entre otras. Si no conoces estos términos, no se preocupe, los cubriremos pronto.\n",
    "\n",
    "<img src=\"summarydescriptive.png\" width=\"500\" height=\"500\">\n",
    "\n",
    "- **Estadistica Inferial** Estudiar cómo sacar conclusiones generales para toda la población a partir del estudio de una muestra, y el grado de fiabilidad y significación de los resultados obtenidos. Sus principales herramientas son el muestreo, la estimación de parámetros y la prueba de hipótesis.\n",
    "\n",
    "# Estadistica Descriptiva Básica\n",
    "\n",
    "En al estadistica descriptiva, diferentes muestras son usadas  para intentar describir las propiedades de nuestros datos. Algunos de los conceptos básicos son:\n",
    "\n",
    "### Media\n",
    "La **Media** da el valor promedio de los puntos de datos en una muestra.\n",
    "\n",
    "$$\\bar{x} = \\frac{1}{N}\\sum_{i=1}^N x_i$$"
   ]
  },
  {
   "cell_type": "code",
   "execution_count": 1,
   "id": "add2b797",
   "metadata": {},
   "outputs": [],
   "source": [
    "import math\n",
    "import statistics\n",
    "import numpy as np\n",
    "import scipy.stats\n",
    "import pandas as pd"
   ]
  },
  {
   "cell_type": "code",
   "execution_count": 2,
   "id": "62aef099",
   "metadata": {},
   "outputs": [
    {
     "data": {
      "text/plain": [
       "3.5"
      ]
     },
     "execution_count": 2,
     "metadata": {},
     "output_type": "execute_result"
    }
   ],
   "source": [
    "t = [1,4,3,2,6,4,4,3,2,6]\n",
    "\n",
    "def mean(t):\n",
    "    return(float(sum(t)) / len(t))\n",
    "\n",
    "mean(t)"
   ]
  },
  {
   "cell_type": "code",
   "execution_count": 3,
   "id": "238d6555",
   "metadata": {},
   "outputs": [
    {
     "data": {
      "text/plain": [
       "3.5"
      ]
     },
     "execution_count": 3,
     "metadata": {},
     "output_type": "execute_result"
    }
   ],
   "source": [
    "np.mean(t)"
   ]
  },
  {
   "cell_type": "code",
   "execution_count": 4,
   "id": "b9f6677a",
   "metadata": {},
   "outputs": [
    {
     "data": {
      "text/plain": [
       "3.5"
      ]
     },
     "execution_count": 4,
     "metadata": {},
     "output_type": "execute_result"
    }
   ],
   "source": [
    "statistics.mean(t)"
   ]
  },
  {
   "cell_type": "markdown",
   "id": "664fd594",
   "metadata": {},
   "source": [
    "### Desviación Estandar\n",
    "\n",
    "La desviación estándar da la cantidad de variación o dispersión de los puntos de datos en una muestra:\n",
    "\n",
    "$$s = \\sqrt{\\frac{1}{N-1} \\sum_{i=1}^N (x_i - \\overline{x})^2}$$"
   ]
  },
  {
   "cell_type": "code",
   "execution_count": 6,
   "id": "750a1290",
   "metadata": {},
   "outputs": [
    {
     "data": {
      "text/plain": [
       "1.5652475842498528"
      ]
     },
     "execution_count": 6,
     "metadata": {},
     "output_type": "execute_result"
    }
   ],
   "source": [
    "def stddev(t):\n",
    "    n = len(t)\n",
    "    c = mean(t)\n",
    "    ss = sum((x-c)**2 for x in t)\n",
    "    pvar = ss/(n)\n",
    "    return pvar**0.5\n",
    "stddev(t)"
   ]
  },
  {
   "cell_type": "code",
   "execution_count": 7,
   "id": "41edf703",
   "metadata": {},
   "outputs": [
    {
     "data": {
      "text/plain": [
       "1.5652475842498528"
      ]
     },
     "execution_count": 7,
     "metadata": {},
     "output_type": "execute_result"
    }
   ],
   "source": [
    "np.std(t)"
   ]
  },
  {
   "cell_type": "markdown",
   "id": "55c36a5f",
   "metadata": {},
   "source": [
    "### Moda\n",
    "\n",
    "### Mode\n",
    "\n",
    "The **mode** is the value that occurs the most often in the data sample. (If there are multiple values which are tied, we say that the dataset has either multiple modes or no modes.)"
   ]
  },
  {
   "cell_type": "code",
   "execution_count": 8,
   "id": "fc04360b",
   "metadata": {},
   "outputs": [
    {
     "name": "stdout",
     "output_type": "stream",
     "text": [
      "Mode:  4 Freq:  3\n"
     ]
    }
   ],
   "source": [
    "from scipy.stats import mode\n",
    "print(\"Mode: \",mode(t)[0][0], \"Freq: \", mode(t)[1][0])"
   ]
  },
  {
   "cell_type": "markdown",
   "id": "87986228",
   "metadata": {},
   "source": [
    "### Mediana\n",
    "\n",
    "La **Mediana** es el valor tal que el 50% de los valores en el conjunto de datos son menores y el 50% son mayores. Se puede considerar como el punto de datos intermedio exacto si todos los puntos de datos estuvieran dispuestos en orden."
   ]
  },
  {
   "cell_type": "code",
   "execution_count": 9,
   "id": "389f4783",
   "metadata": {},
   "outputs": [
    {
     "data": {
      "text/plain": [
       "3.5"
      ]
     },
     "execution_count": 9,
     "metadata": {},
     "output_type": "execute_result"
    }
   ],
   "source": [
    "np.median(t)"
   ]
  },
  {
   "cell_type": "markdown",
   "id": "80befcc4",
   "metadata": {},
   "source": [
    "### Correlación\n",
    "La correlación  intentar cuantificar la relación que existe entre dos variables, para determinar si los cambios es una de las variables parecen estar relacionados con cambios en la otra. Si es asi, diremos que las variables estan correlacionadas o que existen una correlación entre ellas. La correlación es positiva cuando los valores de las variables aumentan juntos y es negativa cuando el valor de una variable disminuye mientras que el valor de la otra variable aumenta.\n",
    "\n",
    "![](Pearson_Correlation_Coefficient_and_associated_scatterplots.png)\n",
    "\n",
    "More info about correlation [here](https://realpython.com/numpy-scipy-pandas-correlation-python/)"
   ]
  },
  {
   "cell_type": "code",
   "execution_count": 10,
   "id": "717438ae",
   "metadata": {},
   "outputs": [
    {
     "data": {
      "text/plain": [
       "array([[1.        , 0.80422113],\n",
       "       [0.80422113, 1.        ]])"
      ]
     },
     "execution_count": 10,
     "metadata": {},
     "output_type": "execute_result"
    }
   ],
   "source": [
    "# 1000 enteros aleatorios entre 0 a 50\n",
    "x = np.random.randint(0,50,1000)\n",
    "\n",
    "#Correlación Positivo con algun ruido\n",
    "y = x + np.random.normal(0,10,1000)\n",
    "\n",
    "np.corrcoef(x,y)"
   ]
  },
  {
   "cell_type": "code",
   "execution_count": 11,
   "id": "dc50299f",
   "metadata": {},
   "outputs": [
    {
     "data": {
      "image/png": "[encoded data removed]",
      "text/plain": [
       "<Figure size 432x288 with 1 Axes>"
      ]
     },
     "metadata": {},
     "output_type": "display_data"
    }
   ],
   "source": [
    "import matplotlib\n",
    "import matplotlib.pyplot as plt\n",
    "\n",
    "%matplotlib inline\n",
    "\n",
    "matplotlib.style.use(\"ggplot\")\n",
    "plt.scatter(x,y)\n",
    "\n",
    "plt.show()"
   ]
  },
  {
   "cell_type": "markdown",
   "id": "bb43982e",
   "metadata": {},
   "source": [
    "### Histogramas y Distribuciones\n",
    "\n",
    "Un histograma muestra la frecuencia de ocurrencia de datos en un gráfico de barras. Más especificamente, indica la frecuencia con la que se produce cada valor distinto en el conjunto de datos. El eje horizontal representa los valores del conjunto de datos y el eje vertical representa la cantidad de veces que ocurren esos valores.\n",
    "\n",
    "Un histograma es un ejemplo especifico de **distribución**.\n",
    "\n",
    "Las distribuciones continuas permiten que los adopten un número infinito de valores posibles. Ejemplos incluyen:\n",
    "\n",
    "- Normal\n",
    "- Gamma\n",
    "- Chi-Squared\n",
    "- Student's t\n",
    "- Pareto\n",
    "- etc\n",
    "\n",
    "No se preocupe por cuáles son estas distribuciones todavía, los cubriremos mas adelante.\n",
    "\n",
    "Por otro lado, **Las distribuciones discretas** son aquellas en las que los datos solo pueden ser uno de un conjunto finito de valores. Los histogramas son distribuciones discretas por que los valores posibles deben provenir directamente del conjunto de datos a partir del cual se crean, que por definición debe ser un conjunto finito. Otros ejemplos de distribuciones discretas incluyen:\n",
    "\n",
    "- Poisson\n",
    "- Binomial \n",
    "- Hypergeometric\n",
    "- Bernoulli\n",
    "- etc\n",
    "\n",
    "Nuevamente, no se preocupe por cuáles son estas distribuciones, las cubriremos más adelante.\n",
    "\n",
    "![](distributions.png)\n",
    "\n",
    "More info about distributions [Aqui](https://github.com/rasmusab/distribution_diagrams)"
   ]
  },
  {
   "cell_type": "code",
   "execution_count": 12,
   "id": "fafd6761",
   "metadata": {},
   "outputs": [],
   "source": [
    "# Descriptive Statistics with Python\n",
    "import numpy as np \n",
    "from scipy import stats \n",
    "import pandas as pd\n",
    "\n",
    "np.random.seed(42) "
   ]
  },
  {
   "cell_type": "code",
   "execution_count": 13,
   "id": "57a312e3",
   "metadata": {},
   "outputs": [
    {
     "data": {
      "text/plain": [
       "array([[ 0.49671415, -0.1382643 ,  0.64768854,  1.52302986],\n",
       "       [-0.23415337, -0.23413696,  1.57921282,  0.76743473],\n",
       "       [-0.46947439,  0.54256004, -0.46341769, -0.46572975],\n",
       "       [ 0.24196227, -1.91328024, -1.72491783, -0.56228753],\n",
       "       [-1.01283112,  0.31424733, -0.90802408, -1.4123037 ]])"
      ]
     },
     "execution_count": 13,
     "metadata": {},
     "output_type": "execute_result"
    }
   ],
   "source": [
    "data = np.random.randn(5, 4) # Normal Data\n",
    "data"
   ]
  },
  {
   "cell_type": "code",
   "execution_count": 14,
   "id": "34c0494a",
   "metadata": {},
   "outputs": [
    {
     "name": "stdout",
     "output_type": "stream",
     "text": [
      "Mean All:  -0.17129856144182892\n",
      "Mean Column:  [-0.19555649 -0.28577483 -0.17389165 -0.02997128]\n",
      "Mean Row:  [ 0.63229206  0.4695893  -0.21401545 -0.98963083 -0.75472789]\n",
      "Standard deviation:  0.9357199588937781\n",
      "Median:  -0.23414516583625827\n",
      "Mode:  ModeResult(mode=array([[-1.01283112, -1.91328024, -1.72491783, -1.4123037 ]]), count=array([[1, 1, 1, 1]]))\n"
     ]
    }
   ],
   "source": [
    "print(\"Mean All: \" , np.mean(data))\n",
    "print(\"Mean Column: \" , np.mean(data,0))\n",
    "print(\"Mean Row: \" , np.mean(data,1))\n",
    "print(\"Standard deviation: \" , np.std(data))\n",
    "print(\"Median: \" , np.median(data))\n",
    "print(\"Mode: \", mode(data)) # Mode by column and frequency"
   ]
  },
  {
   "cell_type": "code",
   "execution_count": 15,
   "id": "1c95c22a",
   "metadata": {},
   "outputs": [
    {
     "data": {
      "text/plain": [
       "array([[ 1.        ,  0.51051246, -0.74954708,  0.43834633, -0.89985726],\n",
       "       [ 0.51051246,  1.        , -0.53041766, -0.33865385, -0.47748587],\n",
       "       [-0.74954708, -0.53041766,  1.        , -0.61023023,  0.956611  ],\n",
       "       [ 0.43834633, -0.33865385, -0.61023023,  1.        , -0.64925683],\n",
       "       [-0.89985726, -0.47748587,  0.956611  , -0.64925683,  1.        ]])"
      ]
     },
     "execution_count": 15,
     "metadata": {},
     "output_type": "execute_result"
    }
   ],
   "source": [
    "# Correlation\n",
    "np.corrcoef(data)"
   ]
  },
  {
   "cell_type": "code",
   "execution_count": 16,
   "id": "0f992198",
   "metadata": {},
   "outputs": [
    {
     "data": {
      "text/plain": [
       "array([[1.        , 0.51051246],\n",
       "       [0.51051246, 1.        ]])"
      ]
     },
     "execution_count": 16,
     "metadata": {},
     "output_type": "execute_result"
    }
   ],
   "source": [
    "# Correlation only 2 vectors\n",
    "np.corrcoef(data[0], data[1])"
   ]
  },
  {
   "cell_type": "code",
   "execution_count": 17,
   "id": "5f5a35d1",
   "metadata": {},
   "outputs": [
    {
     "data": {
      "text/html": [
       "<div>\n",
       "<style scoped>\n",
       "    .dataframe tbody tr th:only-of-type {\n",
       "        vertical-align: middle;\n",
       "    }\n",
       "\n",
       "    .dataframe tbody tr th {\n",
       "        vertical-align: top;\n",
       "    }\n",
       "\n",
       "    .dataframe thead th {\n",
       "        text-align: right;\n",
       "    }\n",
       "</style>\n",
       "<table border=\"1\" class=\"dataframe\">\n",
       "  <thead>\n",
       "    <tr style=\"text-align: right;\">\n",
       "      <th></th>\n",
       "      <th>col1</th>\n",
       "      <th>col2</th>\n",
       "      <th>col3</th>\n",
       "      <th>col4</th>\n",
       "    </tr>\n",
       "  </thead>\n",
       "  <tbody>\n",
       "    <tr>\n",
       "      <th>a</th>\n",
       "      <td>0.496714</td>\n",
       "      <td>-0.138264</td>\n",
       "      <td>0.647689</td>\n",
       "      <td>1.523030</td>\n",
       "    </tr>\n",
       "    <tr>\n",
       "      <th>b</th>\n",
       "      <td>-0.234153</td>\n",
       "      <td>-0.234137</td>\n",
       "      <td>1.579213</td>\n",
       "      <td>0.767435</td>\n",
       "    </tr>\n",
       "    <tr>\n",
       "      <th>c</th>\n",
       "      <td>-0.469474</td>\n",
       "      <td>0.542560</td>\n",
       "      <td>-0.463418</td>\n",
       "      <td>-0.465730</td>\n",
       "    </tr>\n",
       "    <tr>\n",
       "      <th>d</th>\n",
       "      <td>0.241962</td>\n",
       "      <td>-1.913280</td>\n",
       "      <td>-1.724918</td>\n",
       "      <td>-0.562288</td>\n",
       "    </tr>\n",
       "    <tr>\n",
       "      <th>e</th>\n",
       "      <td>-1.012831</td>\n",
       "      <td>0.314247</td>\n",
       "      <td>-0.908024</td>\n",
       "      <td>-1.412304</td>\n",
       "    </tr>\n",
       "  </tbody>\n",
       "</table>\n",
       "</div>"
      ],
      "text/plain": [
       "       col1      col2      col3      col4\n",
       "a  0.496714 -0.138264  0.647689  1.523030\n",
       "b -0.234153 -0.234137  1.579213  0.767435\n",
       "c -0.469474  0.542560 -0.463418 -0.465730\n",
       "d  0.241962 -1.913280 -1.724918 -0.562288\n",
       "e -1.012831  0.314247 -0.908024 -1.412304"
      ]
     },
     "execution_count": 17,
     "metadata": {},
     "output_type": "execute_result"
    }
   ],
   "source": [
    "# With pandas\n",
    "dataframe = pd.DataFrame(data, index=['a', 'b', 'c', 'd', 'e'], \n",
    "                        columns=['col1', 'col2', 'col3', 'col4'])\n",
    "dataframe"
   ]
  },
  {
   "cell_type": "code",
   "execution_count": 18,
   "id": "f987c66f",
   "metadata": {},
   "outputs": [
    {
     "data": {
      "text/html": [
       "<div>\n",
       "<style scoped>\n",
       "    .dataframe tbody tr th:only-of-type {\n",
       "        vertical-align: middle;\n",
       "    }\n",
       "\n",
       "    .dataframe tbody tr th {\n",
       "        vertical-align: top;\n",
       "    }\n",
       "\n",
       "    .dataframe thead th {\n",
       "        text-align: right;\n",
       "    }\n",
       "</style>\n",
       "<table border=\"1\" class=\"dataframe\">\n",
       "  <thead>\n",
       "    <tr style=\"text-align: right;\">\n",
       "      <th></th>\n",
       "      <th>col1</th>\n",
       "      <th>col2</th>\n",
       "      <th>col3</th>\n",
       "      <th>col4</th>\n",
       "    </tr>\n",
       "  </thead>\n",
       "  <tbody>\n",
       "    <tr>\n",
       "      <th>count</th>\n",
       "      <td>5.000000</td>\n",
       "      <td>5.000000</td>\n",
       "      <td>5.000000</td>\n",
       "      <td>5.000000</td>\n",
       "    </tr>\n",
       "    <tr>\n",
       "      <th>mean</th>\n",
       "      <td>-0.195556</td>\n",
       "      <td>-0.285775</td>\n",
       "      <td>-0.173892</td>\n",
       "      <td>-0.029971</td>\n",
       "    </tr>\n",
       "    <tr>\n",
       "      <th>std</th>\n",
       "      <td>0.594794</td>\n",
       "      <td>0.964283</td>\n",
       "      <td>1.301617</td>\n",
       "      <td>1.165307</td>\n",
       "    </tr>\n",
       "    <tr>\n",
       "      <th>min</th>\n",
       "      <td>-1.012831</td>\n",
       "      <td>-1.913280</td>\n",
       "      <td>-1.724918</td>\n",
       "      <td>-1.412304</td>\n",
       "    </tr>\n",
       "    <tr>\n",
       "      <th>25%</th>\n",
       "      <td>-0.469474</td>\n",
       "      <td>-0.234137</td>\n",
       "      <td>-0.908024</td>\n",
       "      <td>-0.562288</td>\n",
       "    </tr>\n",
       "    <tr>\n",
       "      <th>50%</th>\n",
       "      <td>-0.234153</td>\n",
       "      <td>-0.138264</td>\n",
       "      <td>-0.463418</td>\n",
       "      <td>-0.465730</td>\n",
       "    </tr>\n",
       "    <tr>\n",
       "      <th>75%</th>\n",
       "      <td>0.241962</td>\n",
       "      <td>0.314247</td>\n",
       "      <td>0.647689</td>\n",
       "      <td>0.767435</td>\n",
       "    </tr>\n",
       "    <tr>\n",
       "      <th>max</th>\n",
       "      <td>0.496714</td>\n",
       "      <td>0.542560</td>\n",
       "      <td>1.579213</td>\n",
       "      <td>1.523030</td>\n",
       "    </tr>\n",
       "  </tbody>\n",
       "</table>\n",
       "</div>"
      ],
      "text/plain": [
       "           col1      col2      col3      col4\n",
       "count  5.000000  5.000000  5.000000  5.000000\n",
       "mean  -0.195556 -0.285775 -0.173892 -0.029971\n",
       "std    0.594794  0.964283  1.301617  1.165307\n",
       "min   -1.012831 -1.913280 -1.724918 -1.412304\n",
       "25%   -0.469474 -0.234137 -0.908024 -0.562288\n",
       "50%   -0.234153 -0.138264 -0.463418 -0.465730\n",
       "75%    0.241962  0.314247  0.647689  0.767435\n",
       "max    0.496714  0.542560  1.579213  1.523030"
      ]
     },
     "execution_count": 18,
     "metadata": {},
     "output_type": "execute_result"
    }
   ],
   "source": [
    "# Statistics Summary\n",
    "dataframe.describe()"
   ]
  },
  {
   "cell_type": "markdown",
   "id": "c7b09103",
   "metadata": {},
   "source": [
    "**Distribución Normal**\n",
    "\n",
    "la distribución normal  es una de las distribuciones más importantes, ya que es la que más a menudo se aproxima a los fenómenos del mundo real. Tiene una forma \"acamapanada\" y es simétrica:"
   ]
  },
  {
   "cell_type": "code",
   "execution_count": 19,
   "id": "5e9457ec",
   "metadata": {},
   "outputs": [],
   "source": [
    "import matplotlib.pyplot as plt # importando matplotlib\n",
    "import seaborn as sns # importando seaborn\n",
    "\n",
    "# parametros esteticos de seaborn\n",
    "sns.set_palette(\"deep\", desat=.6)\n",
    "sns.set_context(rc={\"figure.figsize\": (8, 4)})"
   ]
  },
  {
   "cell_type": "code",
   "execution_count": 20,
   "id": "5139d4dc",
   "metadata": {},
   "outputs": [],
   "source": [
    "mu, sigma = 0, 0.1 # mean y standard deviation\n",
    "s = np.random.normal(mu, sigma, 1000) # creating sample data"
   ]
  },
  {
   "cell_type": "code",
   "execution_count": 22,
   "id": "d1efed00",
   "metadata": {},
   "outputs": [
    {
     "data": {
      "image/png": "[encoded data removed]",
      "text/plain": [
       "<Figure size 432x288 with 1 Axes>"
      ]
     },
     "metadata": {},
     "output_type": "display_data"
    }
   ],
   "source": [
    "# histogram\n",
    "count, box, omit = plt.hist(s, 30, density=True)\n",
    "normal = plt.plot(box, 1/(sigma * np.sqrt(2 * np.pi)) *\n",
    "         np.exp( - (box - mu)**2 / (2 * sigma**2) ),\n",
    "         linewidth=2, color='r')"
   ]
  },
  {
   "cell_type": "markdown",
   "id": "24b8e162",
   "metadata": {},
   "source": [
    "**Distribuciones Simétricas y Asimétricas**\n",
    "Como se discutio, una distribución normal es **simétrica**. Una distribución es simétrica cuando la moda, la mediana y la media son aproximadamente iguales. En términos m{as coloquiales, las mitades izquierda y derecha de la distribución parecen identicas, y ambas mitades comienzan con \"picos\" altos y disminuyen a medida que uno se mueve hacia las \"colas\".\n",
    "\n",
    "<img src=\"6sigma.png\" height=\"320\" width=\"320\">\n",
    "\n",
    "Una distribución está **sesgada a la derecha: sesgo positivo** si la \"cola\" a la derecha de la media es más larga que la que está a la izquierda. Dela misma manera, una distribución está **sesgada a la izquierda**: sesgo negativo si la \"cola\" a la izquierda de la media es más larga que la que está a la derecha. Estos son ejemplos de distribución asimétricas.\n",
    "\n",
    "<img src=\"skewness.png\" height=\"420\" width=\"420\">\n",
    "\n",
    "<img src=\"https://www.statisticshowto.com/wp-content/uploads/2014/02/pearson-mode-skewness.jpg\" height=\"420\" width=\"420\">\n",
    "\n",
    "\n",
    "Las distribuciones asimétricas suelen ser problemáticas, ya que la mayoria de los métodos estadísticos se desarrollan normalmente para distribuciones normales, que son simétricas. Para superar estor problemas, generalmente se llevan a cabo transformaciones en los datos para que los datos resultantes se asemejen más a una distribución normal. esto se discutirá con mas profundidad más adelante.\n",
    "\n",
    "\n",
    "Otra medida es la **Curtosis**\n",
    "\n",
    "El exceso de curtosis generalmente se define como kurt - 3, medida del \"pico\" de la distribución de probabilidad de una variable aleatoria del valor real.\n",
    "\n",
    "- El exceso de kut para la distribución norma es 0 (es decir 3-3=0)\n",
    "- El exceso negativo equivale a colas más claras que una distribución normal. \n",
    "- El exceso positivo equivale a colas más pesadas que las normales.\n",
    "\n",
    "<img src=\"kurtosis.png\" height=\"320\" width=\"320\">\n",
    "\n",
    "<img src=\"kurtosis1.png\" height=\"220\" width=\"220\">\n"
   ]
  },
  {
   "cell_type": "code",
   "execution_count": 23,
   "id": "ff61d4f0",
   "metadata": {},
   "outputs": [
    {
     "data": {
      "image/png": "[encoded data removed]",
      "text/plain": [
       "<Figure size 432x288 with 1 Axes>"
      ]
     },
     "metadata": {},
     "output_type": "display_data"
    }
   ],
   "source": [
    "# Gamma distribution - Right-skewed\n",
    "x = stats.gamma(3).rvs(5000)\n",
    "gamma = plt.hist(x, 70, histtype=\"stepfilled\", alpha=.7)"
   ]
  },
  {
   "cell_type": "code",
   "execution_count": 25,
   "id": "d1733438",
   "metadata": {},
   "outputs": [
    {
     "data": {
      "text/plain": [
       "1.1555694959904996"
      ]
     },
     "execution_count": 25,
     "metadata": {},
     "output_type": "execute_result"
    }
   ],
   "source": [
    "# Calculate skew with scipy\n",
    "stats.skew(x)"
   ]
  },
  {
   "cell_type": "code",
   "execution_count": 26,
   "id": "6a5c945c",
   "metadata": {},
   "outputs": [
    {
     "data": {
      "text/plain": [
       "2.1768186279814925"
      ]
     },
     "execution_count": 26,
     "metadata": {},
     "output_type": "execute_result"
    }
   ],
   "source": [
    "stats.kurtosis(x)"
   ]
  }
 ],
 "metadata": {
  "kernelspec": {
   "display_name": "Python 3",
   "language": "python",
   "name": "python3"
  },
  "language_info": {
   "codemirror_mode": {
    "name": "ipython",
    "version": 3
   },
   "file_extension": ".py",
   "mimetype": "text/x-python",
   "name": "python",
   "nbconvert_exporter": "python",
   "pygments_lexer": "ipython3",
   "version": "3.8.8"
  }
 },
 "nbformat": 4,
 "nbformat_minor": 5
}
