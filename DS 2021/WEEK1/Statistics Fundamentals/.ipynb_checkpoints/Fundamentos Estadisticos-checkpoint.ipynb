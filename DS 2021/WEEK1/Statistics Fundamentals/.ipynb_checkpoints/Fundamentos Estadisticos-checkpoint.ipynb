{
 "cells": [
  {
   "cell_type": "markdown",
   "id": "52c230d1",
   "metadata": {},
   "source": [
    "# FUNDAMENTOS ESTADISTICOS\n",
    "\n",
    "La **Estadistica** es usualmente definida como la ciencia del dibujo en la presencia de la incertidumbre. Es más util en la colección, analisis e interpretación de **datos**. Esta disciplina nos proporciona con los principios fundamentales que nos permiten extraer y comprender esta información. También nos proporciona las herramientas necesarias para verificar la calidad de nuestros datos.\n",
    "\n",
    "<img src=\"datatypes.png\" width=\"500\" height=\"500\">\n",
    "\n",
    "La estadistica tiene dos ramas:\n",
    "\n",
    "- **Estadistica Descriptiva** Calcular los parámetros estadisticos que describen el conjunto de datos estudiado. Algunas de las herramientas que utiliza son gráficos, medidas de frecuencia, medidas de centralización, medidas de posición, medidas de dispersión, entre otras. Si no conoces estos términos, no se preocupe, los cubriremos pronto.\n",
    "\n",
    "<img src=\"summarydescriptive.png\" width=\"500\" height=\"500\">\n",
    "\n",
    "- **Estadistica Inferial** Estudiar cómo sacar conclusiones generales para toda la población a partir del estudio de una muestra, y el grado de fiabilidad y significación de los resultados obtenidos. Sus principales herramientas son el muestreo, la estimación de parámetros y la prueba de hipótesis.\n",
    "\n",
    "# Estadistica Descriptiva Básica\n",
    "\n",
    "En al estadistica descriptiva, diferentes muestras son usadas  para intentar describir las propiedades de nuestros datos. Algunos de los conceptos básicos son:\n",
    "\n",
    "### Media\n",
    "La **Media** da el valor promedio de los puntos de datos en una muestra.\n",
    "\n",
    "$$\\bar{x} = \\frac{1}{N}\\sum_{i=1}^N x_i$$"
   ]
  },
  {
   "cell_type": "code",
   "execution_count": 2,
   "id": "add2b797",
   "metadata": {},
   "outputs": [],
   "source": [
    "import math\n",
    "import statistics\n",
    "import numpy as np\n",
    "import scipy.stats\n",
    "import pandas as pd"
   ]
  },
  {
   "cell_type": "code",
   "execution_count": 2,
   "id": "62aef099",
   "metadata": {},
   "outputs": [
    {
     "data": {
      "text/plain": [
       "3.5"
      ]
     },
     "execution_count": 2,
     "metadata": {},
     "output_type": "execute_result"
    }
   ],
   "source": [
    "t = [1,4,3,2,6,4,4,3,2,6]\n",
    "\n",
    "def mean(t):\n",
    "    return(float(sum(t)) / len(t))\n",
    "\n",
    "mean(t)"
   ]
  },
  {
   "cell_type": "code",
   "execution_count": 3,
   "id": "238d6555",
   "metadata": {},
   "outputs": [
    {
     "data": {
      "text/plain": [
       "3.5"
      ]
     },
     "execution_count": 3,
     "metadata": {},
     "output_type": "execute_result"
    }
   ],
   "source": [
    "np.mean(t)"
   ]
  },
  {
   "cell_type": "code",
   "execution_count": 4,
   "id": "b9f6677a",
   "metadata": {},
   "outputs": [
    {
     "data": {
      "text/plain": [
       "3.5"
      ]
     },
     "execution_count": 4,
     "metadata": {},
     "output_type": "execute_result"
    }
   ],
   "source": [
    "statistics.mean(t)"
   ]
  },
  {
   "cell_type": "markdown",
   "id": "664fd594",
   "metadata": {},
   "source": [
    "### Desviación Estandar\n",
    "\n",
    "La desviación estándar da la cantidad de variación o dispersión de los puntos de datos en una muestra:\n",
    "\n",
    "$$s = \\sqrt{\\frac{1}{N-1} \\sum_{i=1}^N (x_i - \\overline{x})^2}$$"
   ]
  },
  {
   "cell_type": "code",
   "execution_count": 6,
   "id": "750a1290",
   "metadata": {},
   "outputs": [
    {
     "data": {
      "text/plain": [
       "1.5652475842498528"
      ]
     },
     "execution_count": 6,
     "metadata": {},
     "output_type": "execute_result"
    }
   ],
   "source": [
    "def stddev(t):\n",
    "    n = len(t)\n",
    "    c = mean(t)\n",
    "    ss = sum((x-c)**2 for x in t)\n",
    "    pvar = ss/(n)\n",
    "    return pvar**0.5\n",
    "stddev(t)"
   ]
  },
  {
   "cell_type": "code",
   "execution_count": 7,
   "id": "41edf703",
   "metadata": {},
   "outputs": [
    {
     "data": {
      "text/plain": [
       "1.5652475842498528"
      ]
     },
     "execution_count": 7,
     "metadata": {},
     "output_type": "execute_result"
    }
   ],
   "source": [
    "np.std(t)"
   ]
  },
  {
   "cell_type": "markdown",
   "id": "55c36a5f",
   "metadata": {},
   "source": [
    "### Moda\n",
    "\n",
    "### Mode\n",
    "\n",
    "The **mode** is the value that occurs the most often in the data sample. (If there are multiple values which are tied, we say that the dataset has either multiple modes or no modes.)"
   ]
  },
  {
   "cell_type": "code",
   "execution_count": 8,
   "id": "fc04360b",
   "metadata": {},
   "outputs": [
    {
     "name": "stdout",
     "output_type": "stream",
     "text": [
      "Mode:  4 Freq:  3\n"
     ]
    }
   ],
   "source": [
    "from scipy.stats import mode\n",
    "print(\"Mode: \",mode(t)[0][0], \"Freq: \", mode(t)[1][0])"
   ]
  },
  {
   "cell_type": "markdown",
   "id": "87986228",
   "metadata": {},
   "source": [
    "### Mediana\n",
    "\n",
    "La **Mediana** es el valor tal que el 50% de los valores en el conjunto de datos son menores y el 50% son mayores. Se puede considerar como el punto de datos intermedio exacto si todos los puntos de datos estuvieran dispuestos en orden."
   ]
  },
  {
   "cell_type": "code",
   "execution_count": 9,
   "id": "389f4783",
   "metadata": {},
   "outputs": [
    {
     "data": {
      "text/plain": [
       "3.5"
      ]
     },
     "execution_count": 9,
     "metadata": {},
     "output_type": "execute_result"
    }
   ],
   "source": [
    "np.median(t)"
   ]
  },
  {
   "cell_type": "markdown",
   "id": "80befcc4",
   "metadata": {},
   "source": [
    "### Correlación\n",
    "La correlación  intentar cuantificar la relación que existe entre dos variables, para determinar si los cambios es una de las variables parecen estar relacionados con cambios en la otra. Si es asi, diremos que las variables estan correlacionadas o que existen una correlación entre ellas. La correlación es positiva cuando los valores de las variables aumentan juntos y es negativa cuando el valor de una variable disminuye mientras que el valor de la otra variable aumenta.\n",
    "\n",
    "![](Pearson_Correlation_Coefficient_and_associated_scatterplots.png)\n",
    "\n",
    "More info about correlation [here](https://realpython.com/numpy-scipy-pandas-correlation-python/)"
   ]
  },
  {
   "cell_type": "code",
   "execution_count": 10,
   "id": "717438ae",
   "metadata": {},
   "outputs": [
    {
     "data": {
      "text/plain": [
       "array([[1.        , 0.80422113],\n",
       "       [0.80422113, 1.        ]])"
      ]
     },
     "execution_count": 10,
     "metadata": {},
     "output_type": "execute_result"
    }
   ],
   "source": [
    "# 1000 enteros aleatorios entre 0 a 50\n",
    "x = np.random.randint(0,50,1000)\n",
    "\n",
    "#Correlación Positivo con algun ruido\n",
    "y = x + np.random.normal(0,10,1000)\n",
    "\n",
    "np.corrcoef(x,y)"
   ]
  },
  {
   "cell_type": "code",
   "execution_count": 11,
   "id": "dc50299f",
   "metadata": {},
   "outputs": [
    {
     "data": {
      "image/png": "[encoded data removed]",
      "text/plain": [
       "<Figure size 432x288 with 1 Axes>"
      ]
     },
     "metadata": {},
     "output_type": "display_data"
    }
   ],
   "source": [
    "import matplotlib\n",
    "import matplotlib.pyplot as plt\n",
    "\n",
    "%matplotlib inline\n",
    "\n",
    "matplotlib.style.use(\"ggplot\")\n",
    "plt.scatter(x,y)\n",
    "\n",
    "plt.show()"
   ]
  },
  {
   "cell_type": "markdown",
   "id": "bb43982e",
   "metadata": {},
   "source": [
    "### Histogramas y Distribuciones\n",
    "\n",
    "Un histograma muestra la frecuencia de ocurrencia de datos en un gráfico de barras. Más especificamente, indica la frecuencia con la que se produce cada valor distinto en el conjunto de datos. El eje horizontal representa los valores del conjunto de datos y el eje vertical representa la cantidad de veces que ocurren esos valores.\n",
    "\n",
    "Un histograma es un ejemplo especifico de **distribución**.\n",
    "\n",
    "Las distribuciones continuas permiten que los adopten un número infinito de valores posibles. Ejemplos incluyen:\n",
    "\n",
    "- Normal\n",
    "- Gamma\n",
    "- Chi-Squared\n",
    "- Student's t\n",
    "- Pareto\n",
    "- etc\n",
    "\n",
    "No se preocupe por cuáles son estas distribuciones todavía, los cubriremos mas adelante.\n",
    "\n",
    "Por otro lado, **Las distribuciones discretas** son aquellas en las que los datos solo pueden ser uno de un conjunto finito de valores. Los histogramas son distribuciones discretas por que los valores posibles deben provenir directamente del conjunto de datos a partir del cual se crean, que por definición debe ser un conjunto finito. Otros ejemplos de distribuciones discretas incluyen:\n",
    "\n",
    "- Poisson\n",
    "- Binomial \n",
    "- Hypergeometric\n",
    "- Bernoulli\n",
    "- etc\n",
    "\n",
    "Nuevamente, no se preocupe por cuáles son estas distribuciones, las cubriremos más adelante.\n",
    "\n",
    "![](distributions.png)\n",
    "\n",
    "More info about distributions [Aqui](https://github.com/rasmusab/distribution_diagrams)"
   ]
  },
  {
   "cell_type": "code",
   "execution_count": 23,
   "id": "fafd6761",
   "metadata": {},
   "outputs": [],
   "source": [
    "# Descriptive Statistics with Python\n",
    "import numpy as np \n",
    "from scipy import stats \n",
    "import pandas as pd\n",
    "\n",
    "np.random.seed(42) "
   ]
  },
  {
   "cell_type": "code",
   "execution_count": 13,
   "id": "57a312e3",
   "metadata": {},
   "outputs": [
    {
     "data": {
      "text/plain": [
       "array([[ 0.49671415, -0.1382643 ,  0.64768854,  1.52302986],\n",
       "       [-0.23415337, -0.23413696,  1.57921282,  0.76743473],\n",
       "       [-0.46947439,  0.54256004, -0.46341769, -0.46572975],\n",
       "       [ 0.24196227, -1.91328024, -1.72491783, -0.56228753],\n",
       "       [-1.01283112,  0.31424733, -0.90802408, -1.4123037 ]])"
      ]
     },
     "execution_count": 13,
     "metadata": {},
     "output_type": "execute_result"
    }
   ],
   "source": [
    "data = np.random.randn(5, 4) # Normal Data\n",
    "data"
   ]
  },
  {
   "cell_type": "code",
   "execution_count": 14,
   "id": "34c0494a",
   "metadata": {},
   "outputs": [
    {
     "name": "stdout",
     "output_type": "stream",
     "text": [
      "Mean All:  -0.17129856144182892\n",
      "Mean Column:  [-0.19555649 -0.28577483 -0.17389165 -0.02997128]\n",
      "Mean Row:  [ 0.63229206  0.4695893  -0.21401545 -0.98963083 -0.75472789]\n",
      "Standard deviation:  0.9357199588937781\n",
      "Median:  -0.23414516583625827\n",
      "Mode:  ModeResult(mode=array([[-1.01283112, -1.91328024, -1.72491783, -1.4123037 ]]), count=array([[1, 1, 1, 1]]))\n"
     ]
    }
   ],
   "source": [
    "print(\"Mean All: \" , np.mean(data))\n",
    "print(\"Mean Column: \" , np.mean(data,0))\n",
    "print(\"Mean Row: \" , np.mean(data,1))\n",
    "print(\"Standard deviation: \" , np.std(data))\n",
    "print(\"Median: \" , np.median(data))\n",
    "print(\"Mode: \", mode(data)) # Mode by column and frequency"
   ]
  },
  {
   "cell_type": "code",
   "execution_count": 15,
   "id": "1c95c22a",
   "metadata": {},
   "outputs": [
    {
     "data": {
      "text/plain": [
       "array([[ 1.        ,  0.51051246, -0.74954708,  0.43834633, -0.89985726],\n",
       "       [ 0.51051246,  1.        , -0.53041766, -0.33865385, -0.47748587],\n",
       "       [-0.74954708, -0.53041766,  1.        , -0.61023023,  0.956611  ],\n",
       "       [ 0.43834633, -0.33865385, -0.61023023,  1.        , -0.64925683],\n",
       "       [-0.89985726, -0.47748587,  0.956611  , -0.64925683,  1.        ]])"
      ]
     },
     "execution_count": 15,
     "metadata": {},
     "output_type": "execute_result"
    }
   ],
   "source": [
    "# Correlation\n",
    "np.corrcoef(data)"
   ]
  },
  {
   "cell_type": "code",
   "execution_count": 16,
   "id": "0f992198",
   "metadata": {},
   "outputs": [
    {
     "data": {
      "text/plain": [
       "array([[1.        , 0.51051246],\n",
       "       [0.51051246, 1.        ]])"
      ]
     },
     "execution_count": 16,
     "metadata": {},
     "output_type": "execute_result"
    }
   ],
   "source": [
    "# Correlation only 2 vectors\n",
    "np.corrcoef(data[0], data[1])"
   ]
  },
  {
   "cell_type": "code",
   "execution_count": 17,
   "id": "5f5a35d1",
   "metadata": {},
   "outputs": [
    {
     "data": {
      "text/html": [
       "<div>\n",
       "<style scoped>\n",
       "    .dataframe tbody tr th:only-of-type {\n",
       "        vertical-align: middle;\n",
       "    }\n",
       "\n",
       "    .dataframe tbody tr th {\n",
       "        vertical-align: top;\n",
       "    }\n",
       "\n",
       "    .dataframe thead th {\n",
       "        text-align: right;\n",
       "    }\n",
       "</style>\n",
       "<table border=\"1\" class=\"dataframe\">\n",
       "  <thead>\n",
       "    <tr style=\"text-align: right;\">\n",
       "      <th></th>\n",
       "      <th>col1</th>\n",
       "      <th>col2</th>\n",
       "      <th>col3</th>\n",
       "      <th>col4</th>\n",
       "    </tr>\n",
       "  </thead>\n",
       "  <tbody>\n",
       "    <tr>\n",
       "      <th>a</th>\n",
       "      <td>0.496714</td>\n",
       "      <td>-0.138264</td>\n",
       "      <td>0.647689</td>\n",
       "      <td>1.523030</td>\n",
       "    </tr>\n",
       "    <tr>\n",
       "      <th>b</th>\n",
       "      <td>-0.234153</td>\n",
       "      <td>-0.234137</td>\n",
       "      <td>1.579213</td>\n",
       "      <td>0.767435</td>\n",
       "    </tr>\n",
       "    <tr>\n",
       "      <th>c</th>\n",
       "      <td>-0.469474</td>\n",
       "      <td>0.542560</td>\n",
       "      <td>-0.463418</td>\n",
       "      <td>-0.465730</td>\n",
       "    </tr>\n",
       "    <tr>\n",
       "      <th>d</th>\n",
       "      <td>0.241962</td>\n",
       "      <td>-1.913280</td>\n",
       "      <td>-1.724918</td>\n",
       "      <td>-0.562288</td>\n",
       "    </tr>\n",
       "    <tr>\n",
       "      <th>e</th>\n",
       "      <td>-1.012831</td>\n",
       "      <td>0.314247</td>\n",
       "      <td>-0.908024</td>\n",
       "      <td>-1.412304</td>\n",
       "    </tr>\n",
       "  </tbody>\n",
       "</table>\n",
       "</div>"
      ],
      "text/plain": [
       "       col1      col2      col3      col4\n",
       "a  0.496714 -0.138264  0.647689  1.523030\n",
       "b -0.234153 -0.234137  1.579213  0.767435\n",
       "c -0.469474  0.542560 -0.463418 -0.465730\n",
       "d  0.241962 -1.913280 -1.724918 -0.562288\n",
       "e -1.012831  0.314247 -0.908024 -1.412304"
      ]
     },
     "execution_count": 17,
     "metadata": {},
     "output_type": "execute_result"
    }
   ],
   "source": [
    "# With pandas\n",
    "dataframe = pd.DataFrame(data, index=['a', 'b', 'c', 'd', 'e'], \n",
    "                        columns=['col1', 'col2', 'col3', 'col4'])\n",
    "dataframe"
   ]
  },
  {
   "cell_type": "code",
   "execution_count": 18,
   "id": "f987c66f",
   "metadata": {},
   "outputs": [
    {
     "data": {
      "text/html": [
       "<div>\n",
       "<style scoped>\n",
       "    .dataframe tbody tr th:only-of-type {\n",
       "        vertical-align: middle;\n",
       "    }\n",
       "\n",
       "    .dataframe tbody tr th {\n",
       "        vertical-align: top;\n",
       "    }\n",
       "\n",
       "    .dataframe thead th {\n",
       "        text-align: right;\n",
       "    }\n",
       "</style>\n",
       "<table border=\"1\" class=\"dataframe\">\n",
       "  <thead>\n",
       "    <tr style=\"text-align: right;\">\n",
       "      <th></th>\n",
       "      <th>col1</th>\n",
       "      <th>col2</th>\n",
       "      <th>col3</th>\n",
       "      <th>col4</th>\n",
       "    </tr>\n",
       "  </thead>\n",
       "  <tbody>\n",
       "    <tr>\n",
       "      <th>count</th>\n",
       "      <td>5.000000</td>\n",
       "      <td>5.000000</td>\n",
       "      <td>5.000000</td>\n",
       "      <td>5.000000</td>\n",
       "    </tr>\n",
       "    <tr>\n",
       "      <th>mean</th>\n",
       "      <td>-0.195556</td>\n",
       "      <td>-0.285775</td>\n",
       "      <td>-0.173892</td>\n",
       "      <td>-0.029971</td>\n",
       "    </tr>\n",
       "    <tr>\n",
       "      <th>std</th>\n",
       "      <td>0.594794</td>\n",
       "      <td>0.964283</td>\n",
       "      <td>1.301617</td>\n",
       "      <td>1.165307</td>\n",
       "    </tr>\n",
       "    <tr>\n",
       "      <th>min</th>\n",
       "      <td>-1.012831</td>\n",
       "      <td>-1.913280</td>\n",
       "      <td>-1.724918</td>\n",
       "      <td>-1.412304</td>\n",
       "    </tr>\n",
       "    <tr>\n",
       "      <th>25%</th>\n",
       "      <td>-0.469474</td>\n",
       "      <td>-0.234137</td>\n",
       "      <td>-0.908024</td>\n",
       "      <td>-0.562288</td>\n",
       "    </tr>\n",
       "    <tr>\n",
       "      <th>50%</th>\n",
       "      <td>-0.234153</td>\n",
       "      <td>-0.138264</td>\n",
       "      <td>-0.463418</td>\n",
       "      <td>-0.465730</td>\n",
       "    </tr>\n",
       "    <tr>\n",
       "      <th>75%</th>\n",
       "      <td>0.241962</td>\n",
       "      <td>0.314247</td>\n",
       "      <td>0.647689</td>\n",
       "      <td>0.767435</td>\n",
       "    </tr>\n",
       "    <tr>\n",
       "      <th>max</th>\n",
       "      <td>0.496714</td>\n",
       "      <td>0.542560</td>\n",
       "      <td>1.579213</td>\n",
       "      <td>1.523030</td>\n",
       "    </tr>\n",
       "  </tbody>\n",
       "</table>\n",
       "</div>"
      ],
      "text/plain": [
       "           col1      col2      col3      col4\n",
       "count  5.000000  5.000000  5.000000  5.000000\n",
       "mean  -0.195556 -0.285775 -0.173892 -0.029971\n",
       "std    0.594794  0.964283  1.301617  1.165307\n",
       "min   -1.012831 -1.913280 -1.724918 -1.412304\n",
       "25%   -0.469474 -0.234137 -0.908024 -0.562288\n",
       "50%   -0.234153 -0.138264 -0.463418 -0.465730\n",
       "75%    0.241962  0.314247  0.647689  0.767435\n",
       "max    0.496714  0.542560  1.579213  1.523030"
      ]
     },
     "execution_count": 18,
     "metadata": {},
     "output_type": "execute_result"
    }
   ],
   "source": [
    "# Statistics Summary\n",
    "dataframe.describe()"
   ]
  },
  {
   "cell_type": "markdown",
   "id": "c7b09103",
   "metadata": {},
   "source": [
    "**Distribución Normal**\n",
    "\n",
    "la distribución normal  es una de las distribuciones más importantes, ya que es la que más a menudo se aproxima a los fenómenos del mundo real. Tiene una forma \"acamapanada\" y es simétrica:"
   ]
  },
  {
   "cell_type": "code",
   "execution_count": 4,
   "id": "5e9457ec",
   "metadata": {},
   "outputs": [],
   "source": [
    "import matplotlib.pyplot as plt # importando matplotlib\n",
    "import seaborn as sns # importando seaborn\n",
    "\n",
    "# parametros esteticos de seaborn\n",
    "sns.set_palette(\"deep\", desat=.6)\n",
    "sns.set_context(rc={\"figure.figsize\": (8, 4)})"
   ]
  },
  {
   "cell_type": "code",
   "execution_count": 20,
   "id": "5139d4dc",
   "metadata": {},
   "outputs": [],
   "source": [
    "mu, sigma = 0, 0.1 # mean y standard deviation\n",
    "s = np.random.normal(mu, sigma, 1000) # creating sample data"
   ]
  },
  {
   "cell_type": "code",
   "execution_count": 22,
   "id": "d1efed00",
   "metadata": {},
   "outputs": [
    {
     "data": {
      "image/png": "[encoded data removed]",
      "text/plain": [
       "<Figure size 432x288 with 1 Axes>"
      ]
     },
     "metadata": {},
     "output_type": "display_data"
    }
   ],
   "source": [
    "# histogram\n",
    "count, box, omit = plt.hist(s, 30, density=True)\n",
    "normal = plt.plot(box, 1/(sigma * np.sqrt(2 * np.pi)) *\n",
    "         np.exp( - (box - mu)**2 / (2 * sigma**2) ),\n",
    "         linewidth=2, color='r')"
   ]
  },
  {
   "cell_type": "markdown",
   "id": "24b8e162",
   "metadata": {},
   "source": [
    "**Distribuciones Simétricas y Asimétricas**\n",
    "Como se discutio, una distribución normal es **simétrica**. Una distribución es simétrica cuando la moda, la mediana y la media son aproximadamente iguales. En términos m{as coloquiales, las mitades izquierda y derecha de la distribución parecen identicas, y ambas mitades comienzan con \"picos\" altos y disminuyen a medida que uno se mueve hacia las \"colas\".\n",
    "\n",
    "<img src=\"6sigma.png\" height=\"320\" width=\"320\">\n",
    "\n",
    "Una distribución está **sesgada a la derecha: sesgo positivo** si la \"cola\" a la derecha de la media es más larga que la que está a la izquierda. Dela misma manera, una distribución está **sesgada a la izquierda**: sesgo negativo si la \"cola\" a la izquierda de la media es más larga que la que está a la derecha. Estos son ejemplos de distribución asimétricas.\n",
    "\n",
    "<img src=\"skewness.png\" height=\"420\" width=\"420\">\n",
    "\n",
    "<img src=\"https://www.statisticshowto.com/wp-content/uploads/2014/02/pearson-mode-skewness.jpg\" height=\"420\" width=\"420\">\n",
    "\n",
    "\n",
    "Las distribuciones asimétricas suelen ser problemáticas, ya que la mayoria de los métodos estadísticos se desarrollan normalmente para distribuciones normales, que son simétricas. Para superar estor problemas, generalmente se llevan a cabo transformaciones en los datos para que los datos resultantes se asemejen más a una distribución normal. esto se discutirá con mas profundidad más adelante.\n",
    "\n",
    "\n",
    "Otra medida es la **Curtosis**\n",
    "\n",
    "El exceso de curtosis generalmente se define como kurt - 3, medida del \"pico\" de la distribución de probabilidad de una variable aleatoria del valor real.\n",
    "\n",
    "- El exceso de kut para la distribución norma es 0 (es decir 3-3=0)\n",
    "- El exceso negativo equivale a colas más claras que una distribución normal. \n",
    "- El exceso positivo equivale a colas más pesadas que las normales.\n",
    "\n",
    "<img src=\"kurtosis.png\" height=\"320\" width=\"320\">\n",
    "\n",
    "<img src=\"kurtosis1.png\" height=\"220\" width=\"220\">\n"
   ]
  },
  {
   "cell_type": "code",
   "execution_count": 23,
   "id": "ff61d4f0",
   "metadata": {},
   "outputs": [
    {
     "data": {
      "image/png": "[encoded data removed]",
      "text/plain": [
       "<Figure size 432x288 with 1 Axes>"
      ]
     },
     "metadata": {},
     "output_type": "display_data"
    }
   ],
   "source": [
    "# Gamma distribution - Right-skewed\n",
    "x = stats.gamma(3).rvs(5000)\n",
    "gamma = plt.hist(x, 70, histtype=\"stepfilled\", alpha=.7)"
   ]
  },
  {
   "cell_type": "code",
   "execution_count": 25,
   "id": "d1733438",
   "metadata": {},
   "outputs": [
    {
     "data": {
      "text/plain": [
       "1.1555694959904996"
      ]
     },
     "execution_count": 25,
     "metadata": {},
     "output_type": "execute_result"
    }
   ],
   "source": [
    "# Calculate skew with scipy\n",
    "stats.skew(x)"
   ]
  },
  {
   "cell_type": "code",
   "execution_count": 26,
   "id": "6a5c945c",
   "metadata": {},
   "outputs": [
    {
     "data": {
      "text/plain": [
       "2.1768186279814925"
      ]
     },
     "execution_count": 26,
     "metadata": {},
     "output_type": "execute_result"
    }
   ],
   "source": [
    "stats.kurtosis(x)"
   ]
  },
  {
   "cell_type": "markdown",
   "id": "ea57b43c",
   "metadata": {},
   "source": [
    "### Cuartiles y Diagramas de Caja\n",
    "### Quartiles and boxplots\n",
    "\n",
    "Los **Cuartiles** son los tres valores de la variable estadistica que dividen un conjunto de datos ordenados en cuatro parte iguales. Q1, Q2, y Q3 determinan los valores correspondientes al 25%, 50% y 75% de los datos. Q2 coincide con la mediana.\n",
    "\n",
    "Los **Diagramas de Cajas** presentan varias caracteristicas importantes de un conjunto de datos, como la dispersión y la simetrá, al mismo tiempo. Cada cuadro se crea utilizado los tres cuartiles, asi como los valores minimo y máximo del conjunto de datos. Estos gráficos nos brindan una gran cantidad de información y son extremadamente útiles para encontrar valores atipicos y comparar conjuntos de datos:\n",
    "\n",
    "![](boxplot.png)"
   ]
  },
  {
   "cell_type": "code",
   "execution_count": 5,
   "id": "5acd6bbc",
   "metadata": {},
   "outputs": [
    {
     "data": {
      "image/png": "[encoded data removed]",
      "text/plain": [
       "<Figure size 648x432 with 1 Axes>"
      ]
     },
     "metadata": {
      "needs_background": "light"
     },
     "output_type": "display_data"
    }
   ],
   "source": [
    "data1 = np.random.normal(100, 10, 200)\n",
    "data2 = np.random.normal(80, 30, 200)\n",
    "data3 = np.random.normal(90, 20, 200)\n",
    "data4 = np.random.normal(70, 25, 200)\n",
    "\n",
    "data_graph = [data1, data2, data3, data4]\n",
    "\n",
    "\n",
    "fig = plt.figure(1, figsize=(9, 6))\n",
    "ax = fig.add_subplot(111)\n",
    "bp = ax.boxplot(data_graph)\n",
    "\n",
    "for flier in bp['fliers']:\n",
    "    flier.set(marker='o', color='red', alpha=0.5)"
   ]
  },
  {
   "cell_type": "markdown",
   "id": "55f00951",
   "metadata": {},
   "source": [
    "### Conceptos Básicos de la Estasdisticas Inferencial\n",
    "\n",
    "La **Regresión Lineal** es una de las principales herramientas de la estadistica inferencial. El objetivo del análisis de regresión es describir la relación entre una variable, llamada **Variable Dependiente**, y otro conjunto de variables, llamadas **Variables Independientes**. Más especificamente, el análisis de regresión atuda a comprender cómo cambia el valor tipico de la variable dependiente cuando se cambia cualquiera de las variables independientes, mientras que las otras variables independientes permanecen fijas. El producto final es una estimación de la variable dependiente en función de las variables independientes. Con base en esta función de regresión, podemos intentar hacer estimaciones sobre eventos futuros.\n",
    "\n",
    "La regresión lineal es una de las técnicas mas simples y más utilizadas en el análisi de regresión; sin embargo, hace supuestos muy rigidos sobre larelación entre la variable dependiente `y`y la variable independiente `x`, a saber:\n",
    "\n",
    "$$y = \\beta_0 + \\beta_1 * x$$\n",
    "\n",
    "Uno de los métodos mas populares para realizar la regresión lineal es el de **minimos cuadrados ordinarios (MCO - OLS)**"
   ]
  },
  {
   "cell_type": "code",
   "execution_count": 7,
   "id": "f4cfec1b",
   "metadata": {},
   "outputs": [
    {
     "data": {
      "text/html": [
       "<div>\n",
       "<style scoped>\n",
       "    .dataframe tbody tr th:only-of-type {\n",
       "        vertical-align: middle;\n",
       "    }\n",
       "\n",
       "    .dataframe tbody tr th {\n",
       "        vertical-align: top;\n",
       "    }\n",
       "\n",
       "    .dataframe thead th {\n",
       "        text-align: right;\n",
       "    }\n",
       "</style>\n",
       "<table border=\"1\" class=\"dataframe\">\n",
       "  <thead>\n",
       "    <tr style=\"text-align: right;\">\n",
       "      <th></th>\n",
       "      <th>Species</th>\n",
       "      <th>Weight</th>\n",
       "      <th>Length1</th>\n",
       "      <th>Length2</th>\n",
       "      <th>Length3</th>\n",
       "      <th>Height</th>\n",
       "      <th>Width</th>\n",
       "    </tr>\n",
       "  </thead>\n",
       "  <tbody>\n",
       "    <tr>\n",
       "      <th>0</th>\n",
       "      <td>Bream</td>\n",
       "      <td>242.0</td>\n",
       "      <td>23.2</td>\n",
       "      <td>25.4</td>\n",
       "      <td>30.0</td>\n",
       "      <td>11.5200</td>\n",
       "      <td>4.0200</td>\n",
       "    </tr>\n",
       "    <tr>\n",
       "      <th>1</th>\n",
       "      <td>Bream</td>\n",
       "      <td>290.0</td>\n",
       "      <td>24.0</td>\n",
       "      <td>26.3</td>\n",
       "      <td>31.2</td>\n",
       "      <td>12.4800</td>\n",
       "      <td>4.3056</td>\n",
       "    </tr>\n",
       "    <tr>\n",
       "      <th>2</th>\n",
       "      <td>Bream</td>\n",
       "      <td>340.0</td>\n",
       "      <td>23.9</td>\n",
       "      <td>26.5</td>\n",
       "      <td>31.1</td>\n",
       "      <td>12.3778</td>\n",
       "      <td>4.6961</td>\n",
       "    </tr>\n",
       "    <tr>\n",
       "      <th>3</th>\n",
       "      <td>Bream</td>\n",
       "      <td>363.0</td>\n",
       "      <td>26.3</td>\n",
       "      <td>29.0</td>\n",
       "      <td>33.5</td>\n",
       "      <td>12.7300</td>\n",
       "      <td>4.4555</td>\n",
       "    </tr>\n",
       "    <tr>\n",
       "      <th>4</th>\n",
       "      <td>Bream</td>\n",
       "      <td>430.0</td>\n",
       "      <td>26.5</td>\n",
       "      <td>29.0</td>\n",
       "      <td>34.0</td>\n",
       "      <td>12.4440</td>\n",
       "      <td>5.1340</td>\n",
       "    </tr>\n",
       "  </tbody>\n",
       "</table>\n",
       "</div>"
      ],
      "text/plain": [
       "  Species  Weight  Length1  Length2  Length3   Height   Width\n",
       "0   Bream   242.0     23.2     25.4     30.0  11.5200  4.0200\n",
       "1   Bream   290.0     24.0     26.3     31.2  12.4800  4.3056\n",
       "2   Bream   340.0     23.9     26.5     31.1  12.3778  4.6961\n",
       "3   Bream   363.0     26.3     29.0     33.5  12.7300  4.4555\n",
       "4   Bream   430.0     26.5     29.0     34.0  12.4440  5.1340"
      ]
     },
     "execution_count": 7,
     "metadata": {},
     "output_type": "execute_result"
    }
   ],
   "source": [
    "import statsmodels.formula.api as smf\n",
    "import statsmodels.api as sm\n",
    "\n",
    "df = pd.read_csv('Fish.csv')\n",
    "df.head() "
   ]
  },
  {
   "cell_type": "code",
   "execution_count": 9,
   "id": "aad8fd71",
   "metadata": {},
   "outputs": [
    {
     "data": {
      "text/html": [
       "<div>\n",
       "<style scoped>\n",
       "    .dataframe tbody tr th:only-of-type {\n",
       "        vertical-align: middle;\n",
       "    }\n",
       "\n",
       "    .dataframe tbody tr th {\n",
       "        vertical-align: top;\n",
       "    }\n",
       "\n",
       "    .dataframe thead th {\n",
       "        text-align: right;\n",
       "    }\n",
       "</style>\n",
       "<table border=\"1\" class=\"dataframe\">\n",
       "  <thead>\n",
       "    <tr style=\"text-align: right;\">\n",
       "      <th></th>\n",
       "      <th>Weight</th>\n",
       "      <th>Length1</th>\n",
       "      <th>Length2</th>\n",
       "      <th>Length3</th>\n",
       "      <th>Height</th>\n",
       "      <th>Width</th>\n",
       "    </tr>\n",
       "  </thead>\n",
       "  <tbody>\n",
       "    <tr>\n",
       "      <th>Weight</th>\n",
       "      <td>1.000000</td>\n",
       "      <td>0.915712</td>\n",
       "      <td>0.918618</td>\n",
       "      <td>0.923044</td>\n",
       "      <td>0.724345</td>\n",
       "      <td>0.886507</td>\n",
       "    </tr>\n",
       "    <tr>\n",
       "      <th>Length1</th>\n",
       "      <td>0.915712</td>\n",
       "      <td>1.000000</td>\n",
       "      <td>0.999517</td>\n",
       "      <td>0.992031</td>\n",
       "      <td>0.625378</td>\n",
       "      <td>0.867050</td>\n",
       "    </tr>\n",
       "    <tr>\n",
       "      <th>Length2</th>\n",
       "      <td>0.918618</td>\n",
       "      <td>0.999517</td>\n",
       "      <td>1.000000</td>\n",
       "      <td>0.994103</td>\n",
       "      <td>0.640441</td>\n",
       "      <td>0.873547</td>\n",
       "    </tr>\n",
       "    <tr>\n",
       "      <th>Length3</th>\n",
       "      <td>0.923044</td>\n",
       "      <td>0.992031</td>\n",
       "      <td>0.994103</td>\n",
       "      <td>1.000000</td>\n",
       "      <td>0.703409</td>\n",
       "      <td>0.878520</td>\n",
       "    </tr>\n",
       "    <tr>\n",
       "      <th>Height</th>\n",
       "      <td>0.724345</td>\n",
       "      <td>0.625378</td>\n",
       "      <td>0.640441</td>\n",
       "      <td>0.703409</td>\n",
       "      <td>1.000000</td>\n",
       "      <td>0.792881</td>\n",
       "    </tr>\n",
       "    <tr>\n",
       "      <th>Width</th>\n",
       "      <td>0.886507</td>\n",
       "      <td>0.867050</td>\n",
       "      <td>0.873547</td>\n",
       "      <td>0.878520</td>\n",
       "      <td>0.792881</td>\n",
       "      <td>1.000000</td>\n",
       "    </tr>\n",
       "  </tbody>\n",
       "</table>\n",
       "</div>"
      ],
      "text/plain": [
       "           Weight   Length1   Length2   Length3    Height     Width\n",
       "Weight   1.000000  0.915712  0.918618  0.923044  0.724345  0.886507\n",
       "Length1  0.915712  1.000000  0.999517  0.992031  0.625378  0.867050\n",
       "Length2  0.918618  0.999517  1.000000  0.994103  0.640441  0.873547\n",
       "Length3  0.923044  0.992031  0.994103  1.000000  0.703409  0.878520\n",
       "Height   0.724345  0.625378  0.640441  0.703409  1.000000  0.792881\n",
       "Width    0.886507  0.867050  0.873547  0.878520  0.792881  1.000000"
      ]
     },
     "execution_count": 9,
     "metadata": {},
     "output_type": "execute_result"
    }
   ],
   "source": [
    "df.corr()"
   ]
  },
  {
   "cell_type": "code",
   "execution_count": 10,
   "id": "c87883f9",
   "metadata": {},
   "outputs": [
    {
     "data": {
      "text/plain": [
       "(159, 7)"
      ]
     },
     "execution_count": 10,
     "metadata": {},
     "output_type": "execute_result"
    }
   ],
   "source": [
    "df.shape"
   ]
  },
  {
   "cell_type": "code",
   "execution_count": 11,
   "id": "8f36aafc",
   "metadata": {},
   "outputs": [
    {
     "data": {
      "text/html": [
       "<table class=\"simpletable\">\n",
       "<caption>OLS Regression Results</caption>\n",
       "<tr>\n",
       "  <th>Dep. Variable:</th>         <td>Weight</td>      <th>  R-squared:         </th> <td>   0.852</td>\n",
       "</tr>\n",
       "<tr>\n",
       "  <th>Model:</th>                   <td>OLS</td>       <th>  Adj. R-squared:    </th> <td>   0.851</td>\n",
       "</tr>\n",
       "<tr>\n",
       "  <th>Method:</th>             <td>Least Squares</td>  <th>  F-statistic:       </th> <td>   903.9</td>\n",
       "</tr>\n",
       "<tr>\n",
       "  <th>Date:</th>             <td>Mon, 31 May 2021</td> <th>  Prob (F-statistic):</th> <td>5.02e-67</td>\n",
       "</tr>\n",
       "<tr>\n",
       "  <th>Time:</th>                 <td>21:35:50</td>     <th>  Log-Likelihood:    </th> <td> -1008.2</td>\n",
       "</tr>\n",
       "<tr>\n",
       "  <th>No. Observations:</th>      <td>   159</td>      <th>  AIC:               </th> <td>   2020.</td>\n",
       "</tr>\n",
       "<tr>\n",
       "  <th>Df Residuals:</th>          <td>   157</td>      <th>  BIC:               </th> <td>   2027.</td>\n",
       "</tr>\n",
       "<tr>\n",
       "  <th>Df Model:</th>              <td>     1</td>      <th>                     </th>     <td> </td>   \n",
       "</tr>\n",
       "<tr>\n",
       "  <th>Covariance Type:</th>      <td>nonrobust</td>    <th>                     </th>     <td> </td>   \n",
       "</tr>\n",
       "</table>\n",
       "<table class=\"simpletable\">\n",
       "<tr>\n",
       "      <td></td>         <th>coef</th>     <th>std err</th>      <th>t</th>      <th>P>|t|</th>  <th>[0.025</th>    <th>0.975]</th>  \n",
       "</tr>\n",
       "<tr>\n",
       "  <th>Intercept</th> <td> -490.4006</td> <td>   31.526</td> <td>  -15.556</td> <td> 0.000</td> <td> -552.670</td> <td> -428.132</td>\n",
       "</tr>\n",
       "<tr>\n",
       "  <th>Length3</th>   <td>   28.4602</td> <td>    0.947</td> <td>   30.065</td> <td> 0.000</td> <td>   26.590</td> <td>   30.330</td>\n",
       "</tr>\n",
       "</table>\n",
       "<table class=\"simpletable\">\n",
       "<tr>\n",
       "  <th>Omnibus:</th>       <td> 2.876</td> <th>  Durbin-Watson:     </th> <td>   0.415</td>\n",
       "</tr>\n",
       "<tr>\n",
       "  <th>Prob(Omnibus):</th> <td> 0.237</td> <th>  Jarque-Bera (JB):  </th> <td>   2.439</td>\n",
       "</tr>\n",
       "<tr>\n",
       "  <th>Skew:</th>          <td>-0.221</td> <th>  Prob(JB):          </th> <td>   0.295</td>\n",
       "</tr>\n",
       "<tr>\n",
       "  <th>Kurtosis:</th>      <td> 3.415</td> <th>  Cond. No.          </th> <td>    95.9</td>\n",
       "</tr>\n",
       "</table><br/><br/>Notes:<br/>[1] Standard Errors assume that the covariance matrix of the errors is correctly specified."
      ],
      "text/plain": [
       "<class 'statsmodels.iolib.summary.Summary'>\n",
       "\"\"\"\n",
       "                            OLS Regression Results                            \n",
       "==============================================================================\n",
       "Dep. Variable:                 Weight   R-squared:                       0.852\n",
       "Model:                            OLS   Adj. R-squared:                  0.851\n",
       "Method:                 Least Squares   F-statistic:                     903.9\n",
       "Date:                Mon, 31 May 2021   Prob (F-statistic):           5.02e-67\n",
       "Time:                        21:35:50   Log-Likelihood:                -1008.2\n",
       "No. Observations:                 159   AIC:                             2020.\n",
       "Df Residuals:                     157   BIC:                             2027.\n",
       "Df Model:                           1                                         \n",
       "Covariance Type:            nonrobust                                         \n",
       "==============================================================================\n",
       "                 coef    std err          t      P>|t|      [0.025      0.975]\n",
       "------------------------------------------------------------------------------\n",
       "Intercept   -490.4006     31.526    -15.556      0.000    -552.670    -428.132\n",
       "Length3       28.4602      0.947     30.065      0.000      26.590      30.330\n",
       "==============================================================================\n",
       "Omnibus:                        2.876   Durbin-Watson:                   0.415\n",
       "Prob(Omnibus):                  0.237   Jarque-Bera (JB):                2.439\n",
       "Skew:                          -0.221   Prob(JB):                        0.295\n",
       "Kurtosis:                       3.415   Cond. No.                         95.9\n",
       "==============================================================================\n",
       "\n",
       "Notes:\n",
       "[1] Standard Errors assume that the covariance matrix of the errors is correctly specified.\n",
       "\"\"\""
      ]
     },
     "execution_count": 11,
     "metadata": {},
     "output_type": "execute_result"
    }
   ],
   "source": [
    "est = smf.ols(formula='Weight ~ Length3', data=df).fit()\n",
    "est.summary()"
   ]
  },
  {
   "cell_type": "markdown",
   "id": "4fa43ed5",
   "metadata": {},
   "source": [
    "Estan sucediendo muchas cosas aqui en la salida, asi que expliquemos brevemente que significan algunos de estos:\n",
    "\n",
    "* **Dep. Variable**  la variable que estamos estimando.\n",
    "* **Model:** El modelo que estamos usando\n",
    "* **R-squared** El coeficiente de determinación, que mide qué tan bien nuestra linea de rgresión se aproxima a los datos reales.\n",
    "* **Adj. R-squared:** R-Cuadrado ajustado según el número de observaciones\n",
    "* **[95.0% Conf. Int.]:** Los valores inferior y superior del intervalo de confianza 95%\n",
    "* **coef:** El valor estimado del coeficiente\n",
    "* **std err:** El error estandar de la estimación del coeficiente.\n",
    "* **Skew:** Una medida de asimetria / falta de simetria de los datos sobre la media.\n",
    "* **Skew:** Una medida de la forma de la distribución. La curtosis compara la cantidad de datos cerca de la media con la que está mas lejos de la media (en las colas)"
   ]
  },
  {
   "cell_type": "code",
   "execution_count": 12,
   "id": "9c233bf2",
   "metadata": {},
   "outputs": [
    {
     "data": {
      "image/png": "[encoded data removed]",
      "text/plain": [
       "<Figure size 432x288 with 1 Axes>"
      ]
     },
     "metadata": {
      "needs_background": "light"
     },
     "output_type": "display_data"
    }
   ],
   "source": [
    "y = df.Weight  \n",
    "X = df.Length3  \n",
    "X = sm.add_constant(X) \n",
    "\n",
    "X_1 = pd.DataFrame({'Length3': np.linspace(X.Length3.min(), X.Length3.max(), 100)})\n",
    "X_1 = sm.add_constant(X_1) \n",
    "\n",
    "y_reg = est.predict(X_1) \n",
    "\n",
    "plt.scatter(X.Length3, y, alpha=0.3)  \n",
    "plt.ylim(30, 100)  \n",
    "plt.xlabel(\"Length3\") \n",
    "plt.ylabel(\"Weight\") \n",
    "plt.title(\"Fit\") \n",
    "reg = plt.plot(X_1.Length3, y_reg, 'r', alpha=0.9)"
   ]
  },
  {
   "cell_type": "markdown",
   "id": "a0ea87cf",
   "metadata": {},
   "source": [
    "### Evaluación de la Hipotesis\n",
    "La prueba de hipótesis es un procedimiento esencial en estadistica. Una prueba de hipótesis evalúa dos enunciados mutuamente excluyentes sobre una población para determinar qué enunciado está mejor respaldado por los datos de la muestra. Cuando decimos que un hallazgo es estadisticamente significativo, es gracias a una prueba de hipótesis.\n",
    "\n",
    "La primera hipótesis genrealmente se denomina **hipótesis nula** y es una declaración general o una opinión predeterminada de que no existe relación entre dos fenómenos medidos, o no hay asociación entre grupos. Se puede considerar como un supuesto de statuo quo. por ejemplo, \"La producción de la empresa X equivale a 50 unidades por dia\"\n",
    "\n",
    "La **hipótesis alternativa** es la segunda hipótesis y se opone a la hipótesis nula. Por lo general se entiende que los fenómenos observados en los datos son el resultado de un efecto real, no aleatorio. Por ejemplo, \"La producción de la empresa X no es igual a 50 Unidades / dia\"\n",
    "\n",
    "![](Hypothesis.png)\n",
    "\n",
    "para evaluar entre estas dis hipótesis, necesitamos indicar un **nivel umbral de significacncia**. Está es la probabilidad de que los resultados observados se deben realmente al azar, suponiendo que la hipótesis nula fuera cierta. Dado que nunca podemos probar al 100% que la hipótesis nula es falsa, deebemos seleccionar un nivel de significancia que sea pequeño pero distinto de cero. Genrealmente, se usa el 5% (aunque en teoria puede establecer el nivel que desee). Entonces, si la probabilidad calculada de que los resultados observados se deben al azar es menor al 5%, rechazamos la hipótesis nula y proponemos la hipótesis alternativa, de lo contrario, no lo hacemos.\n",
    "\n",
    "Hay dos tipos de errores que podemos cometer al hacer esto:\n",
    "\n",
    "* **Tipo Error I** Rechazando la hipótesis nula cuando no deberiamos. La probabilidad de un error de Tipo I se denota por $\\alpha$\n",
    "* **Tipo Error II** No rechazar la hipótesis nula cuando deberiamos. La probabilidad de un error de tipo II se denota por $\\beta$\n",
    "\n",
    "Finalmente llegamos a **p-value**, que es nuestra probabilidad calculada de observar los resultados que hacemos asumiendo que la hipótesis nula es verdadera. Como se discutió anteriormente, si esto está por debajo del nivel de significancia (generalmente 5%), entonces puede afirmar que tiene evidencia razonable para rechazar la hipótesis nula. Sin embargo, No implica automáticamente un hallazgo \"significativo\" o \"importante\"; eso lo decide usted al considerar la relevancia del resultado en el mundo real.\n",
    "\n",
    "**t-test**\n",
    "Se utiliza una prueba t para determinar si hay una diferencia significativa entre las medidas de dos grupos. Se usa principalmente cuando los datos probablemente seguirían una distribución normal, como el conjunto de resultados de lanzar una moneda 100 veces.\n",
    "\n",
    "**ttest_ind**\n",
    "Calcule la prueba T para la medida de un grupo de puntuaciones.\n",
    "\n",
    "Ésta es una prueba de dos caras para la hipótesis nula de que el valor esperado (media) de una muestra de observaciones independientes a es igual a la media poblacional dada, popmean.\n",
    "\n",
    "**ttest_ind**\n",
    "Calcule la prueba T para las medidas de dos muestras independientes de puntuaciones.\n",
    "\n",
    "Esta es una prueba de dos caras para la hipótesis nula de que 2 muestras independientes tienen valores promedio (esperados) idénticos. Esta prueba asume que las poblaciones tienen variaciones idénticas por defecto.\n",
    "\n",
    "**Ejemplo** tiene 10 edades y está comprobando si la edad prmedio es 30 o no.\n",
    "\n",
    "La prueba t para una muestra determinada si la media muestral es estadisticamente diferente de una media poblacional conocida o hipotetizada. la prueba t de una muestra es una prueba paramétrica."
   ]
  },
  {
   "cell_type": "code",
   "execution_count": 14,
   "id": "b0188705",
   "metadata": {},
   "outputs": [
    {
     "name": "stdout",
     "output_type": "stream",
     "text": [
      "[32, 34, 29, 29, 22, 39, 38, 37, 38, 36, 30, 26, 22, 22]\n",
      "31.0\n",
      "p-values:  0.5605155888171379\n",
      "we are accepting null hypothesis\n"
     ]
    }
   ],
   "source": [
    "from scipy.stats import ttest_1samp\n",
    "import numpy as np\n",
    "\n",
    "ages = [32,34,29,29,22,39,38,37,38,36,30,26,22,22]\n",
    "print(ages)\n",
    "\n",
    "ages_mean = np.mean(ages)\n",
    "print(ages_mean)\n",
    "\n",
    "tset, pval = ttest_1samp(ages, 30)\n",
    "print(\"p-values: \",pval)\n",
    "\n",
    "if pval < 0.05:    # alpha value is 0.05 or 5%\n",
    "    print(\" we are rejecting null hypothesis\")\n",
    "else:\n",
    "    print(\"we are accepting null hypothesis\")"
   ]
  },
  {
   "cell_type": "markdown",
   "id": "7e04a245",
   "metadata": {},
   "source": [
    "La prueba t  de muestras independientes o la prueba t de 2 muestras compara las medidas de dos grupos independientes para determinar si existe evidencia estadistica de que las medias poblacionales asociadas son significativamente diferentes. La prueba t de muestras independientes es una prueba paramétrica. esta prueba también se conoce como: prueba t independiente."
   ]
  },
  {
   "cell_type": "code",
   "execution_count": 17,
   "id": "abf4b77e",
   "metadata": {},
   "outputs": [],
   "source": [
    "weed_pd = pd.read_csv(\"Weed_Price.csv\", parse_dates=[-1])"
   ]
  },
  {
   "cell_type": "code",
   "execution_count": 18,
   "id": "3e089347",
   "metadata": {},
   "outputs": [],
   "source": [
    "weed_pd[\"month\"] = weed_pd.date.apply(lambda x: x.month)\n",
    "weed_pd[\"year\"] = weed_pd.date.apply(lambda x: x.year)"
   ]
  },
  {
   "cell_type": "code",
   "execution_count": 19,
   "id": "9292e22b",
   "metadata": {},
   "outputs": [
    {
     "data": {
      "text/html": [
       "<div>\n",
       "<style scoped>\n",
       "    .dataframe tbody tr th:only-of-type {\n",
       "        vertical-align: middle;\n",
       "    }\n",
       "\n",
       "    .dataframe tbody tr th {\n",
       "        vertical-align: top;\n",
       "    }\n",
       "\n",
       "    .dataframe thead th {\n",
       "        text-align: right;\n",
       "    }\n",
       "</style>\n",
       "<table border=\"1\" class=\"dataframe\">\n",
       "  <thead>\n",
       "    <tr style=\"text-align: right;\">\n",
       "      <th></th>\n",
       "      <th>State</th>\n",
       "      <th>HighQ</th>\n",
       "      <th>HighQN</th>\n",
       "      <th>MedQ</th>\n",
       "      <th>MedQN</th>\n",
       "      <th>LowQ</th>\n",
       "      <th>LowQN</th>\n",
       "      <th>date</th>\n",
       "      <th>month</th>\n",
       "      <th>year</th>\n",
       "    </tr>\n",
       "  </thead>\n",
       "  <tbody>\n",
       "    <tr>\n",
       "      <th>0</th>\n",
       "      <td>Alabama</td>\n",
       "      <td>339.06</td>\n",
       "      <td>1042</td>\n",
       "      <td>198.64</td>\n",
       "      <td>933</td>\n",
       "      <td>149.49</td>\n",
       "      <td>123</td>\n",
       "      <td>2014-01-01</td>\n",
       "      <td>1</td>\n",
       "      <td>2014</td>\n",
       "    </tr>\n",
       "    <tr>\n",
       "      <th>1</th>\n",
       "      <td>Alaska</td>\n",
       "      <td>288.75</td>\n",
       "      <td>252</td>\n",
       "      <td>260.60</td>\n",
       "      <td>297</td>\n",
       "      <td>388.58</td>\n",
       "      <td>26</td>\n",
       "      <td>2014-01-01</td>\n",
       "      <td>1</td>\n",
       "      <td>2014</td>\n",
       "    </tr>\n",
       "    <tr>\n",
       "      <th>2</th>\n",
       "      <td>Arizona</td>\n",
       "      <td>303.31</td>\n",
       "      <td>1941</td>\n",
       "      <td>209.35</td>\n",
       "      <td>1625</td>\n",
       "      <td>189.45</td>\n",
       "      <td>222</td>\n",
       "      <td>2014-01-01</td>\n",
       "      <td>1</td>\n",
       "      <td>2014</td>\n",
       "    </tr>\n",
       "    <tr>\n",
       "      <th>3</th>\n",
       "      <td>Arkansas</td>\n",
       "      <td>361.85</td>\n",
       "      <td>576</td>\n",
       "      <td>185.62</td>\n",
       "      <td>544</td>\n",
       "      <td>125.87</td>\n",
       "      <td>112</td>\n",
       "      <td>2014-01-01</td>\n",
       "      <td>1</td>\n",
       "      <td>2014</td>\n",
       "    </tr>\n",
       "    <tr>\n",
       "      <th>4</th>\n",
       "      <td>California</td>\n",
       "      <td>248.78</td>\n",
       "      <td>12096</td>\n",
       "      <td>193.56</td>\n",
       "      <td>12812</td>\n",
       "      <td>192.92</td>\n",
       "      <td>778</td>\n",
       "      <td>2014-01-01</td>\n",
       "      <td>1</td>\n",
       "      <td>2014</td>\n",
       "    </tr>\n",
       "  </tbody>\n",
       "</table>\n",
       "</div>"
      ],
      "text/plain": [
       "        State   HighQ  HighQN    MedQ  MedQN    LowQ  LowQN       date  month  \\\n",
       "0     Alabama  339.06    1042  198.64    933  149.49    123 2014-01-01      1   \n",
       "1      Alaska  288.75     252  260.60    297  388.58     26 2014-01-01      1   \n",
       "2     Arizona  303.31    1941  209.35   1625  189.45    222 2014-01-01      1   \n",
       "3    Arkansas  361.85     576  185.62    544  125.87    112 2014-01-01      1   \n",
       "4  California  248.78   12096  193.56  12812  192.92    778 2014-01-01      1   \n",
       "\n",
       "   year  \n",
       "0  2014  \n",
       "1  2014  \n",
       "2  2014  \n",
       "3  2014  \n",
       "4  2014  "
      ]
     },
     "execution_count": 19,
     "metadata": {},
     "output_type": "execute_result"
    }
   ],
   "source": [
    "weed_pd.head()"
   ]
  },
  {
   "cell_type": "code",
   "execution_count": 20,
   "id": "a2f440c6",
   "metadata": {},
   "outputs": [],
   "source": [
    "# Let's work on weed prices in California in 2014\n",
    "weed_ca_2014 = weed_pd[(weed_pd.State==\"California\") & (weed_pd.year==2014)]"
   ]
  },
  {
   "cell_type": "code",
   "execution_count": 21,
   "id": "7353d581",
   "metadata": {},
   "outputs": [
    {
     "name": "stdout",
     "output_type": "stream",
     "text": [
      "Mean: 245.8942307692309\n",
      "Standard Deviation: 1.289907939371412\n"
     ]
    }
   ],
   "source": [
    "#Mean and standard deviation of high quality weed's price\n",
    "print (\"Mean:\", weed_ca_2014.HighQ.mean())\n",
    "print (\"Standard Deviation:\", weed_ca_2014.HighQ.std())"
   ]
  },
  {
   "cell_type": "code",
   "execution_count": 24,
   "id": "8dc8e151",
   "metadata": {},
   "outputs": [
    {
     "data": {
      "text/plain": [
       "(245.761718492726, 246.02674304573577)"
      ]
     },
     "execution_count": 24,
     "metadata": {},
     "output_type": "execute_result"
    }
   ],
   "source": [
    "#Confidence interval on the mean\n",
    "stats.norm.interval(0.95, loc=weed_ca_2014.HighQ.mean(), scale = weed_ca_2014.HighQ.std()/np.sqrt(len(weed_ca_2014)))"
   ]
  },
  {
   "cell_type": "code",
   "execution_count": 26,
   "id": "938a3b3b",
   "metadata": {},
   "outputs": [],
   "source": [
    "# Question: Are high-quality weed prices in Jan 2014 significantly higher than in Jan 2015?\n",
    "\n",
    "#Get the data\n",
    "weed_ca_jan2014 = np.array(weed_pd[(weed_pd.State==\"California\") & (weed_pd.year==2014) & (weed_pd.month==1)].HighQ)\n",
    "weed_ca_jan2015 = np.array(weed_pd[(weed_pd.State==\"California\") & (weed_pd.year==2015) & (weed_pd.month==1)].HighQ)"
   ]
  },
  {
   "cell_type": "code",
   "execution_count": 27,
   "id": "eda905ae",
   "metadata": {},
   "outputs": [
    {
     "name": "stdout",
     "output_type": "stream",
     "text": [
      "Mean-2014 Jan: 248.4454838709677\n",
      "Mean-2015 Jan: 243.60225806451612\n"
     ]
    }
   ],
   "source": [
    "print (\"Mean-2014 Jan:\", weed_ca_jan2014.mean())\n",
    "print (\"Mean-2015 Jan:\", weed_ca_jan2015.mean())"
   ]
  },
  {
   "cell_type": "code",
   "execution_count": 28,
   "id": "ff9ba8d3",
   "metadata": {},
   "outputs": [
    {
     "name": "stdout",
     "output_type": "stream",
     "text": [
      "Effect size: 4.843225806451585\n"
     ]
    }
   ],
   "source": [
    "print (\"Effect size:\", weed_ca_jan2014.mean() - weed_ca_jan2015.mean())"
   ]
  },
  {
   "cell_type": "markdown",
   "id": "3bf08aea",
   "metadata": {},
   "source": [
    "** Hipótesis nula** Los precios medios no son significativamente diferentes\n",
    "\n",
    "Realice **t-test** y determine el valor p"
   ]
  },
  {
   "cell_type": "code",
   "execution_count": 29,
   "id": "711f2e72",
   "metadata": {},
   "outputs": [
    {
     "data": {
      "text/plain": [
       "Ttest_indResult(statistic=98.01132523815805, pvalue=6.297971818508403e-68)"
      ]
     },
     "execution_count": 29,
     "metadata": {},
     "output_type": "execute_result"
    }
   ],
   "source": [
    "stats.ttest_ind(weed_ca_jan2014, weed_ca_jan2015, equal_var=True)"
   ]
  },
  {
   "cell_type": "markdown",
   "id": "a0ad4599",
   "metadata": {},
   "source": [
    "El valor p es la probabilidad de que el tamaño efectivo fuera por casualidad. Y aqui, el valor p es casi 0.\n",
    "\n",
    "Conclusión: La diferencia de precio es significativa. pero es un aumento de precio de $ 4.85 un gran problema? El precio disminuyó en 2015 en casi un 2$%$. ecuerde siempre mirar el tamaño del efecto.\n",
    "\n",
    "**Prueba de Chi-Cuadrado**\n",
    "Usamos la prueba de **chi-cuadrado** cuando tenemos dos variables categóricas de una sola población. Se utiliza para determinar si existe una asociación significativa entre las dos variables.\n",
    "\n",
    "Por ejemplo, en una encuesta electroral, los votantes pueden clasificarse por género (hombre o mujer) y preferencia de voto (demócrata, republicano o independiente). podriamos usar una prueba de chi-cuadrado para la independencia para determinar si el género está relacionado con la preferencia de voto:"
   ]
  },
  {
   "cell_type": "code",
   "execution_count": 30,
   "id": "2c3eb330",
   "metadata": {},
   "outputs": [
    {
     "name": "stdout",
     "output_type": "stream",
     "text": [
      "contingency_table :\n",
      " Like Shopping?  No  Yes\n",
      "Gender                 \n",
      "Female           2    3\n",
      "Male             2    2\n"
     ]
    }
   ],
   "source": [
    "df_chi = pd.read_csv('chi-test.csv')\n",
    "\n",
    "contingency_table=pd.crosstab(df_chi[\"Gender\"],df_chi[\"Like Shopping?\"])\n",
    "print('contingency_table :\\n',contingency_table)"
   ]
  },
  {
   "cell_type": "code",
   "execution_count": 31,
   "id": "2d7eac27",
   "metadata": {},
   "outputs": [
    {
     "name": "stdout",
     "output_type": "stream",
     "text": [
      "Observed Values :\n",
      " [[2 3]\n",
      " [2 2]]\n",
      "Expected Values :\n",
      " [[2.22222222 2.77777778]\n",
      " [1.77777778 2.22222222]]\n",
      "Degree of Freedom:- 1\n",
      "chi-square statistic:- 0.09000000000000008\n",
      "critical_value: 3.841458820694124\n"
     ]
    }
   ],
   "source": [
    "from scipy.stats import chi2\n",
    "\n",
    "#Observed Values\n",
    "Observed_Values = contingency_table.values \n",
    "print(\"Observed Values :\\n\",Observed_Values)\n",
    "\n",
    "\n",
    "b=stats.chi2_contingency(contingency_table)\n",
    "Expected_Values = b[3]\n",
    "print(\"Expected Values :\\n\",Expected_Values)\n",
    "\n",
    "\n",
    "no_of_rows=len(contingency_table.iloc[0:2,0])\n",
    "no_of_columns=len(contingency_table.iloc[0,0:2])\n",
    "ddof=(no_of_rows-1)*(no_of_columns-1)\n",
    "print(\"Degree of Freedom:-\",ddof)\n",
    "\n",
    "alpha = 0.05\n",
    "chi_square=sum([(o-e)**2./e for o,e in zip(Observed_Values,Expected_Values)])\n",
    "chi_square_statistic=chi_square[0]+chi_square[1]\n",
    "print(\"chi-square statistic:-\",chi_square_statistic)\n",
    "\n",
    "critical_value=chi2.ppf(q=1-alpha,df=ddof)\n",
    "print('critical_value:',critical_value)"
   ]
  },
  {
   "cell_type": "code",
   "execution_count": 32,
   "id": "3d4ac8f6",
   "metadata": {},
   "outputs": [
    {
     "name": "stdout",
     "output_type": "stream",
     "text": [
      "p-value: 0.7641771556220945\n",
      "Significance level:  0.05\n",
      "Degree of Freedom:  1\n",
      "chi-square statistic: 0.09000000000000008\n",
      "critical_value: 3.841458820694124\n",
      "p-value: 0.7641771556220945\n",
      "Retain H0,There is no relationship between 2 categorical variables\n",
      "Retain H0,There is no relationship between 2 categorical variables\n"
     ]
    }
   ],
   "source": [
    "#p-value\n",
    "p_value=1-chi2.cdf(x=chi_square_statistic,df=ddof)\n",
    "print('p-value:',p_value)\n",
    "print('Significance level: ',alpha)\n",
    "print('Degree of Freedom: ',ddof)\n",
    "print('chi-square statistic:',chi_square_statistic)\n",
    "print('critical_value:',critical_value)\n",
    "print('p-value:',p_value)\n",
    "\n",
    "if chi_square_statistic>=critical_value:\n",
    "    print(\"Reject H0,There is a relationship between 2 categorical variables\")\n",
    "else:\n",
    "    print(\"Retain H0,There is no relationship between 2 categorical variables\")\n",
    "    \n",
    "if p_value<=alpha:\n",
    "    print(\"Reject H0,There is a relationship between 2 categorical variables\")\n",
    "else:\n",
    "    print(\"Retain H0,There is no relationship between 2 categorical variables\")"
   ]
  },
  {
   "cell_type": "markdown",
   "id": "d021b614",
   "metadata": {},
   "source": [
    "** Prueba de chi-cuadrado para ajuste de bondad**\n",
    "\n",
    "$$ \\chi^2 = \\sum (O - E)^2/E $$\n",
    "\n",
    "* O es la frecuencia observada.\n",
    "* E es la frecuencia esparada.\n",
    "* X es la estadistica de chi-cuadrado\n",
    "\n",
    "Sunpogamos que la proporción de personas que compraron marihuana de calidad alta, media y baja en enero de 2014 es la proporción esparada. Encuentre si la proporción de personas que compraron marihuana en enero de 2015 cumplió con la norma."
   ]
  },
  {
   "cell_type": "code",
   "execution_count": 33,
   "id": "d30e527a",
   "metadata": {},
   "outputs": [],
   "source": [
    "weed_jan2014 = weed_pd[(weed_pd.year==2014) & (weed_pd.month==1)][[\"HighQN\", \"MedQN\", \"LowQN\"]]\n",
    "weed_jan2015 = weed_pd[(weed_pd.year==2015) & (weed_pd.month==1)][[\"HighQN\", \"MedQN\", \"LowQN\"]]"
   ]
  },
  {
   "cell_type": "code",
   "execution_count": 34,
   "id": "a4ee5ea5",
   "metadata": {},
   "outputs": [
    {
     "data": {
      "text/html": [
       "<div>\n",
       "<style scoped>\n",
       "    .dataframe tbody tr th:only-of-type {\n",
       "        vertical-align: middle;\n",
       "    }\n",
       "\n",
       "    .dataframe tbody tr th {\n",
       "        vertical-align: top;\n",
       "    }\n",
       "\n",
       "    .dataframe thead th {\n",
       "        text-align: right;\n",
       "    }\n",
       "</style>\n",
       "<table border=\"1\" class=\"dataframe\">\n",
       "  <thead>\n",
       "    <tr style=\"text-align: right;\">\n",
       "      <th></th>\n",
       "      <th>HighQN</th>\n",
       "      <th>MedQN</th>\n",
       "      <th>LowQN</th>\n",
       "    </tr>\n",
       "  </thead>\n",
       "  <tbody>\n",
       "    <tr>\n",
       "      <th>0</th>\n",
       "      <td>1042</td>\n",
       "      <td>933</td>\n",
       "      <td>123</td>\n",
       "    </tr>\n",
       "    <tr>\n",
       "      <th>1</th>\n",
       "      <td>252</td>\n",
       "      <td>297</td>\n",
       "      <td>26</td>\n",
       "    </tr>\n",
       "    <tr>\n",
       "      <th>2</th>\n",
       "      <td>1941</td>\n",
       "      <td>1625</td>\n",
       "      <td>222</td>\n",
       "    </tr>\n",
       "    <tr>\n",
       "      <th>3</th>\n",
       "      <td>576</td>\n",
       "      <td>544</td>\n",
       "      <td>112</td>\n",
       "    </tr>\n",
       "    <tr>\n",
       "      <th>4</th>\n",
       "      <td>12096</td>\n",
       "      <td>12812</td>\n",
       "      <td>778</td>\n",
       "    </tr>\n",
       "  </tbody>\n",
       "</table>\n",
       "</div>"
      ],
      "text/plain": [
       "   HighQN  MedQN  LowQN\n",
       "0    1042    933    123\n",
       "1     252    297     26\n",
       "2    1941   1625    222\n",
       "3     576    544    112\n",
       "4   12096  12812    778"
      ]
     },
     "execution_count": 34,
     "metadata": {},
     "output_type": "execute_result"
    }
   ],
   "source": [
    "weed_jan2014.head()"
   ]
  },
  {
   "cell_type": "code",
   "execution_count": 35,
   "id": "720cd115",
   "metadata": {},
   "outputs": [
    {
     "data": {
      "text/html": [
       "<div>\n",
       "<style scoped>\n",
       "    .dataframe tbody tr th:only-of-type {\n",
       "        vertical-align: middle;\n",
       "    }\n",
       "\n",
       "    .dataframe tbody tr th {\n",
       "        vertical-align: top;\n",
       "    }\n",
       "\n",
       "    .dataframe thead th {\n",
       "        text-align: right;\n",
       "    }\n",
       "</style>\n",
       "<table border=\"1\" class=\"dataframe\">\n",
       "  <thead>\n",
       "    <tr style=\"text-align: right;\">\n",
       "      <th></th>\n",
       "      <th>HighQN</th>\n",
       "      <th>MedQN</th>\n",
       "      <th>LowQN</th>\n",
       "    </tr>\n",
       "  </thead>\n",
       "  <tbody>\n",
       "    <tr>\n",
       "      <th>51</th>\n",
       "      <td>1539</td>\n",
       "      <td>1463</td>\n",
       "      <td>182</td>\n",
       "    </tr>\n",
       "    <tr>\n",
       "      <th>52</th>\n",
       "      <td>350</td>\n",
       "      <td>475</td>\n",
       "      <td>37</td>\n",
       "    </tr>\n",
       "    <tr>\n",
       "      <th>53</th>\n",
       "      <td>2638</td>\n",
       "      <td>2426</td>\n",
       "      <td>306</td>\n",
       "    </tr>\n",
       "    <tr>\n",
       "      <th>54</th>\n",
       "      <td>846</td>\n",
       "      <td>836</td>\n",
       "      <td>145</td>\n",
       "    </tr>\n",
       "    <tr>\n",
       "      <th>55</th>\n",
       "      <td>16512</td>\n",
       "      <td>19151</td>\n",
       "      <td>1096</td>\n",
       "    </tr>\n",
       "  </tbody>\n",
       "</table>\n",
       "</div>"
      ],
      "text/plain": [
       "    HighQN  MedQN  LowQN\n",
       "51    1539   1463    182\n",
       "52     350    475     37\n",
       "53    2638   2426    306\n",
       "54     846    836    145\n",
       "55   16512  19151   1096"
      ]
     },
     "execution_count": 35,
     "metadata": {},
     "output_type": "execute_result"
    }
   ],
   "source": [
    "weed_jan2015.head()"
   ]
  },
  {
   "cell_type": "code",
   "execution_count": 36,
   "id": "e4ae2e43",
   "metadata": {},
   "outputs": [],
   "source": [
    "Expected = np.array(weed_jan2014.apply(sum, axis=0))\n",
    "Observed = np.array(weed_jan2015.apply(sum, axis=0))"
   ]
  },
  {
   "cell_type": "code",
   "execution_count": 37,
   "id": "714a8894",
   "metadata": {},
   "outputs": [
    {
     "name": "stdout",
     "output_type": "stream",
     "text": [
      "Expected: [2918004 2644757  263958] \n",
      " Observed: [4057716 4035049  358088]\n"
     ]
    }
   ],
   "source": [
    "print (\"Expected:\", Expected, \"\\n\" , \"Observed:\", Observed)"
   ]
  },
  {
   "cell_type": "code",
   "execution_count": 38,
   "id": "714c68b1",
   "metadata": {},
   "outputs": [
    {
     "name": "stdout",
     "output_type": "stream",
     "text": [
      "Expected: [0.5007971  0.45390159 0.04530131] \n",
      " Observed: [0.48015461 0.47747239 0.042373  ]\n"
     ]
    }
   ],
   "source": [
    "print (\"Expected:\", Expected/np.sum(Expected.astype(float)), \"\\n\" , \"Observed:\", Observed/np.sum(Observed.astype(float)))"
   ]
  },
  {
   "cell_type": "code",
   "execution_count": 39,
   "id": "cdf68bf9",
   "metadata": {},
   "outputs": [
    {
     "data": {
      "text/plain": [
       "Power_divergenceResult(statistic=1209562.2775169075, pvalue=0.0)"
      ]
     },
     "execution_count": 39,
     "metadata": {},
     "output_type": "execute_result"
    }
   ],
   "source": [
    "stats.chisquare(Observed, Expected)"
   ]
  }
 ],
 "metadata": {
  "kernelspec": {
   "display_name": "Python 3",
   "language": "python",
   "name": "python3"
  },
  "language_info": {
   "codemirror_mode": {
    "name": "ipython",
    "version": 3
   },
   "file_extension": ".py",
   "mimetype": "text/x-python",
   "name": "python",
   "nbconvert_exporter": "python",
   "pygments_lexer": "ipython3",
   "version": "3.8.8"
  }
 },
 "nbformat": 4,
 "nbformat_minor": 5
}
