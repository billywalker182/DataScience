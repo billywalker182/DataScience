{
 "cells": [
  {
   "cell_type": "markdown",
   "metadata": {
    "tags": [],
    "cell_id": "00000-e94569e7-4509-4db8-a6be-dc606aaaa83d",
    "allow_embed": "code_output",
    "deepnote_cell_type": "markdown"
   },
   "source": "# INRODUCCIÓN A LA CIENCIA DE DATOS, MACHINE LEARNING E INTELIGENCIA ARTIFICAL\n\n### Objetivos\nPara el final de este caso nosotros esperamos tener adecuadamente la definición de ciencia de datos, machine learning e inteligencia artificial. Debería poder identificar ejemplo de cada uno en el mundo real. Antes de que podamos responder esas preguntas, \n\n## Introducción\nQué es la ciencia de datos? Machine Learning? Inteligencia Artificial? Todos estos términos se usan indistintamente en nuestra sociedad, como sifueran lo mismo, pero en realidad son bastantes diferentes. Tenemos que abordar uno mucho más fundamental: Qué son los Datos?  Asombrosamente, es bastante dificil encontrar una definición simple para ello.\n\n### Pregunta:\nQué son los \"Datos\"?\nTu puedes ir a Wikipedia o leer libros para obtener una respuesta a esta pregunta, pero la mayoria de esas fuentes te darán una idea muy pedante, definición poco intuitiva.En lugar, vamos a seguir la definición coloquial de datos como \"algo cuyo valor le importa\". No encontrará en ningun tratamiento formal del tema, pero por ahora, es lo suficiente bueno. Su nombre, edad y numero telefonico son datos acerca de ti. Tus ahorros bancarios, tu dirección, y el nombre de sus padres son datos que se relacionan contigo. Tenemos datos de todo, en todas partes.\n\n## Qué es la Ciencia de Datos?\nAhora que sabemos que son los datos, podemos ahora responder: \"Qué es Ciencia de Datos\"? Ciencia, en el lenguaje de el método cientifico es:\n\n1. Formulación de Hipotesis, o adivinar como funciona el mundo, basado en observaciones del mundo que nos rodea.\n\n2. Validar o invalidar esas hipótesis mediante la realización de experimentos.\n\nAunque a diferencia de las ciencias puras, trabajar con datos no requiere necesariamente realizar experimentos (¡aunque podría hacerlo!). Bastante, muchas veces los datos ya han sido recopilados y organizados por otra persona. Entonces, el método cientifico, aplicado a los datos se resumir como: \"Formular hipótesis basadas en el mundo que nos rodea, luego analizar datos relevantes para validar o invalidar nuestras hipótesis\"\n",
   "outputs": [],
   "execution_count": null
  },
  {
   "cell_type": "markdown",
   "source": "## Ejercicio 1:\nBasado en lo anterior, ¿cuál de las siguientes opciones puede describirse como un reflejo de todo el proceso de ciencia de datos? seleccione todas las que corresponda.\n\n(a). Observando como anécdota que los millenials parecen responder de manera más positiva a las discusiones sobre la nueva versión del producto de su empresa que está en beta en compraración con la versión existente, configurar una prueba A/B que canalice a los millenials por igual a ambas versiones, luego realizar pruebas de significación estadistica sobre estos datos para verificar que prefieren la nueva versión.\n\n(b). Observar que los precios de Uber parecen estar correlacionadas con un pequeño conjunto de factores, obtener datos de código abierto sobre las tarifas de Uber, luego construir un modelo de precios basados en esos factores y verificar que explican la mayor parte de la variación en las tarifas.\n\n(c).  Convertir imagenes de circulos de cultivos en píxeles estructurados y almacenarlas en una base de datos para su uso posterior.\n\n(d). Construir un algoritmo que permite que una computadora reconozca imagenes de perros y gatos.\n\n**answer**. (a) y (b) observe que ambos escenarios siguen la secuencia \"hipótesis - experimento / investigación - análisis\" descrita anteriormente. (c) es un problema de ingenieria de datos; si bien no refleja todo el proceso de ciencia de datos, este tipo de manipulación de datos para convertirlos en una forma adecuada para el analisis es una parte crucial del proceso de ciencia de datos. (d) tampoco refleja todo el proceso, ya que no estamos haciendo ninguna prueba de hipótesis, solo estamos construyendo un modelo. Revisaremos esto lo suficientemente pronto.",
   "metadata": {
    "tags": [],
    "cell_id": "00001-5c3509df-e3ac-4735-b91e-a1800682c70a",
    "deepnote_cell_type": "markdown"
   },
   "outputs": [],
   "execution_count": null
  },
  {
   "cell_type": "markdown",
   "source": "Tenga en cuenta que la ciencia de datos No es lo que a menudo se menciona en los medios:\n\n1. No son computadoras que reconocen imágenes de perros y gatos.\n2. No es IBM Watson la detección de enfermedades en tejidos humanos.\n3. No es AlphaGo vencer al mejor jugador de Go del mundo.\n\nDe hecho, la mayoría de los casos de uso de datos de VAST NO son como los tres ejemplos anteriores, sino mucho mas similares a las ciencias tradicionales. La mayoría de los ejemplos de ciencia de datos son los que describimos en las opciones (a) y (b) del ejercicio 1. Un ejemplo común de ciencia de datos corporativos es una empresa que recopila datos de usuarios, analizar los datos para categorizar a sus clientes, crear campañas de marketing para dirigirse mejor a sus clientes potenciales, probar los efectos de las soluciones y actualizar sus materiales de marketing en consecuencia",
   "metadata": {
    "tags": [],
    "cell_id": "00002-cf03dd34-c6f1-4a08-8955-669ea766f9e7",
    "deepnote_cell_type": "markdown"
   },
   "outputs": [],
   "execution_count": null
  },
  {
   "cell_type": "markdown",
   "source": "## Qué es Machine Learning?\nSin embargo, la opción (d) del ejercicio 1, asi como los ejemplos 1 y 2 de la lista anterior, si caen en el grupo del machine Learning. Qué significa esto?.\n\"Aprender\" significa \"adquirir conocimeintos o habilidades en algo a través de la experiencia\". Por lo tanto, se podría enmarcar el \"Aprendizaje Automático\" como \"como una máquina gana o adquiere conocimeinto a través de la experiencia\". ¿Cómo adquiere experiencia una máquina? Todas las entradas de la máquina son esencialmente cadenas binarias de 0 y 1, que en realidad son solo, lo adivinó, ¡datos!, Entonces, el aprendizaje automático es realmente la forma en que una computadora adquiere conocmiento a tráves de los datos.\n\nPor supuesto, esto no da una idea del \"como\" en absoluto; simplemente dice que hay algo que se hace con los datos de entrada para generar este conocimiento como salida. Para hacer una analogía matematica, el aprendizaje automatico es una función f tal que:\n\n*conocimiento* = *f(data)*\n\ny parte de eso, ¡no hay otras estipulaciones reales sobre *f*! entonces, *f* podría ser tan mecánico como una simple función matemática (digamos, la suma de todos los puntos de datos) y calificar como aprendizaje automático. Y en la práctica, esto es lo que son la mayoría de los algoritmos comunes de aprendizaje automático, que incluyen:\n\n1. REgresión Logistica.\n2. Bosques Aleatorios.\n3. Maquinas de Vectores de Soporte.\n4. k - significa agrupamiento.\n5. Redes Neuronales.\n\n(Aprenderá sobre todos estos más adelante en el curso). Esto puede parecer decepcionate, dado que los medios exaltan la \"Inteligencia Artificial\" y hacen que parezca que algo \"inteligente\" está sucediendo con el aprendizaje automático. Pero, de hecho, muchos métodos mecánicos satisfacen las condiciones requeridas para ser clasificados como aprendizaje automático. Esto no significa que estos métodos mecánicos tenga una utilidad limitada; de hecho, son bastantes poderosos si se usan correctamente, pero si significa que no se parecen a nada que podamos asociar naturalmente con la inteligencia\n\n\n\n\n\n",
   "metadata": {
    "tags": [],
    "cell_id": "00003-13307a92-1025-4c3d-b419-62867017769e",
    "deepnote_cell_type": "markdown"
   },
   "outputs": [],
   "execution_count": null
  },
  {
   "cell_type": "markdown",
   "source": "Más especificamente, el aprendizaje automático es \"mecanico\" en el sentido de quue la forma en que estos algoritmos \"aprenden\" se basa estrictamente en principios matemáticos. Por ejemplo, la regresión lineal es un algoritmo que aprenden ajustando los coeficientes de los datos de entrada para predecir mejor un valor de salida. La forma en que cambian los coeficientes se basa completamente en protocolos matemáticos (en este caso, los gradientes de los datos de entrada). Una aplicación común de la regresión lineal sería predecir los precios de la vivienda en función de varios datos de entrada, como el tamaño, el número de habitaciones y la antiguedad de la casa. El modelo tomaria los datos y aprendería de ellos eligiendo el conjunto de coeficientes que minimiza el error de sus predicciones frente a los precios reales.",
   "metadata": {
    "tags": [],
    "cell_id": "00004-48b245a5-c10b-44ad-ac46-4955d7622438",
    "deepnote_cell_type": "markdown"
   },
   "outputs": [],
   "execution_count": null
  },
  {
   "cell_type": "markdown",
   "source": "## EJERCICIO 2:\nSegún la definición anterior, ¿Cuál de las siguientes tareas probablemente implicaría el uso de \"Aprendizaje automático\"? Seleccione todas las que correspondan.\n\n(a).  Construyendo el modelo que respalda l sistema de reconocimiento facial de los iPhones de Apple.\n\n(b). Construir el modelo que respalda el sistema de recomendación de Peliculas de Netflix en función de su actividad de Visualización anterior.\n\n(c). Investigar los factores que afectan los precios de Airbnb y desarrollar una herramienta de precios basada en este análisis.\n\n(d). Configurar un sistema automatizado para aprobar o rechazar solicitudes de préstamos hipotecarios.\n\n**answer** Todo lo anterior.\n\n(a). Es similar a la tarea de reconocer gatos y perros en imágenes, que como hemos comentando  es un problema de aprendizaje automático.\n\n(b). Implica la construcción de un modelo de computadora que puede aprender sus preferencias de peliculas en función de su actividad de visualización anterior; nuevamente, esto encaja en nuestra definición anterior de aprendizaje automatico.\n\nSi bien (c) no hace referencia explicita a la construcción de un modelo aprendizaje automático, una herramienta de precios que tenga en cuenta todos los factores que afectan los precios de Airbnb probablemente sería lo suficientemente compleja como para beneficiarse del uso del aprendizaje automatico.\n\n(D) tampoco hace referencia explicita a la construcción de un modelo, pero hay muchas partes en una solicitud de préstamo hipotecario y, por lo tanto, es probable que muchos factores sean relevantes para determinar la aprobación. Por lo tanto, es probable de cualquier sistema automatizado requiera un modelo complejo que tenga en cuenta todos estos factores. Un modelo de este tipo se beneficiaría de la incorporación del aprendizaje automatico. ",
   "metadata": {
    "tags": [],
    "cell_id": "00005-16456009-8096-4d5d-a1ab-6b48f0ee9bc2",
    "deepnote_cell_type": "markdown"
   },
   "outputs": [],
   "execution_count": null
  },
  {
   "cell_type": "markdown",
   "source": "El aprendizaje automático puede ser, y a menudo es, parte de una ciencia de datos adecuada. **La ciencia de Datos es fundamental un proceso, mientras que el aprendizaje automatico es una herramienta que puede ser inmesamente útil para llevar a cabo el proceso de ciencia de Datos**",
   "metadata": {
    "tags": [],
    "cell_id": "00006-ca34cbf6-47e5-4a43-a1de-67a239826ffc",
    "deepnote_cell_type": "markdown"
   },
   "outputs": [],
   "execution_count": null
  },
  {
   "cell_type": "markdown",
   "source": "## Qué es Inteligencia Artificial?\n\nPero el elefante todavia esta en la habitación: Aunque algunos métodos mecánicos \"tontos\" pueden calificar como aprendizaje automático, esto tampoco excluye que los métodos \"inteligentes\" similares a los humanos se clasifiquen como tales. y esto es completamente cierto, no lo es, pero la gente ha optado por nombrarlo de otra manera: **Inteligencia Artificial** \n\n¿Pero por qué? ¿Por qué darles a los métodos \"inteligentes\" un nombre completamente diferente si también pueden caer en el grupo del aprendizaje automático? Esta es la pregunta que exploraremos en el resto de este módulo.\n\nComencemos por echar un vistazo una demostración icónica de esta llamada inteligencia: [AlphaGo venció el mejor jugador de Go humano del mundo](https://en.wikipedia.org/wiki/AlphaGo_versus_Lee_Sedol)\n",
   "metadata": {
    "tags": [],
    "cell_id": "00004-eacea9e1-e39e-4eef-8334-a1027ad4ee86",
    "deepnote_cell_type": "markdown"
   },
   "outputs": [],
   "execution_count": null
  },
  {
   "cell_type": "code",
   "source": "from IPython.display import IFrame",
   "metadata": {
    "tags": [],
    "cell_id": "00008-70be0af2-89f7-4c17-9541-3b33d1679a8c",
    "deepnote_to_be_reexecuted": false,
    "source_hash": "d4c4f459",
    "execution_start": 1626928773546,
    "execution_millis": 3,
    "deepnote_cell_type": "code"
   },
   "outputs": [],
   "execution_count": 3
  },
  {
   "cell_type": "code",
   "source": "IFrame('https://www.youtube.com/embed/8tq1C8spV_g?rel=0&amp;controls=0&amp;showinfo=0', width=560, height=315)",
   "metadata": {
    "tags": [],
    "cell_id": "00009-2fdddaf9-48a8-48cf-9ad5-47c865ff89b6",
    "deepnote_to_be_reexecuted": false,
    "source_hash": "5b9bf574",
    "execution_start": 1626924310258,
    "execution_millis": 13,
    "deepnote_cell_type": "code"
   },
   "outputs": [
    {
     "output_type": "execute_result",
     "execution_count": 2,
     "data": {
      "text/plain": "<IPython.lib.display.IFrame at 0x7f756b83eb50>",
      "text/html": "\n        <iframe\n            width=\"560\"\n            height=\"315\"\n            src=\"https://www.youtube.com/embed/8tq1C8spV_g?rel=0&amp;controls=0&amp;showinfo=0\"\n            frameborder=\"0\"\n            allowfullscreen\n        ></iframe>\n        "
     },
     "metadata": {}
    }
   ],
   "execution_count": null
  },
  {
   "cell_type": "markdown",
   "source": "Muy Impresionante! ¿Pero esta hazaña por si sola prueba que una máquina exhibe una inteligencia similar a la humana?",
   "metadata": {
    "tags": [],
    "cell_id": "00010-e4943d05-a12e-4e78-a477-bf30e2a4b130",
    "deepnote_cell_type": "markdown"
   }
  },
  {
   "cell_type": "markdown",
   "source": "### Pregunta\n¿Qué, para usted, cuenta como \"inteligencia artificial\"? ¿Qué demostracciones de aptitudes te convencerián, sin lugar a dudas, de que algo es tan inteligente como los humanos?",
   "metadata": {
    "tags": [],
    "cell_id": "00011-a3e6aa77-2b92-43dc-a264-b747ced79423",
    "deepnote_cell_type": "markdown"
   },
   "outputs": [],
   "execution_count": null
  },
  {
   "cell_type": "markdown",
   "source": "Es posibleque haya descubierto que fue bastante dificil encontrar respuestas a la segunda parte de la pregunta anterior, y que la mayoria de las ideas que tenia: 1) parecía que bien podrian tener una solución mecánica \"tonta\" como en la discusión anterior sobre el aprendizaje automático, a pesar de parecer impresionante al principio; o 2) realmente te hizo cuestionar cuán unica es realmente la inteligencia humana y si virtualmente todo lo que hacemos podría reducirse a métodos mecánicos tan \"tontos\". Exploremos ambas ideas a continuación.",
   "metadata": {
    "tags": [],
    "cell_id": "00012-c2e0902a-85f0-41a2-8228-74e2cd1d02ab",
    "deepnote_cell_type": "markdown"
   },
   "outputs": [],
   "execution_count": null
  },
  {
   "cell_type": "markdown",
   "source": "## ¿Qué Pueden hacer y que no pueden hacer las Máquinas? ¿Qué Pasa Con Nosotros?\n\nEntonces, ¿Hay alguna prueba sensata que podamos usar para determinar si algo es tan inteligente como un ser humano? Ha habido muchas propuestas a lo largo del tiempo. La prueba de actitud más famosa desarrollada fue la [**Prueba de Turing**](https://www.geeksforgeeks.org/turing-test-artificial-intelligence/). Que lleva el nombre del matemático inglés y famoso criptógrafo de la Segunda Guerra Mundial Alan Turing. En este examen, hay un evaluador humano y dos compañeros de conversación: una máquina y un humano. El evaluador mantendría una conversación con cada uno a través de un canal de solo texto. Si el evaluador no puede destinguir de manera confiable la máquina del humano, se dice que la máquina ha pasado la prueba.\n\nTuring no declaró explicitamente que su prueba podría usarse como una medida de inteligencia, pero muchos de los que vinieron después de él pusieron su prueba en el centro de atención. Por supuesto, la implicación es que si una computadora puede conversar como un humano, entonces es efectivamente tan inteligente como un humano.\n\n\n",
   "metadata": {
    "tags": [],
    "cell_id": "00013-f7fa1f80-89c6-4d43-b23f-ad0c07e796dd",
    "deepnote_cell_type": "markdown"
   },
   "outputs": [],
   "execution_count": null
  },
  {
   "cell_type": "markdown",
   "source": "### Pregunta\n¿Cuáles son algunas de las deficiencias de esta propuesta? ¿Qué conocimeinto aporta esto a los criterios que tendría que sastifacer una prueba rigurosa de inteligencia similar a la humana?\n\nAdemás de las fallas con la prueba de Turing (y de hecho con casi cualquier otra prueba que probablemente se le ocurra), esto saca a la luz una de las obsesiones malsanas de nuestra sociedad cuando se trata del campo de la inteligencia artificial: su enfoque singular en imitar la inteligencia humana a través de las máquinas. Pero ¿Qué pasa si la inteligencia de las máquinas es fundamentalmente diferente (nota: ni peor nimejor) que la inteligencia humana? ¿Qué pasa si las máquinas son mas \"inteligentes\" acerca de ciertas cosas que nosotros, y viceversa?",
   "metadata": {
    "tags": [],
    "cell_id": "00014-fa3188f7-b9fb-4ccb-afed-57185d0855f6",
    "deepnote_cell_type": "markdown"
   },
   "outputs": [],
   "execution_count": null
  },
  {
   "cell_type": "markdown",
   "source": "### Pregunta\nHaga una lluvia de ideas con un compañero y luego discutiremos en voz alta en clase:\n\n1. ¿Cuáles son algunas de las cosas que las máquinas ya pueden hacer mejor que nosotros? ¿Qué especificamente de ellos les permite hacer esto mejor?\n\n2. ¿Cuáles son algunas de las cosas que podemos hacer mejor que las máquinas? ¿Cree que esta ventaja probablemnete se mantedrá en el tiempo? ¿Por qué?",
   "metadata": {
    "tags": [],
    "cell_id": "00015-26492a36-6497-4409-90a2-c2183c3e7bfb",
    "deepnote_cell_type": "markdown"
   },
   "outputs": [],
   "execution_count": null
  },
  {
   "cell_type": "markdown",
   "source": "### Pregunta\nAhora que hemos definido correctamente la ciencia de datos, ¿Quien ha utilizado la ciencia de datos en su trabajo? Proporcione un ejemplo especifico",
   "metadata": {
    "tags": [],
    "cell_id": "00016-4caf99bd-c777-4a1e-b0fe-98c84b3a5ebd",
    "deepnote_cell_type": "markdown"
   }
  },
  {
   "cell_type": "markdown",
   "source": "## Conclusiones\nEn este caso, aprendió qué son realmente la \"Ciencia de Datos\" y el \"Aprendizaje Automatico\", en contraste con las connotaciones engañosas que a menudo se dan en los debates públicos. También aprendio que \"Inteligencia artificial\" es un termino muy ambiguo: nadie está realmente de acuerdo con su definición exacta y no está claro si su enfoque actual en imitar la inteligencia humana es siquiera el enfoque correcto.\n\nA lo largo de este programa, nos centraremos principalmente en la Ciencia de Datos y el aprendizaje automático, y no tanto la inteligencia artificial. Sin embargo, las preguntas filosóficas que rodean a la inteligencia artificial son fascinantes, y lo alentamos a que continue reflexionando sobre ellas a medida que se involucre mas en este nuevo y emocionante campo. En las proximas semanas, lo capacitaremos en las numerosas técnicas (por ejemplo, regresión lineal k - means clustering) y herramientas (por ejemplo [Pandas](https://pandas.pydata.org/pandas-docs/stable/#), AWS) de la ciencia de datos para que pueda llevar a cabo procesos profesionales de ciencia de datos en sus propias vidas.",
   "metadata": {
    "tags": [],
    "cell_id": "00017-38a7d73a-9611-409b-9af8-f35eaa135afc",
    "deepnote_cell_type": "markdown"
   },
   "outputs": [],
   "execution_count": null
  },
  {
   "cell_type": "code",
   "source": "IFrame('https://youtu.be/EpNPu-thS-w', width=560, height=315)",
   "metadata": {
    "tags": [],
    "cell_id": "00018-3c0d2d27-05b1-48ae-9847-072da6066a2e",
    "deepnote_to_be_reexecuted": false,
    "source_hash": "be379532",
    "execution_start": 1626928787409,
    "execution_millis": 10,
    "deepnote_cell_type": "code"
   },
   "outputs": [
    {
     "output_type": "execute_result",
     "execution_count": 5,
     "data": {
      "text/plain": "<IPython.lib.display.IFrame at 0x7efbb382e910>",
      "text/html": "\n        <iframe\n            width=\"560\"\n            height=\"315\"\n            src=\"https://youtu.be/EpNPu-thS-w\"\n            frameborder=\"0\"\n            allowfullscreen\n        ></iframe>\n        "
     },
     "metadata": {}
    }
   ],
   "execution_count": 5
  },
  {
   "cell_type": "markdown",
   "source": "<a style='text-decoration:none;line-height:16px;display:flex;color:#5B5B62;padding:10px;justify-content:end;' href='https://deepnote.com?utm_source=created-in-deepnote-cell&projectId=e646e9ae-b12b-4563-b651-4eef7b1f8603' target=\"_blank\">\n<img alt='Created in deepnote.com' style='display:inline;max-height:16px;margin:0px;margin-right:7.5px;' src='data:image/svg+xml;base64,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' > </img>\nCreated in <span style='font-weight:600;margin-left:4px;'>Deepnote</span></a>",
   "metadata": {
    "tags": [],
    "created_in_deepnote_cell": true,
    "deepnote_cell_type": "markdown"
   }
  }
 ],
 "nbformat": 4,
 "nbformat_minor": 2,
 "metadata": {
  "orig_nbformat": 2,
  "deepnote": {
   "is_reactive": false
  },
  "deepnote_notebook_id": "55be8bbb-a4ac-4bc0-85e9-3efce7bdacf0",
  "deepnote_execution_queue": []
 }
}