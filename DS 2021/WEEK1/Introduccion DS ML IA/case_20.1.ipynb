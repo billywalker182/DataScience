{
 "cells": [
  {
   "cell_type": "markdown",
   "source": "# Data Science, Machine Learning, and Artificial Intelligence at a Glance",
   "metadata": {
    "cell_id": "00000-f1a8cd91-427a-4320-9506-62f50be1da6b",
    "deepnote_cell_type": "markdown"
   }
  },
  {
   "cell_type": "markdown",
   "source": "## Goals (1 min)",
   "metadata": {
    "cell_id": "00001-29ee79a4-da66-4058-9447-f86b64950e8c",
    "deepnote_cell_type": "markdown"
   }
  },
  {
   "cell_type": "markdown",
   "source": "By the end of this case we hope to have properly defined data science, machine learning and artificial intelligence. You should be able to identify examples of each in the real world.",
   "metadata": {
    "cell_id": "00002-ae18ebe9-fff6-4840-90b9-736774887db3",
    "deepnote_cell_type": "markdown"
   }
  },
  {
   "cell_type": "markdown",
   "source": "## Introduction (5 min)",
   "metadata": {
    "cell_id": "00003-55bfdac5-3fe4-4070-9769-9eea1dc54b2c",
    "deepnote_cell_type": "markdown"
   }
  },
  {
   "cell_type": "markdown",
   "source": "What is data science? Machine learning? Artificial intelligence? These terms are all used interchangeably in our society, as if they are the same thing – but in reality they are quite different. Before we can answer those questions though, we have to tackle a much more fundamental one: What is data? Surprisingly, it is quite hard to come up with a simple definition for it.",
   "metadata": {
    "cell_id": "00004-7f7dcdfd-ac48-4d3d-b8fe-832fde1de40b",
    "deepnote_cell_type": "markdown"
   }
  },
  {
   "cell_type": "markdown",
   "source": "### Question: (5 min)\n\nWhat is \"data\"?",
   "metadata": {
    "cell_id": "00005-4dcb54c1-9c17-4961-9833-3dd370fe6ba4",
    "deepnote_cell_type": "markdown"
   }
  },
  {
   "cell_type": "markdown",
   "source": "You can go onto Wikipedia or read books to get an answer to this question, but most of those sources will give you a very pedantic, unintuitive definition. Instead, we're going to go with the colloquial definition of data as \"something whose value you care about”. You won't find that in any formal treatment of the subject, but for now, it is good enough. Your name, age, and telephone number are data about you. Your bank savings, your address, and your parents' names are data that relate to you. We have data about everything, everywhere.",
   "metadata": {
    "cell_id": "00006-d6f7796d-6d1f-43b6-b04c-3ec1fafb7e36",
    "deepnote_cell_type": "markdown"
   }
  },
  {
   "cell_type": "markdown",
   "source": "## What is data science? (10 min)",
   "metadata": {
    "cell_id": "00007-c94ab7a8-1640-4af9-bedf-08d97446632f",
    "deepnote_cell_type": "markdown"
   }
  },
  {
   "cell_type": "markdown",
   "source": "Now that we know what data is, we can now ask: \"What is data science?\" Science, in the language of the [scientific method](https://www.sciencebuddies.org/science-fair-projects/science-fair/steps-of-the-scientific-method), is:\n\n1. Formulating hypotheses, or guesses about how the world works, based on observations of the world around us\n2. Validating or invalidating those hypotheses by conducting experiments",
   "metadata": {
    "cell_id": "00008-1024edb6-314b-459d-88c9-f05c3b73d883",
    "deepnote_cell_type": "markdown"
   }
  },
  {
   "cell_type": "markdown",
   "source": "Unlike the pure sciences though, working with data doesn't necessarily require conducting experiments (although it could!). Rather, many times the data has already been collected and organized by someone else. So the scientific method, as applied to data, can be summarized as: **\"Formulating hypotheses based on the world around us, then analyzing relevant data to validate or invalidate our hypotheses.\"**",
   "metadata": {
    "cell_id": "00009-e0f3ff5a-a8d4-4445-b069-d1d9bd5b9920",
    "deepnote_cell_type": "markdown"
   }
  },
  {
   "cell_type": "markdown",
   "source": "### Exercise 1: (5 min)\n\nBased on the above, which of the following can be described as reflective of the entire data science process? Select all that apply.\n\n(a) Anecdotally noticing that millennials seem to respond more positively to discussions of your firm's new product version that is in beta versus your existing one, setting up an A/B test funnelling millenials equally to both versions, then conducting statistical significance tests on this data to verify that they prefer the new version.\n\n(b) Observing that Uber pricing seems to be correlated to a small set of factors, obtaining open-source data on Uber pricing rates, then building a pricing model based on those factors and verifying that they explain most of the variation in rates.\n\n(c) Converting images of crop circles in to structured pixels and storing them into a database for later use.\n\n(d) Building an algorithm that allows a computer to recognize images of cats and dogs.\n\n**Answer.** (a) and (b). Notice that both of these scenarios follow the \"hypothesis - experiment/investigation - analysis\" sequence described earlier. (c) is a **data engineering** problem; while not reflective of the entire data science process, this sort of manipulation of data to get it into a form suitable for analysis is a crucial part of the data science process. (d) is also not reflective of the entire process, as we are not doing any hypothesis testing, just building a model. We will revisit this soon enough.",
   "metadata": {
    "cell_id": "00010-3752df23-10ac-4ea7-8553-7b7a24e853f9",
    "deepnote_cell_type": "markdown"
   }
  },
  {
   "cell_type": "markdown",
   "source": "Notice that data science is **NOT** what is often brought up in the media:\n\n1. It is **NOT** computers recognizing images of cats and dogs\n2. It is **NOT** IBM Watson screening human tissues for disease\n3. It is **NOT** AlphaGo beating the world's top Go player\n\nIn fact, the VAST majority of data use cases are **NOT** like the three examples above, but rather much more similar to traditional sciences. Most examples of data science are what we described in choices (a) and (b) in Exercise 1. A common corporate data science example is a firm collecting user data, analyzing the data to categorize their customers, creating marketing campaigns to better target its potential customers, testing the effects of the solutions, and updating their marketing materials accordingly.",
   "metadata": {
    "cell_id": "00011-271ec584-b67e-4617-8f87-e8de453d8736",
    "deepnote_cell_type": "markdown"
   }
  },
  {
   "cell_type": "markdown",
   "source": "## What is machine learning? (10 min)",
   "metadata": {
    "cell_id": "00012-3b80c690-cb3b-46e3-86b2-dbd0375bd93e",
    "deepnote_cell_type": "markdown"
   }
  },
  {
   "cell_type": "markdown",
   "source": "However, choice (d) of Exercise 1, as well as examples 1 and 2 from the above list, do fall into the bucket of **machine learning**. What does this mean?\n\n\"Learn\" means to \"gain or acquire knowledge or skill in something via experience.\" So one could frame \"machine learning\" as \"how a machine gains or acquires knowledge via experience.\" How does a machine gain experience? All machine inputs are essentially binary strings of 0s and 1s, which is really just – you guessed it – data! So machine learning is really just **how a computer acquires knowledge via data**.\n\nOf course, this gives no insight into the \"how\" at all; it just says that there is something that is done with input data to generate this knowledge as an output. To make a math analogy, machine learning is some function $f$ such that\n\n> $ knowledge = f(data)$\n\nand other than that there are no other real stipulations on $f$! So $f$ could be as mechanical as a simple mathematical function (say, the sum of all the data points) and qualify as machine learning. And in practice, this is what most of the common machine learning algorithms are, including:\n\n1. Logistic regression\n2. Random forests\n3. Support vector machines\n4. $k$ - means clustering\n5. Neural networks\n\n(You will learn about all of these later in the course.) This may seem disappointing, given how the media hypes up \"artificial intelligence\" and makes it seem like there is something \"smart\" going on with machine learning, but in fact many mechanical methods satisfy the conditions required to be classified as machine learning. This doesn't mean these mechanical methods are limited in usefulness – in fact, they are quite powerful if used properly – but it does mean that they don't resemble anything that we would naturally associate with human-like intelligence.\n\nMore specifically, machine learning is \"mechanical\" in the sense that how these algorithms \"learn\" is strictly based upon mathematical principles. For example, linear regression is an algorithm that learns by adjusting the coefficients of the input data to best predict an output value. How the coefficients change is entirely based on mathematical protocols (in this case, the gradients of the input data). A common application of linear regression would be predicting housing prices based on various input data such as size, number of rooms, and age of the house. The model would take in the data and learn from it by choosing the set of coefficients that minimizes the error of its predictions vs. actual prices.",
   "metadata": {
    "cell_id": "00013-1453aa9b-6a95-498b-ba39-fb06946978b5",
    "deepnote_cell_type": "markdown"
   }
  },
  {
   "cell_type": "markdown",
   "source": "### Exercise 2: (5 min)\n\nBased on the above definition, which of the following tasks would likely involve the use of \"machine learning\"? Select all that apply.\n\n(a) Building the model backing Apple iPhones' facial recognition system.\n\n(b) Constructing the model backing Netflix's movie recommendation system based on your previous viewing activity.\n\n(c) Investigating factors which affect Airbnb pricing and developing a pricing tool based on this analysis.\n\n(d) Setting up an automated system to approve or reject mortgage loan applications.\n\n**Answer.** All of the above.\n\n(a) is similar to the task of recognizing cats and dogs in images, which as we have discussed is a machine learning problem.\n\n(b) involves building a computer model that can learn your movie preferences based on your previous viewing activity; again, this fits into our previous definition of machine learning.\n\nWhile (c) does not explicitly reference building a machine learning model, a pricing tool which takes into account all the factors affecting Airbnb pricing would likely be complex enough to benefit from the use of machine learning.\n\n(d) also does not explicitly reference building a model, but there are many parts to a mortgage loan application, and therefore likely many factors that are relevant in determining approval. Thus, any automated system would likely require a complex model that takes all of these factors into account. Such a model would benefit from incorporating machine learning.",
   "metadata": {
    "cell_id": "00014-63fd3777-b187-4327-adc3-0a07c3c278e9",
    "deepnote_cell_type": "markdown"
   }
  },
  {
   "cell_type": "markdown",
   "source": "Machine learning can be, and often is, a part of proper data science. **Data science is fundamentally a process, while machine learning is a tool that can be immensely useful in conducting the data science process**.",
   "metadata": {
    "cell_id": "00015-95b293ae-54d4-4c54-9a5f-1966834ac893",
    "deepnote_cell_type": "markdown"
   }
  },
  {
   "cell_type": "markdown",
   "source": "## What is artificial intelligence? (25 min)",
   "metadata": {
    "cell_id": "00016-01bd5ea3-7295-427f-bbd5-08bb8f7b5218",
    "deepnote_cell_type": "markdown"
   }
  },
  {
   "cell_type": "markdown",
   "source": "But the elephant is still in the room: even though some mechanical, \"dumb\" methods may qualify as machine learning, this doesn't exclude human-like, \"smart\" methods from being classified as such either. And this is completely true – it doesn't, yet people have chosen to name it something else entirely: **artificial intelligence**.\n\nBut why? Why give \"smart\" methods an entirely different name if they can also fall under the bucket of machine learning? That is the question we will explore for the remainder of this module.\n\nLet's start by taking a look at an iconic demonstration of this so-called intelligence: [AlphaGo beating the world's top human Go player](https://en.wikipedia.org/wiki/AlphaGo_versus_Lee_Sedol).",
   "metadata": {
    "cell_id": "00017-777fcb29-9f7e-47eb-ada0-88f2a22be4b2",
    "deepnote_cell_type": "markdown"
   }
  },
  {
   "cell_type": "code",
   "metadata": {
    "cell_id": "00018-bce2e261-1c9f-44f5-994d-195dd8afbbc6",
    "deepnote_cell_type": "code"
   },
   "source": "from IPython.display import IFrame",
   "outputs": [],
   "execution_count": null
  },
  {
   "cell_type": "code",
   "metadata": {
    "cell_id": "00019-c2dfe62f-1461-4b39-b8e8-6bee1ab4b61c",
    "deepnote_cell_type": "code"
   },
   "source": "IFrame('https://www.youtube.com/embed/8tq1C8spV_g?rel=0&amp;controls=0&amp;showinfo=0', width=560, height=315)",
   "outputs": [
    {
     "data": {
      "text/html": "\n        <iframe\n            width=\"560\"\n            height=\"315\"\n            src=\"https://www.youtube.com/embed/8tq1C8spV_g?rel=0&amp;controls=0&amp;showinfo=0\"\n            frameborder=\"0\"\n            allowfullscreen\n        ></iframe>\n        ",
      "text/plain": "<IPython.lib.display.IFrame at 0x10ca60730>"
     },
     "execution_count": 17,
     "metadata": {},
     "output_type": "execute_result"
    }
   ],
   "execution_count": null
  },
  {
   "cell_type": "markdown",
   "source": "Quite impressive! But does this feat alone prove that a machine exhibits human-like intelligence?",
   "metadata": {
    "cell_id": "00020-438b04f0-ebdf-46c2-a455-bcc3208dcefb",
    "deepnote_cell_type": "markdown"
   }
  },
  {
   "cell_type": "markdown",
   "source": "### Question: (5 min)\n\nWhat, to you, counts as \"artificial intelligence\"? What demonstrations of aptitude would, beyond a shadow of a doubt, convince you that something is as intelligent as us humans are?",
   "metadata": {
    "cell_id": "00021-2429fdb9-e724-4260-8c63-10cb2618906e",
    "deepnote_cell_type": "markdown"
   }
  },
  {
   "cell_type": "markdown",
   "source": "You may have found that it was quite hard to come up with answers to the second part of the previous question, and that most ideas you had either: 1) seemed like they could well have a \"dumb\" mechanical solution as in the previous discussion of machine learning, despite seeming impressive at first; or 2) actually made you question how unique human intelligence really is and whether virtually all of what we do could be reduced to such \"dumb\" mechanical methods.\nWe'll explore both ideas below.",
   "metadata": {
    "cell_id": "00022-1d6cca60-bdf2-4ff9-8585-8c474d0f0905",
    "deepnote_cell_type": "markdown"
   }
  },
  {
   "cell_type": "markdown",
   "source": "### What can machines do and not do? What about us? (3 min)",
   "metadata": {
    "cell_id": "00023-113c8b6f-57ba-42c0-92dc-ca5f2902a14d",
    "deepnote_cell_type": "markdown"
   }
  },
  {
   "cell_type": "markdown",
   "source": "So, is there any sensible test we could use to determine if something is as intelligent as a human? There have been many proposals over time. The most famous aptitude test developed was the [**Turing test**](https://www.geeksforgeeks.org/turing-test-artificial-intelligence/), named after the English mathematician and famous World War II cryptographer Alan Turing. In this exam, there is a human evaluator and two conversation partners: one machine and one human. The evaluator would conduct a conversation with each through a text-only channel. If the evaluator cannot reliably tell the machine from the human, the machine is said to have passed the test.\n\nTuring did not explicitly state that his test could be used as a measure of intelligence, but many who came after him thrust his test into the limelight. Of course, the implication is that if a computer can converse like a human, then it is effectively as intelligent as a human.",
   "metadata": {
    "cell_id": "00024-df98d8ef-ecc3-45c8-90f9-83258384f963",
    "deepnote_cell_type": "markdown"
   }
  },
  {
   "cell_type": "markdown",
   "source": "### Question: (5 min)\n\nWhat are some shortcomings of this proposal? What insight does this lend into the criteria that a rigorous test of human-like intelligence would have to satisfy?",
   "metadata": {
    "cell_id": "00025-3d2a5576-6947-46a8-a326-5b05623b2c16",
    "deepnote_cell_type": "markdown"
   }
  },
  {
   "cell_type": "markdown",
   "source": "In addition to the flaws with the Turing test (and in fact with almost any other test you can likely come up with), this brings to light one of our society's unhealthy obsessions when it comes to the field of artificial intelligence – its singular focus on mimicking human intelligence via machines. But what if machine intelligence is fundamentally different (note: not worse or better) than human intelligence? What if machines are more \"intelligent\" about certain things than we are, and vice versa?",
   "metadata": {
    "cell_id": "00026-0c9277d8-e515-467b-8129-7814109cc140",
    "deepnote_cell_type": "markdown"
   }
  },
  {
   "cell_type": "markdown",
   "source": "### Question: (7 min)\n\nBrainstorm with a partner, and then we will discuss aloud in class:\n\n1. What are some things that machines can already do better than we can? What specifically about them allows them to do these better?\n2. What are some things that we can do better than machines? Do you think this advantage will likely be sustained over time? Why?",
   "metadata": {
    "cell_id": "00027-b1e4c586-5d6b-482c-af5b-ed44c9b8d3d2",
    "deepnote_cell_type": "markdown"
   }
  },
  {
   "cell_type": "markdown",
   "source": "### Question: (3 min)\n\nNow that we have properly defined data science, who here has used data science in their job? Please provide a specific example.",
   "metadata": {
    "cell_id": "00028-1d8400c2-4513-417c-a9c0-da0f5db770d9",
    "deepnote_cell_type": "markdown"
   }
  },
  {
   "cell_type": "markdown",
   "source": "## Conclusions & Takeaways (5 min)",
   "metadata": {
    "cell_id": "00029-cbfa035c-bb15-4444-b7fe-541fca2f7dec",
    "deepnote_cell_type": "markdown"
   }
  },
  {
   "cell_type": "markdown",
   "source": "In this case, you learned what \"data science\" and \"machine learning\" really are, in contrast to the misleading connotations that they are often given in public discussion. You also learned that \"artificial intelligence\" is a very ambiguous term – nobody really agrees on its exact definition and it is unclear if its current focus on imitating human intelligence is even the correct approach.</span>\n\nThroughout this program, we will focus primarily on data science and machine learning, and not so much artificial intelligence. Yet the philosophical questions surrounding artificial intelligence are fascinating, and we encourage you to continue pondering them as you become more involved in this new and exciting field. In the coming weeks, we will train you on the numerous techniques (e.g. linear regression, $k$ - means clustering) and tools (e.g. [`pandas`](https://pandas.pydata.org/pandas-docs/stable/#), AWS) of data science so that you will be able to conduct professional data science processes in your own lives.",
   "metadata": {
    "cell_id": "00030-2ca2aa18-c0eb-4b6c-9f71-1f159b56c04e",
    "deepnote_cell_type": "markdown"
   }
  },
  {
   "cell_type": "markdown",
   "source": "<a style='text-decoration:none;line-height:16px;display:flex;color:#5B5B62;padding:10px;justify-content:end;' href='https://deepnote.com?utm_source=created-in-deepnote-cell&projectId=e646e9ae-b12b-4563-b651-4eef7b1f8603' target=\"_blank\">\n<img alt='Created in deepnote.com' style='display:inline;max-height:16px;margin:0px;margin-right:7.5px;' src='data:image/svg+xml;base64,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' > </img>\nCreated in <span style='font-weight:600;margin-left:4px;'>Deepnote</span></a>",
   "metadata": {
    "tags": [],
    "created_in_deepnote_cell": true,
    "deepnote_cell_type": "markdown"
   }
  }
 ],
 "nbformat": 4,
 "nbformat_minor": 2,
 "metadata": {
  "kernelspec": {
   "display_name": "Python 3",
   "language": "python",
   "name": "python3"
  },
  "language_info": {
   "codemirror_mode": {
    "name": "ipython",
    "version": 3
   },
   "file_extension": ".py",
   "mimetype": "text/x-python",
   "name": "python",
   "nbconvert_exporter": "python",
   "pygments_lexer": "ipython3",
   "version": "3.8.2"
  },
  "deepnote_notebook_id": "8e490e66-f95e-4b9e-b6ed-cc1e4d63e24b",
  "deepnote": {},
  "deepnote_execution_queue": []
 }
}