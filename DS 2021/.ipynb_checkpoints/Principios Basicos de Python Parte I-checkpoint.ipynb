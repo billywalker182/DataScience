{
 "cells": [
  {
   "cell_type": "markdown",
   "metadata": {},
   "source": [
    "# Principios Básicos de Python"
   ]
  },
  {
   "cell_type": "markdown",
   "metadata": {},
   "source": [
    "## Cuadernos de Python"
   ]
  },
  {
   "cell_type": "markdown",
   "metadata": {},
   "source": [
    "Cuaderno notebooks proporciona un ambiente de experimentación de código, \n",
    "visualización y publicación de resultados."
   ]
  },
  {
   "cell_type": "markdown",
   "metadata": {},
   "source": [
    "Las cajas de abajo son llamadas celdas y ellos pueden contener codigo o texto formateado\n",
    "(Markdown). Aqui estan alguno de los muchos atajos de teclados para interactuar con celdas:"
   ]
  },
  {
   "cell_type": "markdown",
   "metadata": {},
   "source": [
    "* [Arriba / Abajo Flecha]: Mover arriba y abajo de celda a celda\n",
    "* [Enter] Entrar a la celda y habilitar la edición de esta\n",
    "* [Shift + Enter] Evalua una celda, muestra el resultado y va a la siguiente celda\n",
    "* [Ctr + Enter] Evalua la celda, muestra el resultado y permanece en la celda\n",
    "* [ESC] - [D] - [D] : Borra celda\n",
    "* [ESC] - [Z] : Control Z de celdas\n",
    "* [ESC] - [B] : Insertar una celda abajo de la celda actual\n",
    "* [ESC] - [A] : Insertar una celda arriba de la celda actual\n",
    "* [ESC] - [M] : Convertir una celda de codigo a Markdown\n",
    "* [ESC] - [Y] : Convertir una celda Markdown a codigo"
   ]
  },
  {
   "cell_type": "markdown",
   "metadata": {},
   "source": [
    "Para mas atajos de teclados, ir a help -> keyboard Shortcuts en el menu\n",
    "superior de tu cuaderno."
   ]
  },
  {
   "cell_type": "markdown",
   "metadata": {},
   "source": [
    "## Variables en Python"
   ]
  },
  {
   "cell_type": "markdown",
   "metadata": {},
   "source": [
    "Una variable es lo que Python usa para almacenar cierta información (por ejemplo, texto, numeros, booleanos, etc)"
   ]
  },
  {
   "cell_type": "markdown",
   "metadata": {},
   "source": [
    "Cada variable tiene un nombre para que podamos referirnos a ella \n",
    "fácilmente. Python tiene en cuenta si escribimos la variable en \n",
    "mayúscula o minúscula (por ejemplo, a y A se consideran diferentes).\n",
    "Podemos definir variables en Python de la siguiente manera:"
   ]
  },
  {
   "cell_type": "markdown",
   "metadata": {},
   "source": [
    "```python\n",
    "# asignando un valor\n",
    "variable = value\n",
    "# Asignando multiple valores \n",
    "variable1, variable2 = value1, value2\n",
    "```"
   ]
  },
  {
   "cell_type": "markdown",
   "metadata": {},
   "source": [
    "### Numeros"
   ]
  },
  {
   "cell_type": "markdown",
   "metadata": {},
   "source": [
    "Aqui estan los dos principales tipos de numeros en Python, int (Enteros)\n",
    "y float(flotantes). El separador decimal es el periodo:"
   ]
  },
  {
   "cell_type": "code",
   "execution_count": 4,
   "metadata": {},
   "outputs": [],
   "source": [
    "integer_ = 2\n",
    "float_ = 2.5"
   ]
  },
  {
   "cell_type": "markdown",
   "metadata": {},
   "source": [
    "### Texto"
   ]
  },
  {
   "cell_type": "markdown",
   "metadata": {},
   "source": [
    "Las variables que guardan texto son de tipo str(strings). Por lo general, \n",
    "deben ir entre comillas simples o dobles. Si el texto que se esta \n",
    "asignando abarca varias lineas, debe incluirse entre comillas multiples:  "
   ]
  },
  {
   "cell_type": "code",
   "execution_count": 6,
   "metadata": {},
   "outputs": [],
   "source": [
    "string = \"Hello\"\n",
    "string = 'hello'\n",
    "multiline = \"\"\"Hello\n",
    "                world\"\"\"\n",
    "multiline = '''Hello\n",
    "                World'''"
   ]
  },
  {
   "cell_type": "markdown",
   "metadata": {},
   "source": [
    "### Listas"
   ]
  },
  {
   "cell_type": "markdown",
   "metadata": {},
   "source": [
    "Las listas son un conjunto de elementos ordenados (por ejemplo, numeros\n",
    "                                                  textos,listas,etc.Ellas\n",
    "                                                  están delimitadas por\n",
    "                                                  corchetes []), y \n",
    "diferentes elementos estan separados por comas:\n",
    "\n"
   ]
  },
  {
   "cell_type": "code",
   "execution_count": 7,
   "metadata": {},
   "outputs": [],
   "source": [
    "listNumbers = [1,2,3]\n",
    "stringList = [\"a\",\"B\",\"C\"]\n",
    "listList = [[1,2],[2,3],[4,5]]\n",
    "mezcladasListas = [1,\"Grupo\",[1,2,3]]\n",
    "listasvacias = []"
   ]
  },
  {
   "cell_type": "markdown",
   "metadata": {},
   "source": [
    "Las listas son dinámicas; es decir, son mutables. Por ejemplo, podemos\n",
    "modificar la Lista de cadenas de arriba asignandola al conjunto [\"d\",\n",
    "                                                                \"e\",\"f\"].\n"
   ]
  },
  {
   "cell_type": "markdown",
   "metadata": {},
   "source": [
    "### Tuplas"
   ]
  },
  {
   "cell_type": "markdown",
   "metadata": {},
   "source": [
    "Las **Tuplas** son tambien conjunto de elementos ordenados. Las Tuplas\n",
    "se representan escribiendo los elementos entre paréntesis (()), separados \n",
    "por comas:"
   ]
  },
  {
   "cell_type": "code",
   "execution_count": 9,
   "metadata": {},
   "outputs": [],
   "source": [
    "tupleNumbers = (1,2,3)\n",
    "tupleStrings = (\"a\",\"b\",\"c\")\n",
    "tuplelist = ([1,2],[3,4],[5,6])\n",
    "mixedTuple = (1, \"Group\", [1,2,3,4])"
   ]
  },
  {
   "cell_type": "markdown",
   "metadata": {},
   "source": [
    "A diferencia de las listas, las tuplas son estáticas y no se pueden \n",
    "modificar una vez creadas."
   ]
  },
  {
   "cell_type": "markdown",
   "metadata": {},
   "source": [
    "### Diccionarios"
   ]
  },
  {
   "cell_type": "markdown",
   "metadata": {},
   "source": [
    "Los Diccionaris son conjunto de elementos, donde cada elemento puede ser\n",
    "identificados por una **llave** unica:"
   ]
  },
  {
   "cell_type": "code",
   "execution_count": 11,
   "metadata": {},
   "outputs": [],
   "source": [
    "dictNumbers = {\"k1\":1,\"k2\":2}\n",
    "dictStrings = {\"k1\":\"a\",\"k2\":\"b\",\"k3\":\"c\"}\n",
    "dicLists = {\"k1\":[1,2],\"k2\":[3,4],\"k3\":[4,5]}\n",
    "mixedDict = {\"k1\":1,\"k2\":\"Group\",\"k3\":[1,2,3,4]}"
   ]
  },
  {
   "cell_type": "markdown",
   "metadata": {},
   "source": [
    "### Booleano"
   ]
  },
  {
   "cell_type": "markdown",
   "metadata": {},
   "source": [
    "Un boleano es una variable que puede tener dos posibles valores: \n",
    "Verdadero o falso:"
   ]
  },
  {
   "cell_type": "code",
   "execution_count": 12,
   "metadata": {},
   "outputs": [],
   "source": [
    "true = True\n",
    "false = False"
   ]
  },
  {
   "cell_type": "markdown",
   "metadata": {},
   "source": [
    "### None"
   ]
  },
  {
   "cell_type": "markdown",
   "metadata": {},
   "source": [
    "Este es el tipo de datos que en otros lenguajes se conoce como Null, (NaN)\n",
    ". En python se llama NoneType"
   ]
  },
  {
   "cell_type": "code",
   "execution_count": 13,
   "metadata": {},
   "outputs": [],
   "source": [
    "null = None"
   ]
  }
 ],
 "metadata": {
  "kernelspec": {
   "display_name": "Python 3",
   "language": "python",
   "name": "python3"
  },
  "language_info": {
   "codemirror_mode": {
    "name": "ipython",
    "version": 3
   },
   "file_extension": ".py",
   "mimetype": "text/x-python",
   "name": "python",
   "nbconvert_exporter": "python",
   "pygments_lexer": "ipython3",
   "version": "3.7.4"
  }
 },
 "nbformat": 4,
 "nbformat_minor": 4
}
